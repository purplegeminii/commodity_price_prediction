{
 "cells": [
  {
   "cell_type": "code",
   "execution_count": 7,
   "id": "bede6615",
   "metadata": {},
   "outputs": [],
   "source": [
    "from sklearn.metrics import mean_absolute_error, mean_absolute_percentage_error, mean_squared_error"
   ]
  },
  {
   "cell_type": "code",
   "execution_count": null,
   "id": "4fd68b58",
   "metadata": {},
   "outputs": [
    {
     "name": "stderr",
     "output_type": "stream",
     "text": [
      "Warning: path already exists! This predictor may overwrite an existing predictor! path=\"autogluon_models/Crude_Oil_Brent_Price\"\n",
      "Beginning AutoGluon training... Time limit = 3600s\n",
      "AutoGluon will save models to '/Users/purplegeminii/Desktop/Undergraduate Thesis/commodity_price_prediction/autogluon_models/Crude_Oil_Brent_Price'\n",
      "=================== System Info ===================\n",
      "AutoGluon Version:  1.2\n",
      "Python Version:     3.12.9\n",
      "Operating System:   Darwin\n",
      "Platform Machine:   arm64\n",
      "Platform Version:   Darwin Kernel Version 24.1.0: Thu Oct 10 21:06:57 PDT 2024; root:xnu-11215.41.3~3/RELEASE_ARM64_T6041\n",
      "CPU Count:          14\n",
      "GPU Count:          0\n",
      "Memory Avail:       5.10 GB / 24.00 GB (21.2%)\n",
      "Disk Space Avail:   122.10 GB / 460.43 GB (26.5%)\n",
      "===================================================\n",
      "Setting presets to: medium_quality\n",
      "\n",
      "Fitting with arguments:\n",
      "{'enable_ensemble': True,\n",
      " 'eval_metric': MAPE,\n",
      " 'hyperparameters': {'ARIMA': {'maxiter': 50},\n",
      "                     'DeepAR': {'num_layers': 2},\n",
      "                     'ETS': {},\n",
      "                     'SimpleFeedForward': {'epochs': 50}},\n",
      " 'known_covariates_names': [],\n",
      " 'num_val_windows': 3,\n",
      " 'prediction_length': 12,\n",
      " 'quantile_levels': [0.1, 0.2, 0.3, 0.4, 0.5, 0.6, 0.7, 0.8, 0.9],\n",
      " 'random_seed': 123,\n",
      " 'refit_every_n_windows': 1,\n",
      " 'refit_full': False,\n",
      " 'skip_model_selection': False,\n",
      " 'target': 'Crude Oil Brent Price',\n",
      " 'time_limit': 3600,\n",
      " 'verbosity': 2}\n",
      "\n",
      "Inferred time series frequency: 'MS'\n",
      "Provided train_data has 396 rows, 1 time series. Median time series length is 396 (min=396, max=396). \n",
      "\n",
      "Provided data contains following columns:\n",
      "\ttarget: 'Crude Oil Brent Price'\n",
      "\tpast_covariates:\n",
      "\t\tcategorical:        []\n",
      "\t\tcontinuous (float): ['Revenue, exc...ts (% of GDP)', 'GDP (constant 2015 US$)', 'Employment t...15+, total %)', 'Crude Oil Brent Price_3mo_ma', 'Crude Oil Br...Price_12mo_ma', 'Cocoa Price_3mo_ma', ...]\n",
      "\n",
      "To learn how to fix incorrectly inferred types, please see documentation for TimeSeriesPredictor.fit\n",
      "\n",
      "AutoGluon will gauge predictive performance using evaluation metric: 'MAPE'\n",
      "\tThis metric's sign has been flipped to adhere to being higher_is_better. The metric score can be multiplied by -1 to get the metric value.\n",
      "===================================================\n",
      "\n",
      "Starting training. Start time is 2025-04-26 02:08:32\n",
      "Models that will be trained: ['ETS', 'DeepAR', 'ARIMA', 'SimpleFeedForward']\n",
      "Training timeseries model ETS. Training for up to 750.0s of the 3600.0s of remaining time.\n",
      "\t-0.1941       = Validation score (-MAPE)\n",
      "\t3.22    s     = Training runtime\n",
      "\t0.87    s     = Validation (prediction) runtime\n",
      "Training timeseries model DeepAR. Training for up to 998.6s of the 3595.9s of remaining time.\n",
      "\tWarning: Exception caused DeepAR to fail during training... Skipping this model.\n",
      "\tdlopen(/opt/anaconda3/envs/ML/lib/python3.12/site-packages/torchaudio/lib/libtorchaudio.so, 0x0006): Symbol not found: __ZN2at4_ops9fft_irfft4callERKNS_6TensorENSt3__18optionalIN3c106SymIntEEExNS6_INS5_17basic_string_viewIcNS5_11char_traitsIcEEEEEE\n",
      "  Referenced from: <9F06DBE3-049E-3B85-856F-B9B13407F8E1> /opt/anaconda3/envs/ML/lib/python3.12/site-packages/torchaudio/lib/libtorchaudio.so\n",
      "  Expected in:     <FA90DC25-65F3-349F-8EB9-0D5A897C5874> /opt/anaconda3/envs/ML/lib/python3.12/site-packages/torch/lib/libtorch_cpu.dylib\n",
      "Training timeseries model ARIMA. Training for up to 1497.9s of the 3595.9s of remaining time.\n",
      "ARIMA/W0 ignores following hyperparameters: ['maxiter']. See the docstring of ARIMA/W0 for the list of supported hyperparameters.\n",
      "ARIMA/W1 ignores following hyperparameters: ['maxiter']. See the docstring of ARIMA/W1 for the list of supported hyperparameters.\n",
      "ARIMA/W2 ignores following hyperparameters: ['maxiter']. See the docstring of ARIMA/W2 for the list of supported hyperparameters.\n",
      "\t-0.1959       = Validation score (-MAPE)\n",
      "\t0.73    s     = Training runtime\n",
      "\t0.01    s     = Validation (prediction) runtime\n",
      "Training timeseries model SimpleFeedForward. Training for up to 2995.1s of the 3595.1s of remaining time.\n",
      "\tWarning: Exception caused SimpleFeedForward to fail during training... Skipping this model.\n",
      "\tdlopen(/opt/anaconda3/envs/ML/lib/python3.12/site-packages/torchaudio/lib/libtorchaudio.so, 0x0006): Symbol not found: __ZN2at4_ops9fft_irfft4callERKNS_6TensorENSt3__18optionalIN3c106SymIntEEExNS6_INS5_17basic_string_viewIcNS5_11char_traitsIcEEEEEE\n",
      "  Referenced from: <9F06DBE3-049E-3B85-856F-B9B13407F8E1> /opt/anaconda3/envs/ML/lib/python3.12/site-packages/torchaudio/lib/libtorchaudio.so\n",
      "  Expected in:     <FA90DC25-65F3-349F-8EB9-0D5A897C5874> /opt/anaconda3/envs/ML/lib/python3.12/site-packages/torch/lib/libtorch_cpu.dylib\n",
      "Fitting simple weighted ensemble.\n",
      "\tEnsemble weights: {'ARIMA': 0.49, 'ETS': 0.51}\n",
      "\t-0.1932       = Validation score (-MAPE)\n",
      "\t0.13    s     = Training runtime\n",
      "\t0.88    s     = Validation (prediction) runtime\n",
      "Training complete. Models trained: ['ETS', 'ARIMA', 'WeightedEnsemble']\n",
      "Total runtime: 4.99 s\n",
      "Best model: WeightedEnsemble\n",
      "Best model score: -0.1932\n",
      "Model not specified in predict, will default to the model with the best validation score: WeightedEnsemble\n",
      "Model not specified in predict, will default to the model with the best validation score: WeightedEnsemble\n"
     ]
    },
    {
     "data": {
      "application/vnd.plotly.v1+json": {
       "config": {
        "plotlyServerURL": "https://plot.ly"
       },
       "data": [
        {
         "line": {
          "color": "blue"
         },
         "name": "Training Data",
         "type": "scatter",
         "x": [
          "1991-01-01T00:00:00.000000000",
          "1991-02-01T00:00:00.000000000",
          "1991-03-01T00:00:00.000000000",
          "1991-04-01T00:00:00.000000000",
          "1991-05-01T00:00:00.000000000",
          "1991-06-01T00:00:00.000000000",
          "1991-07-01T00:00:00.000000000",
          "1991-08-01T00:00:00.000000000",
          "1991-09-01T00:00:00.000000000",
          "1991-10-01T00:00:00.000000000",
          "1991-11-01T00:00:00.000000000",
          "1991-12-01T00:00:00.000000000",
          "1992-01-01T00:00:00.000000000",
          "1992-02-01T00:00:00.000000000",
          "1992-03-01T00:00:00.000000000",
          "1992-04-01T00:00:00.000000000",
          "1992-05-01T00:00:00.000000000",
          "1992-06-01T00:00:00.000000000",
          "1992-07-01T00:00:00.000000000",
          "1992-08-01T00:00:00.000000000",
          "1992-09-01T00:00:00.000000000",
          "1992-10-01T00:00:00.000000000",
          "1992-11-01T00:00:00.000000000",
          "1992-12-01T00:00:00.000000000",
          "1993-01-01T00:00:00.000000000",
          "1993-02-01T00:00:00.000000000",
          "1993-03-01T00:00:00.000000000",
          "1993-04-01T00:00:00.000000000",
          "1993-05-01T00:00:00.000000000",
          "1993-06-01T00:00:00.000000000",
          "1993-07-01T00:00:00.000000000",
          "1993-08-01T00:00:00.000000000",
          "1993-09-01T00:00:00.000000000",
          "1993-10-01T00:00:00.000000000",
          "1993-11-01T00:00:00.000000000",
          "1993-12-01T00:00:00.000000000",
          "1994-01-01T00:00:00.000000000",
          "1994-02-01T00:00:00.000000000",
          "1994-03-01T00:00:00.000000000",
          "1994-04-01T00:00:00.000000000",
          "1994-05-01T00:00:00.000000000",
          "1994-06-01T00:00:00.000000000",
          "1994-07-01T00:00:00.000000000",
          "1994-08-01T00:00:00.000000000",
          "1994-09-01T00:00:00.000000000",
          "1994-10-01T00:00:00.000000000",
          "1994-11-01T00:00:00.000000000",
          "1994-12-01T00:00:00.000000000",
          "1995-01-01T00:00:00.000000000",
          "1995-02-01T00:00:00.000000000",
          "1995-03-01T00:00:00.000000000",
          "1995-04-01T00:00:00.000000000",
          "1995-05-01T00:00:00.000000000",
          "1995-06-01T00:00:00.000000000",
          "1995-07-01T00:00:00.000000000",
          "1995-08-01T00:00:00.000000000",
          "1995-09-01T00:00:00.000000000",
          "1995-10-01T00:00:00.000000000",
          "1995-11-01T00:00:00.000000000",
          "1995-12-01T00:00:00.000000000",
          "1996-01-01T00:00:00.000000000",
          "1996-02-01T00:00:00.000000000",
          "1996-03-01T00:00:00.000000000",
          "1996-04-01T00:00:00.000000000",
          "1996-05-01T00:00:00.000000000",
          "1996-06-01T00:00:00.000000000",
          "1996-07-01T00:00:00.000000000",
          "1996-08-01T00:00:00.000000000",
          "1996-09-01T00:00:00.000000000",
          "1996-10-01T00:00:00.000000000",
          "1996-11-01T00:00:00.000000000",
          "1996-12-01T00:00:00.000000000",
          "1997-01-01T00:00:00.000000000",
          "1997-02-01T00:00:00.000000000",
          "1997-03-01T00:00:00.000000000",
          "1997-04-01T00:00:00.000000000",
          "1997-05-01T00:00:00.000000000",
          "1997-06-01T00:00:00.000000000",
          "1997-07-01T00:00:00.000000000",
          "1997-08-01T00:00:00.000000000",
          "1997-09-01T00:00:00.000000000",
          "1997-10-01T00:00:00.000000000",
          "1997-11-01T00:00:00.000000000",
          "1997-12-01T00:00:00.000000000",
          "1998-01-01T00:00:00.000000000",
          "1998-02-01T00:00:00.000000000",
          "1998-03-01T00:00:00.000000000",
          "1998-04-01T00:00:00.000000000",
          "1998-05-01T00:00:00.000000000",
          "1998-06-01T00:00:00.000000000",
          "1998-07-01T00:00:00.000000000",
          "1998-08-01T00:00:00.000000000",
          "1998-09-01T00:00:00.000000000",
          "1998-10-01T00:00:00.000000000",
          "1998-11-01T00:00:00.000000000",
          "1998-12-01T00:00:00.000000000",
          "1999-01-01T00:00:00.000000000",
          "1999-02-01T00:00:00.000000000",
          "1999-03-01T00:00:00.000000000",
          "1999-04-01T00:00:00.000000000",
          "1999-05-01T00:00:00.000000000",
          "1999-06-01T00:00:00.000000000",
          "1999-07-01T00:00:00.000000000",
          "1999-08-01T00:00:00.000000000",
          "1999-09-01T00:00:00.000000000",
          "1999-10-01T00:00:00.000000000",
          "1999-11-01T00:00:00.000000000",
          "1999-12-01T00:00:00.000000000",
          "2000-01-01T00:00:00.000000000",
          "2000-02-01T00:00:00.000000000",
          "2000-03-01T00:00:00.000000000",
          "2000-04-01T00:00:00.000000000",
          "2000-05-01T00:00:00.000000000",
          "2000-06-01T00:00:00.000000000",
          "2000-07-01T00:00:00.000000000",
          "2000-08-01T00:00:00.000000000",
          "2000-09-01T00:00:00.000000000",
          "2000-10-01T00:00:00.000000000",
          "2000-11-01T00:00:00.000000000",
          "2000-12-01T00:00:00.000000000",
          "2001-01-01T00:00:00.000000000",
          "2001-02-01T00:00:00.000000000",
          "2001-03-01T00:00:00.000000000",
          "2001-04-01T00:00:00.000000000",
          "2001-05-01T00:00:00.000000000",
          "2001-06-01T00:00:00.000000000",
          "2001-07-01T00:00:00.000000000",
          "2001-08-01T00:00:00.000000000",
          "2001-09-01T00:00:00.000000000",
          "2001-10-01T00:00:00.000000000",
          "2001-11-01T00:00:00.000000000",
          "2001-12-01T00:00:00.000000000",
          "2002-01-01T00:00:00.000000000",
          "2002-02-01T00:00:00.000000000",
          "2002-03-01T00:00:00.000000000",
          "2002-04-01T00:00:00.000000000",
          "2002-05-01T00:00:00.000000000",
          "2002-06-01T00:00:00.000000000",
          "2002-07-01T00:00:00.000000000",
          "2002-08-01T00:00:00.000000000",
          "2002-09-01T00:00:00.000000000",
          "2002-10-01T00:00:00.000000000",
          "2002-11-01T00:00:00.000000000",
          "2002-12-01T00:00:00.000000000",
          "2003-01-01T00:00:00.000000000",
          "2003-02-01T00:00:00.000000000",
          "2003-03-01T00:00:00.000000000",
          "2003-04-01T00:00:00.000000000",
          "2003-05-01T00:00:00.000000000",
          "2003-06-01T00:00:00.000000000",
          "2003-07-01T00:00:00.000000000",
          "2003-08-01T00:00:00.000000000",
          "2003-09-01T00:00:00.000000000",
          "2003-10-01T00:00:00.000000000",
          "2003-11-01T00:00:00.000000000",
          "2003-12-01T00:00:00.000000000",
          "2004-01-01T00:00:00.000000000",
          "2004-02-01T00:00:00.000000000",
          "2004-03-01T00:00:00.000000000",
          "2004-04-01T00:00:00.000000000",
          "2004-05-01T00:00:00.000000000",
          "2004-06-01T00:00:00.000000000",
          "2004-07-01T00:00:00.000000000",
          "2004-08-01T00:00:00.000000000",
          "2004-09-01T00:00:00.000000000",
          "2004-10-01T00:00:00.000000000",
          "2004-11-01T00:00:00.000000000",
          "2004-12-01T00:00:00.000000000",
          "2005-01-01T00:00:00.000000000",
          "2005-02-01T00:00:00.000000000",
          "2005-03-01T00:00:00.000000000",
          "2005-04-01T00:00:00.000000000",
          "2005-05-01T00:00:00.000000000",
          "2005-06-01T00:00:00.000000000",
          "2005-07-01T00:00:00.000000000",
          "2005-08-01T00:00:00.000000000",
          "2005-09-01T00:00:00.000000000",
          "2005-10-01T00:00:00.000000000",
          "2005-11-01T00:00:00.000000000",
          "2005-12-01T00:00:00.000000000",
          "2006-01-01T00:00:00.000000000",
          "2006-02-01T00:00:00.000000000",
          "2006-03-01T00:00:00.000000000",
          "2006-04-01T00:00:00.000000000",
          "2006-05-01T00:00:00.000000000",
          "2006-06-01T00:00:00.000000000",
          "2006-07-01T00:00:00.000000000",
          "2006-08-01T00:00:00.000000000",
          "2006-09-01T00:00:00.000000000",
          "2006-10-01T00:00:00.000000000",
          "2006-11-01T00:00:00.000000000",
          "2006-12-01T00:00:00.000000000",
          "2007-01-01T00:00:00.000000000",
          "2007-02-01T00:00:00.000000000",
          "2007-03-01T00:00:00.000000000",
          "2007-04-01T00:00:00.000000000",
          "2007-05-01T00:00:00.000000000",
          "2007-06-01T00:00:00.000000000",
          "2007-07-01T00:00:00.000000000",
          "2007-08-01T00:00:00.000000000",
          "2007-09-01T00:00:00.000000000",
          "2007-10-01T00:00:00.000000000",
          "2007-11-01T00:00:00.000000000",
          "2007-12-01T00:00:00.000000000",
          "2008-01-01T00:00:00.000000000",
          "2008-02-01T00:00:00.000000000",
          "2008-03-01T00:00:00.000000000",
          "2008-04-01T00:00:00.000000000",
          "2008-05-01T00:00:00.000000000",
          "2008-06-01T00:00:00.000000000",
          "2008-07-01T00:00:00.000000000",
          "2008-08-01T00:00:00.000000000",
          "2008-09-01T00:00:00.000000000",
          "2008-10-01T00:00:00.000000000",
          "2008-11-01T00:00:00.000000000",
          "2008-12-01T00:00:00.000000000",
          "2009-01-01T00:00:00.000000000",
          "2009-02-01T00:00:00.000000000",
          "2009-03-01T00:00:00.000000000",
          "2009-04-01T00:00:00.000000000",
          "2009-05-01T00:00:00.000000000",
          "2009-06-01T00:00:00.000000000",
          "2009-07-01T00:00:00.000000000",
          "2009-08-01T00:00:00.000000000",
          "2009-09-01T00:00:00.000000000",
          "2009-10-01T00:00:00.000000000",
          "2009-11-01T00:00:00.000000000",
          "2009-12-01T00:00:00.000000000",
          "2010-01-01T00:00:00.000000000",
          "2010-02-01T00:00:00.000000000",
          "2010-03-01T00:00:00.000000000",
          "2010-04-01T00:00:00.000000000",
          "2010-05-01T00:00:00.000000000",
          "2010-06-01T00:00:00.000000000",
          "2010-07-01T00:00:00.000000000",
          "2010-08-01T00:00:00.000000000",
          "2010-09-01T00:00:00.000000000",
          "2010-10-01T00:00:00.000000000",
          "2010-11-01T00:00:00.000000000",
          "2010-12-01T00:00:00.000000000",
          "2011-01-01T00:00:00.000000000",
          "2011-02-01T00:00:00.000000000",
          "2011-03-01T00:00:00.000000000",
          "2011-04-01T00:00:00.000000000",
          "2011-05-01T00:00:00.000000000",
          "2011-06-01T00:00:00.000000000",
          "2011-07-01T00:00:00.000000000",
          "2011-08-01T00:00:00.000000000",
          "2011-09-01T00:00:00.000000000",
          "2011-10-01T00:00:00.000000000",
          "2011-11-01T00:00:00.000000000",
          "2011-12-01T00:00:00.000000000",
          "2012-01-01T00:00:00.000000000",
          "2012-02-01T00:00:00.000000000",
          "2012-03-01T00:00:00.000000000",
          "2012-04-01T00:00:00.000000000",
          "2012-05-01T00:00:00.000000000",
          "2012-06-01T00:00:00.000000000",
          "2012-07-01T00:00:00.000000000",
          "2012-08-01T00:00:00.000000000",
          "2012-09-01T00:00:00.000000000",
          "2012-10-01T00:00:00.000000000",
          "2012-11-01T00:00:00.000000000",
          "2012-12-01T00:00:00.000000000",
          "2013-01-01T00:00:00.000000000",
          "2013-02-01T00:00:00.000000000",
          "2013-03-01T00:00:00.000000000",
          "2013-04-01T00:00:00.000000000",
          "2013-05-01T00:00:00.000000000",
          "2013-06-01T00:00:00.000000000",
          "2013-07-01T00:00:00.000000000",
          "2013-08-01T00:00:00.000000000",
          "2013-09-01T00:00:00.000000000",
          "2013-10-01T00:00:00.000000000",
          "2013-11-01T00:00:00.000000000",
          "2013-12-01T00:00:00.000000000",
          "2014-01-01T00:00:00.000000000",
          "2014-02-01T00:00:00.000000000",
          "2014-03-01T00:00:00.000000000",
          "2014-04-01T00:00:00.000000000",
          "2014-05-01T00:00:00.000000000",
          "2014-06-01T00:00:00.000000000",
          "2014-07-01T00:00:00.000000000",
          "2014-08-01T00:00:00.000000000",
          "2014-09-01T00:00:00.000000000",
          "2014-10-01T00:00:00.000000000",
          "2014-11-01T00:00:00.000000000",
          "2014-12-01T00:00:00.000000000",
          "2015-01-01T00:00:00.000000000",
          "2015-02-01T00:00:00.000000000",
          "2015-03-01T00:00:00.000000000",
          "2015-04-01T00:00:00.000000000",
          "2015-05-01T00:00:00.000000000",
          "2015-06-01T00:00:00.000000000",
          "2015-07-01T00:00:00.000000000",
          "2015-08-01T00:00:00.000000000",
          "2015-09-01T00:00:00.000000000",
          "2015-10-01T00:00:00.000000000",
          "2015-11-01T00:00:00.000000000",
          "2015-12-01T00:00:00.000000000",
          "2016-01-01T00:00:00.000000000",
          "2016-02-01T00:00:00.000000000",
          "2016-03-01T00:00:00.000000000",
          "2016-04-01T00:00:00.000000000",
          "2016-05-01T00:00:00.000000000",
          "2016-06-01T00:00:00.000000000",
          "2016-07-01T00:00:00.000000000",
          "2016-08-01T00:00:00.000000000",
          "2016-09-01T00:00:00.000000000",
          "2016-10-01T00:00:00.000000000",
          "2016-11-01T00:00:00.000000000",
          "2016-12-01T00:00:00.000000000",
          "2017-01-01T00:00:00.000000000",
          "2017-02-01T00:00:00.000000000",
          "2017-03-01T00:00:00.000000000",
          "2017-04-01T00:00:00.000000000",
          "2017-05-01T00:00:00.000000000",
          "2017-06-01T00:00:00.000000000",
          "2017-07-01T00:00:00.000000000",
          "2017-08-01T00:00:00.000000000",
          "2017-09-01T00:00:00.000000000",
          "2017-10-01T00:00:00.000000000",
          "2017-11-01T00:00:00.000000000",
          "2017-12-01T00:00:00.000000000",
          "2018-01-01T00:00:00.000000000",
          "2018-02-01T00:00:00.000000000",
          "2018-03-01T00:00:00.000000000",
          "2018-04-01T00:00:00.000000000",
          "2018-05-01T00:00:00.000000000",
          "2018-06-01T00:00:00.000000000",
          "2018-07-01T00:00:00.000000000",
          "2018-08-01T00:00:00.000000000",
          "2018-09-01T00:00:00.000000000",
          "2018-10-01T00:00:00.000000000",
          "2018-11-01T00:00:00.000000000",
          "2018-12-01T00:00:00.000000000",
          "2019-01-01T00:00:00.000000000",
          "2019-02-01T00:00:00.000000000",
          "2019-03-01T00:00:00.000000000",
          "2019-04-01T00:00:00.000000000",
          "2019-05-01T00:00:00.000000000",
          "2019-06-01T00:00:00.000000000",
          "2019-07-01T00:00:00.000000000",
          "2019-08-01T00:00:00.000000000",
          "2019-09-01T00:00:00.000000000",
          "2019-10-01T00:00:00.000000000",
          "2019-11-01T00:00:00.000000000",
          "2019-12-01T00:00:00.000000000",
          "2020-01-01T00:00:00.000000000",
          "2020-02-01T00:00:00.000000000",
          "2020-03-01T00:00:00.000000000",
          "2020-04-01T00:00:00.000000000",
          "2020-05-01T00:00:00.000000000",
          "2020-06-01T00:00:00.000000000",
          "2020-07-01T00:00:00.000000000",
          "2020-08-01T00:00:00.000000000",
          "2020-09-01T00:00:00.000000000",
          "2020-10-01T00:00:00.000000000",
          "2020-11-01T00:00:00.000000000",
          "2020-12-01T00:00:00.000000000",
          "2021-01-01T00:00:00.000000000",
          "2021-02-01T00:00:00.000000000",
          "2021-03-01T00:00:00.000000000",
          "2021-04-01T00:00:00.000000000",
          "2021-05-01T00:00:00.000000000",
          "2021-06-01T00:00:00.000000000",
          "2021-07-01T00:00:00.000000000",
          "2021-08-01T00:00:00.000000000",
          "2021-09-01T00:00:00.000000000",
          "2021-10-01T00:00:00.000000000",
          "2021-11-01T00:00:00.000000000",
          "2021-12-01T00:00:00.000000000",
          "2022-01-01T00:00:00.000000000",
          "2022-02-01T00:00:00.000000000",
          "2022-03-01T00:00:00.000000000",
          "2022-04-01T00:00:00.000000000",
          "2022-05-01T00:00:00.000000000",
          "2022-06-01T00:00:00.000000000",
          "2022-07-01T00:00:00.000000000",
          "2022-08-01T00:00:00.000000000",
          "2022-09-01T00:00:00.000000000",
          "2022-10-01T00:00:00.000000000",
          "2022-11-01T00:00:00.000000000",
          "2022-12-01T00:00:00.000000000",
          "2023-01-01T00:00:00.000000000",
          "2023-02-01T00:00:00.000000000",
          "2023-03-01T00:00:00.000000000",
          "2023-04-01T00:00:00.000000000",
          "2023-05-01T00:00:00.000000000",
          "2023-06-01T00:00:00.000000000",
          "2023-07-01T00:00:00.000000000",
          "2023-08-01T00:00:00.000000000",
          "2023-09-01T00:00:00.000000000",
          "2023-10-01T00:00:00.000000000",
          "2023-11-01T00:00:00.000000000",
          "2023-12-01T00:00:00.000000000"
         ],
         "y": {
          "bdata": "ZmZmZmamN0BmZmZmZmYzQDMzMzMzczNAAAAAAABAM0DNzMzMzEwzQDMzMzMzMzJAMzMzMzNzM0AAAAAAAMAzQAAAAAAAgDRAMzMzMzMzNkAAAAAAAEA1QGZmZmZmZjJAZmZmZmYmMkCamZmZmRkyQJqZmZmZmTFAMzMzMzPzMkBmZmZmZuYzQGZmZmZmJjVAAAAAAABANEAAAAAAAMAzQAAAAAAAQDRAzczMzMxMNEAzMzMzMzMzQGZmZmZmJjJAZmZmZmZmMUAzMzMzM3MyQAAAAAAAwDJAZmZmZmamMkAAAAAAAIAyQGZmZmZmpjFAzczMzMzMMEAzMzMzM7MwQAAAAAAAADBAmpmZmZmZMEDNzMzMzEwuQDMzMzMzMytAAAAAAACALECamZmZmZkrQGZmZmZm5itAzczMzMxMLkAzMzMzMzMwQAAAAAAAwDBAmpmZmZmZMUDNzMzMzMwwQM3MzMzMzC9AZmZmZmZmMEAzMzMzMzMxQOxRuB6F6y9A4XoUrkehMEAUrkfhehQxQMP1KFyPAjFA7FG4HoWrMkDhehSuR2EyQJqZmZmZWTFAuB6F61G4L0BSuB6F6xEwQEjhehSuxzBAH4XrUbgeMEDhehSuR+EwQPYoXI/C9TFAcT0K16PwMUC4HoXrUfgxQD0K16Nw/TNAw/UoXI8CNUAfhetRuB4zQIXrUbgeRTJAXI/C9SicM0AUrkfhepQ0QNejcD0KlzZArkfhehQuOECkcD0K16M2QGZmZmZm5jdAuB6F61F4N0AUrkfhetQ0QPYoXI/CNTNAuB6F61F4MUAUrkfheiQzQM3MzMzMjDFAZmZmZmZmMkD2KFyPwrUyQDMzMzMzczJAmpmZmZnZM0AAAAAAAAAzQAAAAAAAADFArkfhehQuLkAfhetRuB4sQClcj8L1KCpASOF6FK7HKkBI4XoUrscsQARWDi2yHShAhetRuB4FKECJQWDl0MInQLgehetRuCpAH4XrUbgeKUDXo3A9CtclQJqZmZmZmSNAH4XrUbgeJkBmZmZmZmYkQHE9Ctej8ChAmpmZmZmZLkBI4XoUrkcuQArXo3A9ii9Aw/UoXI8CM0C4HoXrUTg0QGZmZmZmZjZAMzMzMzPzNUDXo3A9Cpc4QNejcD0KlzlA4XoUrkdhOUCGONbFbbQ7QLgehetReDtACtejcD2KNkDXo3A9Clc7QK+UZYhjrT1ASOF6FK6HPECuR+F6FG49QHNoke18T0BAkQ96NqvuPkATVjFpFUNAQOOlm8QgIDlAo4cuuuiiOUAOLbKd72c7QCbDU4I8ZThAarx0kxikOUD/vFloUnM8QOfV38lquTtAimKcSMaJOEDyyf26pLI5QCUGgZVDizlAesLpTW96NECSiRPJOPEyQHyMnwjQmjJAXI/C9Sh8M0C0yHa+n0o0QFTjpZvEsDdACCd3gHKnOUDjQTJOJGM5QO4OoLW9IDhARIIcQJDEOUCrn/vsAqI6QNU+MUemVzxADYd5UXeMO0CpfWKOTC84QB70niJdhTxAaVzyiyU/P0BeukkMAlNAQD6bI9PLVj5Aarx0kxgEOUCsHFpkO885QJ8Vcu6ziztAZRSibPRlPEDm9uwCYtM9QBklknEiGTtAF7vhuyaXPUASg8DKocU8QBek0wY67T1AsxFgZ9wsP0AEVg4tst0+QCZP9edJ5kBAv+3l816uQECBSvbVSfVCQKnnh5p+mEFAYK72DWsvQ0CkcD0K14NFQGEGDYbQsEVAkFNCWLfoSEDn2m2O3YZFQOkTTPR30kNAb0JEREQkRkCe76fGS8dGQFs3rH3DikpASbVt27btSUClyFOCPFVIQBdedNFFJ0tAvlJ9Ox7KTED2KFyPwgVQQH7E2jesfU9AW/51xs1CTUAUrkfhesRLQEjhehSuX0xAwLe8MYLJT0CgGi/dJPZNQODLi7pjIE9AWarfc0ucUUCsw79G/ItRQM9Q7gDlNlFAZ9DfyWp5UkAn/n3bLWdSQFv+dcbNYk9AcT0K16MwTUBujd3m2D1NQLna/UtJKE9ARolknEgmS0A3iUFg5eBMQNIsJq1iEk9AXMUDu3/ZUECPE201eN5QQLyi+nY81FFA9fxQ0w9NU0BzB1E2+rJRQOOlm8QgSFNAh0ljn+a2VEAy2xy7zSFXQM3MzMzM3FZAY4ouuuj6VkAvRURERLRXQPYoXI/C0VlAVDxAuQOMW0AEhHWL6vteQE0nq+WNoWBAnGPg+O+7YEBAJNPLVnZcQMygwRAaxFhAFskFTe01UkACK4cW2Z5KQCq0pTpbykRArkfhehRuRkDXo3A9Cp9FQMt0tlRna0dAzzEMwzBsSUAFo6sgcfhMQK+f9/J5J1FACtejcD06UEB/TeAETiBSQMRNP9T061BAhL9G/GtMUkDdjCW/WEJTQJOeLdXZqlJAHVpkO98XU0CHFtnO95NSQBF4ywmW0VNAhqAO6qA+VUAmQpOaDxBTQNZLWsWktVJAvxnxrxGvUkD00EUXXSxTQCq0pTpbclNALpCHEsK6VEB7FK5H4WpVQHMHUTb68lZAjqO/k9USWED+1HjpJv1ZQMxgl1Q+nFxAFK5H4XrEXkAdLdXZUp1cQGjqh5p+cFxAPQrXo3AdXUD1vCYXNIVbQCgwhAZDuFtAFWMEE/1dW0AoMIQGQ6BbQOSUENYt+lpAsstWBv/JW0CM8zzP8+xdQHPtNsduO19Ai2zn+6kdXkAhkoUsZKFbQNDmyPSy5VdAuUqQpwTJWUD2KFyPwlVcQBSuR+F6WFxAbnPDd03+W0Bd59htjm1bQJ7vp8ZLa1tA7gHlDlA+XEBoke18PyFdQI/C9ShcT1tAqHiAcge4WUBi0tinucFZQNejcD0Kx1lAHtZiXtTtWkAOs9scu71bQOHFV3zF51tAr7MW86JeW0At4ARO4ARbQEJg5dAiq1tAexSuR+HaWkCkcD0K1zNbQJqZmZmZ2VpAw/UoXI/yWkDsUbgehWtbQEjhehSu91tAH4XrUbi+WkB7FK5H4XpZQPYoXI/CVVhA4XoUrkfRVUBcj8L1KJxTQArXo3A9Kk9AKVyPwvUISEDXo3A9CvdMQIXrUbge5UtAUrgeheuxTUCkcD0K1yNQQOxRuB6FK09Aj8L1KFzvS0AfhetRuH5HQB+F61G4nkdAj8L1KFwPSED2KFyPwjVGQFyPwvUo3EJAzczMzMzMPkCamZmZmZlAQClcj8L1iENAAAAAAAAgRUBxPQrXo5BHQD0K16NwPUhAKVyPwvWIRkBSuB6F6xFHQLgehetRGEdAPQrXo3DdSEC4HoXrUThHQClcj8L1CEtAUrgehetxS0AfhetRuL5LQFyPwvUo/ElAPQrXo3B9SkCPwvUoXG9JQFK4HoXrcUdAuB6F61FYSECPwvUoXK9JQBSuR+F6lEtAj8L1KFzPTEApXI/C9UhPQD0K16NwDVBAj8L1KFw/UUB7FK5H4VpQQM3MzMzMnFBAuB6F61HoUUCamZmZmSlTQFyPwvUozFJAXI/C9SicUkC4HoXrUUhSQNejcD0Kt1NArkfhehQeVEB7FK5H4UpQQHsUrkfhOkxAw/UoXI+iTUC4HoXrUQhQQArXo3A9mlBAzczMzMzMUUBSuB6F66FRQGZmZmZmpk9AAAAAAAAAUEAAAAAAAKBNQArXo3A9Kk9Aj8L1KFyvTUAfhetRuF5PQGZmZmZmdlBAzczMzMzMT0AAAAAAAIBLQD0K16NwfUBA16NwPQpXN0CF61G4HgU/QNejcD0K90NASOF6FK5nRUDhehSuRyFGQOxRuB6Fi0RAXI/C9Sg8REA9CtejcJ1FQI/C9Shc70hAZmZmZmZGS0B7FK5H4fpOQFyPwvUoTFBA4XoUrkcxUEDD9ShcjwJRQBSuR+F6RFJAKVyPwvWYUkDhehSuR4FRQGZmZmZmplJAmpmZmZnpVEDhehSuRzFUQKRwPQrXk1JAUrgehethVUBxPQrXo/BXQPYoXI/C5VxAUrgehetxWkBI4XoUrhdcQIXrUbgeBV5AexSuR+E6W0BmZmZmZqZYQArXo3A9ilZAuB6F61FIV0AUrkfhesRWQJqZmZmZOVRA9ihcj8LFVEA9CtejcK1UQFK4HoXroVNA16NwPQoHVUDNzMzMzOxSQClcj8L1uFJAZmZmZmYGVEDfT42XbopVQAAAAAAAgFdAlkOLbOfDVkDByqFFtstUQPT91HjpdlNA",
          "dtype": "f8"
         }
        },
        {
         "line": {
          "color": "green"
         },
         "name": "Actual Values",
         "type": "scatter",
         "x": [
          "2024-01-01T00:00:00.000000000",
          "2024-02-01T00:00:00.000000000",
          "2024-03-01T00:00:00.000000000",
          "2024-04-01T00:00:00.000000000",
          "2024-05-01T00:00:00.000000000",
          "2024-06-01T00:00:00.000000000",
          "2024-07-01T00:00:00.000000000",
          "2024-08-01T00:00:00.000000000",
          "2024-09-01T00:00:00.000000000",
          "2024-10-01T00:00:00.000000000",
          "2024-11-01T00:00:00.000000000",
          "2024-12-01T00:00:00.000000000"
         ],
         "y": {
          "bdata": "SgwCK4cOVEA3iUFg5fBUQPhT46WbXFVA+n5qvHSDVkBI4XoUrn9UQOxRuB6Fo1RAbef7qfFSVUCsHFpkOzdUQJhuEoPAklJA7nw/NV7qUkDhehSuR5lSQFpkO99PdVJA",
          "dtype": "f8"
         }
        },
        {
         "line": {
          "color": "red"
         },
         "name": "Forecast",
         "type": "scatter",
         "x": [
          [
           "main_series",
           "2024-01-01T00:00:00"
          ],
          [
           "main_series",
           "2024-02-01T00:00:00"
          ],
          [
           "main_series",
           "2024-03-01T00:00:00"
          ],
          [
           "main_series",
           "2024-04-01T00:00:00"
          ],
          [
           "main_series",
           "2024-05-01T00:00:00"
          ],
          [
           "main_series",
           "2024-06-01T00:00:00"
          ],
          [
           "main_series",
           "2024-07-01T00:00:00"
          ],
          [
           "main_series",
           "2024-08-01T00:00:00"
          ],
          [
           "main_series",
           "2024-09-01T00:00:00"
          ],
          [
           "main_series",
           "2024-10-01T00:00:00"
          ],
          [
           "main_series",
           "2024-11-01T00:00:00"
          ],
          [
           "main_series",
           "2024-12-01T00:00:00"
          ]
         ],
         "y": {
          "bdata": "OsXJBBtFU0BWlSFndzlTQMrlj1i/NlNAlUIhvhw2U0CUUe/B9jVTQEhQTeLtNVNAXWWiz+s1U0B3xapT6zVTQH0htTbrNVNADELxL+s1U0CBrlwu6zVTQIsr/i3rNVNA",
          "dtype": "f8"
         }
        },
        {
         "fill": "toself",
         "fillcolor": "rgba(255,0,0,0.2)",
         "line": {
          "color": "rgba(255,255,255,0)"
         },
         "name": "80% Confidence",
         "type": "scatter",
         "x": [
          [
           "main_series",
           "2024-01-01T00:00:00"
          ],
          [
           "main_series",
           "2024-02-01T00:00:00"
          ],
          [
           "main_series",
           "2024-03-01T00:00:00"
          ],
          [
           "main_series",
           "2024-04-01T00:00:00"
          ],
          [
           "main_series",
           "2024-05-01T00:00:00"
          ],
          [
           "main_series",
           "2024-06-01T00:00:00"
          ],
          [
           "main_series",
           "2024-07-01T00:00:00"
          ],
          [
           "main_series",
           "2024-08-01T00:00:00"
          ],
          [
           "main_series",
           "2024-09-01T00:00:00"
          ],
          [
           "main_series",
           "2024-10-01T00:00:00"
          ],
          [
           "main_series",
           "2024-11-01T00:00:00"
          ],
          [
           "main_series",
           "2024-12-01T00:00:00"
          ],
          [
           "main_series",
           "2024-12-01T00:00:00"
          ],
          [
           "main_series",
           "2024-11-01T00:00:00"
          ],
          [
           "main_series",
           "2024-10-01T00:00:00"
          ],
          [
           "main_series",
           "2024-09-01T00:00:00"
          ],
          [
           "main_series",
           "2024-08-01T00:00:00"
          ],
          [
           "main_series",
           "2024-07-01T00:00:00"
          ],
          [
           "main_series",
           "2024-06-01T00:00:00"
          ],
          [
           "main_series",
           "2024-05-01T00:00:00"
          ],
          [
           "main_series",
           "2024-04-01T00:00:00"
          ],
          [
           "main_series",
           "2024-03-01T00:00:00"
          ],
          [
           "main_series",
           "2024-02-01T00:00:00"
          ],
          [
           "main_series",
           "2024-01-01T00:00:00"
          ]
         ],
         "y": [
          84.65717618364059,
          88.45183428775394,
          91.48620728327253,
          94.04516786873168,
          96.28754396528146,
          98.30613626033568,
          100.15782939926038,
          101.87952433531704,
          103.49648489206533,
          105.02682613805817,
          106.48403969800012,
          107.87848839998875,
          45.80647005454954,
          47.2009189325797,
          48.65813324610377,
          50.18847771796115,
          51.80545208369101,
          53.5272061319549,
          55.37915231293239,
          57.39882780693081,
          59.645840761030115,
          62.224650376115065,
          65.3439912562147,
          69.50237199797225
         ]
        }
       ],
       "layout": {
        "hovermode": "x unified",
        "template": {
         "data": {
          "bar": [
           {
            "error_x": {
             "color": "#2a3f5f"
            },
            "error_y": {
             "color": "#2a3f5f"
            },
            "marker": {
             "line": {
              "color": "white",
              "width": 0.5
             },
             "pattern": {
              "fillmode": "overlay",
              "size": 10,
              "solidity": 0.2
             }
            },
            "type": "bar"
           }
          ],
          "barpolar": [
           {
            "marker": {
             "line": {
              "color": "white",
              "width": 0.5
             },
             "pattern": {
              "fillmode": "overlay",
              "size": 10,
              "solidity": 0.2
             }
            },
            "type": "barpolar"
           }
          ],
          "carpet": [
           {
            "aaxis": {
             "endlinecolor": "#2a3f5f",
             "gridcolor": "#C8D4E3",
             "linecolor": "#C8D4E3",
             "minorgridcolor": "#C8D4E3",
             "startlinecolor": "#2a3f5f"
            },
            "baxis": {
             "endlinecolor": "#2a3f5f",
             "gridcolor": "#C8D4E3",
             "linecolor": "#C8D4E3",
             "minorgridcolor": "#C8D4E3",
             "startlinecolor": "#2a3f5f"
            },
            "type": "carpet"
           }
          ],
          "choropleth": [
           {
            "colorbar": {
             "outlinewidth": 0,
             "ticks": ""
            },
            "type": "choropleth"
           }
          ],
          "contour": [
           {
            "colorbar": {
             "outlinewidth": 0,
             "ticks": ""
            },
            "colorscale": [
             [
              0,
              "#0d0887"
             ],
             [
              0.1111111111111111,
              "#46039f"
             ],
             [
              0.2222222222222222,
              "#7201a8"
             ],
             [
              0.3333333333333333,
              "#9c179e"
             ],
             [
              0.4444444444444444,
              "#bd3786"
             ],
             [
              0.5555555555555556,
              "#d8576b"
             ],
             [
              0.6666666666666666,
              "#ed7953"
             ],
             [
              0.7777777777777778,
              "#fb9f3a"
             ],
             [
              0.8888888888888888,
              "#fdca26"
             ],
             [
              1,
              "#f0f921"
             ]
            ],
            "type": "contour"
           }
          ],
          "contourcarpet": [
           {
            "colorbar": {
             "outlinewidth": 0,
             "ticks": ""
            },
            "type": "contourcarpet"
           }
          ],
          "heatmap": [
           {
            "colorbar": {
             "outlinewidth": 0,
             "ticks": ""
            },
            "colorscale": [
             [
              0,
              "#0d0887"
             ],
             [
              0.1111111111111111,
              "#46039f"
             ],
             [
              0.2222222222222222,
              "#7201a8"
             ],
             [
              0.3333333333333333,
              "#9c179e"
             ],
             [
              0.4444444444444444,
              "#bd3786"
             ],
             [
              0.5555555555555556,
              "#d8576b"
             ],
             [
              0.6666666666666666,
              "#ed7953"
             ],
             [
              0.7777777777777778,
              "#fb9f3a"
             ],
             [
              0.8888888888888888,
              "#fdca26"
             ],
             [
              1,
              "#f0f921"
             ]
            ],
            "type": "heatmap"
           }
          ],
          "histogram": [
           {
            "marker": {
             "pattern": {
              "fillmode": "overlay",
              "size": 10,
              "solidity": 0.2
             }
            },
            "type": "histogram"
           }
          ],
          "histogram2d": [
           {
            "colorbar": {
             "outlinewidth": 0,
             "ticks": ""
            },
            "colorscale": [
             [
              0,
              "#0d0887"
             ],
             [
              0.1111111111111111,
              "#46039f"
             ],
             [
              0.2222222222222222,
              "#7201a8"
             ],
             [
              0.3333333333333333,
              "#9c179e"
             ],
             [
              0.4444444444444444,
              "#bd3786"
             ],
             [
              0.5555555555555556,
              "#d8576b"
             ],
             [
              0.6666666666666666,
              "#ed7953"
             ],
             [
              0.7777777777777778,
              "#fb9f3a"
             ],
             [
              0.8888888888888888,
              "#fdca26"
             ],
             [
              1,
              "#f0f921"
             ]
            ],
            "type": "histogram2d"
           }
          ],
          "histogram2dcontour": [
           {
            "colorbar": {
             "outlinewidth": 0,
             "ticks": ""
            },
            "colorscale": [
             [
              0,
              "#0d0887"
             ],
             [
              0.1111111111111111,
              "#46039f"
             ],
             [
              0.2222222222222222,
              "#7201a8"
             ],
             [
              0.3333333333333333,
              "#9c179e"
             ],
             [
              0.4444444444444444,
              "#bd3786"
             ],
             [
              0.5555555555555556,
              "#d8576b"
             ],
             [
              0.6666666666666666,
              "#ed7953"
             ],
             [
              0.7777777777777778,
              "#fb9f3a"
             ],
             [
              0.8888888888888888,
              "#fdca26"
             ],
             [
              1,
              "#f0f921"
             ]
            ],
            "type": "histogram2dcontour"
           }
          ],
          "mesh3d": [
           {
            "colorbar": {
             "outlinewidth": 0,
             "ticks": ""
            },
            "type": "mesh3d"
           }
          ],
          "parcoords": [
           {
            "line": {
             "colorbar": {
              "outlinewidth": 0,
              "ticks": ""
             }
            },
            "type": "parcoords"
           }
          ],
          "pie": [
           {
            "automargin": true,
            "type": "pie"
           }
          ],
          "scatter": [
           {
            "fillpattern": {
             "fillmode": "overlay",
             "size": 10,
             "solidity": 0.2
            },
            "type": "scatter"
           }
          ],
          "scatter3d": [
           {
            "line": {
             "colorbar": {
              "outlinewidth": 0,
              "ticks": ""
             }
            },
            "marker": {
             "colorbar": {
              "outlinewidth": 0,
              "ticks": ""
             }
            },
            "type": "scatter3d"
           }
          ],
          "scattercarpet": [
           {
            "marker": {
             "colorbar": {
              "outlinewidth": 0,
              "ticks": ""
             }
            },
            "type": "scattercarpet"
           }
          ],
          "scattergeo": [
           {
            "marker": {
             "colorbar": {
              "outlinewidth": 0,
              "ticks": ""
             }
            },
            "type": "scattergeo"
           }
          ],
          "scattergl": [
           {
            "marker": {
             "colorbar": {
              "outlinewidth": 0,
              "ticks": ""
             }
            },
            "type": "scattergl"
           }
          ],
          "scattermap": [
           {
            "marker": {
             "colorbar": {
              "outlinewidth": 0,
              "ticks": ""
             }
            },
            "type": "scattermap"
           }
          ],
          "scattermapbox": [
           {
            "marker": {
             "colorbar": {
              "outlinewidth": 0,
              "ticks": ""
             }
            },
            "type": "scattermapbox"
           }
          ],
          "scatterpolar": [
           {
            "marker": {
             "colorbar": {
              "outlinewidth": 0,
              "ticks": ""
             }
            },
            "type": "scatterpolar"
           }
          ],
          "scatterpolargl": [
           {
            "marker": {
             "colorbar": {
              "outlinewidth": 0,
              "ticks": ""
             }
            },
            "type": "scatterpolargl"
           }
          ],
          "scatterternary": [
           {
            "marker": {
             "colorbar": {
              "outlinewidth": 0,
              "ticks": ""
             }
            },
            "type": "scatterternary"
           }
          ],
          "surface": [
           {
            "colorbar": {
             "outlinewidth": 0,
             "ticks": ""
            },
            "colorscale": [
             [
              0,
              "#0d0887"
             ],
             [
              0.1111111111111111,
              "#46039f"
             ],
             [
              0.2222222222222222,
              "#7201a8"
             ],
             [
              0.3333333333333333,
              "#9c179e"
             ],
             [
              0.4444444444444444,
              "#bd3786"
             ],
             [
              0.5555555555555556,
              "#d8576b"
             ],
             [
              0.6666666666666666,
              "#ed7953"
             ],
             [
              0.7777777777777778,
              "#fb9f3a"
             ],
             [
              0.8888888888888888,
              "#fdca26"
             ],
             [
              1,
              "#f0f921"
             ]
            ],
            "type": "surface"
           }
          ],
          "table": [
           {
            "cells": {
             "fill": {
              "color": "#EBF0F8"
             },
             "line": {
              "color": "white"
             }
            },
            "header": {
             "fill": {
              "color": "#C8D4E3"
             },
             "line": {
              "color": "white"
             }
            },
            "type": "table"
           }
          ]
         },
         "layout": {
          "annotationdefaults": {
           "arrowcolor": "#2a3f5f",
           "arrowhead": 0,
           "arrowwidth": 1
          },
          "autotypenumbers": "strict",
          "coloraxis": {
           "colorbar": {
            "outlinewidth": 0,
            "ticks": ""
           }
          },
          "colorscale": {
           "diverging": [
            [
             0,
             "#8e0152"
            ],
            [
             0.1,
             "#c51b7d"
            ],
            [
             0.2,
             "#de77ae"
            ],
            [
             0.3,
             "#f1b6da"
            ],
            [
             0.4,
             "#fde0ef"
            ],
            [
             0.5,
             "#f7f7f7"
            ],
            [
             0.6,
             "#e6f5d0"
            ],
            [
             0.7,
             "#b8e186"
            ],
            [
             0.8,
             "#7fbc41"
            ],
            [
             0.9,
             "#4d9221"
            ],
            [
             1,
             "#276419"
            ]
           ],
           "sequential": [
            [
             0,
             "#0d0887"
            ],
            [
             0.1111111111111111,
             "#46039f"
            ],
            [
             0.2222222222222222,
             "#7201a8"
            ],
            [
             0.3333333333333333,
             "#9c179e"
            ],
            [
             0.4444444444444444,
             "#bd3786"
            ],
            [
             0.5555555555555556,
             "#d8576b"
            ],
            [
             0.6666666666666666,
             "#ed7953"
            ],
            [
             0.7777777777777778,
             "#fb9f3a"
            ],
            [
             0.8888888888888888,
             "#fdca26"
            ],
            [
             1,
             "#f0f921"
            ]
           ],
           "sequentialminus": [
            [
             0,
             "#0d0887"
            ],
            [
             0.1111111111111111,
             "#46039f"
            ],
            [
             0.2222222222222222,
             "#7201a8"
            ],
            [
             0.3333333333333333,
             "#9c179e"
            ],
            [
             0.4444444444444444,
             "#bd3786"
            ],
            [
             0.5555555555555556,
             "#d8576b"
            ],
            [
             0.6666666666666666,
             "#ed7953"
            ],
            [
             0.7777777777777778,
             "#fb9f3a"
            ],
            [
             0.8888888888888888,
             "#fdca26"
            ],
            [
             1,
             "#f0f921"
            ]
           ]
          },
          "colorway": [
           "#636efa",
           "#EF553B",
           "#00cc96",
           "#ab63fa",
           "#FFA15A",
           "#19d3f3",
           "#FF6692",
           "#B6E880",
           "#FF97FF",
           "#FECB52"
          ],
          "font": {
           "color": "#2a3f5f"
          },
          "geo": {
           "bgcolor": "white",
           "lakecolor": "white",
           "landcolor": "white",
           "showlakes": true,
           "showland": true,
           "subunitcolor": "#C8D4E3"
          },
          "hoverlabel": {
           "align": "left"
          },
          "hovermode": "closest",
          "mapbox": {
           "style": "light"
          },
          "paper_bgcolor": "white",
          "plot_bgcolor": "white",
          "polar": {
           "angularaxis": {
            "gridcolor": "#EBF0F8",
            "linecolor": "#EBF0F8",
            "ticks": ""
           },
           "bgcolor": "white",
           "radialaxis": {
            "gridcolor": "#EBF0F8",
            "linecolor": "#EBF0F8",
            "ticks": ""
           }
          },
          "scene": {
           "xaxis": {
            "backgroundcolor": "white",
            "gridcolor": "#DFE8F3",
            "gridwidth": 2,
            "linecolor": "#EBF0F8",
            "showbackground": true,
            "ticks": "",
            "zerolinecolor": "#EBF0F8"
           },
           "yaxis": {
            "backgroundcolor": "white",
            "gridcolor": "#DFE8F3",
            "gridwidth": 2,
            "linecolor": "#EBF0F8",
            "showbackground": true,
            "ticks": "",
            "zerolinecolor": "#EBF0F8"
           },
           "zaxis": {
            "backgroundcolor": "white",
            "gridcolor": "#DFE8F3",
            "gridwidth": 2,
            "linecolor": "#EBF0F8",
            "showbackground": true,
            "ticks": "",
            "zerolinecolor": "#EBF0F8"
           }
          },
          "shapedefaults": {
           "line": {
            "color": "#2a3f5f"
           }
          },
          "ternary": {
           "aaxis": {
            "gridcolor": "#DFE8F3",
            "linecolor": "#A2B1C6",
            "ticks": ""
           },
           "baxis": {
            "gridcolor": "#DFE8F3",
            "linecolor": "#A2B1C6",
            "ticks": ""
           },
           "bgcolor": "white",
           "caxis": {
            "gridcolor": "#DFE8F3",
            "linecolor": "#A2B1C6",
            "ticks": ""
           }
          },
          "title": {
           "x": 0.05
          },
          "xaxis": {
           "automargin": true,
           "gridcolor": "#EBF0F8",
           "linecolor": "#EBF0F8",
           "ticks": "",
           "title": {
            "standoff": 15
           },
           "zerolinecolor": "#EBF0F8",
           "zerolinewidth": 2
          },
          "yaxis": {
           "automargin": true,
           "gridcolor": "#EBF0F8",
           "linecolor": "#EBF0F8",
           "ticks": "",
           "title": {
            "standoff": 15
           },
           "zerolinecolor": "#EBF0F8",
           "zerolinewidth": 2
          }
         }
        },
        "title": {
         "text": "Crude Oil Brent Price Forecast vs Actual"
        },
        "xaxis": {
         "title": {
          "text": "Date"
         }
        },
        "yaxis": {
         "title": {
          "text": "Price"
         }
        }
       }
      }
     },
     "metadata": {},
     "output_type": "display_data"
    },
    {
     "name": "stderr",
     "output_type": "stream",
     "text": [
      "Warning: path already exists! This predictor may overwrite an existing predictor! path=\"autogluon_models/Cocoa_Price\"\n",
      "Beginning AutoGluon training... Time limit = 3600s\n",
      "AutoGluon will save models to '/Users/purplegeminii/Desktop/Undergraduate Thesis/commodity_price_prediction/autogluon_models/Cocoa_Price'\n",
      "=================== System Info ===================\n",
      "AutoGluon Version:  1.2\n",
      "Python Version:     3.12.9\n",
      "Operating System:   Darwin\n",
      "Platform Machine:   arm64\n",
      "Platform Version:   Darwin Kernel Version 24.1.0: Thu Oct 10 21:06:57 PDT 2024; root:xnu-11215.41.3~3/RELEASE_ARM64_T6041\n",
      "CPU Count:          14\n",
      "GPU Count:          0\n",
      "Memory Avail:       4.29 GB / 24.00 GB (17.9%)\n",
      "Disk Space Avail:   122.10 GB / 460.43 GB (26.5%)\n",
      "===================================================\n",
      "Setting presets to: medium_quality\n",
      "\n",
      "Fitting with arguments:\n",
      "{'enable_ensemble': True,\n",
      " 'eval_metric': MAPE,\n",
      " 'hyperparameters': {'ARIMA': {'maxiter': 50},\n",
      "                     'DeepAR': {'num_layers': 2},\n",
      "                     'ETS': {},\n",
      "                     'SimpleFeedForward': {'epochs': 50}},\n",
      " 'known_covariates_names': [],\n",
      " 'num_val_windows': 3,\n",
      " 'prediction_length': 12,\n",
      " 'quantile_levels': [0.1, 0.2, 0.3, 0.4, 0.5, 0.6, 0.7, 0.8, 0.9],\n",
      " 'random_seed': 123,\n",
      " 'refit_every_n_windows': 1,\n",
      " 'refit_full': False,\n",
      " 'skip_model_selection': False,\n",
      " 'target': 'Cocoa Price',\n",
      " 'time_limit': 3600,\n",
      " 'verbosity': 2}\n",
      "\n",
      "Inferred time series frequency: 'MS'\n",
      "Provided train_data has 396 rows, 1 time series. Median time series length is 396 (min=396, max=396). \n",
      "\n",
      "Provided data contains following columns:\n",
      "\ttarget: 'Cocoa Price'\n",
      "\tpast_covariates:\n",
      "\t\tcategorical:        []\n",
      "\t\tcontinuous (float): ['Revenue, exc...ts (% of GDP)', 'GDP (constant 2015 US$)', 'Employment t...15+, total %)', 'Crude Oil Brent Price_3mo_ma', 'Crude Oil Br...Price_12mo_ma', 'Cocoa Price_3mo_ma', ...]\n",
      "\n",
      "To learn how to fix incorrectly inferred types, please see documentation for TimeSeriesPredictor.fit\n",
      "\n",
      "AutoGluon will gauge predictive performance using evaluation metric: 'MAPE'\n",
      "\tThis metric's sign has been flipped to adhere to being higher_is_better. The metric score can be multiplied by -1 to get the metric value.\n",
      "===================================================\n",
      "\n",
      "Starting training. Start time is 2025-04-26 02:08:38\n",
      "Models that will be trained: ['ETS', 'DeepAR', 'ARIMA', 'SimpleFeedForward']\n",
      "Training timeseries model ETS. Training for up to 750.0s of the 3600.0s of remaining time.\n"
     ]
    },
    {
     "name": "stdout",
     "output_type": "stream",
     "text": [
      "\n",
      "Crude Oil Brent Price Evaluation:\n",
      "- MAE: 6.67\n",
      "- MAPE: 7.92%\n",
      "- RMSE: 8.30\n"
     ]
    },
    {
     "ename": "KeyboardInterrupt",
     "evalue": "",
     "output_type": "error",
     "traceback": [
      "\u001b[31m---------------------------------------------------------------------------\u001b[39m",
      "\u001b[31mKeyboardInterrupt\u001b[39m                         Traceback (most recent call last)",
      "\u001b[36mCell\u001b[39m\u001b[36m \u001b[39m\u001b[32mIn[8]\u001b[39m\u001b[32m, line 161\u001b[39m\n\u001b[32m    158\u001b[39m test_ts = create_ts_dataframe(test_data, target)\n\u001b[32m    160\u001b[39m \u001b[38;5;66;03m# Train model\u001b[39;00m\n\u001b[32m--> \u001b[39m\u001b[32m161\u001b[39m predictor = \u001b[43mrun_automl_forecasting\u001b[49m\u001b[43m(\u001b[49m\u001b[43mtrain_ts\u001b[49m\u001b[43m,\u001b[49m\u001b[43m \u001b[49m\u001b[43mtarget\u001b[49m\u001b[43m)\u001b[49m\n\u001b[32m    163\u001b[39m \u001b[38;5;66;03m# Evaluate on test set\u001b[39;00m\n\u001b[32m    164\u001b[39m metrics = evaluate_forecasts(predictor, test_ts, target)\n",
      "\u001b[36mCell\u001b[39m\u001b[36m \u001b[39m\u001b[32mIn[8]\u001b[39m\u001b[32m, line 45\u001b[39m, in \u001b[36mrun_automl_forecasting\u001b[39m\u001b[34m(ts_data, target_col, prediction_length)\u001b[39m\n\u001b[32m     37\u001b[39m \u001b[38;5;250m\u001b[39m\u001b[33;03m\"\"\"Run AutoML forecasting for a single target\"\"\"\u001b[39;00m\n\u001b[32m     38\u001b[39m predictor = TimeSeriesPredictor(\n\u001b[32m     39\u001b[39m     target=target_col,\n\u001b[32m     40\u001b[39m     prediction_length=prediction_length,\n\u001b[32m     41\u001b[39m     eval_metric=\u001b[33m\"\u001b[39m\u001b[33mMAPE\u001b[39m\u001b[33m\"\u001b[39m,\n\u001b[32m     42\u001b[39m     path=\u001b[33mf\u001b[39m\u001b[33m\"\u001b[39m\u001b[33mautogluon_models/\u001b[39m\u001b[38;5;132;01m{\u001b[39;00mtarget_col.replace(\u001b[33m'\u001b[39m\u001b[33m \u001b[39m\u001b[33m'\u001b[39m,\u001b[38;5;250m \u001b[39m\u001b[33m'\u001b[39m\u001b[33m_\u001b[39m\u001b[33m'\u001b[39m)\u001b[38;5;132;01m}\u001b[39;00m\u001b[33m\"\u001b[39m,\n\u001b[32m     43\u001b[39m )\n\u001b[32m---> \u001b[39m\u001b[32m45\u001b[39m \u001b[43mpredictor\u001b[49m\u001b[43m.\u001b[49m\u001b[43mfit\u001b[49m\u001b[43m(\u001b[49m\n\u001b[32m     46\u001b[39m \u001b[43m    \u001b[49m\u001b[43mtrain_data\u001b[49m\u001b[43m=\u001b[49m\u001b[43mts_data\u001b[49m\u001b[43m,\u001b[49m\n\u001b[32m     47\u001b[39m \u001b[43m    \u001b[49m\u001b[43mtime_limit\u001b[49m\u001b[43m=\u001b[49m\u001b[32;43m3600\u001b[39;49m\u001b[43m,\u001b[49m\u001b[43m  \u001b[49m\u001b[38;5;66;43;03m# 1 hour training\u001b[39;49;00m\n\u001b[32m     48\u001b[39m \u001b[43m    \u001b[49m\u001b[43mpresets\u001b[49m\u001b[43m=\u001b[49m\u001b[33;43m\"\u001b[39;49m\u001b[33;43mmedium_quality\u001b[39;49m\u001b[33;43m\"\u001b[39;49m\u001b[43m,\u001b[49m\n\u001b[32m     49\u001b[39m \u001b[43m    \u001b[49m\u001b[43mhyperparameters\u001b[49m\u001b[43m=\u001b[49m\u001b[43m{\u001b[49m\n\u001b[32m     50\u001b[39m \u001b[43m        \u001b[49m\u001b[33;43m\"\u001b[39;49m\u001b[33;43mETS\u001b[39;49m\u001b[33;43m\"\u001b[39;49m\u001b[43m:\u001b[49m\u001b[43m \u001b[49m\u001b[43m{\u001b[49m\u001b[43m}\u001b[49m\u001b[43m,\u001b[49m\n\u001b[32m     51\u001b[39m \u001b[43m        \u001b[49m\u001b[33;43m\"\u001b[39;49m\u001b[33;43mARIMA\u001b[39;49m\u001b[33;43m\"\u001b[39;49m\u001b[43m:\u001b[49m\u001b[43m \u001b[49m\u001b[43m{\u001b[49m\u001b[33;43m\"\u001b[39;49m\u001b[33;43mmaxiter\u001b[39;49m\u001b[33;43m\"\u001b[39;49m\u001b[43m:\u001b[49m\u001b[43m \u001b[49m\u001b[32;43m50\u001b[39;49m\u001b[43m}\u001b[49m\u001b[43m,\u001b[49m\n\u001b[32m     52\u001b[39m \u001b[43m        \u001b[49m\u001b[33;43m\"\u001b[39;49m\u001b[33;43mDeepAR\u001b[39;49m\u001b[33;43m\"\u001b[39;49m\u001b[43m:\u001b[49m\u001b[43m \u001b[49m\u001b[43m{\u001b[49m\u001b[33;43m\"\u001b[39;49m\u001b[33;43mnum_layers\u001b[39;49m\u001b[33;43m\"\u001b[39;49m\u001b[43m:\u001b[49m\u001b[43m \u001b[49m\u001b[32;43m2\u001b[39;49m\u001b[43m}\u001b[49m\u001b[43m,\u001b[49m\n\u001b[32m     53\u001b[39m \u001b[43m        \u001b[49m\u001b[33;43m\"\u001b[39;49m\u001b[33;43mSimpleFeedForward\u001b[39;49m\u001b[33;43m\"\u001b[39;49m\u001b[43m:\u001b[49m\u001b[43m \u001b[49m\u001b[43m{\u001b[49m\u001b[33;43m\"\u001b[39;49m\u001b[33;43mepochs\u001b[39;49m\u001b[33;43m\"\u001b[39;49m\u001b[43m:\u001b[49m\u001b[43m \u001b[49m\u001b[32;43m50\u001b[39;49m\u001b[43m}\u001b[49m\u001b[43m,\u001b[49m\n\u001b[32m     54\u001b[39m \u001b[43m    \u001b[49m\u001b[43m}\u001b[49m\u001b[43m,\u001b[49m\n\u001b[32m     55\u001b[39m \u001b[43m    \u001b[49m\u001b[43mnum_val_windows\u001b[49m\u001b[43m=\u001b[49m\u001b[32;43m3\u001b[39;49m\u001b[43m,\u001b[49m\u001b[43m  \u001b[49m\u001b[38;5;66;43;03m# 3-fold time-based validation\u001b[39;49;00m\n\u001b[32m     56\u001b[39m \u001b[43m    \u001b[49m\u001b[43mverbosity\u001b[49m\u001b[43m=\u001b[49m\u001b[32;43m2\u001b[39;49m\n\u001b[32m     57\u001b[39m \u001b[43m\u001b[49m\u001b[43m)\u001b[49m\n\u001b[32m     59\u001b[39m \u001b[38;5;28;01mreturn\u001b[39;00m predictor\n",
      "\u001b[36mFile \u001b[39m\u001b[32m/opt/anaconda3/envs/ML/lib/python3.12/site-packages/autogluon/core/utils/decorators.py:31\u001b[39m, in \u001b[36munpack.<locals>._unpack_inner.<locals>._call\u001b[39m\u001b[34m(*args, **kwargs)\u001b[39m\n\u001b[32m     28\u001b[39m \u001b[38;5;129m@functools\u001b[39m.wraps(f)\n\u001b[32m     29\u001b[39m \u001b[38;5;28;01mdef\u001b[39;00m\u001b[38;5;250m \u001b[39m\u001b[34m_call\u001b[39m(*args, **kwargs):\n\u001b[32m     30\u001b[39m     gargs, gkwargs = g(*other_args, *args, **kwargs)\n\u001b[32m---> \u001b[39m\u001b[32m31\u001b[39m     \u001b[38;5;28;01mreturn\u001b[39;00m \u001b[43mf\u001b[49m\u001b[43m(\u001b[49m\u001b[43m*\u001b[49m\u001b[43mgargs\u001b[49m\u001b[43m,\u001b[49m\u001b[43m \u001b[49m\u001b[43m*\u001b[49m\u001b[43m*\u001b[49m\u001b[43mgkwargs\u001b[49m\u001b[43m)\u001b[49m\n",
      "\u001b[36mFile \u001b[39m\u001b[32m/opt/anaconda3/envs/ML/lib/python3.12/site-packages/autogluon/timeseries/predictor.py:753\u001b[39m, in \u001b[36mTimeSeriesPredictor.fit\u001b[39m\u001b[34m(self, train_data, tuning_data, time_limit, presets, hyperparameters, hyperparameter_tune_kwargs, excluded_model_types, num_val_windows, val_step_size, refit_every_n_windows, refit_full, enable_ensemble, skip_model_selection, random_seed, verbosity)\u001b[39m\n\u001b[32m    748\u001b[39m val_splitter = ExpandingWindowSplitter(\n\u001b[32m    749\u001b[39m     prediction_length=\u001b[38;5;28mself\u001b[39m.prediction_length, num_val_windows=num_val_windows, val_step_size=val_step_size\n\u001b[32m    750\u001b[39m )\n\u001b[32m    752\u001b[39m time_left = \u001b[38;5;28;01mNone\u001b[39;00m \u001b[38;5;28;01mif\u001b[39;00m time_limit \u001b[38;5;129;01mis\u001b[39;00m \u001b[38;5;28;01mNone\u001b[39;00m \u001b[38;5;28;01melse\u001b[39;00m time_limit - (time.time() - time_start)\n\u001b[32m--> \u001b[39m\u001b[32m753\u001b[39m \u001b[38;5;28;43mself\u001b[39;49m\u001b[43m.\u001b[49m\u001b[43m_learner\u001b[49m\u001b[43m.\u001b[49m\u001b[43mfit\u001b[49m\u001b[43m(\u001b[49m\n\u001b[32m    754\u001b[39m \u001b[43m    \u001b[49m\u001b[43mtrain_data\u001b[49m\u001b[43m=\u001b[49m\u001b[43mtrain_data\u001b[49m\u001b[43m,\u001b[49m\n\u001b[32m    755\u001b[39m \u001b[43m    \u001b[49m\u001b[43mval_data\u001b[49m\u001b[43m=\u001b[49m\u001b[43mtuning_data\u001b[49m\u001b[43m,\u001b[49m\n\u001b[32m    756\u001b[39m \u001b[43m    \u001b[49m\u001b[43mhyperparameters\u001b[49m\u001b[43m=\u001b[49m\u001b[43mhyperparameters\u001b[49m\u001b[43m,\u001b[49m\n\u001b[32m    757\u001b[39m \u001b[43m    \u001b[49m\u001b[43mhyperparameter_tune_kwargs\u001b[49m\u001b[43m=\u001b[49m\u001b[43mhyperparameter_tune_kwargs\u001b[49m\u001b[43m,\u001b[49m\n\u001b[32m    758\u001b[39m \u001b[43m    \u001b[49m\u001b[43mexcluded_model_types\u001b[49m\u001b[43m=\u001b[49m\u001b[43mexcluded_model_types\u001b[49m\u001b[43m,\u001b[49m\n\u001b[32m    759\u001b[39m \u001b[43m    \u001b[49m\u001b[43mtime_limit\u001b[49m\u001b[43m=\u001b[49m\u001b[43mtime_left\u001b[49m\u001b[43m,\u001b[49m\n\u001b[32m    760\u001b[39m \u001b[43m    \u001b[49m\u001b[43mverbosity\u001b[49m\u001b[43m=\u001b[49m\u001b[43mverbosity\u001b[49m\u001b[43m,\u001b[49m\n\u001b[32m    761\u001b[39m \u001b[43m    \u001b[49m\u001b[43mval_splitter\u001b[49m\u001b[43m=\u001b[49m\u001b[43mval_splitter\u001b[49m\u001b[43m,\u001b[49m\n\u001b[32m    762\u001b[39m \u001b[43m    \u001b[49m\u001b[43mrefit_every_n_windows\u001b[49m\u001b[43m=\u001b[49m\u001b[43mrefit_every_n_windows\u001b[49m\u001b[43m,\u001b[49m\n\u001b[32m    763\u001b[39m \u001b[43m    \u001b[49m\u001b[43mskip_model_selection\u001b[49m\u001b[43m=\u001b[49m\u001b[43mskip_model_selection\u001b[49m\u001b[43m,\u001b[49m\n\u001b[32m    764\u001b[39m \u001b[43m    \u001b[49m\u001b[43menable_ensemble\u001b[49m\u001b[43m=\u001b[49m\u001b[43menable_ensemble\u001b[49m\u001b[43m,\u001b[49m\n\u001b[32m    765\u001b[39m \u001b[43m    \u001b[49m\u001b[43mrandom_seed\u001b[49m\u001b[43m=\u001b[49m\u001b[43mrandom_seed\u001b[49m\u001b[43m,\u001b[49m\n\u001b[32m    766\u001b[39m \u001b[43m\u001b[49m\u001b[43m)\u001b[49m\n\u001b[32m    767\u001b[39m \u001b[38;5;28;01mif\u001b[39;00m refit_full:\n\u001b[32m    768\u001b[39m     \u001b[38;5;28;01mif\u001b[39;00m tuning_data \u001b[38;5;129;01mis\u001b[39;00m \u001b[38;5;28;01mNone\u001b[39;00m:\n",
      "\u001b[36mFile \u001b[39m\u001b[32m/opt/anaconda3/envs/ML/lib/python3.12/site-packages/autogluon/timeseries/learner.py:66\u001b[39m, in \u001b[36mTimeSeriesLearner.fit\u001b[39m\u001b[34m(self, train_data, val_data, hyperparameters, hyperparameter_tune_kwargs, **kwargs)\u001b[39m\n\u001b[32m     58\u001b[39m \u001b[38;5;28;01mdef\u001b[39;00m\u001b[38;5;250m \u001b[39m\u001b[34mfit\u001b[39m(\n\u001b[32m     59\u001b[39m     \u001b[38;5;28mself\u001b[39m,\n\u001b[32m     60\u001b[39m     train_data: TimeSeriesDataFrame,\n\u001b[32m   (...)\u001b[39m\u001b[32m     64\u001b[39m     **kwargs,\n\u001b[32m     65\u001b[39m ) -> \u001b[38;5;28;01mNone\u001b[39;00m:\n\u001b[32m---> \u001b[39m\u001b[32m66\u001b[39m     \u001b[38;5;28;01mreturn\u001b[39;00m \u001b[38;5;28;43mself\u001b[39;49m\u001b[43m.\u001b[49m\u001b[43m_fit\u001b[49m\u001b[43m(\u001b[49m\n\u001b[32m     67\u001b[39m \u001b[43m        \u001b[49m\u001b[43mtrain_data\u001b[49m\u001b[43m=\u001b[49m\u001b[43mtrain_data\u001b[49m\u001b[43m,\u001b[49m\n\u001b[32m     68\u001b[39m \u001b[43m        \u001b[49m\u001b[43mval_data\u001b[49m\u001b[43m=\u001b[49m\u001b[43mval_data\u001b[49m\u001b[43m,\u001b[49m\n\u001b[32m     69\u001b[39m \u001b[43m        \u001b[49m\u001b[43mhyperparameters\u001b[49m\u001b[43m=\u001b[49m\u001b[43mhyperparameters\u001b[49m\u001b[43m,\u001b[49m\n\u001b[32m     70\u001b[39m \u001b[43m        \u001b[49m\u001b[43mhyperparameter_tune_kwargs\u001b[49m\u001b[43m=\u001b[49m\u001b[43mhyperparameter_tune_kwargs\u001b[49m\u001b[43m,\u001b[49m\n\u001b[32m     71\u001b[39m \u001b[43m        \u001b[49m\u001b[43m*\u001b[49m\u001b[43m*\u001b[49m\u001b[43mkwargs\u001b[49m\u001b[43m,\u001b[49m\n\u001b[32m     72\u001b[39m \u001b[43m    \u001b[49m\u001b[43m)\u001b[49m\n",
      "\u001b[36mFile \u001b[39m\u001b[32m/opt/anaconda3/envs/ML/lib/python3.12/site-packages/autogluon/timeseries/learner.py:126\u001b[39m, in \u001b[36mTimeSeriesLearner._fit\u001b[39m\u001b[34m(self, train_data, val_data, hyperparameters, hyperparameter_tune_kwargs, time_limit, val_splitter, refit_every_n_windows, random_seed, **kwargs)\u001b[39m\n\u001b[32m    120\u001b[39m     logger.info(\n\u001b[32m    121\u001b[39m         \u001b[33m\"\u001b[39m\u001b[38;5;130;01m\\t\u001b[39;00m\u001b[33mThis metric\u001b[39m\u001b[33m'\u001b[39m\u001b[33ms sign has been flipped to adhere to being higher_is_better. The metric score can be multiplied by -1 to get the metric value.\u001b[39m\u001b[33m\"\u001b[39m\n\u001b[32m    122\u001b[39m     )\n\u001b[32m    124\u001b[39m logger.info(\u001b[33m\"\u001b[39m\u001b[33m===================================================\u001b[39m\u001b[33m\"\u001b[39m)\n\u001b[32m--> \u001b[39m\u001b[32m126\u001b[39m \u001b[38;5;28;43mself\u001b[39;49m\u001b[43m.\u001b[49m\u001b[43mtrainer\u001b[49m\u001b[43m.\u001b[49m\u001b[43mfit\u001b[49m\u001b[43m(\u001b[49m\n\u001b[32m    127\u001b[39m \u001b[43m    \u001b[49m\u001b[43mtrain_data\u001b[49m\u001b[43m=\u001b[49m\u001b[43mtrain_data\u001b[49m\u001b[43m,\u001b[49m\n\u001b[32m    128\u001b[39m \u001b[43m    \u001b[49m\u001b[43mval_data\u001b[49m\u001b[43m=\u001b[49m\u001b[43mval_data\u001b[49m\u001b[43m,\u001b[49m\n\u001b[32m    129\u001b[39m \u001b[43m    \u001b[49m\u001b[43mhyperparameters\u001b[49m\u001b[43m=\u001b[49m\u001b[43mhyperparameters\u001b[49m\u001b[43m,\u001b[49m\n\u001b[32m    130\u001b[39m \u001b[43m    \u001b[49m\u001b[43mhyperparameter_tune_kwargs\u001b[49m\u001b[43m=\u001b[49m\u001b[43mhyperparameter_tune_kwargs\u001b[49m\u001b[43m,\u001b[49m\n\u001b[32m    131\u001b[39m \u001b[43m    \u001b[49m\u001b[43mexcluded_model_types\u001b[49m\u001b[43m=\u001b[49m\u001b[43mkwargs\u001b[49m\u001b[43m.\u001b[49m\u001b[43mget\u001b[49m\u001b[43m(\u001b[49m\u001b[33;43m\"\u001b[39;49m\u001b[33;43mexcluded_model_types\u001b[39;49m\u001b[33;43m\"\u001b[39;49m\u001b[43m)\u001b[49m\u001b[43m,\u001b[49m\n\u001b[32m    132\u001b[39m \u001b[43m    \u001b[49m\u001b[43mtime_limit\u001b[49m\u001b[43m=\u001b[49m\u001b[43mtime_limit\u001b[49m\u001b[43m,\u001b[49m\n\u001b[32m    133\u001b[39m \u001b[43m    \u001b[49m\u001b[43mrandom_seed\u001b[49m\u001b[43m=\u001b[49m\u001b[43mrandom_seed\u001b[49m\u001b[43m,\u001b[49m\n\u001b[32m    134\u001b[39m \u001b[43m\u001b[49m\u001b[43m)\u001b[49m\n\u001b[32m    136\u001b[39m \u001b[38;5;28mself\u001b[39m._time_fit_training = time.time() - time_start\n\u001b[32m    137\u001b[39m \u001b[38;5;28mself\u001b[39m.save()\n",
      "\u001b[36mFile \u001b[39m\u001b[32m/opt/anaconda3/envs/ML/lib/python3.12/site-packages/autogluon/timeseries/trainer/auto_trainer.py:67\u001b[39m, in \u001b[36mAutoTimeSeriesTrainer.fit\u001b[39m\u001b[34m(self, train_data, hyperparameters, val_data, hyperparameter_tune_kwargs, excluded_model_types, time_limit, random_seed)\u001b[39m\n\u001b[32m     34\u001b[39m \u001b[38;5;28;01mdef\u001b[39;00m\u001b[38;5;250m \u001b[39m\u001b[34mfit\u001b[39m(\n\u001b[32m     35\u001b[39m     \u001b[38;5;28mself\u001b[39m,\n\u001b[32m     36\u001b[39m     train_data: TimeSeriesDataFrame,\n\u001b[32m   (...)\u001b[39m\u001b[32m     42\u001b[39m     random_seed: Optional[\u001b[38;5;28mint\u001b[39m] = \u001b[38;5;28;01mNone\u001b[39;00m,\n\u001b[32m     43\u001b[39m ):\n\u001b[32m     44\u001b[39m \u001b[38;5;250m    \u001b[39m\u001b[33;03m\"\"\"\u001b[39;00m\n\u001b[32m     45\u001b[39m \u001b[33;03m    Fit a set of timeseries models specified by the `hyperparameters`\u001b[39;00m\n\u001b[32m     46\u001b[39m \u001b[33;03m    dictionary that maps model names to their specified hyperparameters.\u001b[39;00m\n\u001b[32m   (...)\u001b[39m\u001b[32m     65\u001b[39m \u001b[33;03m        Random seed that will be set to each model during training\u001b[39;00m\n\u001b[32m     66\u001b[39m \u001b[33;03m    \"\"\"\u001b[39;00m\n\u001b[32m---> \u001b[39m\u001b[32m67\u001b[39m     \u001b[38;5;28;43mself\u001b[39;49m\u001b[43m.\u001b[49m\u001b[43m_train_multi\u001b[49m\u001b[43m(\u001b[49m\n\u001b[32m     68\u001b[39m \u001b[43m        \u001b[49m\u001b[43mtrain_data\u001b[49m\u001b[43m,\u001b[49m\n\u001b[32m     69\u001b[39m \u001b[43m        \u001b[49m\u001b[43mval_data\u001b[49m\u001b[43m=\u001b[49m\u001b[43mval_data\u001b[49m\u001b[43m,\u001b[49m\n\u001b[32m     70\u001b[39m \u001b[43m        \u001b[49m\u001b[43mhyperparameters\u001b[49m\u001b[43m=\u001b[49m\u001b[43mhyperparameters\u001b[49m\u001b[43m,\u001b[49m\n\u001b[32m     71\u001b[39m \u001b[43m        \u001b[49m\u001b[43mhyperparameter_tune_kwargs\u001b[49m\u001b[43m=\u001b[49m\u001b[43mhyperparameter_tune_kwargs\u001b[49m\u001b[43m,\u001b[49m\n\u001b[32m     72\u001b[39m \u001b[43m        \u001b[49m\u001b[43mexcluded_model_types\u001b[49m\u001b[43m=\u001b[49m\u001b[43mexcluded_model_types\u001b[49m\u001b[43m,\u001b[49m\n\u001b[32m     73\u001b[39m \u001b[43m        \u001b[49m\u001b[43mtime_limit\u001b[49m\u001b[43m=\u001b[49m\u001b[43mtime_limit\u001b[49m\u001b[43m,\u001b[49m\n\u001b[32m     74\u001b[39m \u001b[43m        \u001b[49m\u001b[43mrandom_seed\u001b[49m\u001b[43m=\u001b[49m\u001b[43mrandom_seed\u001b[49m\u001b[43m,\u001b[49m\n\u001b[32m     75\u001b[39m \u001b[43m    \u001b[49m\u001b[43m)\u001b[49m\n",
      "\u001b[36mFile \u001b[39m\u001b[32m/opt/anaconda3/envs/ML/lib/python3.12/site-packages/autogluon/timeseries/trainer/abstract_trainer.py:659\u001b[39m, in \u001b[36mAbstractTimeSeriesTrainer._train_multi\u001b[39m\u001b[34m(self, train_data, hyperparameters, models, val_data, hyperparameter_tune_kwargs, excluded_model_types, time_limit, random_seed)\u001b[39m\n\u001b[32m    655\u001b[39m             fit_log_message += (\n\u001b[32m    656\u001b[39m                 \u001b[33mf\u001b[39m\u001b[33m\"\u001b[39m\u001b[33mTraining for up to \u001b[39m\u001b[38;5;132;01m{\u001b[39;00mtime_left_for_model\u001b[38;5;132;01m:\u001b[39;00m\u001b[33m.1f\u001b[39m\u001b[38;5;132;01m}\u001b[39;00m\u001b[33ms of the \u001b[39m\u001b[38;5;132;01m{\u001b[39;00mtime_left\u001b[38;5;132;01m:\u001b[39;00m\u001b[33m.1f\u001b[39m\u001b[38;5;132;01m}\u001b[39;00m\u001b[33ms of remaining time.\u001b[39m\u001b[33m\"\u001b[39m\n\u001b[32m    657\u001b[39m             )\n\u001b[32m    658\u001b[39m         logger.info(fit_log_message)\n\u001b[32m--> \u001b[39m\u001b[32m659\u001b[39m         model_names_trained += \u001b[38;5;28;43mself\u001b[39;49m\u001b[43m.\u001b[49m\u001b[43m_train_and_save\u001b[49m\u001b[43m(\u001b[49m\n\u001b[32m    660\u001b[39m \u001b[43m            \u001b[49m\u001b[43mtrain_data\u001b[49m\u001b[43m,\u001b[49m\u001b[43m \u001b[49m\u001b[43mmodel\u001b[49m\u001b[43m=\u001b[49m\u001b[43mmodel\u001b[49m\u001b[43m,\u001b[49m\u001b[43m \u001b[49m\u001b[43mval_data\u001b[49m\u001b[43m=\u001b[49m\u001b[43mval_data\u001b[49m\u001b[43m,\u001b[49m\u001b[43m \u001b[49m\u001b[43mtime_limit\u001b[49m\u001b[43m=\u001b[49m\u001b[43mtime_left_for_model\u001b[49m\n\u001b[32m    661\u001b[39m \u001b[43m        \u001b[49m\u001b[43m)\u001b[49m\n\u001b[32m    663\u001b[39m \u001b[38;5;28;01mif\u001b[39;00m \u001b[38;5;28mself\u001b[39m.enable_ensemble:\n\u001b[32m    664\u001b[39m     models_available_for_ensemble = \u001b[38;5;28mself\u001b[39m.get_model_names(level=\u001b[32m0\u001b[39m)\n",
      "\u001b[36mFile \u001b[39m\u001b[32m/opt/anaconda3/envs/ML/lib/python3.12/site-packages/autogluon/timeseries/trainer/abstract_trainer.py:525\u001b[39m, in \u001b[36mAbstractTimeSeriesTrainer._train_and_save\u001b[39m\u001b[34m(***failed resolving arguments***)\u001b[39m\n\u001b[32m    522\u001b[39m         logger.info(\u001b[33mf\u001b[39m\u001b[33m\"\u001b[39m\u001b[38;5;130;01m\\t\u001b[39;00m\u001b[33mSkipping \u001b[39m\u001b[38;5;132;01m{\u001b[39;00mmodel.name\u001b[38;5;132;01m}\u001b[39;00m\u001b[33m due to lack of time remaining.\u001b[39m\u001b[33m\"\u001b[39m)\n\u001b[32m    523\u001b[39m         \u001b[38;5;28;01mreturn\u001b[39;00m model_names_trained\n\u001b[32m--> \u001b[39m\u001b[32m525\u001b[39m model = \u001b[38;5;28;43mself\u001b[39;49m\u001b[43m.\u001b[49m\u001b[43m_train_single\u001b[49m\u001b[43m(\u001b[49m\u001b[43mtrain_data\u001b[49m\u001b[43m,\u001b[49m\u001b[43m \u001b[49m\u001b[43mmodel\u001b[49m\u001b[43m,\u001b[49m\u001b[43m \u001b[49m\u001b[43mval_data\u001b[49m\u001b[43m=\u001b[49m\u001b[43mval_data\u001b[49m\u001b[43m,\u001b[49m\u001b[43m \u001b[49m\u001b[43mtime_limit\u001b[49m\u001b[43m=\u001b[49m\u001b[43mtime_limit\u001b[49m\u001b[43m)\u001b[49m\n\u001b[32m    526\u001b[39m fit_end_time = time.time()\n\u001b[32m    527\u001b[39m model.fit_time = model.fit_time \u001b[38;5;129;01mor\u001b[39;00m (fit_end_time - fit_start_time)\n",
      "\u001b[36mFile \u001b[39m\u001b[32m/opt/anaconda3/envs/ML/lib/python3.12/site-packages/autogluon/timeseries/trainer/abstract_trainer.py:441\u001b[39m, in \u001b[36mAbstractTimeSeriesTrainer._train_single\u001b[39m\u001b[34m(self, train_data, model, val_data, time_limit)\u001b[39m\n\u001b[32m    432\u001b[39m \u001b[38;5;28;01mdef\u001b[39;00m\u001b[38;5;250m \u001b[39m\u001b[34m_train_single\u001b[39m(\n\u001b[32m    433\u001b[39m     \u001b[38;5;28mself\u001b[39m,\n\u001b[32m    434\u001b[39m     train_data: TimeSeriesDataFrame,\n\u001b[32m   (...)\u001b[39m\u001b[32m    437\u001b[39m     time_limit: Optional[\u001b[38;5;28mfloat\u001b[39m] = \u001b[38;5;28;01mNone\u001b[39;00m,\n\u001b[32m    438\u001b[39m ) -> AbstractTimeSeriesModel:\n\u001b[32m    439\u001b[39m \u001b[38;5;250m    \u001b[39m\u001b[33;03m\"\"\"Train the single model and return the model object that was fitted. This method\u001b[39;00m\n\u001b[32m    440\u001b[39m \u001b[33;03m    does not save the resulting model.\"\"\"\u001b[39;00m\n\u001b[32m--> \u001b[39m\u001b[32m441\u001b[39m     \u001b[43mmodel\u001b[49m\u001b[43m.\u001b[49m\u001b[43mfit\u001b[49m\u001b[43m(\u001b[49m\n\u001b[32m    442\u001b[39m \u001b[43m        \u001b[49m\u001b[43mtrain_data\u001b[49m\u001b[43m=\u001b[49m\u001b[43mtrain_data\u001b[49m\u001b[43m,\u001b[49m\n\u001b[32m    443\u001b[39m \u001b[43m        \u001b[49m\u001b[43mval_data\u001b[49m\u001b[43m=\u001b[49m\u001b[43mval_data\u001b[49m\u001b[43m,\u001b[49m\n\u001b[32m    444\u001b[39m \u001b[43m        \u001b[49m\u001b[43mtime_limit\u001b[49m\u001b[43m=\u001b[49m\u001b[43mtime_limit\u001b[49m\u001b[43m,\u001b[49m\n\u001b[32m    445\u001b[39m \u001b[43m        \u001b[49m\u001b[43mverbosity\u001b[49m\u001b[43m=\u001b[49m\u001b[38;5;28;43mself\u001b[39;49m\u001b[43m.\u001b[49m\u001b[43mverbosity\u001b[49m\u001b[43m,\u001b[49m\n\u001b[32m    446\u001b[39m \u001b[43m        \u001b[49m\u001b[43mval_splitter\u001b[49m\u001b[43m=\u001b[49m\u001b[38;5;28;43mself\u001b[39;49m\u001b[43m.\u001b[49m\u001b[43mval_splitter\u001b[49m\u001b[43m,\u001b[49m\n\u001b[32m    447\u001b[39m \u001b[43m        \u001b[49m\u001b[43mrefit_every_n_windows\u001b[49m\u001b[43m=\u001b[49m\u001b[38;5;28;43mself\u001b[39;49m\u001b[43m.\u001b[49m\u001b[43mrefit_every_n_windows\u001b[49m\u001b[43m,\u001b[49m\n\u001b[32m    448\u001b[39m \u001b[43m    \u001b[49m\u001b[43m)\u001b[49m\n\u001b[32m    449\u001b[39m     \u001b[38;5;28;01mreturn\u001b[39;00m model\n",
      "\u001b[36mFile \u001b[39m\u001b[32m/opt/anaconda3/envs/ML/lib/python3.12/site-packages/autogluon/timeseries/models/abstract/abstract_timeseries_model.py:307\u001b[39m, in \u001b[36mAbstractTimeSeriesModel.fit\u001b[39m\u001b[34m(self, train_data, val_data, time_limit, **kwargs)\u001b[39m\n\u001b[32m    305\u001b[39m \u001b[38;5;28;01mif\u001b[39;00m time_limit \u001b[38;5;129;01mis\u001b[39;00m \u001b[38;5;129;01mnot\u001b[39;00m \u001b[38;5;28;01mNone\u001b[39;00m:\n\u001b[32m    306\u001b[39m     time_limit = time_limit - (time.monotonic() - start_time)\n\u001b[32m--> \u001b[39m\u001b[32m307\u001b[39m \u001b[38;5;28;01mreturn\u001b[39;00m \u001b[38;5;28;43msuper\u001b[39;49m\u001b[43m(\u001b[49m\u001b[43m)\u001b[49m\u001b[43m.\u001b[49m\u001b[43mfit\u001b[49m\u001b[43m(\u001b[49m\u001b[43mtrain_data\u001b[49m\u001b[43m=\u001b[49m\u001b[43mtrain_data\u001b[49m\u001b[43m,\u001b[49m\u001b[43m \u001b[49m\u001b[43mval_data\u001b[49m\u001b[43m=\u001b[49m\u001b[43mval_data\u001b[49m\u001b[43m,\u001b[49m\u001b[43m \u001b[49m\u001b[43mtime_limit\u001b[49m\u001b[43m=\u001b[49m\u001b[43mtime_limit\u001b[49m\u001b[43m,\u001b[49m\u001b[43m \u001b[49m\u001b[43m*\u001b[49m\u001b[43m*\u001b[49m\u001b[43mkwargs\u001b[49m\u001b[43m)\u001b[49m\n",
      "\u001b[36mFile \u001b[39m\u001b[32m/opt/anaconda3/envs/ML/lib/python3.12/site-packages/autogluon/core/models/abstract/abstract_model.py:914\u001b[39m, in \u001b[36mAbstractModel.fit\u001b[39m\u001b[34m(self, **kwargs)\u001b[39m\n\u001b[32m    910\u001b[39m     time_start = \u001b[38;5;28;01mNone\u001b[39;00m\n\u001b[32m    911\u001b[39m kwargs = \u001b[38;5;28mself\u001b[39m.initialize(\n\u001b[32m    912\u001b[39m     **kwargs\n\u001b[32m    913\u001b[39m )  \u001b[38;5;66;03m# FIXME: This might have to go before self._preprocess_fit_args, but then time_limit might be incorrect in **kwargs init to initialize\u001b[39;00m\n\u001b[32m--> \u001b[39m\u001b[32m914\u001b[39m kwargs = \u001b[38;5;28;43mself\u001b[39;49m\u001b[43m.\u001b[49m\u001b[43m_preprocess_fit_args\u001b[49m\u001b[43m(\u001b[49m\u001b[43m*\u001b[49m\u001b[43m*\u001b[49m\u001b[43mkwargs\u001b[49m\u001b[43m)\u001b[49m\n\u001b[32m    916\u001b[39m \u001b[38;5;28mself\u001b[39m._register_fit_metadata(**kwargs)\n\u001b[32m    917\u001b[39m \u001b[38;5;28mself\u001b[39m.validate_fit_resources(**kwargs)\n",
      "\u001b[36mFile \u001b[39m\u001b[32m/opt/anaconda3/envs/ML/lib/python3.12/site-packages/autogluon/core/models/abstract/abstract_model.py:566\u001b[39m, in \u001b[36mAbstractModel._preprocess_fit_args\u001b[39m\u001b[34m(self, **kwargs)\u001b[39m\n\u001b[32m    557\u001b[39m     time_limit_str = \u001b[33mf\u001b[39m\u001b[33m\"\u001b[39m\u001b[38;5;132;01m{\u001b[39;00mtime_limit\u001b[38;5;132;01m:\u001b[39;00m\u001b[33m.2f\u001b[39m\u001b[38;5;132;01m}\u001b[39;00m\u001b[33ms\u001b[39m\u001b[33m\"\u001b[39m \u001b[38;5;28;01mif\u001b[39;00m time_limit \u001b[38;5;129;01mis\u001b[39;00m \u001b[38;5;129;01mnot\u001b[39;00m \u001b[38;5;28;01mNone\u001b[39;00m \u001b[38;5;28;01melse\u001b[39;00m \u001b[33m\"\u001b[39m\u001b[33mNone\u001b[39m\u001b[33m\"\u001b[39m\n\u001b[32m    558\u001b[39m     logger.log(\n\u001b[32m    559\u001b[39m         \u001b[32m20\u001b[39m,\n\u001b[32m    560\u001b[39m         \u001b[33mf\u001b[39m\u001b[33m\"\u001b[39m\u001b[38;5;130;01m\\t\u001b[39;00m\u001b[33mTime limit adjusted due to model hyperparameters: \u001b[39m\u001b[33m\"\u001b[39m\n\u001b[32m   (...)\u001b[39m\u001b[32m    564\u001b[39m         \u001b[33mf\u001b[39m\u001b[33m\"\u001b[39m\u001b[33mag.min_time_limit=\u001b[39m\u001b[38;5;132;01m{\u001b[39;00mmin_time_limit\u001b[38;5;132;01m}\u001b[39;00m\u001b[33m)\u001b[39m\u001b[33m\"\u001b[39m,\n\u001b[32m    565\u001b[39m     )\n\u001b[32m--> \u001b[39m\u001b[32m566\u001b[39m kwargs = \u001b[38;5;28;43mself\u001b[39;49m\u001b[43m.\u001b[49m\u001b[43m_preprocess_fit_resources\u001b[49m\u001b[43m(\u001b[49m\u001b[43m*\u001b[49m\u001b[43m*\u001b[49m\u001b[43mkwargs\u001b[49m\u001b[43m)\u001b[49m\n\u001b[32m    567\u001b[39m \u001b[38;5;28;01mreturn\u001b[39;00m kwargs\n",
      "\u001b[36mFile \u001b[39m\u001b[32m/opt/anaconda3/envs/ML/lib/python3.12/site-packages/autogluon/core/models/abstract/abstract_model.py:816\u001b[39m, in \u001b[36mAbstractModel._preprocess_fit_resources\u001b[39m\u001b[34m(self, silent, total_resources, parallel_hpo, **kwargs)\u001b[39m\n\u001b[32m    813\u001b[39m     kwargs[\u001b[33m\"\u001b[39m\u001b[33mnum_gpus\u001b[39m\u001b[33m\"\u001b[39m] = enforced_num_gpus\n\u001b[32m    814\u001b[39m     \u001b[38;5;28;01mreturn\u001b[39;00m kwargs\n\u001b[32m--> \u001b[39m\u001b[32m816\u001b[39m \u001b[38;5;28;01mreturn\u001b[39;00m \u001b[38;5;28;43mself\u001b[39;49m\u001b[43m.\u001b[49m\u001b[43m_calculate_total_resources\u001b[49m\u001b[43m(\u001b[49m\u001b[43msilent\u001b[49m\u001b[43m=\u001b[49m\u001b[43msilent\u001b[49m\u001b[43m,\u001b[49m\u001b[43m \u001b[49m\u001b[43mtotal_resources\u001b[49m\u001b[43m=\u001b[49m\u001b[43mtotal_resources\u001b[49m\u001b[43m,\u001b[49m\u001b[43m \u001b[49m\u001b[43mparallel_hpo\u001b[49m\u001b[43m=\u001b[49m\u001b[43mparallel_hpo\u001b[49m\u001b[43m,\u001b[49m\u001b[43m \u001b[49m\u001b[43m*\u001b[49m\u001b[43m*\u001b[49m\u001b[43mkwargs\u001b[49m\u001b[43m)\u001b[49m\n",
      "\u001b[36mFile \u001b[39m\u001b[32m/opt/anaconda3/envs/ML/lib/python3.12/site-packages/autogluon/core/models/abstract/abstract_model.py:666\u001b[39m, in \u001b[36mAbstractModel._calculate_total_resources\u001b[39m\u001b[34m(self, silent, total_resources, parallel_hpo, **kwargs)\u001b[39m\n\u001b[32m    664\u001b[39m resource_manager = get_resource_manager()\n\u001b[32m    665\u001b[39m system_num_cpus = resource_manager.get_cpu_count()\n\u001b[32m--> \u001b[39m\u001b[32m666\u001b[39m system_num_gpus = \u001b[43mresource_manager\u001b[49m\u001b[43m.\u001b[49m\u001b[43mget_gpu_count\u001b[49m\u001b[43m(\u001b[49m\u001b[43m)\u001b[49m\n\u001b[32m    667\u001b[39m \u001b[38;5;28;01mif\u001b[39;00m total_resources \u001b[38;5;129;01mis\u001b[39;00m \u001b[38;5;28;01mNone\u001b[39;00m:\n\u001b[32m    668\u001b[39m     total_resources = {}\n",
      "\u001b[36mFile \u001b[39m\u001b[32m/opt/anaconda3/envs/ML/lib/python3.12/site-packages/autogluon/common/utils/resource_utils.py:32\u001b[39m, in \u001b[36mResourceManager.get_gpu_count\u001b[39m\u001b[34m()\u001b[39m\n\u001b[32m     29\u001b[39m \u001b[38;5;129m@staticmethod\u001b[39m\n\u001b[32m     30\u001b[39m \u001b[38;5;129m@disable_if_lite_mode\u001b[39m(ret=\u001b[32m0\u001b[39m)\n\u001b[32m     31\u001b[39m \u001b[38;5;28;01mdef\u001b[39;00m\u001b[38;5;250m \u001b[39m\u001b[34mget_gpu_count\u001b[39m() -> \u001b[38;5;28mint\u001b[39m:\n\u001b[32m---> \u001b[39m\u001b[32m32\u001b[39m     num_gpus = \u001b[43mResourceManager\u001b[49m\u001b[43m.\u001b[49m\u001b[43m_get_gpu_count_cuda\u001b[49m\u001b[43m(\u001b[49m\u001b[43m)\u001b[49m\n\u001b[32m     33\u001b[39m     \u001b[38;5;28;01mif\u001b[39;00m num_gpus == \u001b[32m0\u001b[39m:\n\u001b[32m     34\u001b[39m         num_gpus = ResourceManager.get_gpu_count_torch()\n",
      "\u001b[36mFile \u001b[39m\u001b[32m/opt/anaconda3/envs/ML/lib/python3.12/site-packages/autogluon/common/utils/resource_utils.py:156\u001b[39m, in \u001b[36mResourceManager._get_gpu_count_cuda\u001b[39m\u001b[34m()\u001b[39m\n\u001b[32m    150\u001b[39m \u001b[38;5;129m@staticmethod\u001b[39m\n\u001b[32m    151\u001b[39m \u001b[38;5;28;01mdef\u001b[39;00m\u001b[38;5;250m \u001b[39m\u001b[34m_get_gpu_count_cuda\u001b[39m():\n\u001b[32m    152\u001b[39m     \u001b[38;5;66;03m# FIXME: Sometimes doesn't detect GPU on Windows\u001b[39;00m\n\u001b[32m    153\u001b[39m     \u001b[38;5;66;03m# FIXME: Doesn't ensure the GPUs are actually usable by the model (PyTorch, etc.)\u001b[39;00m\n\u001b[32m    154\u001b[39m     \u001b[38;5;28;01mfrom\u001b[39;00m\u001b[38;5;250m \u001b[39m\u001b[34;01m.\u001b[39;00m\u001b[34;01mnvutil\u001b[39;00m\u001b[38;5;250m \u001b[39m\u001b[38;5;28;01mimport\u001b[39;00m cudaDeviceGetCount, cudaInit, cudaShutdown\n\u001b[32m--> \u001b[39m\u001b[32m156\u001b[39m     \u001b[38;5;28;01mif\u001b[39;00m \u001b[38;5;129;01mnot\u001b[39;00m \u001b[43mcudaInit\u001b[49m\u001b[43m(\u001b[49m\u001b[43m)\u001b[49m:\n\u001b[32m    157\u001b[39m         \u001b[38;5;28;01mreturn\u001b[39;00m \u001b[32m0\u001b[39m\n\u001b[32m    158\u001b[39m     gpu_count = cudaDeviceGetCount()\n",
      "\u001b[36mFile \u001b[39m\u001b[32m/opt/anaconda3/envs/ML/lib/python3.12/site-packages/autogluon/common/utils/nvutil.py:21\u001b[39m, in \u001b[36mcudaInit\u001b[39m\u001b[34m()\u001b[39m\n\u001b[32m     20\u001b[39m \u001b[38;5;28;01mdef\u001b[39;00m\u001b[38;5;250m \u001b[39m\u001b[34mcudaInit\u001b[39m():\n\u001b[32m---> \u001b[39m\u001b[32m21\u001b[39m     \u001b[38;5;28;01mif\u001b[39;00m \u001b[38;5;129;01mnot\u001b[39;00m \u001b[43m_LoadNvmlLibrary\u001b[49m\u001b[43m(\u001b[49m\u001b[43m)\u001b[49m:\n\u001b[32m     22\u001b[39m         \u001b[38;5;28;01mreturn\u001b[39;00m \u001b[38;5;28;01mFalse\u001b[39;00m\n\u001b[32m     24\u001b[39m     \u001b[38;5;66;03m#\u001b[39;00m\n\u001b[32m     25\u001b[39m     \u001b[38;5;66;03m# Initialize the library\u001b[39;00m\n\u001b[32m     26\u001b[39m     \u001b[38;5;66;03m#\u001b[39;00m\n",
      "\u001b[36mFile \u001b[39m\u001b[32m/opt/anaconda3/envs/ML/lib/python3.12/site-packages/autogluon/common/utils/nvutil.py:77\u001b[39m, in \u001b[36m_LoadNvmlLibrary\u001b[39m\u001b[34m()\u001b[39m\n\u001b[32m     75\u001b[39m         cudaLib = CDLL(\u001b[33m\"\u001b[39m\u001b[33mlibnvidia-ml.so.1\u001b[39m\u001b[33m\"\u001b[39m)\n\u001b[32m     76\u001b[39m \u001b[38;5;28;01mexcept\u001b[39;00m \u001b[38;5;167;01mOSError\u001b[39;00m \u001b[38;5;28;01mas\u001b[39;00m ose:\n\u001b[32m---> \u001b[39m\u001b[32m77\u001b[39m     \u001b[38;5;28;01mpass\u001b[39;00m\n\u001b[32m     79\u001b[39m \u001b[38;5;28;01mif\u001b[39;00m cudaLib == \u001b[38;5;28;01mNone\u001b[39;00m:\n\u001b[32m     80\u001b[39m     ret = \u001b[38;5;28;01mFalse\u001b[39;00m\n",
      "\u001b[31mKeyboardInterrupt\u001b[39m: "
     ]
    }
   ],
   "source": [
    "import pandas as pd\n",
    "import numpy as np\n",
    "from autogluon.timeseries import TimeSeriesPredictor, TimeSeriesDataFrame\n",
    "import plotly.express as px\n",
    "import plotly.graph_objects as go\n",
    "\n",
    "# 1. Prepare Data with Proper ID Column\n",
    "def prepare_data(filepath):\n",
    "    \"\"\"Load and prepare data with required __id__ column\"\"\"\n",
    "    df = pd.read_csv(filepath, parse_dates=['date'])\n",
    "    \n",
    "    # Add required ID column (same ID for single time series)\n",
    "    df['__id__'] = \"main_series\"  # Single time series ID\n",
    "    \n",
    "    # Add temporal features\n",
    "    for col in ['Crude Oil Brent Price', 'Cocoa Price', 'Gold Price']:\n",
    "        df[f'{col}_3mo_ma'] = df[col].rolling(3, min_periods=1).mean()\n",
    "        df[f'{col}_12mo_ma'] = df[col].rolling(12, min_periods=6).mean()\n",
    "    \n",
    "    df.set_index('date', inplace=True)\n",
    "    return df\n",
    "\n",
    "# 2. Convert to TimeSeriesDataFrame\n",
    "def create_ts_dataframe(df, target_col):\n",
    "    \"\"\"Create properly formatted TimeSeriesDataFrame\"\"\"\n",
    "    # Keep only relevant columns\n",
    "    keep_cols = ['__id__', target_col] + [col for col in df.columns if col not in ['Crude Oil Brent Price', 'Cocoa Price', 'Gold Price', '__id__']]\n",
    "    \n",
    "    return TimeSeriesDataFrame.from_data_frame(\n",
    "        df[keep_cols].reset_index(),\n",
    "        id_column=\"__id__\",\n",
    "        timestamp_column=\"date\"\n",
    "    )\n",
    "\n",
    "# 3. AutoML Forecasting Function\n",
    "def run_automl_forecasting(ts_data, target_col, prediction_length=12):\n",
    "    \"\"\"Run AutoML forecasting for a single target\"\"\"\n",
    "    predictor = TimeSeriesPredictor(\n",
    "        target=target_col,\n",
    "        prediction_length=prediction_length,\n",
    "        eval_metric=\"MAPE\",\n",
    "        path=f\"autogluon_models/{target_col.replace(' ', '_')}\",\n",
    "    )\n",
    "    \n",
    "    predictor.fit(\n",
    "        train_data=ts_data,\n",
    "        time_limit=3600,  # 1 hour training\n",
    "        presets=\"medium_quality\",\n",
    "        hyperparameters={\n",
    "            \"ETS\": {},\n",
    "            \"ARIMA\": {\"maxiter\": 50},\n",
    "            \"DeepAR\": {\"num_layers\": 2},\n",
    "            \"SimpleFeedForward\": {\"epochs\": 50},\n",
    "        },\n",
    "        num_val_windows=3,  # 3-fold time-based validation\n",
    "        verbosity=2\n",
    "    )\n",
    "    \n",
    "    return predictor\n",
    "\n",
    "def calculate_metrics(y_true, y_pred):\n",
    "    \"\"\"Calculate evaluation metrics for time series forecasts\"\"\"\n",
    "    metrics = {\n",
    "        'MAE': mean_absolute_error(y_true, y_pred),\n",
    "        'MAPE': mean_absolute_percentage_error(y_true, y_pred) * 100,  # as percentage\n",
    "        'RMSE': np.sqrt(mean_squared_error(y_true, y_pred))\n",
    "    }\n",
    "    return metrics\n",
    "\n",
    "def evaluate_forecasts(predictor, test_data, target_col, prediction_length=12):\n",
    "    \"\"\"Evaluate model on test period\"\"\"\n",
    "    # Get the actual test values (last prediction_length points)\n",
    "    y_true = test_data.tail(prediction_length)[target_col]\n",
    "    \n",
    "    # Generate predictions for test period\n",
    "    forecast = predictor.predict(test_data)\n",
    "    forecast = forecast.reset_index()\n",
    "    \n",
    "    # Align predictions with actuals\n",
    "    y_pred = forecast['mean']  # Using the mean forecast\n",
    "    \n",
    "    # Calculate metrics\n",
    "    return calculate_metrics(y_true, y_pred)\n",
    "\n",
    "def plot_actual_vs_predicted(train_df, test_df, forecast_df, target_col):\n",
    "    \"\"\"Interactive plot of actual vs predicted values\"\"\"\n",
    "    fig = go.Figure()\n",
    "    \n",
    "    # Training data\n",
    "    fig.add_trace(go.Scatter(\n",
    "        x=train_df.index,\n",
    "        y=train_df[target_col],\n",
    "        name='Training Data',\n",
    "        line=dict(color='blue')\n",
    "    ))\n",
    "    \n",
    "    # Test actuals\n",
    "    fig.add_trace(go.Scatter(\n",
    "        x=test_df.index,\n",
    "        y=test_df[target_col],\n",
    "        name='Actual Values',\n",
    "        line=dict(color='green')\n",
    "    ))\n",
    "    \n",
    "    # Forecasts\n",
    "    fig.add_trace(go.Scatter(\n",
    "        x=forecast_df.index,\n",
    "        y=forecast_df['mean'],\n",
    "        name='Forecast',\n",
    "        line=dict(color='red')\n",
    "    ))\n",
    "    \n",
    "    # Confidence interval\n",
    "    fig.add_trace(go.Scatter(\n",
    "        x=forecast_df.index.tolist() + forecast_df.index[::-1].tolist(),\n",
    "        y=forecast_df['0.9'].tolist() + forecast_df['0.1'][::-1].tolist(),\n",
    "        fill='toself',\n",
    "        fillcolor='rgba(255,0,0,0.2)',\n",
    "        line=dict(color='rgba(255,255,255,0)'),\n",
    "        name='80% Confidence'\n",
    "    ))\n",
    "    \n",
    "    fig.update_layout(\n",
    "        title=f'{target_col} Forecast vs Actual',\n",
    "        xaxis_title='Date',\n",
    "        yaxis_title='Price',\n",
    "        hovermode='x unified',\n",
    "        template='plotly_white'\n",
    "    )\n",
    "    fig.show()\n",
    "\n",
    "def plot_metrics(metrics_dict):\n",
    "    \"\"\"Bar plot comparing metrics across commodities\"\"\"\n",
    "    metrics_df = pd.DataFrame(metrics_dict).T\n",
    "    fig = px.bar(metrics_df, \n",
    "                 barmode='group',\n",
    "                 title='Model Performance Across Commodities',\n",
    "                 labels={'value': 'Metric Value', 'variable': 'Metric'})\n",
    "    fig.update_layout(template='plotly_white')\n",
    "    fig.show()\n",
    "\n",
    "# 4. Main Execution\n",
    "if __name__ == \"__main__\":\n",
    "    # Configuration\n",
    "    DATA_PATH = \"merged_macro_commodity.csv\"\n",
    "    COMMODITIES = ['Crude Oil Brent Price', 'Cocoa Price', 'Gold Price']\n",
    "    \n",
    "    # Prepare base dataframe\n",
    "    df = prepare_data(DATA_PATH)\n",
    "    \n",
    "    train_data = df.iloc[:-12]  # all but last year\n",
    "    test_data = df.iloc[-12:]   # last year for testing\n",
    "    \n",
    "    results = {}\n",
    "    for target in COMMODITIES:\n",
    "        # Prepare data\n",
    "        train_ts = create_ts_dataframe(train_data, target)\n",
    "        test_ts = create_ts_dataframe(test_data, target)\n",
    "        \n",
    "        # Train model\n",
    "        predictor = run_automl_forecasting(train_ts, target)\n",
    "        \n",
    "        # Evaluate on test set\n",
    "        metrics = evaluate_forecasts(predictor, test_ts, target)\n",
    "        \n",
    "        # Store results\n",
    "        results[target] = {\n",
    "            'metrics': metrics,\n",
    "            'model': predictor,\n",
    "            'forecast': predictor.predict(train_ts)\n",
    "        }\n",
    "\n",
    "        forecast_df = results[target]['forecast']\n",
    "\n",
    "        # Show interactive plot\n",
    "        plot_actual_vs_predicted(train_data, test_data, forecast_df, target)\n",
    "        \n",
    "        print(f\"\\n{target} Evaluation:\")\n",
    "        print(f\"best_model: {results[target]['model'].best_model}\")\n",
    "        print(f\"- MAE: {metrics['MAE']:.2f}\")\n",
    "        print(f\"- MAPE: {metrics['MAPE']:.2f}%\")\n",
    "        print(f\"- RMSE: {metrics['RMSE']:.2f}\")\n",
    "    \n",
    "    # You can also access the full leaderboard for each commodity:\n",
    "    for target in COMMODITIES:\n",
    "        leaderboard = results[target]['model'].leaderboard()\n",
    "        print(f\"\\n{target} Model Rankings:\")\n",
    "        print(leaderboard[['model', 'score_val']])\n",
    "    \n",
    "    # Compare metrics across commodities\n",
    "    metrics_dict = {k: v['metrics'] for k, v in results.items()}\n",
    "    plot_metrics(metrics_dict)"
   ]
  },
  {
   "cell_type": "code",
   "execution_count": null,
   "id": "02e7f805",
   "metadata": {},
   "outputs": [
    {
     "data": {
      "text/html": [
       "<div>\n",
       "<style scoped>\n",
       "    .dataframe tbody tr th:only-of-type {\n",
       "        vertical-align: middle;\n",
       "    }\n",
       "\n",
       "    .dataframe tbody tr th {\n",
       "        vertical-align: top;\n",
       "    }\n",
       "\n",
       "    .dataframe thead th {\n",
       "        text-align: right;\n",
       "    }\n",
       "</style>\n",
       "<table border=\"1\" class=\"dataframe\">\n",
       "  <thead>\n",
       "    <tr style=\"text-align: right;\">\n",
       "      <th></th>\n",
       "      <th>Revenue, excluding grants (% of GDP)</th>\n",
       "      <th>GDP (constant 2015 US$)</th>\n",
       "      <th>Employment to population ratio (15+, total %)</th>\n",
       "      <th>Crude Oil Brent Price</th>\n",
       "      <th>Cocoa Price</th>\n",
       "      <th>Gold Price</th>\n",
       "      <th>__id__</th>\n",
       "      <th>Crude Oil Brent Price_3mo_ma</th>\n",
       "      <th>Crude Oil Brent Price_12mo_ma</th>\n",
       "      <th>Cocoa Price_3mo_ma</th>\n",
       "      <th>Cocoa Price_12mo_ma</th>\n",
       "      <th>Gold Price_3mo_ma</th>\n",
       "      <th>Gold Price_12mo_ma</th>\n",
       "    </tr>\n",
       "    <tr>\n",
       "      <th>date</th>\n",
       "      <th></th>\n",
       "      <th></th>\n",
       "      <th></th>\n",
       "      <th></th>\n",
       "      <th></th>\n",
       "      <th></th>\n",
       "      <th></th>\n",
       "      <th></th>\n",
       "      <th></th>\n",
       "      <th></th>\n",
       "      <th></th>\n",
       "      <th></th>\n",
       "      <th></th>\n",
       "    </tr>\n",
       "  </thead>\n",
       "  <tbody>\n",
       "    <tr>\n",
       "      <th>1991-01-01</th>\n",
       "      <td>14.597519</td>\n",
       "      <td>1.386282e+10</td>\n",
       "      <td>74.834000</td>\n",
       "      <td>23.65</td>\n",
       "      <td>1.2417</td>\n",
       "      <td>383.64</td>\n",
       "      <td>main_series</td>\n",
       "      <td>23.650000</td>\n",
       "      <td>NaN</td>\n",
       "      <td>1.241700</td>\n",
       "      <td>NaN</td>\n",
       "      <td>383.640000</td>\n",
       "      <td>NaN</td>\n",
       "    </tr>\n",
       "    <tr>\n",
       "      <th>1991-02-01</th>\n",
       "      <td>14.372773</td>\n",
       "      <td>1.391355e+10</td>\n",
       "      <td>74.690804</td>\n",
       "      <td>19.40</td>\n",
       "      <td>1.2147</td>\n",
       "      <td>363.83</td>\n",
       "      <td>main_series</td>\n",
       "      <td>21.525000</td>\n",
       "      <td>NaN</td>\n",
       "      <td>1.228200</td>\n",
       "      <td>NaN</td>\n",
       "      <td>373.735000</td>\n",
       "      <td>NaN</td>\n",
       "    </tr>\n",
       "    <tr>\n",
       "      <th>1991-03-01</th>\n",
       "      <td>14.148027</td>\n",
       "      <td>1.396124e+10</td>\n",
       "      <td>74.556498</td>\n",
       "      <td>19.45</td>\n",
       "      <td>1.2103</td>\n",
       "      <td>363.34</td>\n",
       "      <td>main_series</td>\n",
       "      <td>20.833333</td>\n",
       "      <td>NaN</td>\n",
       "      <td>1.222233</td>\n",
       "      <td>NaN</td>\n",
       "      <td>370.270000</td>\n",
       "      <td>NaN</td>\n",
       "    </tr>\n",
       "    <tr>\n",
       "      <th>1991-04-01</th>\n",
       "      <td>13.923281</td>\n",
       "      <td>1.400648e+10</td>\n",
       "      <td>74.430605</td>\n",
       "      <td>19.25</td>\n",
       "      <td>1.1458</td>\n",
       "      <td>358.38</td>\n",
       "      <td>main_series</td>\n",
       "      <td>19.366667</td>\n",
       "      <td>NaN</td>\n",
       "      <td>1.190267</td>\n",
       "      <td>NaN</td>\n",
       "      <td>361.850000</td>\n",
       "      <td>NaN</td>\n",
       "    </tr>\n",
       "    <tr>\n",
       "      <th>1991-05-01</th>\n",
       "      <td>13.698535</td>\n",
       "      <td>1.404985e+10</td>\n",
       "      <td>74.312644</td>\n",
       "      <td>19.30</td>\n",
       "      <td>1.0622</td>\n",
       "      <td>356.95</td>\n",
       "      <td>main_series</td>\n",
       "      <td>19.333333</td>\n",
       "      <td>NaN</td>\n",
       "      <td>1.139433</td>\n",
       "      <td>NaN</td>\n",
       "      <td>359.556667</td>\n",
       "      <td>NaN</td>\n",
       "    </tr>\n",
       "  </tbody>\n",
       "</table>\n",
       "</div>"
      ],
      "text/plain": [
       "            Revenue, excluding grants (% of GDP)  GDP (constant 2015 US$)  \\\n",
       "date                                                                        \n",
       "1991-01-01                             14.597519             1.386282e+10   \n",
       "1991-02-01                             14.372773             1.391355e+10   \n",
       "1991-03-01                             14.148027             1.396124e+10   \n",
       "1991-04-01                             13.923281             1.400648e+10   \n",
       "1991-05-01                             13.698535             1.404985e+10   \n",
       "\n",
       "            Employment to population ratio (15+, total %)  \\\n",
       "date                                                        \n",
       "1991-01-01                                      74.834000   \n",
       "1991-02-01                                      74.690804   \n",
       "1991-03-01                                      74.556498   \n",
       "1991-04-01                                      74.430605   \n",
       "1991-05-01                                      74.312644   \n",
       "\n",
       "            Crude Oil Brent Price  Cocoa Price  Gold Price       __id__  \\\n",
       "date                                                                      \n",
       "1991-01-01                  23.65       1.2417      383.64  main_series   \n",
       "1991-02-01                  19.40       1.2147      363.83  main_series   \n",
       "1991-03-01                  19.45       1.2103      363.34  main_series   \n",
       "1991-04-01                  19.25       1.1458      358.38  main_series   \n",
       "1991-05-01                  19.30       1.0622      356.95  main_series   \n",
       "\n",
       "            Crude Oil Brent Price_3mo_ma  Crude Oil Brent Price_12mo_ma  \\\n",
       "date                                                                      \n",
       "1991-01-01                     23.650000                            NaN   \n",
       "1991-02-01                     21.525000                            NaN   \n",
       "1991-03-01                     20.833333                            NaN   \n",
       "1991-04-01                     19.366667                            NaN   \n",
       "1991-05-01                     19.333333                            NaN   \n",
       "\n",
       "            Cocoa Price_3mo_ma  Cocoa Price_12mo_ma  Gold Price_3mo_ma  \\\n",
       "date                                                                     \n",
       "1991-01-01            1.241700                  NaN         383.640000   \n",
       "1991-02-01            1.228200                  NaN         373.735000   \n",
       "1991-03-01            1.222233                  NaN         370.270000   \n",
       "1991-04-01            1.190267                  NaN         361.850000   \n",
       "1991-05-01            1.139433                  NaN         359.556667   \n",
       "\n",
       "            Gold Price_12mo_ma  \n",
       "date                            \n",
       "1991-01-01                 NaN  \n",
       "1991-02-01                 NaN  \n",
       "1991-03-01                 NaN  \n",
       "1991-04-01                 NaN  \n",
       "1991-05-01                 NaN  "
      ]
     },
     "execution_count": 3,
     "metadata": {},
     "output_type": "execute_result"
    }
   ],
   "source": [
    "df.head()"
   ]
  },
  {
   "cell_type": "code",
   "execution_count": null,
   "id": "c58c2013",
   "metadata": {},
   "outputs": [
    {
     "ename": "KeyError",
     "evalue": "\"None of ['date'] are in the columns\"",
     "output_type": "error",
     "traceback": [
      "\u001b[31m---------------------------------------------------------------------------\u001b[39m",
      "\u001b[31mKeyError\u001b[39m                                  Traceback (most recent call last)",
      "\u001b[32m/var/folders/rd/tqc_535n6bb2mkqrf4_7nf6w0000gn/T/ipykernel_23881/1138929441.py\u001b[39m in \u001b[36m?\u001b[39m\u001b[34m()\u001b[39m\n\u001b[32m      4\u001b[39m     forecast index \u001b[38;5;28;01mis\u001b[39;00m \u001b[38;5;28;01mnot\u001b[39;00m right\n\u001b[32m      5\u001b[39m \"\"\"\n\u001b[32m      6\u001b[39m target = \u001b[33m\"Crude Oil Brent Price\"\u001b[39m\n\u001b[32m      7\u001b[39m \n\u001b[32m----> \u001b[39m\u001b[32m8\u001b[39m forecast_df = results[target][\u001b[33m'forecast'\u001b[39m].set_index(\u001b[33m'date'\u001b[39m)\n\u001b[32m      9\u001b[39m \n\u001b[32m     10\u001b[39m \u001b[38;5;66;03m# Show interactive plot\u001b[39;00m\n\u001b[32m     11\u001b[39m plot_actual_vs_predicted(train_data.set_index(\u001b[33m'date'\u001b[39m), test_data.set_index(\u001b[33m'date'\u001b[39m), forecast_df, target)\n",
      "\u001b[32m/opt/anaconda3/envs/ML/lib/python3.12/site-packages/pandas/core/frame.py\u001b[39m in \u001b[36m?\u001b[39m\u001b[34m(self, keys, drop, append, inplace, verify_integrity)\u001b[39m\n\u001b[32m   6118\u001b[39m                     \u001b[38;5;28;01mif\u001b[39;00m \u001b[38;5;28;01mnot\u001b[39;00m found:\n\u001b[32m   6119\u001b[39m                         missing.append(col)\n\u001b[32m   6120\u001b[39m \n\u001b[32m   6121\u001b[39m         \u001b[38;5;28;01mif\u001b[39;00m missing:\n\u001b[32m-> \u001b[39m\u001b[32m6122\u001b[39m             \u001b[38;5;28;01mraise\u001b[39;00m KeyError(f\"None of {missing} are in the columns\")\n\u001b[32m   6123\u001b[39m \n\u001b[32m   6124\u001b[39m         \u001b[38;5;28;01mif\u001b[39;00m inplace:\n\u001b[32m   6125\u001b[39m             frame = self\n",
      "\u001b[31mKeyError\u001b[39m: \"None of ['date'] are in the columns\""
     ]
    }
   ],
   "source": [
    "# testing plots\n",
    "\"\"\"\n",
    "    date does not appear on x axis if index not set\n",
    "    forecast index is not right\n",
    "\"\"\"\n",
    "target = \"Crude Oil Brent Price\"\n",
    "\n",
    "forecast_df = results[target]['forecast'].set_index('date')\n",
    "\n",
    "# Show interactive plot\n",
    "plot_actual_vs_predicted(train_data.set_index('date'), test_data.set_index('date'), forecast_df, target)"
   ]
  },
  {
   "cell_type": "code",
   "execution_count": null,
   "id": "c53279a5",
   "metadata": {},
   "outputs": [],
   "source": []
  }
 ],
 "metadata": {
  "kernelspec": {
   "display_name": "ML",
   "language": "python",
   "name": "python3"
  },
  "language_info": {
   "codemirror_mode": {
    "name": "ipython",
    "version": 3
   },
   "file_extension": ".py",
   "mimetype": "text/x-python",
   "name": "python",
   "nbconvert_exporter": "python",
   "pygments_lexer": "ipython3",
   "version": "3.12.9"
  }
 },
 "nbformat": 4,
 "nbformat_minor": 5
}
