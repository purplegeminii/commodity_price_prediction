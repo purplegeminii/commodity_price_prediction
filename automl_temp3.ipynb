{
 "cells": [
  {
   "cell_type": "code",
   "execution_count": 1,
   "id": "36bd8e90",
   "metadata": {},
   "outputs": [
    {
     "name": "stderr",
     "output_type": "stream",
     "text": [
      "/opt/anaconda3/envs/automl/lib/python3.12/site-packages/tqdm/auto.py:21: TqdmWarning: IProgress not found. Please update jupyter and ipywidgets. See https://ipywidgets.readthedocs.io/en/stable/user_install.html\n",
      "  from .autonotebook import tqdm as notebook_tqdm\n",
      "Warning: path already exists! This predictor may overwrite an existing predictor! path=\"autogluon_models/Crude_Oil_Brent_Price\"\n",
      "Beginning AutoGluon training...\n",
      "AutoGluon will save models to '/Users/purplegeminii/Desktop/Undergraduate Thesis/commodity_price_prediction/autogluon_models/Crude_Oil_Brent_Price'\n"
     ]
    },
    {
     "name": "stdout",
     "output_type": "stream",
     "text": [
      "\n",
      "=== Processing Crude Oil Brent Price ===\n"
     ]
    },
    {
     "name": "stderr",
     "output_type": "stream",
     "text": [
      "=================== System Info ===================\n",
      "AutoGluon Version:  1.2\n",
      "Python Version:     3.12.9\n",
      "Operating System:   Darwin\n",
      "Platform Machine:   arm64\n",
      "Platform Version:   Darwin Kernel Version 24.1.0: Thu Oct 10 21:06:57 PDT 2024; root:xnu-11215.41.3~3/RELEASE_ARM64_T6041\n",
      "CPU Count:          14\n",
      "GPU Count:          0\n",
      "Memory Avail:       6.34 GB / 24.00 GB (26.4%)\n",
      "Disk Space Avail:   222.51 GB / 460.43 GB (48.3%)\n",
      "===================================================\n",
      "Setting presets to: medium_quality\n",
      "\n",
      "Fitting with arguments:\n",
      "{'enable_ensemble': True,\n",
      " 'eval_metric': RMSE,\n",
      " 'hyperparameters': {'DLinearModel': {},\n",
      "                     'DeepARModel': {'num_layers': 4},\n",
      "                     'PatchTSTModel': {},\n",
      "                     'SimpleFeedForwardModel': {'hidden_dimensions': [256,\n",
      "                                                                      128]},\n",
      "                     'TemporalFusionTransformerModel': {},\n",
      "                     'TiDEModel': {},\n",
      "                     'WaveNetModel': {}},\n",
      " 'known_covariates_names': [],\n",
      " 'num_val_windows': 3,\n",
      " 'prediction_length': 12,\n",
      " 'quantile_levels': [0.1, 0.2, 0.3, 0.4, 0.5, 0.6, 0.7, 0.8, 0.9],\n",
      " 'random_seed': 123,\n",
      " 'refit_every_n_windows': 1,\n",
      " 'refit_full': False,\n",
      " 'skip_model_selection': False,\n",
      " 'target': 'Crude Oil Brent Price',\n",
      " 'verbosity': 2}\n",
      "\n",
      "Inferred time series frequency: 'MS'\n",
      "Provided train_data has 396 rows, 1 time series. Median time series length is 396 (min=396, max=396). \n",
      "\n",
      "Provided data contains following columns:\n",
      "\ttarget: 'Crude Oil Brent Price'\n",
      "\tpast_covariates:\n",
      "\t\tcategorical:        []\n",
      "\t\tcontinuous (float): ['Revenue, exc...ts (% of GDP)', 'GDP (constant 2015 US$)', 'Employment t...15+, total %)', 'Crude Oil Brent Price_3mo_ma', 'Crude Oil Br...Price_12mo_ma', 'Cocoa Price_3mo_ma', ...]\n",
      "\n",
      "To learn how to fix incorrectly inferred types, please see documentation for TimeSeriesPredictor.fit\n",
      "\n",
      "AutoGluon will gauge predictive performance using evaluation metric: 'RMSE'\n",
      "\tThis metric's sign has been flipped to adhere to being higher_is_better. The metric score can be multiplied by -1 to get the metric value.\n",
      "===================================================\n",
      "\n",
      "Starting training. Start time is 2025-04-28 14:36:38\n",
      "Models that will be trained: ['TemporalFusionTransformer', 'DeepAR', 'PatchTST', 'TiDE', 'WaveNet', 'SimpleFeedForward', 'DLinear']\n",
      "Training timeseries model TemporalFusionTransformer. \n",
      "\t-28.1686      = Validation score (-RMSE)\n",
      "\t86.45   s     = Training runtime\n",
      "\t0.01    s     = Validation (prediction) runtime\n",
      "Training timeseries model DeepAR. \n",
      "\t-10.9243      = Validation score (-RMSE)\n",
      "\t116.12  s     = Training runtime\n",
      "\t0.02    s     = Validation (prediction) runtime\n",
      "Training timeseries model PatchTST. \n",
      "\t-14.2113      = Validation score (-RMSE)\n",
      "\t38.51   s     = Training runtime\n",
      "\t0.00    s     = Validation (prediction) runtime\n",
      "Training timeseries model TiDE. \n",
      "\t-10.5793      = Validation score (-RMSE)\n",
      "\t42.96   s     = Training runtime\n",
      "\t0.00    s     = Validation (prediction) runtime\n",
      "Training timeseries model WaveNet. \n",
      "\t-16.3121      = Validation score (-RMSE)\n",
      "\t225.62  s     = Training runtime\n",
      "\t0.38    s     = Validation (prediction) runtime\n",
      "Training timeseries model SimpleFeedForward. \n",
      "\t-14.1260      = Validation score (-RMSE)\n",
      "\t18.98   s     = Training runtime\n",
      "\t0.00    s     = Validation (prediction) runtime\n",
      "Training timeseries model DLinear. \n",
      "\t-9.7534       = Validation score (-RMSE)\n",
      "\t7.33    s     = Training runtime\n",
      "\t0.00    s     = Validation (prediction) runtime\n",
      "Fitting simple weighted ensemble.\n",
      "\tEnsemble weights: {'DLinear': 0.18, 'DeepAR': 0.4, 'TiDE': 0.42}\n",
      "\t-8.9768       = Validation score (-RMSE)\n",
      "\t0.47    s     = Training runtime\n",
      "\t0.03    s     = Validation (prediction) runtime\n",
      "Training complete. Models trained: ['TemporalFusionTransformer', 'DeepAR', 'PatchTST', 'TiDE', 'WaveNet', 'SimpleFeedForward', 'DLinear', 'WeightedEnsemble']\n",
      "Total runtime: 536.93 s\n",
      "Best model: WeightedEnsemble\n",
      "Best model score: -8.9768\n",
      "Model not specified in predict, will default to the model with the best validation score: WeightedEnsemble\n"
     ]
    },
    {
     "data": {
      "application/vnd.plotly.v1+json": {
       "config": {
        "plotlyServerURL": "https://plot.ly"
       },
       "data": [
        {
         "line": {
          "color": "blue"
         },
         "name": "Training Data",
         "type": "scatter",
         "x": [
          "1991-01-01T00:00:00.000000000",
          "1991-02-01T00:00:00.000000000",
          "1991-03-01T00:00:00.000000000",
          "1991-04-01T00:00:00.000000000",
          "1991-05-01T00:00:00.000000000",
          "1991-06-01T00:00:00.000000000",
          "1991-07-01T00:00:00.000000000",
          "1991-08-01T00:00:00.000000000",
          "1991-09-01T00:00:00.000000000",
          "1991-10-01T00:00:00.000000000",
          "1991-11-01T00:00:00.000000000",
          "1991-12-01T00:00:00.000000000",
          "1992-01-01T00:00:00.000000000",
          "1992-02-01T00:00:00.000000000",
          "1992-03-01T00:00:00.000000000",
          "1992-04-01T00:00:00.000000000",
          "1992-05-01T00:00:00.000000000",
          "1992-06-01T00:00:00.000000000",
          "1992-07-01T00:00:00.000000000",
          "1992-08-01T00:00:00.000000000",
          "1992-09-01T00:00:00.000000000",
          "1992-10-01T00:00:00.000000000",
          "1992-11-01T00:00:00.000000000",
          "1992-12-01T00:00:00.000000000",
          "1993-01-01T00:00:00.000000000",
          "1993-02-01T00:00:00.000000000",
          "1993-03-01T00:00:00.000000000",
          "1993-04-01T00:00:00.000000000",
          "1993-05-01T00:00:00.000000000",
          "1993-06-01T00:00:00.000000000",
          "1993-07-01T00:00:00.000000000",
          "1993-08-01T00:00:00.000000000",
          "1993-09-01T00:00:00.000000000",
          "1993-10-01T00:00:00.000000000",
          "1993-11-01T00:00:00.000000000",
          "1993-12-01T00:00:00.000000000",
          "1994-01-01T00:00:00.000000000",
          "1994-02-01T00:00:00.000000000",
          "1994-03-01T00:00:00.000000000",
          "1994-04-01T00:00:00.000000000",
          "1994-05-01T00:00:00.000000000",
          "1994-06-01T00:00:00.000000000",
          "1994-07-01T00:00:00.000000000",
          "1994-08-01T00:00:00.000000000",
          "1994-09-01T00:00:00.000000000",
          "1994-10-01T00:00:00.000000000",
          "1994-11-01T00:00:00.000000000",
          "1994-12-01T00:00:00.000000000",
          "1995-01-01T00:00:00.000000000",
          "1995-02-01T00:00:00.000000000",
          "1995-03-01T00:00:00.000000000",
          "1995-04-01T00:00:00.000000000",
          "1995-05-01T00:00:00.000000000",
          "1995-06-01T00:00:00.000000000",
          "1995-07-01T00:00:00.000000000",
          "1995-08-01T00:00:00.000000000",
          "1995-09-01T00:00:00.000000000",
          "1995-10-01T00:00:00.000000000",
          "1995-11-01T00:00:00.000000000",
          "1995-12-01T00:00:00.000000000",
          "1996-01-01T00:00:00.000000000",
          "1996-02-01T00:00:00.000000000",
          "1996-03-01T00:00:00.000000000",
          "1996-04-01T00:00:00.000000000",
          "1996-05-01T00:00:00.000000000",
          "1996-06-01T00:00:00.000000000",
          "1996-07-01T00:00:00.000000000",
          "1996-08-01T00:00:00.000000000",
          "1996-09-01T00:00:00.000000000",
          "1996-10-01T00:00:00.000000000",
          "1996-11-01T00:00:00.000000000",
          "1996-12-01T00:00:00.000000000",
          "1997-01-01T00:00:00.000000000",
          "1997-02-01T00:00:00.000000000",
          "1997-03-01T00:00:00.000000000",
          "1997-04-01T00:00:00.000000000",
          "1997-05-01T00:00:00.000000000",
          "1997-06-01T00:00:00.000000000",
          "1997-07-01T00:00:00.000000000",
          "1997-08-01T00:00:00.000000000",
          "1997-09-01T00:00:00.000000000",
          "1997-10-01T00:00:00.000000000",
          "1997-11-01T00:00:00.000000000",
          "1997-12-01T00:00:00.000000000",
          "1998-01-01T00:00:00.000000000",
          "1998-02-01T00:00:00.000000000",
          "1998-03-01T00:00:00.000000000",
          "1998-04-01T00:00:00.000000000",
          "1998-05-01T00:00:00.000000000",
          "1998-06-01T00:00:00.000000000",
          "1998-07-01T00:00:00.000000000",
          "1998-08-01T00:00:00.000000000",
          "1998-09-01T00:00:00.000000000",
          "1998-10-01T00:00:00.000000000",
          "1998-11-01T00:00:00.000000000",
          "1998-12-01T00:00:00.000000000",
          "1999-01-01T00:00:00.000000000",
          "1999-02-01T00:00:00.000000000",
          "1999-03-01T00:00:00.000000000",
          "1999-04-01T00:00:00.000000000",
          "1999-05-01T00:00:00.000000000",
          "1999-06-01T00:00:00.000000000",
          "1999-07-01T00:00:00.000000000",
          "1999-08-01T00:00:00.000000000",
          "1999-09-01T00:00:00.000000000",
          "1999-10-01T00:00:00.000000000",
          "1999-11-01T00:00:00.000000000",
          "1999-12-01T00:00:00.000000000",
          "2000-01-01T00:00:00.000000000",
          "2000-02-01T00:00:00.000000000",
          "2000-03-01T00:00:00.000000000",
          "2000-04-01T00:00:00.000000000",
          "2000-05-01T00:00:00.000000000",
          "2000-06-01T00:00:00.000000000",
          "2000-07-01T00:00:00.000000000",
          "2000-08-01T00:00:00.000000000",
          "2000-09-01T00:00:00.000000000",
          "2000-10-01T00:00:00.000000000",
          "2000-11-01T00:00:00.000000000",
          "2000-12-01T00:00:00.000000000",
          "2001-01-01T00:00:00.000000000",
          "2001-02-01T00:00:00.000000000",
          "2001-03-01T00:00:00.000000000",
          "2001-04-01T00:00:00.000000000",
          "2001-05-01T00:00:00.000000000",
          "2001-06-01T00:00:00.000000000",
          "2001-07-01T00:00:00.000000000",
          "2001-08-01T00:00:00.000000000",
          "2001-09-01T00:00:00.000000000",
          "2001-10-01T00:00:00.000000000",
          "2001-11-01T00:00:00.000000000",
          "2001-12-01T00:00:00.000000000",
          "2002-01-01T00:00:00.000000000",
          "2002-02-01T00:00:00.000000000",
          "2002-03-01T00:00:00.000000000",
          "2002-04-01T00:00:00.000000000",
          "2002-05-01T00:00:00.000000000",
          "2002-06-01T00:00:00.000000000",
          "2002-07-01T00:00:00.000000000",
          "2002-08-01T00:00:00.000000000",
          "2002-09-01T00:00:00.000000000",
          "2002-10-01T00:00:00.000000000",
          "2002-11-01T00:00:00.000000000",
          "2002-12-01T00:00:00.000000000",
          "2003-01-01T00:00:00.000000000",
          "2003-02-01T00:00:00.000000000",
          "2003-03-01T00:00:00.000000000",
          "2003-04-01T00:00:00.000000000",
          "2003-05-01T00:00:00.000000000",
          "2003-06-01T00:00:00.000000000",
          "2003-07-01T00:00:00.000000000",
          "2003-08-01T00:00:00.000000000",
          "2003-09-01T00:00:00.000000000",
          "2003-10-01T00:00:00.000000000",
          "2003-11-01T00:00:00.000000000",
          "2003-12-01T00:00:00.000000000",
          "2004-01-01T00:00:00.000000000",
          "2004-02-01T00:00:00.000000000",
          "2004-03-01T00:00:00.000000000",
          "2004-04-01T00:00:00.000000000",
          "2004-05-01T00:00:00.000000000",
          "2004-06-01T00:00:00.000000000",
          "2004-07-01T00:00:00.000000000",
          "2004-08-01T00:00:00.000000000",
          "2004-09-01T00:00:00.000000000",
          "2004-10-01T00:00:00.000000000",
          "2004-11-01T00:00:00.000000000",
          "2004-12-01T00:00:00.000000000",
          "2005-01-01T00:00:00.000000000",
          "2005-02-01T00:00:00.000000000",
          "2005-03-01T00:00:00.000000000",
          "2005-04-01T00:00:00.000000000",
          "2005-05-01T00:00:00.000000000",
          "2005-06-01T00:00:00.000000000",
          "2005-07-01T00:00:00.000000000",
          "2005-08-01T00:00:00.000000000",
          "2005-09-01T00:00:00.000000000",
          "2005-10-01T00:00:00.000000000",
          "2005-11-01T00:00:00.000000000",
          "2005-12-01T00:00:00.000000000",
          "2006-01-01T00:00:00.000000000",
          "2006-02-01T00:00:00.000000000",
          "2006-03-01T00:00:00.000000000",
          "2006-04-01T00:00:00.000000000",
          "2006-05-01T00:00:00.000000000",
          "2006-06-01T00:00:00.000000000",
          "2006-07-01T00:00:00.000000000",
          "2006-08-01T00:00:00.000000000",
          "2006-09-01T00:00:00.000000000",
          "2006-10-01T00:00:00.000000000",
          "2006-11-01T00:00:00.000000000",
          "2006-12-01T00:00:00.000000000",
          "2007-01-01T00:00:00.000000000",
          "2007-02-01T00:00:00.000000000",
          "2007-03-01T00:00:00.000000000",
          "2007-04-01T00:00:00.000000000",
          "2007-05-01T00:00:00.000000000",
          "2007-06-01T00:00:00.000000000",
          "2007-07-01T00:00:00.000000000",
          "2007-08-01T00:00:00.000000000",
          "2007-09-01T00:00:00.000000000",
          "2007-10-01T00:00:00.000000000",
          "2007-11-01T00:00:00.000000000",
          "2007-12-01T00:00:00.000000000",
          "2008-01-01T00:00:00.000000000",
          "2008-02-01T00:00:00.000000000",
          "2008-03-01T00:00:00.000000000",
          "2008-04-01T00:00:00.000000000",
          "2008-05-01T00:00:00.000000000",
          "2008-06-01T00:00:00.000000000",
          "2008-07-01T00:00:00.000000000",
          "2008-08-01T00:00:00.000000000",
          "2008-09-01T00:00:00.000000000",
          "2008-10-01T00:00:00.000000000",
          "2008-11-01T00:00:00.000000000",
          "2008-12-01T00:00:00.000000000",
          "2009-01-01T00:00:00.000000000",
          "2009-02-01T00:00:00.000000000",
          "2009-03-01T00:00:00.000000000",
          "2009-04-01T00:00:00.000000000",
          "2009-05-01T00:00:00.000000000",
          "2009-06-01T00:00:00.000000000",
          "2009-07-01T00:00:00.000000000",
          "2009-08-01T00:00:00.000000000",
          "2009-09-01T00:00:00.000000000",
          "2009-10-01T00:00:00.000000000",
          "2009-11-01T00:00:00.000000000",
          "2009-12-01T00:00:00.000000000",
          "2010-01-01T00:00:00.000000000",
          "2010-02-01T00:00:00.000000000",
          "2010-03-01T00:00:00.000000000",
          "2010-04-01T00:00:00.000000000",
          "2010-05-01T00:00:00.000000000",
          "2010-06-01T00:00:00.000000000",
          "2010-07-01T00:00:00.000000000",
          "2010-08-01T00:00:00.000000000",
          "2010-09-01T00:00:00.000000000",
          "2010-10-01T00:00:00.000000000",
          "2010-11-01T00:00:00.000000000",
          "2010-12-01T00:00:00.000000000",
          "2011-01-01T00:00:00.000000000",
          "2011-02-01T00:00:00.000000000",
          "2011-03-01T00:00:00.000000000",
          "2011-04-01T00:00:00.000000000",
          "2011-05-01T00:00:00.000000000",
          "2011-06-01T00:00:00.000000000",
          "2011-07-01T00:00:00.000000000",
          "2011-08-01T00:00:00.000000000",
          "2011-09-01T00:00:00.000000000",
          "2011-10-01T00:00:00.000000000",
          "2011-11-01T00:00:00.000000000",
          "2011-12-01T00:00:00.000000000",
          "2012-01-01T00:00:00.000000000",
          "2012-02-01T00:00:00.000000000",
          "2012-03-01T00:00:00.000000000",
          "2012-04-01T00:00:00.000000000",
          "2012-05-01T00:00:00.000000000",
          "2012-06-01T00:00:00.000000000",
          "2012-07-01T00:00:00.000000000",
          "2012-08-01T00:00:00.000000000",
          "2012-09-01T00:00:00.000000000",
          "2012-10-01T00:00:00.000000000",
          "2012-11-01T00:00:00.000000000",
          "2012-12-01T00:00:00.000000000",
          "2013-01-01T00:00:00.000000000",
          "2013-02-01T00:00:00.000000000",
          "2013-03-01T00:00:00.000000000",
          "2013-04-01T00:00:00.000000000",
          "2013-05-01T00:00:00.000000000",
          "2013-06-01T00:00:00.000000000",
          "2013-07-01T00:00:00.000000000",
          "2013-08-01T00:00:00.000000000",
          "2013-09-01T00:00:00.000000000",
          "2013-10-01T00:00:00.000000000",
          "2013-11-01T00:00:00.000000000",
          "2013-12-01T00:00:00.000000000",
          "2014-01-01T00:00:00.000000000",
          "2014-02-01T00:00:00.000000000",
          "2014-03-01T00:00:00.000000000",
          "2014-04-01T00:00:00.000000000",
          "2014-05-01T00:00:00.000000000",
          "2014-06-01T00:00:00.000000000",
          "2014-07-01T00:00:00.000000000",
          "2014-08-01T00:00:00.000000000",
          "2014-09-01T00:00:00.000000000",
          "2014-10-01T00:00:00.000000000",
          "2014-11-01T00:00:00.000000000",
          "2014-12-01T00:00:00.000000000",
          "2015-01-01T00:00:00.000000000",
          "2015-02-01T00:00:00.000000000",
          "2015-03-01T00:00:00.000000000",
          "2015-04-01T00:00:00.000000000",
          "2015-05-01T00:00:00.000000000",
          "2015-06-01T00:00:00.000000000",
          "2015-07-01T00:00:00.000000000",
          "2015-08-01T00:00:00.000000000",
          "2015-09-01T00:00:00.000000000",
          "2015-10-01T00:00:00.000000000",
          "2015-11-01T00:00:00.000000000",
          "2015-12-01T00:00:00.000000000",
          "2016-01-01T00:00:00.000000000",
          "2016-02-01T00:00:00.000000000",
          "2016-03-01T00:00:00.000000000",
          "2016-04-01T00:00:00.000000000",
          "2016-05-01T00:00:00.000000000",
          "2016-06-01T00:00:00.000000000",
          "2016-07-01T00:00:00.000000000",
          "2016-08-01T00:00:00.000000000",
          "2016-09-01T00:00:00.000000000",
          "2016-10-01T00:00:00.000000000",
          "2016-11-01T00:00:00.000000000",
          "2016-12-01T00:00:00.000000000",
          "2017-01-01T00:00:00.000000000",
          "2017-02-01T00:00:00.000000000",
          "2017-03-01T00:00:00.000000000",
          "2017-04-01T00:00:00.000000000",
          "2017-05-01T00:00:00.000000000",
          "2017-06-01T00:00:00.000000000",
          "2017-07-01T00:00:00.000000000",
          "2017-08-01T00:00:00.000000000",
          "2017-09-01T00:00:00.000000000",
          "2017-10-01T00:00:00.000000000",
          "2017-11-01T00:00:00.000000000",
          "2017-12-01T00:00:00.000000000",
          "2018-01-01T00:00:00.000000000",
          "2018-02-01T00:00:00.000000000",
          "2018-03-01T00:00:00.000000000",
          "2018-04-01T00:00:00.000000000",
          "2018-05-01T00:00:00.000000000",
          "2018-06-01T00:00:00.000000000",
          "2018-07-01T00:00:00.000000000",
          "2018-08-01T00:00:00.000000000",
          "2018-09-01T00:00:00.000000000",
          "2018-10-01T00:00:00.000000000",
          "2018-11-01T00:00:00.000000000",
          "2018-12-01T00:00:00.000000000",
          "2019-01-01T00:00:00.000000000",
          "2019-02-01T00:00:00.000000000",
          "2019-03-01T00:00:00.000000000",
          "2019-04-01T00:00:00.000000000",
          "2019-05-01T00:00:00.000000000",
          "2019-06-01T00:00:00.000000000",
          "2019-07-01T00:00:00.000000000",
          "2019-08-01T00:00:00.000000000",
          "2019-09-01T00:00:00.000000000",
          "2019-10-01T00:00:00.000000000",
          "2019-11-01T00:00:00.000000000",
          "2019-12-01T00:00:00.000000000",
          "2020-01-01T00:00:00.000000000",
          "2020-02-01T00:00:00.000000000",
          "2020-03-01T00:00:00.000000000",
          "2020-04-01T00:00:00.000000000",
          "2020-05-01T00:00:00.000000000",
          "2020-06-01T00:00:00.000000000",
          "2020-07-01T00:00:00.000000000",
          "2020-08-01T00:00:00.000000000",
          "2020-09-01T00:00:00.000000000",
          "2020-10-01T00:00:00.000000000",
          "2020-11-01T00:00:00.000000000",
          "2020-12-01T00:00:00.000000000",
          "2021-01-01T00:00:00.000000000",
          "2021-02-01T00:00:00.000000000",
          "2021-03-01T00:00:00.000000000",
          "2021-04-01T00:00:00.000000000",
          "2021-05-01T00:00:00.000000000",
          "2021-06-01T00:00:00.000000000",
          "2021-07-01T00:00:00.000000000",
          "2021-08-01T00:00:00.000000000",
          "2021-09-01T00:00:00.000000000",
          "2021-10-01T00:00:00.000000000",
          "2021-11-01T00:00:00.000000000",
          "2021-12-01T00:00:00.000000000",
          "2022-01-01T00:00:00.000000000",
          "2022-02-01T00:00:00.000000000",
          "2022-03-01T00:00:00.000000000",
          "2022-04-01T00:00:00.000000000",
          "2022-05-01T00:00:00.000000000",
          "2022-06-01T00:00:00.000000000",
          "2022-07-01T00:00:00.000000000",
          "2022-08-01T00:00:00.000000000",
          "2022-09-01T00:00:00.000000000",
          "2022-10-01T00:00:00.000000000",
          "2022-11-01T00:00:00.000000000",
          "2022-12-01T00:00:00.000000000",
          "2023-01-01T00:00:00.000000000",
          "2023-02-01T00:00:00.000000000",
          "2023-03-01T00:00:00.000000000",
          "2023-04-01T00:00:00.000000000",
          "2023-05-01T00:00:00.000000000",
          "2023-06-01T00:00:00.000000000",
          "2023-07-01T00:00:00.000000000",
          "2023-08-01T00:00:00.000000000",
          "2023-09-01T00:00:00.000000000",
          "2023-10-01T00:00:00.000000000",
          "2023-11-01T00:00:00.000000000",
          "2023-12-01T00:00:00.000000000"
         ],
         "y": {
          "bdata": "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",
          "dtype": "f8"
         }
        },
        {
         "line": {
          "color": "green"
         },
         "name": "Actual Test Values",
         "type": "scatter",
         "x": [
          "2024-01-01T00:00:00.000000000",
          "2024-02-01T00:00:00.000000000",
          "2024-03-01T00:00:00.000000000",
          "2024-04-01T00:00:00.000000000",
          "2024-05-01T00:00:00.000000000",
          "2024-06-01T00:00:00.000000000",
          "2024-07-01T00:00:00.000000000",
          "2024-08-01T00:00:00.000000000",
          "2024-09-01T00:00:00.000000000",
          "2024-10-01T00:00:00.000000000",
          "2024-11-01T00:00:00.000000000",
          "2024-12-01T00:00:00.000000000"
         ],
         "y": {
          "bdata": "SgwCK4cOVEA3iUFg5fBUQPhT46WbXFVA+n5qvHSDVkBI4XoUrn9UQOxRuB6Fo1RAbef7qfFSVUCsHFpkOzdUQJhuEoPAklJA7nw/NV7qUkDhehSuR5lSQFpkO99PdVJA",
          "dtype": "f8"
         }
        },
        {
         "line": {
          "color": "red"
         },
         "name": "Forecast",
         "type": "scatter",
         "x": [
          "2024-01-31T00:00:00.000000000",
          "2024-02-29T00:00:00.000000000",
          "2024-03-31T00:00:00.000000000",
          "2024-04-30T00:00:00.000000000",
          "2024-05-31T00:00:00.000000000",
          "2024-06-30T00:00:00.000000000",
          "2024-07-31T00:00:00.000000000",
          "2024-08-31T00:00:00.000000000",
          "2024-09-30T00:00:00.000000000",
          "2024-10-31T00:00:00.000000000",
          "2024-11-30T00:00:00.000000000",
          "2024-12-31T00:00:00.000000000"
         ],
         "y": {
          "bdata": "xhhjIBy2VEAYY4zpZoxUQK611oaNw1RAjDHGwKtUVUB8773fSPVUQCGEEG485FRAIYQQllwgVkCutdZS9D9WQHzvveuG41VA55xzulpGVkBCCCHIs/tVQGuttfK511ZA",
          "dtype": "f8"
         }
        },
        {
         "fill": "toself",
         "fillcolor": "rgba(255,0,0,0.2)",
         "line": {
          "color": "rgba(255,255,255,0)"
         },
         "name": "80% Confidence",
         "type": "scatter",
         "x": [
          "2024-01-31T00:00:00",
          "2024-02-29T00:00:00",
          "2024-03-31T00:00:00",
          "2024-04-30T00:00:00",
          "2024-05-31T00:00:00",
          "2024-06-30T00:00:00",
          "2024-07-31T00:00:00",
          "2024-08-31T00:00:00",
          "2024-09-30T00:00:00",
          "2024-10-31T00:00:00",
          "2024-11-30T00:00:00",
          "2024-12-31T00:00:00",
          "2024-12-31T00:00:00",
          "2024-11-30T00:00:00",
          "2024-10-31T00:00:00",
          "2024-09-30T00:00:00",
          "2024-08-31T00:00:00",
          "2024-07-31T00:00:00",
          "2024-06-30T00:00:00",
          "2024-05-31T00:00:00",
          "2024-04-30T00:00:00",
          "2024-03-31T00:00:00",
          "2024-02-29T00:00:00",
          "2024-01-31T00:00:00"
         ],
         "y": [
          91.51864128728067,
          92.19374859717584,
          93.71300595806491,
          97.54378411077684,
          96.11670192595452,
          96.21703384768578,
          101.39787172502086,
          104.81246862103862,
          104.97372295010473,
          109.3475058155675,
          111.950104805731,
          116.98284419890373,
          67.9966541105701,
          64.25946066456456,
          70.09790349775744,
          70.84517079014933,
          72.69652446623772,
          75.80683385172198,
          71.40979508430726,
          71.65852851252401,
          73.12998663994574,
          72.51108880196848,
          72.25907624152399,
          74.47795840232602
         ]
        }
       ],
       "layout": {
        "hovermode": "x unified",
        "template": {
         "data": {
          "bar": [
           {
            "error_x": {
             "color": "#2a3f5f"
            },
            "error_y": {
             "color": "#2a3f5f"
            },
            "marker": {
             "line": {
              "color": "white",
              "width": 0.5
             },
             "pattern": {
              "fillmode": "overlay",
              "size": 10,
              "solidity": 0.2
             }
            },
            "type": "bar"
           }
          ],
          "barpolar": [
           {
            "marker": {
             "line": {
              "color": "white",
              "width": 0.5
             },
             "pattern": {
              "fillmode": "overlay",
              "size": 10,
              "solidity": 0.2
             }
            },
            "type": "barpolar"
           }
          ],
          "carpet": [
           {
            "aaxis": {
             "endlinecolor": "#2a3f5f",
             "gridcolor": "#C8D4E3",
             "linecolor": "#C8D4E3",
             "minorgridcolor": "#C8D4E3",
             "startlinecolor": "#2a3f5f"
            },
            "baxis": {
             "endlinecolor": "#2a3f5f",
             "gridcolor": "#C8D4E3",
             "linecolor": "#C8D4E3",
             "minorgridcolor": "#C8D4E3",
             "startlinecolor": "#2a3f5f"
            },
            "type": "carpet"
           }
          ],
          "choropleth": [
           {
            "colorbar": {
             "outlinewidth": 0,
             "ticks": ""
            },
            "type": "choropleth"
           }
          ],
          "contour": [
           {
            "colorbar": {
             "outlinewidth": 0,
             "ticks": ""
            },
            "colorscale": [
             [
              0,
              "#0d0887"
             ],
             [
              0.1111111111111111,
              "#46039f"
             ],
             [
              0.2222222222222222,
              "#7201a8"
             ],
             [
              0.3333333333333333,
              "#9c179e"
             ],
             [
              0.4444444444444444,
              "#bd3786"
             ],
             [
              0.5555555555555556,
              "#d8576b"
             ],
             [
              0.6666666666666666,
              "#ed7953"
             ],
             [
              0.7777777777777778,
              "#fb9f3a"
             ],
             [
              0.8888888888888888,
              "#fdca26"
             ],
             [
              1,
              "#f0f921"
             ]
            ],
            "type": "contour"
           }
          ],
          "contourcarpet": [
           {
            "colorbar": {
             "outlinewidth": 0,
             "ticks": ""
            },
            "type": "contourcarpet"
           }
          ],
          "heatmap": [
           {
            "colorbar": {
             "outlinewidth": 0,
             "ticks": ""
            },
            "colorscale": [
             [
              0,
              "#0d0887"
             ],
             [
              0.1111111111111111,
              "#46039f"
             ],
             [
              0.2222222222222222,
              "#7201a8"
             ],
             [
              0.3333333333333333,
              "#9c179e"
             ],
             [
              0.4444444444444444,
              "#bd3786"
             ],
             [
              0.5555555555555556,
              "#d8576b"
             ],
             [
              0.6666666666666666,
              "#ed7953"
             ],
             [
              0.7777777777777778,
              "#fb9f3a"
             ],
             [
              0.8888888888888888,
              "#fdca26"
             ],
             [
              1,
              "#f0f921"
             ]
            ],
            "type": "heatmap"
           }
          ],
          "histogram": [
           {
            "marker": {
             "pattern": {
              "fillmode": "overlay",
              "size": 10,
              "solidity": 0.2
             }
            },
            "type": "histogram"
           }
          ],
          "histogram2d": [
           {
            "colorbar": {
             "outlinewidth": 0,
             "ticks": ""
            },
            "colorscale": [
             [
              0,
              "#0d0887"
             ],
             [
              0.1111111111111111,
              "#46039f"
             ],
             [
              0.2222222222222222,
              "#7201a8"
             ],
             [
              0.3333333333333333,
              "#9c179e"
             ],
             [
              0.4444444444444444,
              "#bd3786"
             ],
             [
              0.5555555555555556,
              "#d8576b"
             ],
             [
              0.6666666666666666,
              "#ed7953"
             ],
             [
              0.7777777777777778,
              "#fb9f3a"
             ],
             [
              0.8888888888888888,
              "#fdca26"
             ],
             [
              1,
              "#f0f921"
             ]
            ],
            "type": "histogram2d"
           }
          ],
          "histogram2dcontour": [
           {
            "colorbar": {
             "outlinewidth": 0,
             "ticks": ""
            },
            "colorscale": [
             [
              0,
              "#0d0887"
             ],
             [
              0.1111111111111111,
              "#46039f"
             ],
             [
              0.2222222222222222,
              "#7201a8"
             ],
             [
              0.3333333333333333,
              "#9c179e"
             ],
             [
              0.4444444444444444,
              "#bd3786"
             ],
             [
              0.5555555555555556,
              "#d8576b"
             ],
             [
              0.6666666666666666,
              "#ed7953"
             ],
             [
              0.7777777777777778,
              "#fb9f3a"
             ],
             [
              0.8888888888888888,
              "#fdca26"
             ],
             [
              1,
              "#f0f921"
             ]
            ],
            "type": "histogram2dcontour"
           }
          ],
          "mesh3d": [
           {
            "colorbar": {
             "outlinewidth": 0,
             "ticks": ""
            },
            "type": "mesh3d"
           }
          ],
          "parcoords": [
           {
            "line": {
             "colorbar": {
              "outlinewidth": 0,
              "ticks": ""
             }
            },
            "type": "parcoords"
           }
          ],
          "pie": [
           {
            "automargin": true,
            "type": "pie"
           }
          ],
          "scatter": [
           {
            "fillpattern": {
             "fillmode": "overlay",
             "size": 10,
             "solidity": 0.2
            },
            "type": "scatter"
           }
          ],
          "scatter3d": [
           {
            "line": {
             "colorbar": {
              "outlinewidth": 0,
              "ticks": ""
             }
            },
            "marker": {
             "colorbar": {
              "outlinewidth": 0,
              "ticks": ""
             }
            },
            "type": "scatter3d"
           }
          ],
          "scattercarpet": [
           {
            "marker": {
             "colorbar": {
              "outlinewidth": 0,
              "ticks": ""
             }
            },
            "type": "scattercarpet"
           }
          ],
          "scattergeo": [
           {
            "marker": {
             "colorbar": {
              "outlinewidth": 0,
              "ticks": ""
             }
            },
            "type": "scattergeo"
           }
          ],
          "scattergl": [
           {
            "marker": {
             "colorbar": {
              "outlinewidth": 0,
              "ticks": ""
             }
            },
            "type": "scattergl"
           }
          ],
          "scattermap": [
           {
            "marker": {
             "colorbar": {
              "outlinewidth": 0,
              "ticks": ""
             }
            },
            "type": "scattermap"
           }
          ],
          "scattermapbox": [
           {
            "marker": {
             "colorbar": {
              "outlinewidth": 0,
              "ticks": ""
             }
            },
            "type": "scattermapbox"
           }
          ],
          "scatterpolar": [
           {
            "marker": {
             "colorbar": {
              "outlinewidth": 0,
              "ticks": ""
             }
            },
            "type": "scatterpolar"
           }
          ],
          "scatterpolargl": [
           {
            "marker": {
             "colorbar": {
              "outlinewidth": 0,
              "ticks": ""
             }
            },
            "type": "scatterpolargl"
           }
          ],
          "scatterternary": [
           {
            "marker": {
             "colorbar": {
              "outlinewidth": 0,
              "ticks": ""
             }
            },
            "type": "scatterternary"
           }
          ],
          "surface": [
           {
            "colorbar": {
             "outlinewidth": 0,
             "ticks": ""
            },
            "colorscale": [
             [
              0,
              "#0d0887"
             ],
             [
              0.1111111111111111,
              "#46039f"
             ],
             [
              0.2222222222222222,
              "#7201a8"
             ],
             [
              0.3333333333333333,
              "#9c179e"
             ],
             [
              0.4444444444444444,
              "#bd3786"
             ],
             [
              0.5555555555555556,
              "#d8576b"
             ],
             [
              0.6666666666666666,
              "#ed7953"
             ],
             [
              0.7777777777777778,
              "#fb9f3a"
             ],
             [
              0.8888888888888888,
              "#fdca26"
             ],
             [
              1,
              "#f0f921"
             ]
            ],
            "type": "surface"
           }
          ],
          "table": [
           {
            "cells": {
             "fill": {
              "color": "#EBF0F8"
             },
             "line": {
              "color": "white"
             }
            },
            "header": {
             "fill": {
              "color": "#C8D4E3"
             },
             "line": {
              "color": "white"
             }
            },
            "type": "table"
           }
          ]
         },
         "layout": {
          "annotationdefaults": {
           "arrowcolor": "#2a3f5f",
           "arrowhead": 0,
           "arrowwidth": 1
          },
          "autotypenumbers": "strict",
          "coloraxis": {
           "colorbar": {
            "outlinewidth": 0,
            "ticks": ""
           }
          },
          "colorscale": {
           "diverging": [
            [
             0,
             "#8e0152"
            ],
            [
             0.1,
             "#c51b7d"
            ],
            [
             0.2,
             "#de77ae"
            ],
            [
             0.3,
             "#f1b6da"
            ],
            [
             0.4,
             "#fde0ef"
            ],
            [
             0.5,
             "#f7f7f7"
            ],
            [
             0.6,
             "#e6f5d0"
            ],
            [
             0.7,
             "#b8e186"
            ],
            [
             0.8,
             "#7fbc41"
            ],
            [
             0.9,
             "#4d9221"
            ],
            [
             1,
             "#276419"
            ]
           ],
           "sequential": [
            [
             0,
             "#0d0887"
            ],
            [
             0.1111111111111111,
             "#46039f"
            ],
            [
             0.2222222222222222,
             "#7201a8"
            ],
            [
             0.3333333333333333,
             "#9c179e"
            ],
            [
             0.4444444444444444,
             "#bd3786"
            ],
            [
             0.5555555555555556,
             "#d8576b"
            ],
            [
             0.6666666666666666,
             "#ed7953"
            ],
            [
             0.7777777777777778,
             "#fb9f3a"
            ],
            [
             0.8888888888888888,
             "#fdca26"
            ],
            [
             1,
             "#f0f921"
            ]
           ],
           "sequentialminus": [
            [
             0,
             "#0d0887"
            ],
            [
             0.1111111111111111,
             "#46039f"
            ],
            [
             0.2222222222222222,
             "#7201a8"
            ],
            [
             0.3333333333333333,
             "#9c179e"
            ],
            [
             0.4444444444444444,
             "#bd3786"
            ],
            [
             0.5555555555555556,
             "#d8576b"
            ],
            [
             0.6666666666666666,
             "#ed7953"
            ],
            [
             0.7777777777777778,
             "#fb9f3a"
            ],
            [
             0.8888888888888888,
             "#fdca26"
            ],
            [
             1,
             "#f0f921"
            ]
           ]
          },
          "colorway": [
           "#636efa",
           "#EF553B",
           "#00cc96",
           "#ab63fa",
           "#FFA15A",
           "#19d3f3",
           "#FF6692",
           "#B6E880",
           "#FF97FF",
           "#FECB52"
          ],
          "font": {
           "color": "#2a3f5f"
          },
          "geo": {
           "bgcolor": "white",
           "lakecolor": "white",
           "landcolor": "white",
           "showlakes": true,
           "showland": true,
           "subunitcolor": "#C8D4E3"
          },
          "hoverlabel": {
           "align": "left"
          },
          "hovermode": "closest",
          "mapbox": {
           "style": "light"
          },
          "paper_bgcolor": "white",
          "plot_bgcolor": "white",
          "polar": {
           "angularaxis": {
            "gridcolor": "#EBF0F8",
            "linecolor": "#EBF0F8",
            "ticks": ""
           },
           "bgcolor": "white",
           "radialaxis": {
            "gridcolor": "#EBF0F8",
            "linecolor": "#EBF0F8",
            "ticks": ""
           }
          },
          "scene": {
           "xaxis": {
            "backgroundcolor": "white",
            "gridcolor": "#DFE8F3",
            "gridwidth": 2,
            "linecolor": "#EBF0F8",
            "showbackground": true,
            "ticks": "",
            "zerolinecolor": "#EBF0F8"
           },
           "yaxis": {
            "backgroundcolor": "white",
            "gridcolor": "#DFE8F3",
            "gridwidth": 2,
            "linecolor": "#EBF0F8",
            "showbackground": true,
            "ticks": "",
            "zerolinecolor": "#EBF0F8"
           },
           "zaxis": {
            "backgroundcolor": "white",
            "gridcolor": "#DFE8F3",
            "gridwidth": 2,
            "linecolor": "#EBF0F8",
            "showbackground": true,
            "ticks": "",
            "zerolinecolor": "#EBF0F8"
           }
          },
          "shapedefaults": {
           "line": {
            "color": "#2a3f5f"
           }
          },
          "ternary": {
           "aaxis": {
            "gridcolor": "#DFE8F3",
            "linecolor": "#A2B1C6",
            "ticks": ""
           },
           "baxis": {
            "gridcolor": "#DFE8F3",
            "linecolor": "#A2B1C6",
            "ticks": ""
           },
           "bgcolor": "white",
           "caxis": {
            "gridcolor": "#DFE8F3",
            "linecolor": "#A2B1C6",
            "ticks": ""
           }
          },
          "title": {
           "x": 0.05
          },
          "xaxis": {
           "automargin": true,
           "gridcolor": "#EBF0F8",
           "linecolor": "#EBF0F8",
           "ticks": "",
           "title": {
            "standoff": 15
           },
           "zerolinecolor": "#EBF0F8",
           "zerolinewidth": 2
          },
          "yaxis": {
           "automargin": true,
           "gridcolor": "#EBF0F8",
           "linecolor": "#EBF0F8",
           "ticks": "",
           "title": {
            "standoff": 15
           },
           "zerolinecolor": "#EBF0F8",
           "zerolinewidth": 2
          }
         }
        },
        "title": {
         "text": "Crude Oil Brent Price Forecast vs Actual"
        },
        "xaxis": {
         "title": {
          "text": "Date"
         }
        },
        "yaxis": {
         "title": {
          "text": "Price"
         }
        }
       }
      }
     },
     "metadata": {},
     "output_type": "display_data"
    },
    {
     "name": "stderr",
     "output_type": "stream",
     "text": [
      "Warning: path already exists! This predictor may overwrite an existing predictor! path=\"autogluon_models/Cocoa_Price\"\n",
      "Beginning AutoGluon training...\n",
      "AutoGluon will save models to '/Users/purplegeminii/Desktop/Undergraduate Thesis/commodity_price_prediction/autogluon_models/Cocoa_Price'\n",
      "=================== System Info ===================\n",
      "AutoGluon Version:  1.2\n",
      "Python Version:     3.12.9\n",
      "Operating System:   Darwin\n",
      "Platform Machine:   arm64\n",
      "Platform Version:   Darwin Kernel Version 24.1.0: Thu Oct 10 21:06:57 PDT 2024; root:xnu-11215.41.3~3/RELEASE_ARM64_T6041\n",
      "CPU Count:          14\n",
      "GPU Count:          0\n",
      "Memory Avail:       6.33 GB / 24.00 GB (26.4%)\n",
      "Disk Space Avail:   222.52 GB / 460.43 GB (48.3%)\n",
      "===================================================\n",
      "Setting presets to: medium_quality\n",
      "\n",
      "Fitting with arguments:\n",
      "{'enable_ensemble': True,\n",
      " 'eval_metric': RMSE,\n",
      " 'hyperparameters': {'DLinearModel': {},\n",
      "                     'DeepARModel': {'num_layers': 4},\n",
      "                     'PatchTSTModel': {},\n",
      "                     'SimpleFeedForwardModel': {'hidden_dimensions': [256,\n",
      "                                                                      128]},\n",
      "                     'TemporalFusionTransformerModel': {},\n",
      "                     'TiDEModel': {},\n",
      "                     'WaveNetModel': {}},\n",
      " 'known_covariates_names': [],\n",
      " 'num_val_windows': 3,\n",
      " 'prediction_length': 12,\n",
      " 'quantile_levels': [0.1, 0.2, 0.3, 0.4, 0.5, 0.6, 0.7, 0.8, 0.9],\n",
      " 'random_seed': 123,\n",
      " 'refit_every_n_windows': 1,\n",
      " 'refit_full': False,\n",
      " 'skip_model_selection': False,\n",
      " 'target': 'Cocoa Price',\n",
      " 'verbosity': 2}\n",
      "\n",
      "Inferred time series frequency: 'MS'\n",
      "Provided train_data has 396 rows, 1 time series. Median time series length is 396 (min=396, max=396). \n",
      "\n",
      "Provided data contains following columns:\n",
      "\ttarget: 'Cocoa Price'\n",
      "\tpast_covariates:\n",
      "\t\tcategorical:        []\n",
      "\t\tcontinuous (float): ['Revenue, exc...ts (% of GDP)', 'GDP (constant 2015 US$)', 'Employment t...15+, total %)', 'Crude Oil Brent Price_3mo_ma', 'Crude Oil Br...Price_12mo_ma', 'Cocoa Price_3mo_ma', ...]\n",
      "\n",
      "To learn how to fix incorrectly inferred types, please see documentation for TimeSeriesPredictor.fit\n",
      "\n",
      "AutoGluon will gauge predictive performance using evaluation metric: 'RMSE'\n",
      "\tThis metric's sign has been flipped to adhere to being higher_is_better. The metric score can be multiplied by -1 to get the metric value.\n",
      "===================================================\n",
      "\n",
      "Starting training. Start time is 2025-04-28 14:45:35\n",
      "Models that will be trained: ['TemporalFusionTransformer', 'DeepAR', 'PatchTST', 'TiDE', 'WaveNet', 'SimpleFeedForward', 'DLinear']\n",
      "Training timeseries model TemporalFusionTransformer. \n"
     ]
    },
    {
     "name": "stdout",
     "output_type": "stream",
     "text": [
      "\n",
      "Crude Oil Brent Price Evaluation:\n",
      "best_model: WeightedEnsemble\n",
      "- MAE: 6.94\n",
      "- MAPE: 9.00%\n",
      "- RMSE: 8.97\n",
      "\n",
      "=== Processing Cocoa Price ===\n"
     ]
    },
    {
     "name": "stderr",
     "output_type": "stream",
     "text": [
      "\t-0.4218       = Validation score (-RMSE)\n",
      "\t143.23  s     = Training runtime\n",
      "\t0.01    s     = Validation (prediction) runtime\n",
      "Training timeseries model DeepAR. \n",
      "\t-0.3452       = Validation score (-RMSE)\n",
      "\t117.92  s     = Training runtime\n",
      "\t0.02    s     = Validation (prediction) runtime\n",
      "Training timeseries model PatchTST. \n",
      "\t-0.3948       = Validation score (-RMSE)\n",
      "\t40.20   s     = Training runtime\n",
      "\t0.00    s     = Validation (prediction) runtime\n",
      "Training timeseries model TiDE. \n",
      "\t-0.3544       = Validation score (-RMSE)\n",
      "\t54.39   s     = Training runtime\n",
      "\t0.00    s     = Validation (prediction) runtime\n",
      "Training timeseries model WaveNet. \n",
      "\t-0.3813       = Validation score (-RMSE)\n",
      "\t243.35  s     = Training runtime\n",
      "\t0.35    s     = Validation (prediction) runtime\n",
      "Training timeseries model SimpleFeedForward. \n",
      "\t-0.3317       = Validation score (-RMSE)\n",
      "\t12.78   s     = Training runtime\n",
      "\t0.00    s     = Validation (prediction) runtime\n",
      "Training timeseries model DLinear. \n",
      "\t-0.4536       = Validation score (-RMSE)\n",
      "\t10.18   s     = Training runtime\n",
      "\t0.00    s     = Validation (prediction) runtime\n",
      "Fitting simple weighted ensemble.\n",
      "\tEnsemble weights: {'DeepAR': 0.21, 'SimpleFeedForward': 0.59, 'TiDE': 0.2}\n",
      "\t-0.3265       = Validation score (-RMSE)\n",
      "\t0.45    s     = Training runtime\n",
      "\t0.03    s     = Validation (prediction) runtime\n",
      "Training complete. Models trained: ['TemporalFusionTransformer', 'DeepAR', 'PatchTST', 'TiDE', 'WaveNet', 'SimpleFeedForward', 'DLinear', 'WeightedEnsemble']\n",
      "Total runtime: 622.95 s\n",
      "Best model: WeightedEnsemble\n",
      "Best model score: -0.3265\n",
      "Model not specified in predict, will default to the model with the best validation score: WeightedEnsemble\n"
     ]
    },
    {
     "data": {
      "application/vnd.plotly.v1+json": {
       "config": {
        "plotlyServerURL": "https://plot.ly"
       },
       "data": [
        {
         "line": {
          "color": "blue"
         },
         "name": "Training Data",
         "type": "scatter",
         "x": [
          "1991-01-01T00:00:00.000000000",
          "1991-02-01T00:00:00.000000000",
          "1991-03-01T00:00:00.000000000",
          "1991-04-01T00:00:00.000000000",
          "1991-05-01T00:00:00.000000000",
          "1991-06-01T00:00:00.000000000",
          "1991-07-01T00:00:00.000000000",
          "1991-08-01T00:00:00.000000000",
          "1991-09-01T00:00:00.000000000",
          "1991-10-01T00:00:00.000000000",
          "1991-11-01T00:00:00.000000000",
          "1991-12-01T00:00:00.000000000",
          "1992-01-01T00:00:00.000000000",
          "1992-02-01T00:00:00.000000000",
          "1992-03-01T00:00:00.000000000",
          "1992-04-01T00:00:00.000000000",
          "1992-05-01T00:00:00.000000000",
          "1992-06-01T00:00:00.000000000",
          "1992-07-01T00:00:00.000000000",
          "1992-08-01T00:00:00.000000000",
          "1992-09-01T00:00:00.000000000",
          "1992-10-01T00:00:00.000000000",
          "1992-11-01T00:00:00.000000000",
          "1992-12-01T00:00:00.000000000",
          "1993-01-01T00:00:00.000000000",
          "1993-02-01T00:00:00.000000000",
          "1993-03-01T00:00:00.000000000",
          "1993-04-01T00:00:00.000000000",
          "1993-05-01T00:00:00.000000000",
          "1993-06-01T00:00:00.000000000",
          "1993-07-01T00:00:00.000000000",
          "1993-08-01T00:00:00.000000000",
          "1993-09-01T00:00:00.000000000",
          "1993-10-01T00:00:00.000000000",
          "1993-11-01T00:00:00.000000000",
          "1993-12-01T00:00:00.000000000",
          "1994-01-01T00:00:00.000000000",
          "1994-02-01T00:00:00.000000000",
          "1994-03-01T00:00:00.000000000",
          "1994-04-01T00:00:00.000000000",
          "1994-05-01T00:00:00.000000000",
          "1994-06-01T00:00:00.000000000",
          "1994-07-01T00:00:00.000000000",
          "1994-08-01T00:00:00.000000000",
          "1994-09-01T00:00:00.000000000",
          "1994-10-01T00:00:00.000000000",
          "1994-11-01T00:00:00.000000000",
          "1994-12-01T00:00:00.000000000",
          "1995-01-01T00:00:00.000000000",
          "1995-02-01T00:00:00.000000000",
          "1995-03-01T00:00:00.000000000",
          "1995-04-01T00:00:00.000000000",
          "1995-05-01T00:00:00.000000000",
          "1995-06-01T00:00:00.000000000",
          "1995-07-01T00:00:00.000000000",
          "1995-08-01T00:00:00.000000000",
          "1995-09-01T00:00:00.000000000",
          "1995-10-01T00:00:00.000000000",
          "1995-11-01T00:00:00.000000000",
          "1995-12-01T00:00:00.000000000",
          "1996-01-01T00:00:00.000000000",
          "1996-02-01T00:00:00.000000000",
          "1996-03-01T00:00:00.000000000",
          "1996-04-01T00:00:00.000000000",
          "1996-05-01T00:00:00.000000000",
          "1996-06-01T00:00:00.000000000",
          "1996-07-01T00:00:00.000000000",
          "1996-08-01T00:00:00.000000000",
          "1996-09-01T00:00:00.000000000",
          "1996-10-01T00:00:00.000000000",
          "1996-11-01T00:00:00.000000000",
          "1996-12-01T00:00:00.000000000",
          "1997-01-01T00:00:00.000000000",
          "1997-02-01T00:00:00.000000000",
          "1997-03-01T00:00:00.000000000",
          "1997-04-01T00:00:00.000000000",
          "1997-05-01T00:00:00.000000000",
          "1997-06-01T00:00:00.000000000",
          "1997-07-01T00:00:00.000000000",
          "1997-08-01T00:00:00.000000000",
          "1997-09-01T00:00:00.000000000",
          "1997-10-01T00:00:00.000000000",
          "1997-11-01T00:00:00.000000000",
          "1997-12-01T00:00:00.000000000",
          "1998-01-01T00:00:00.000000000",
          "1998-02-01T00:00:00.000000000",
          "1998-03-01T00:00:00.000000000",
          "1998-04-01T00:00:00.000000000",
          "1998-05-01T00:00:00.000000000",
          "1998-06-01T00:00:00.000000000",
          "1998-07-01T00:00:00.000000000",
          "1998-08-01T00:00:00.000000000",
          "1998-09-01T00:00:00.000000000",
          "1998-10-01T00:00:00.000000000",
          "1998-11-01T00:00:00.000000000",
          "1998-12-01T00:00:00.000000000",
          "1999-01-01T00:00:00.000000000",
          "1999-02-01T00:00:00.000000000",
          "1999-03-01T00:00:00.000000000",
          "1999-04-01T00:00:00.000000000",
          "1999-05-01T00:00:00.000000000",
          "1999-06-01T00:00:00.000000000",
          "1999-07-01T00:00:00.000000000",
          "1999-08-01T00:00:00.000000000",
          "1999-09-01T00:00:00.000000000",
          "1999-10-01T00:00:00.000000000",
          "1999-11-01T00:00:00.000000000",
          "1999-12-01T00:00:00.000000000",
          "2000-01-01T00:00:00.000000000",
          "2000-02-01T00:00:00.000000000",
          "2000-03-01T00:00:00.000000000",
          "2000-04-01T00:00:00.000000000",
          "2000-05-01T00:00:00.000000000",
          "2000-06-01T00:00:00.000000000",
          "2000-07-01T00:00:00.000000000",
          "2000-08-01T00:00:00.000000000",
          "2000-09-01T00:00:00.000000000",
          "2000-10-01T00:00:00.000000000",
          "2000-11-01T00:00:00.000000000",
          "2000-12-01T00:00:00.000000000",
          "2001-01-01T00:00:00.000000000",
          "2001-02-01T00:00:00.000000000",
          "2001-03-01T00:00:00.000000000",
          "2001-04-01T00:00:00.000000000",
          "2001-05-01T00:00:00.000000000",
          "2001-06-01T00:00:00.000000000",
          "2001-07-01T00:00:00.000000000",
          "2001-08-01T00:00:00.000000000",
          "2001-09-01T00:00:00.000000000",
          "2001-10-01T00:00:00.000000000",
          "2001-11-01T00:00:00.000000000",
          "2001-12-01T00:00:00.000000000",
          "2002-01-01T00:00:00.000000000",
          "2002-02-01T00:00:00.000000000",
          "2002-03-01T00:00:00.000000000",
          "2002-04-01T00:00:00.000000000",
          "2002-05-01T00:00:00.000000000",
          "2002-06-01T00:00:00.000000000",
          "2002-07-01T00:00:00.000000000",
          "2002-08-01T00:00:00.000000000",
          "2002-09-01T00:00:00.000000000",
          "2002-10-01T00:00:00.000000000",
          "2002-11-01T00:00:00.000000000",
          "2002-12-01T00:00:00.000000000",
          "2003-01-01T00:00:00.000000000",
          "2003-02-01T00:00:00.000000000",
          "2003-03-01T00:00:00.000000000",
          "2003-04-01T00:00:00.000000000",
          "2003-05-01T00:00:00.000000000",
          "2003-06-01T00:00:00.000000000",
          "2003-07-01T00:00:00.000000000",
          "2003-08-01T00:00:00.000000000",
          "2003-09-01T00:00:00.000000000",
          "2003-10-01T00:00:00.000000000",
          "2003-11-01T00:00:00.000000000",
          "2003-12-01T00:00:00.000000000",
          "2004-01-01T00:00:00.000000000",
          "2004-02-01T00:00:00.000000000",
          "2004-03-01T00:00:00.000000000",
          "2004-04-01T00:00:00.000000000",
          "2004-05-01T00:00:00.000000000",
          "2004-06-01T00:00:00.000000000",
          "2004-07-01T00:00:00.000000000",
          "2004-08-01T00:00:00.000000000",
          "2004-09-01T00:00:00.000000000",
          "2004-10-01T00:00:00.000000000",
          "2004-11-01T00:00:00.000000000",
          "2004-12-01T00:00:00.000000000",
          "2005-01-01T00:00:00.000000000",
          "2005-02-01T00:00:00.000000000",
          "2005-03-01T00:00:00.000000000",
          "2005-04-01T00:00:00.000000000",
          "2005-05-01T00:00:00.000000000",
          "2005-06-01T00:00:00.000000000",
          "2005-07-01T00:00:00.000000000",
          "2005-08-01T00:00:00.000000000",
          "2005-09-01T00:00:00.000000000",
          "2005-10-01T00:00:00.000000000",
          "2005-11-01T00:00:00.000000000",
          "2005-12-01T00:00:00.000000000",
          "2006-01-01T00:00:00.000000000",
          "2006-02-01T00:00:00.000000000",
          "2006-03-01T00:00:00.000000000",
          "2006-04-01T00:00:00.000000000",
          "2006-05-01T00:00:00.000000000",
          "2006-06-01T00:00:00.000000000",
          "2006-07-01T00:00:00.000000000",
          "2006-08-01T00:00:00.000000000",
          "2006-09-01T00:00:00.000000000",
          "2006-10-01T00:00:00.000000000",
          "2006-11-01T00:00:00.000000000",
          "2006-12-01T00:00:00.000000000",
          "2007-01-01T00:00:00.000000000",
          "2007-02-01T00:00:00.000000000",
          "2007-03-01T00:00:00.000000000",
          "2007-04-01T00:00:00.000000000",
          "2007-05-01T00:00:00.000000000",
          "2007-06-01T00:00:00.000000000",
          "2007-07-01T00:00:00.000000000",
          "2007-08-01T00:00:00.000000000",
          "2007-09-01T00:00:00.000000000",
          "2007-10-01T00:00:00.000000000",
          "2007-11-01T00:00:00.000000000",
          "2007-12-01T00:00:00.000000000",
          "2008-01-01T00:00:00.000000000",
          "2008-02-01T00:00:00.000000000",
          "2008-03-01T00:00:00.000000000",
          "2008-04-01T00:00:00.000000000",
          "2008-05-01T00:00:00.000000000",
          "2008-06-01T00:00:00.000000000",
          "2008-07-01T00:00:00.000000000",
          "2008-08-01T00:00:00.000000000",
          "2008-09-01T00:00:00.000000000",
          "2008-10-01T00:00:00.000000000",
          "2008-11-01T00:00:00.000000000",
          "2008-12-01T00:00:00.000000000",
          "2009-01-01T00:00:00.000000000",
          "2009-02-01T00:00:00.000000000",
          "2009-03-01T00:00:00.000000000",
          "2009-04-01T00:00:00.000000000",
          "2009-05-01T00:00:00.000000000",
          "2009-06-01T00:00:00.000000000",
          "2009-07-01T00:00:00.000000000",
          "2009-08-01T00:00:00.000000000",
          "2009-09-01T00:00:00.000000000",
          "2009-10-01T00:00:00.000000000",
          "2009-11-01T00:00:00.000000000",
          "2009-12-01T00:00:00.000000000",
          "2010-01-01T00:00:00.000000000",
          "2010-02-01T00:00:00.000000000",
          "2010-03-01T00:00:00.000000000",
          "2010-04-01T00:00:00.000000000",
          "2010-05-01T00:00:00.000000000",
          "2010-06-01T00:00:00.000000000",
          "2010-07-01T00:00:00.000000000",
          "2010-08-01T00:00:00.000000000",
          "2010-09-01T00:00:00.000000000",
          "2010-10-01T00:00:00.000000000",
          "2010-11-01T00:00:00.000000000",
          "2010-12-01T00:00:00.000000000",
          "2011-01-01T00:00:00.000000000",
          "2011-02-01T00:00:00.000000000",
          "2011-03-01T00:00:00.000000000",
          "2011-04-01T00:00:00.000000000",
          "2011-05-01T00:00:00.000000000",
          "2011-06-01T00:00:00.000000000",
          "2011-07-01T00:00:00.000000000",
          "2011-08-01T00:00:00.000000000",
          "2011-09-01T00:00:00.000000000",
          "2011-10-01T00:00:00.000000000",
          "2011-11-01T00:00:00.000000000",
          "2011-12-01T00:00:00.000000000",
          "2012-01-01T00:00:00.000000000",
          "2012-02-01T00:00:00.000000000",
          "2012-03-01T00:00:00.000000000",
          "2012-04-01T00:00:00.000000000",
          "2012-05-01T00:00:00.000000000",
          "2012-06-01T00:00:00.000000000",
          "2012-07-01T00:00:00.000000000",
          "2012-08-01T00:00:00.000000000",
          "2012-09-01T00:00:00.000000000",
          "2012-10-01T00:00:00.000000000",
          "2012-11-01T00:00:00.000000000",
          "2012-12-01T00:00:00.000000000",
          "2013-01-01T00:00:00.000000000",
          "2013-02-01T00:00:00.000000000",
          "2013-03-01T00:00:00.000000000",
          "2013-04-01T00:00:00.000000000",
          "2013-05-01T00:00:00.000000000",
          "2013-06-01T00:00:00.000000000",
          "2013-07-01T00:00:00.000000000",
          "2013-08-01T00:00:00.000000000",
          "2013-09-01T00:00:00.000000000",
          "2013-10-01T00:00:00.000000000",
          "2013-11-01T00:00:00.000000000",
          "2013-12-01T00:00:00.000000000",
          "2014-01-01T00:00:00.000000000",
          "2014-02-01T00:00:00.000000000",
          "2014-03-01T00:00:00.000000000",
          "2014-04-01T00:00:00.000000000",
          "2014-05-01T00:00:00.000000000",
          "2014-06-01T00:00:00.000000000",
          "2014-07-01T00:00:00.000000000",
          "2014-08-01T00:00:00.000000000",
          "2014-09-01T00:00:00.000000000",
          "2014-10-01T00:00:00.000000000",
          "2014-11-01T00:00:00.000000000",
          "2014-12-01T00:00:00.000000000",
          "2015-01-01T00:00:00.000000000",
          "2015-02-01T00:00:00.000000000",
          "2015-03-01T00:00:00.000000000",
          "2015-04-01T00:00:00.000000000",
          "2015-05-01T00:00:00.000000000",
          "2015-06-01T00:00:00.000000000",
          "2015-07-01T00:00:00.000000000",
          "2015-08-01T00:00:00.000000000",
          "2015-09-01T00:00:00.000000000",
          "2015-10-01T00:00:00.000000000",
          "2015-11-01T00:00:00.000000000",
          "2015-12-01T00:00:00.000000000",
          "2016-01-01T00:00:00.000000000",
          "2016-02-01T00:00:00.000000000",
          "2016-03-01T00:00:00.000000000",
          "2016-04-01T00:00:00.000000000",
          "2016-05-01T00:00:00.000000000",
          "2016-06-01T00:00:00.000000000",
          "2016-07-01T00:00:00.000000000",
          "2016-08-01T00:00:00.000000000",
          "2016-09-01T00:00:00.000000000",
          "2016-10-01T00:00:00.000000000",
          "2016-11-01T00:00:00.000000000",
          "2016-12-01T00:00:00.000000000",
          "2017-01-01T00:00:00.000000000",
          "2017-02-01T00:00:00.000000000",
          "2017-03-01T00:00:00.000000000",
          "2017-04-01T00:00:00.000000000",
          "2017-05-01T00:00:00.000000000",
          "2017-06-01T00:00:00.000000000",
          "2017-07-01T00:00:00.000000000",
          "2017-08-01T00:00:00.000000000",
          "2017-09-01T00:00:00.000000000",
          "2017-10-01T00:00:00.000000000",
          "2017-11-01T00:00:00.000000000",
          "2017-12-01T00:00:00.000000000",
          "2018-01-01T00:00:00.000000000",
          "2018-02-01T00:00:00.000000000",
          "2018-03-01T00:00:00.000000000",
          "2018-04-01T00:00:00.000000000",
          "2018-05-01T00:00:00.000000000",
          "2018-06-01T00:00:00.000000000",
          "2018-07-01T00:00:00.000000000",
          "2018-08-01T00:00:00.000000000",
          "2018-09-01T00:00:00.000000000",
          "2018-10-01T00:00:00.000000000",
          "2018-11-01T00:00:00.000000000",
          "2018-12-01T00:00:00.000000000",
          "2019-01-01T00:00:00.000000000",
          "2019-02-01T00:00:00.000000000",
          "2019-03-01T00:00:00.000000000",
          "2019-04-01T00:00:00.000000000",
          "2019-05-01T00:00:00.000000000",
          "2019-06-01T00:00:00.000000000",
          "2019-07-01T00:00:00.000000000",
          "2019-08-01T00:00:00.000000000",
          "2019-09-01T00:00:00.000000000",
          "2019-10-01T00:00:00.000000000",
          "2019-11-01T00:00:00.000000000",
          "2019-12-01T00:00:00.000000000",
          "2020-01-01T00:00:00.000000000",
          "2020-02-01T00:00:00.000000000",
          "2020-03-01T00:00:00.000000000",
          "2020-04-01T00:00:00.000000000",
          "2020-05-01T00:00:00.000000000",
          "2020-06-01T00:00:00.000000000",
          "2020-07-01T00:00:00.000000000",
          "2020-08-01T00:00:00.000000000",
          "2020-09-01T00:00:00.000000000",
          "2020-10-01T00:00:00.000000000",
          "2020-11-01T00:00:00.000000000",
          "2020-12-01T00:00:00.000000000",
          "2021-01-01T00:00:00.000000000",
          "2021-02-01T00:00:00.000000000",
          "2021-03-01T00:00:00.000000000",
          "2021-04-01T00:00:00.000000000",
          "2021-05-01T00:00:00.000000000",
          "2021-06-01T00:00:00.000000000",
          "2021-07-01T00:00:00.000000000",
          "2021-08-01T00:00:00.000000000",
          "2021-09-01T00:00:00.000000000",
          "2021-10-01T00:00:00.000000000",
          "2021-11-01T00:00:00.000000000",
          "2021-12-01T00:00:00.000000000",
          "2022-01-01T00:00:00.000000000",
          "2022-02-01T00:00:00.000000000",
          "2022-03-01T00:00:00.000000000",
          "2022-04-01T00:00:00.000000000",
          "2022-05-01T00:00:00.000000000",
          "2022-06-01T00:00:00.000000000",
          "2022-07-01T00:00:00.000000000",
          "2022-08-01T00:00:00.000000000",
          "2022-09-01T00:00:00.000000000",
          "2022-10-01T00:00:00.000000000",
          "2022-11-01T00:00:00.000000000",
          "2022-12-01T00:00:00.000000000",
          "2023-01-01T00:00:00.000000000",
          "2023-02-01T00:00:00.000000000",
          "2023-03-01T00:00:00.000000000",
          "2023-04-01T00:00:00.000000000",
          "2023-05-01T00:00:00.000000000",
          "2023-06-01T00:00:00.000000000",
          "2023-07-01T00:00:00.000000000",
          "2023-08-01T00:00:00.000000000",
          "2023-09-01T00:00:00.000000000",
          "2023-10-01T00:00:00.000000000",
          "2023-11-01T00:00:00.000000000",
          "2023-12-01T00:00:00.000000000"
         ],
         "y": {
          "bdata": "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",
          "dtype": "f8"
         }
        },
        {
         "line": {
          "color": "green"
         },
         "name": "Actual Test Values",
         "type": "scatter",
         "x": [
          "2024-01-01T00:00:00.000000000",
          "2024-02-01T00:00:00.000000000",
          "2024-03-01T00:00:00.000000000",
          "2024-04-01T00:00:00.000000000",
          "2024-05-01T00:00:00.000000000",
          "2024-06-01T00:00:00.000000000",
          "2024-07-01T00:00:00.000000000",
          "2024-08-01T00:00:00.000000000",
          "2024-09-01T00:00:00.000000000",
          "2024-10-01T00:00:00.000000000",
          "2024-11-01T00:00:00.000000000",
          "2024-12-01T00:00:00.000000000"
         ],
         "y": {
          "bdata": "SaKXUSyXEUCbPdAKDDkWQNBhvrwAWxxAJh5QNuV6I0BJERlW8SYeQOxMofMaiyBAJSNnYU9bHEBseHqlLIMbQNXPm4pUGBpAN1SM8zehGkD4iJgSSZQfQPkUAOMZpCRA",
          "dtype": "f8"
         }
        },
        {
         "line": {
          "color": "red"
         },
         "name": "Forecast",
         "type": "scatter",
         "x": [
          "2024-01-31T00:00:00.000000000",
          "2024-02-29T00:00:00.000000000",
          "2024-03-31T00:00:00.000000000",
          "2024-04-30T00:00:00.000000000",
          "2024-05-31T00:00:00.000000000",
          "2024-06-30T00:00:00.000000000",
          "2024-07-31T00:00:00.000000000",
          "2024-08-31T00:00:00.000000000",
          "2024-09-30T00:00:00.000000000",
          "2024-10-31T00:00:00.000000000",
          "2024-11-30T00:00:00.000000000",
          "2024-12-31T00:00:00.000000000"
         ],
         "y": {
          "bdata": "flikhGs9EECoW/N3iIkQQG7ND9dWahBAxCJlzNRVEEDB062dFlQQQIKnW9sOlxBAXPPDwtJ3EEBPt+ab9pwQQJjQXtp8sRBAtJfQpvXwEEA/LFKaPXkQQCa0l7ytURBA",
          "dtype": "f8"
         }
        },
        {
         "fill": "toself",
         "fillcolor": "rgba(255,0,0,0.2)",
         "line": {
          "color": "rgba(255,255,255,0)"
         },
         "name": "80% Confidence",
         "type": "scatter",
         "x": [
          "2024-01-31T00:00:00",
          "2024-02-29T00:00:00",
          "2024-03-31T00:00:00",
          "2024-04-30T00:00:00",
          "2024-05-31T00:00:00",
          "2024-06-30T00:00:00",
          "2024-07-31T00:00:00",
          "2024-08-31T00:00:00",
          "2024-09-30T00:00:00",
          "2024-10-31T00:00:00",
          "2024-11-30T00:00:00",
          "2024-12-31T00:00:00",
          "2024-12-31T00:00:00",
          "2024-11-30T00:00:00",
          "2024-10-31T00:00:00",
          "2024-09-30T00:00:00",
          "2024-08-31T00:00:00",
          "2024-07-31T00:00:00",
          "2024-06-30T00:00:00",
          "2024-05-31T00:00:00",
          "2024-04-30T00:00:00",
          "2024-03-31T00:00:00",
          "2024-02-29T00:00:00",
          "2024-01-31T00:00:00"
         ],
         "y": [
          4.461895268493229,
          4.618244985592218,
          4.66400458694976,
          4.716598436567518,
          4.775928047409764,
          4.856875631544325,
          4.883267173796524,
          5.07409712591289,
          5.13848990349122,
          5.1315603531437155,
          5.08515433838338,
          5.0006617148717245,
          3.16981158160869,
          3.1536493525828844,
          3.3335655049041466,
          3.1837388865741683,
          3.2124518824948205,
          3.3273999318664456,
          3.428322287915665,
          3.3750315455742825,
          3.436484741796682,
          3.5501173491831177,
          3.65540038590078,
          3.6664938925225057
         ]
        }
       ],
       "layout": {
        "hovermode": "x unified",
        "template": {
         "data": {
          "bar": [
           {
            "error_x": {
             "color": "#2a3f5f"
            },
            "error_y": {
             "color": "#2a3f5f"
            },
            "marker": {
             "line": {
              "color": "white",
              "width": 0.5
             },
             "pattern": {
              "fillmode": "overlay",
              "size": 10,
              "solidity": 0.2
             }
            },
            "type": "bar"
           }
          ],
          "barpolar": [
           {
            "marker": {
             "line": {
              "color": "white",
              "width": 0.5
             },
             "pattern": {
              "fillmode": "overlay",
              "size": 10,
              "solidity": 0.2
             }
            },
            "type": "barpolar"
           }
          ],
          "carpet": [
           {
            "aaxis": {
             "endlinecolor": "#2a3f5f",
             "gridcolor": "#C8D4E3",
             "linecolor": "#C8D4E3",
             "minorgridcolor": "#C8D4E3",
             "startlinecolor": "#2a3f5f"
            },
            "baxis": {
             "endlinecolor": "#2a3f5f",
             "gridcolor": "#C8D4E3",
             "linecolor": "#C8D4E3",
             "minorgridcolor": "#C8D4E3",
             "startlinecolor": "#2a3f5f"
            },
            "type": "carpet"
           }
          ],
          "choropleth": [
           {
            "colorbar": {
             "outlinewidth": 0,
             "ticks": ""
            },
            "type": "choropleth"
           }
          ],
          "contour": [
           {
            "colorbar": {
             "outlinewidth": 0,
             "ticks": ""
            },
            "colorscale": [
             [
              0,
              "#0d0887"
             ],
             [
              0.1111111111111111,
              "#46039f"
             ],
             [
              0.2222222222222222,
              "#7201a8"
             ],
             [
              0.3333333333333333,
              "#9c179e"
             ],
             [
              0.4444444444444444,
              "#bd3786"
             ],
             [
              0.5555555555555556,
              "#d8576b"
             ],
             [
              0.6666666666666666,
              "#ed7953"
             ],
             [
              0.7777777777777778,
              "#fb9f3a"
             ],
             [
              0.8888888888888888,
              "#fdca26"
             ],
             [
              1,
              "#f0f921"
             ]
            ],
            "type": "contour"
           }
          ],
          "contourcarpet": [
           {
            "colorbar": {
             "outlinewidth": 0,
             "ticks": ""
            },
            "type": "contourcarpet"
           }
          ],
          "heatmap": [
           {
            "colorbar": {
             "outlinewidth": 0,
             "ticks": ""
            },
            "colorscale": [
             [
              0,
              "#0d0887"
             ],
             [
              0.1111111111111111,
              "#46039f"
             ],
             [
              0.2222222222222222,
              "#7201a8"
             ],
             [
              0.3333333333333333,
              "#9c179e"
             ],
             [
              0.4444444444444444,
              "#bd3786"
             ],
             [
              0.5555555555555556,
              "#d8576b"
             ],
             [
              0.6666666666666666,
              "#ed7953"
             ],
             [
              0.7777777777777778,
              "#fb9f3a"
             ],
             [
              0.8888888888888888,
              "#fdca26"
             ],
             [
              1,
              "#f0f921"
             ]
            ],
            "type": "heatmap"
           }
          ],
          "histogram": [
           {
            "marker": {
             "pattern": {
              "fillmode": "overlay",
              "size": 10,
              "solidity": 0.2
             }
            },
            "type": "histogram"
           }
          ],
          "histogram2d": [
           {
            "colorbar": {
             "outlinewidth": 0,
             "ticks": ""
            },
            "colorscale": [
             [
              0,
              "#0d0887"
             ],
             [
              0.1111111111111111,
              "#46039f"
             ],
             [
              0.2222222222222222,
              "#7201a8"
             ],
             [
              0.3333333333333333,
              "#9c179e"
             ],
             [
              0.4444444444444444,
              "#bd3786"
             ],
             [
              0.5555555555555556,
              "#d8576b"
             ],
             [
              0.6666666666666666,
              "#ed7953"
             ],
             [
              0.7777777777777778,
              "#fb9f3a"
             ],
             [
              0.8888888888888888,
              "#fdca26"
             ],
             [
              1,
              "#f0f921"
             ]
            ],
            "type": "histogram2d"
           }
          ],
          "histogram2dcontour": [
           {
            "colorbar": {
             "outlinewidth": 0,
             "ticks": ""
            },
            "colorscale": [
             [
              0,
              "#0d0887"
             ],
             [
              0.1111111111111111,
              "#46039f"
             ],
             [
              0.2222222222222222,
              "#7201a8"
             ],
             [
              0.3333333333333333,
              "#9c179e"
             ],
             [
              0.4444444444444444,
              "#bd3786"
             ],
             [
              0.5555555555555556,
              "#d8576b"
             ],
             [
              0.6666666666666666,
              "#ed7953"
             ],
             [
              0.7777777777777778,
              "#fb9f3a"
             ],
             [
              0.8888888888888888,
              "#fdca26"
             ],
             [
              1,
              "#f0f921"
             ]
            ],
            "type": "histogram2dcontour"
           }
          ],
          "mesh3d": [
           {
            "colorbar": {
             "outlinewidth": 0,
             "ticks": ""
            },
            "type": "mesh3d"
           }
          ],
          "parcoords": [
           {
            "line": {
             "colorbar": {
              "outlinewidth": 0,
              "ticks": ""
             }
            },
            "type": "parcoords"
           }
          ],
          "pie": [
           {
            "automargin": true,
            "type": "pie"
           }
          ],
          "scatter": [
           {
            "fillpattern": {
             "fillmode": "overlay",
             "size": 10,
             "solidity": 0.2
            },
            "type": "scatter"
           }
          ],
          "scatter3d": [
           {
            "line": {
             "colorbar": {
              "outlinewidth": 0,
              "ticks": ""
             }
            },
            "marker": {
             "colorbar": {
              "outlinewidth": 0,
              "ticks": ""
             }
            },
            "type": "scatter3d"
           }
          ],
          "scattercarpet": [
           {
            "marker": {
             "colorbar": {
              "outlinewidth": 0,
              "ticks": ""
             }
            },
            "type": "scattercarpet"
           }
          ],
          "scattergeo": [
           {
            "marker": {
             "colorbar": {
              "outlinewidth": 0,
              "ticks": ""
             }
            },
            "type": "scattergeo"
           }
          ],
          "scattergl": [
           {
            "marker": {
             "colorbar": {
              "outlinewidth": 0,
              "ticks": ""
             }
            },
            "type": "scattergl"
           }
          ],
          "scattermap": [
           {
            "marker": {
             "colorbar": {
              "outlinewidth": 0,
              "ticks": ""
             }
            },
            "type": "scattermap"
           }
          ],
          "scattermapbox": [
           {
            "marker": {
             "colorbar": {
              "outlinewidth": 0,
              "ticks": ""
             }
            },
            "type": "scattermapbox"
           }
          ],
          "scatterpolar": [
           {
            "marker": {
             "colorbar": {
              "outlinewidth": 0,
              "ticks": ""
             }
            },
            "type": "scatterpolar"
           }
          ],
          "scatterpolargl": [
           {
            "marker": {
             "colorbar": {
              "outlinewidth": 0,
              "ticks": ""
             }
            },
            "type": "scatterpolargl"
           }
          ],
          "scatterternary": [
           {
            "marker": {
             "colorbar": {
              "outlinewidth": 0,
              "ticks": ""
             }
            },
            "type": "scatterternary"
           }
          ],
          "surface": [
           {
            "colorbar": {
             "outlinewidth": 0,
             "ticks": ""
            },
            "colorscale": [
             [
              0,
              "#0d0887"
             ],
             [
              0.1111111111111111,
              "#46039f"
             ],
             [
              0.2222222222222222,
              "#7201a8"
             ],
             [
              0.3333333333333333,
              "#9c179e"
             ],
             [
              0.4444444444444444,
              "#bd3786"
             ],
             [
              0.5555555555555556,
              "#d8576b"
             ],
             [
              0.6666666666666666,
              "#ed7953"
             ],
             [
              0.7777777777777778,
              "#fb9f3a"
             ],
             [
              0.8888888888888888,
              "#fdca26"
             ],
             [
              1,
              "#f0f921"
             ]
            ],
            "type": "surface"
           }
          ],
          "table": [
           {
            "cells": {
             "fill": {
              "color": "#EBF0F8"
             },
             "line": {
              "color": "white"
             }
            },
            "header": {
             "fill": {
              "color": "#C8D4E3"
             },
             "line": {
              "color": "white"
             }
            },
            "type": "table"
           }
          ]
         },
         "layout": {
          "annotationdefaults": {
           "arrowcolor": "#2a3f5f",
           "arrowhead": 0,
           "arrowwidth": 1
          },
          "autotypenumbers": "strict",
          "coloraxis": {
           "colorbar": {
            "outlinewidth": 0,
            "ticks": ""
           }
          },
          "colorscale": {
           "diverging": [
            [
             0,
             "#8e0152"
            ],
            [
             0.1,
             "#c51b7d"
            ],
            [
             0.2,
             "#de77ae"
            ],
            [
             0.3,
             "#f1b6da"
            ],
            [
             0.4,
             "#fde0ef"
            ],
            [
             0.5,
             "#f7f7f7"
            ],
            [
             0.6,
             "#e6f5d0"
            ],
            [
             0.7,
             "#b8e186"
            ],
            [
             0.8,
             "#7fbc41"
            ],
            [
             0.9,
             "#4d9221"
            ],
            [
             1,
             "#276419"
            ]
           ],
           "sequential": [
            [
             0,
             "#0d0887"
            ],
            [
             0.1111111111111111,
             "#46039f"
            ],
            [
             0.2222222222222222,
             "#7201a8"
            ],
            [
             0.3333333333333333,
             "#9c179e"
            ],
            [
             0.4444444444444444,
             "#bd3786"
            ],
            [
             0.5555555555555556,
             "#d8576b"
            ],
            [
             0.6666666666666666,
             "#ed7953"
            ],
            [
             0.7777777777777778,
             "#fb9f3a"
            ],
            [
             0.8888888888888888,
             "#fdca26"
            ],
            [
             1,
             "#f0f921"
            ]
           ],
           "sequentialminus": [
            [
             0,
             "#0d0887"
            ],
            [
             0.1111111111111111,
             "#46039f"
            ],
            [
             0.2222222222222222,
             "#7201a8"
            ],
            [
             0.3333333333333333,
             "#9c179e"
            ],
            [
             0.4444444444444444,
             "#bd3786"
            ],
            [
             0.5555555555555556,
             "#d8576b"
            ],
            [
             0.6666666666666666,
             "#ed7953"
            ],
            [
             0.7777777777777778,
             "#fb9f3a"
            ],
            [
             0.8888888888888888,
             "#fdca26"
            ],
            [
             1,
             "#f0f921"
            ]
           ]
          },
          "colorway": [
           "#636efa",
           "#EF553B",
           "#00cc96",
           "#ab63fa",
           "#FFA15A",
           "#19d3f3",
           "#FF6692",
           "#B6E880",
           "#FF97FF",
           "#FECB52"
          ],
          "font": {
           "color": "#2a3f5f"
          },
          "geo": {
           "bgcolor": "white",
           "lakecolor": "white",
           "landcolor": "white",
           "showlakes": true,
           "showland": true,
           "subunitcolor": "#C8D4E3"
          },
          "hoverlabel": {
           "align": "left"
          },
          "hovermode": "closest",
          "mapbox": {
           "style": "light"
          },
          "paper_bgcolor": "white",
          "plot_bgcolor": "white",
          "polar": {
           "angularaxis": {
            "gridcolor": "#EBF0F8",
            "linecolor": "#EBF0F8",
            "ticks": ""
           },
           "bgcolor": "white",
           "radialaxis": {
            "gridcolor": "#EBF0F8",
            "linecolor": "#EBF0F8",
            "ticks": ""
           }
          },
          "scene": {
           "xaxis": {
            "backgroundcolor": "white",
            "gridcolor": "#DFE8F3",
            "gridwidth": 2,
            "linecolor": "#EBF0F8",
            "showbackground": true,
            "ticks": "",
            "zerolinecolor": "#EBF0F8"
           },
           "yaxis": {
            "backgroundcolor": "white",
            "gridcolor": "#DFE8F3",
            "gridwidth": 2,
            "linecolor": "#EBF0F8",
            "showbackground": true,
            "ticks": "",
            "zerolinecolor": "#EBF0F8"
           },
           "zaxis": {
            "backgroundcolor": "white",
            "gridcolor": "#DFE8F3",
            "gridwidth": 2,
            "linecolor": "#EBF0F8",
            "showbackground": true,
            "ticks": "",
            "zerolinecolor": "#EBF0F8"
           }
          },
          "shapedefaults": {
           "line": {
            "color": "#2a3f5f"
           }
          },
          "ternary": {
           "aaxis": {
            "gridcolor": "#DFE8F3",
            "linecolor": "#A2B1C6",
            "ticks": ""
           },
           "baxis": {
            "gridcolor": "#DFE8F3",
            "linecolor": "#A2B1C6",
            "ticks": ""
           },
           "bgcolor": "white",
           "caxis": {
            "gridcolor": "#DFE8F3",
            "linecolor": "#A2B1C6",
            "ticks": ""
           }
          },
          "title": {
           "x": 0.05
          },
          "xaxis": {
           "automargin": true,
           "gridcolor": "#EBF0F8",
           "linecolor": "#EBF0F8",
           "ticks": "",
           "title": {
            "standoff": 15
           },
           "zerolinecolor": "#EBF0F8",
           "zerolinewidth": 2
          },
          "yaxis": {
           "automargin": true,
           "gridcolor": "#EBF0F8",
           "linecolor": "#EBF0F8",
           "ticks": "",
           "title": {
            "standoff": 15
           },
           "zerolinecolor": "#EBF0F8",
           "zerolinewidth": 2
          }
         }
        },
        "title": {
         "text": "Cocoa Price Forecast vs Actual"
        },
        "xaxis": {
         "title": {
          "text": "Date"
         }
        },
        "yaxis": {
         "title": {
          "text": "Price"
         }
        }
       }
      }
     },
     "metadata": {},
     "output_type": "display_data"
    },
    {
     "name": "stderr",
     "output_type": "stream",
     "text": [
      "Warning: path already exists! This predictor may overwrite an existing predictor! path=\"autogluon_models/Gold_Price\"\n",
      "Beginning AutoGluon training...\n",
      "AutoGluon will save models to '/Users/purplegeminii/Desktop/Undergraduate Thesis/commodity_price_prediction/autogluon_models/Gold_Price'\n",
      "=================== System Info ===================\n",
      "AutoGluon Version:  1.2\n",
      "Python Version:     3.12.9\n",
      "Operating System:   Darwin\n",
      "Platform Machine:   arm64\n",
      "Platform Version:   Darwin Kernel Version 24.1.0: Thu Oct 10 21:06:57 PDT 2024; root:xnu-11215.41.3~3/RELEASE_ARM64_T6041\n",
      "CPU Count:          14\n",
      "GPU Count:          0\n",
      "Memory Avail:       6.43 GB / 24.00 GB (26.8%)\n",
      "Disk Space Avail:   222.51 GB / 460.43 GB (48.3%)\n",
      "===================================================\n",
      "Setting presets to: medium_quality\n",
      "\n",
      "Fitting with arguments:\n",
      "{'enable_ensemble': True,\n",
      " 'eval_metric': RMSE,\n",
      " 'hyperparameters': {'DLinearModel': {},\n",
      "                     'DeepARModel': {'num_layers': 4},\n",
      "                     'PatchTSTModel': {},\n",
      "                     'SimpleFeedForwardModel': {'hidden_dimensions': [256,\n",
      "                                                                      128]},\n",
      "                     'TemporalFusionTransformerModel': {},\n",
      "                     'TiDEModel': {},\n",
      "                     'WaveNetModel': {}},\n",
      " 'known_covariates_names': [],\n",
      " 'num_val_windows': 3,\n",
      " 'prediction_length': 12,\n",
      " 'quantile_levels': [0.1, 0.2, 0.3, 0.4, 0.5, 0.6, 0.7, 0.8, 0.9],\n",
      " 'random_seed': 123,\n",
      " 'refit_every_n_windows': 1,\n",
      " 'refit_full': False,\n",
      " 'skip_model_selection': False,\n",
      " 'target': 'Gold Price',\n",
      " 'verbosity': 2}\n",
      "\n",
      "Inferred time series frequency: 'MS'\n",
      "Provided train_data has 396 rows, 1 time series. Median time series length is 396 (min=396, max=396). \n",
      "\n",
      "Provided data contains following columns:\n",
      "\ttarget: 'Gold Price'\n",
      "\tpast_covariates:\n",
      "\t\tcategorical:        []\n",
      "\t\tcontinuous (float): ['Revenue, exc...ts (% of GDP)', 'GDP (constant 2015 US$)', 'Employment t...15+, total %)', 'Crude Oil Brent Price_3mo_ma', 'Crude Oil Br...Price_12mo_ma', 'Cocoa Price_3mo_ma', ...]\n",
      "\n",
      "To learn how to fix incorrectly inferred types, please see documentation for TimeSeriesPredictor.fit\n",
      "\n",
      "AutoGluon will gauge predictive performance using evaluation metric: 'RMSE'\n",
      "\tThis metric's sign has been flipped to adhere to being higher_is_better. The metric score can be multiplied by -1 to get the metric value.\n",
      "===================================================\n",
      "\n",
      "Starting training. Start time is 2025-04-28 14:55:58\n",
      "Models that will be trained: ['TemporalFusionTransformer', 'DeepAR', 'PatchTST', 'TiDE', 'WaveNet', 'SimpleFeedForward', 'DLinear']\n",
      "Training timeseries model TemporalFusionTransformer. \n"
     ]
    },
    {
     "name": "stdout",
     "output_type": "stream",
     "text": [
      "\n",
      "Cocoa Price Evaluation:\n",
      "best_model: WeightedEnsemble\n",
      "- MAE: 3.21\n",
      "- MAPE: 40.95%\n",
      "- RMSE: 3.57\n",
      "\n",
      "=== Processing Gold Price ===\n"
     ]
    },
    {
     "name": "stderr",
     "output_type": "stream",
     "text": [
      "\t-126.9953     = Validation score (-RMSE)\n",
      "\t148.08  s     = Training runtime\n",
      "\t0.01    s     = Validation (prediction) runtime\n",
      "Training timeseries model DeepAR. \n",
      "\t-137.2641     = Validation score (-RMSE)\n",
      "\t172.17  s     = Training runtime\n",
      "\t0.02    s     = Validation (prediction) runtime\n",
      "Training timeseries model PatchTST. \n",
      "\t-85.6616      = Validation score (-RMSE)\n",
      "\t64.44   s     = Training runtime\n",
      "\t0.00    s     = Validation (prediction) runtime\n",
      "Training timeseries model TiDE. \n",
      "\t-153.1093     = Validation score (-RMSE)\n",
      "\t41.59   s     = Training runtime\n",
      "\t0.00    s     = Validation (prediction) runtime\n",
      "Training timeseries model WaveNet. \n",
      "\t-106.3638     = Validation score (-RMSE)\n",
      "\t232.14  s     = Training runtime\n",
      "\t0.36    s     = Validation (prediction) runtime\n",
      "Training timeseries model SimpleFeedForward. \n",
      "\t-128.8077     = Validation score (-RMSE)\n",
      "\t18.17   s     = Training runtime\n",
      "\t0.00    s     = Validation (prediction) runtime\n",
      "Training timeseries model DLinear. \n",
      "\t-168.6514     = Validation score (-RMSE)\n",
      "\t8.99    s     = Training runtime\n",
      "\t0.00    s     = Validation (prediction) runtime\n",
      "Fitting simple weighted ensemble.\n",
      "\tEnsemble weights: {'PatchTST': 0.65, 'TemporalFusionTransformer': 0.16, 'WaveNet': 0.18}\n",
      "\t-79.9424      = Validation score (-RMSE)\n",
      "\t0.45    s     = Training runtime\n",
      "\t0.37    s     = Validation (prediction) runtime\n",
      "Training complete. Models trained: ['TemporalFusionTransformer', 'DeepAR', 'PatchTST', 'TiDE', 'WaveNet', 'SimpleFeedForward', 'DLinear', 'WeightedEnsemble']\n",
      "Total runtime: 686.48 s\n",
      "Best model: WeightedEnsemble\n",
      "Best model score: -79.9424\n",
      "Model not specified in predict, will default to the model with the best validation score: WeightedEnsemble\n"
     ]
    },
    {
     "data": {
      "application/vnd.plotly.v1+json": {
       "config": {
        "plotlyServerURL": "https://plot.ly"
       },
       "data": [
        {
         "line": {
          "color": "blue"
         },
         "name": "Training Data",
         "type": "scatter",
         "x": [
          "1991-01-01T00:00:00.000000000",
          "1991-02-01T00:00:00.000000000",
          "1991-03-01T00:00:00.000000000",
          "1991-04-01T00:00:00.000000000",
          "1991-05-01T00:00:00.000000000",
          "1991-06-01T00:00:00.000000000",
          "1991-07-01T00:00:00.000000000",
          "1991-08-01T00:00:00.000000000",
          "1991-09-01T00:00:00.000000000",
          "1991-10-01T00:00:00.000000000",
          "1991-11-01T00:00:00.000000000",
          "1991-12-01T00:00:00.000000000",
          "1992-01-01T00:00:00.000000000",
          "1992-02-01T00:00:00.000000000",
          "1992-03-01T00:00:00.000000000",
          "1992-04-01T00:00:00.000000000",
          "1992-05-01T00:00:00.000000000",
          "1992-06-01T00:00:00.000000000",
          "1992-07-01T00:00:00.000000000",
          "1992-08-01T00:00:00.000000000",
          "1992-09-01T00:00:00.000000000",
          "1992-10-01T00:00:00.000000000",
          "1992-11-01T00:00:00.000000000",
          "1992-12-01T00:00:00.000000000",
          "1993-01-01T00:00:00.000000000",
          "1993-02-01T00:00:00.000000000",
          "1993-03-01T00:00:00.000000000",
          "1993-04-01T00:00:00.000000000",
          "1993-05-01T00:00:00.000000000",
          "1993-06-01T00:00:00.000000000",
          "1993-07-01T00:00:00.000000000",
          "1993-08-01T00:00:00.000000000",
          "1993-09-01T00:00:00.000000000",
          "1993-10-01T00:00:00.000000000",
          "1993-11-01T00:00:00.000000000",
          "1993-12-01T00:00:00.000000000",
          "1994-01-01T00:00:00.000000000",
          "1994-02-01T00:00:00.000000000",
          "1994-03-01T00:00:00.000000000",
          "1994-04-01T00:00:00.000000000",
          "1994-05-01T00:00:00.000000000",
          "1994-06-01T00:00:00.000000000",
          "1994-07-01T00:00:00.000000000",
          "1994-08-01T00:00:00.000000000",
          "1994-09-01T00:00:00.000000000",
          "1994-10-01T00:00:00.000000000",
          "1994-11-01T00:00:00.000000000",
          "1994-12-01T00:00:00.000000000",
          "1995-01-01T00:00:00.000000000",
          "1995-02-01T00:00:00.000000000",
          "1995-03-01T00:00:00.000000000",
          "1995-04-01T00:00:00.000000000",
          "1995-05-01T00:00:00.000000000",
          "1995-06-01T00:00:00.000000000",
          "1995-07-01T00:00:00.000000000",
          "1995-08-01T00:00:00.000000000",
          "1995-09-01T00:00:00.000000000",
          "1995-10-01T00:00:00.000000000",
          "1995-11-01T00:00:00.000000000",
          "1995-12-01T00:00:00.000000000",
          "1996-01-01T00:00:00.000000000",
          "1996-02-01T00:00:00.000000000",
          "1996-03-01T00:00:00.000000000",
          "1996-04-01T00:00:00.000000000",
          "1996-05-01T00:00:00.000000000",
          "1996-06-01T00:00:00.000000000",
          "1996-07-01T00:00:00.000000000",
          "1996-08-01T00:00:00.000000000",
          "1996-09-01T00:00:00.000000000",
          "1996-10-01T00:00:00.000000000",
          "1996-11-01T00:00:00.000000000",
          "1996-12-01T00:00:00.000000000",
          "1997-01-01T00:00:00.000000000",
          "1997-02-01T00:00:00.000000000",
          "1997-03-01T00:00:00.000000000",
          "1997-04-01T00:00:00.000000000",
          "1997-05-01T00:00:00.000000000",
          "1997-06-01T00:00:00.000000000",
          "1997-07-01T00:00:00.000000000",
          "1997-08-01T00:00:00.000000000",
          "1997-09-01T00:00:00.000000000",
          "1997-10-01T00:00:00.000000000",
          "1997-11-01T00:00:00.000000000",
          "1997-12-01T00:00:00.000000000",
          "1998-01-01T00:00:00.000000000",
          "1998-02-01T00:00:00.000000000",
          "1998-03-01T00:00:00.000000000",
          "1998-04-01T00:00:00.000000000",
          "1998-05-01T00:00:00.000000000",
          "1998-06-01T00:00:00.000000000",
          "1998-07-01T00:00:00.000000000",
          "1998-08-01T00:00:00.000000000",
          "1998-09-01T00:00:00.000000000",
          "1998-10-01T00:00:00.000000000",
          "1998-11-01T00:00:00.000000000",
          "1998-12-01T00:00:00.000000000",
          "1999-01-01T00:00:00.000000000",
          "1999-02-01T00:00:00.000000000",
          "1999-03-01T00:00:00.000000000",
          "1999-04-01T00:00:00.000000000",
          "1999-05-01T00:00:00.000000000",
          "1999-06-01T00:00:00.000000000",
          "1999-07-01T00:00:00.000000000",
          "1999-08-01T00:00:00.000000000",
          "1999-09-01T00:00:00.000000000",
          "1999-10-01T00:00:00.000000000",
          "1999-11-01T00:00:00.000000000",
          "1999-12-01T00:00:00.000000000",
          "2000-01-01T00:00:00.000000000",
          "2000-02-01T00:00:00.000000000",
          "2000-03-01T00:00:00.000000000",
          "2000-04-01T00:00:00.000000000",
          "2000-05-01T00:00:00.000000000",
          "2000-06-01T00:00:00.000000000",
          "2000-07-01T00:00:00.000000000",
          "2000-08-01T00:00:00.000000000",
          "2000-09-01T00:00:00.000000000",
          "2000-10-01T00:00:00.000000000",
          "2000-11-01T00:00:00.000000000",
          "2000-12-01T00:00:00.000000000",
          "2001-01-01T00:00:00.000000000",
          "2001-02-01T00:00:00.000000000",
          "2001-03-01T00:00:00.000000000",
          "2001-04-01T00:00:00.000000000",
          "2001-05-01T00:00:00.000000000",
          "2001-06-01T00:00:00.000000000",
          "2001-07-01T00:00:00.000000000",
          "2001-08-01T00:00:00.000000000",
          "2001-09-01T00:00:00.000000000",
          "2001-10-01T00:00:00.000000000",
          "2001-11-01T00:00:00.000000000",
          "2001-12-01T00:00:00.000000000",
          "2002-01-01T00:00:00.000000000",
          "2002-02-01T00:00:00.000000000",
          "2002-03-01T00:00:00.000000000",
          "2002-04-01T00:00:00.000000000",
          "2002-05-01T00:00:00.000000000",
          "2002-06-01T00:00:00.000000000",
          "2002-07-01T00:00:00.000000000",
          "2002-08-01T00:00:00.000000000",
          "2002-09-01T00:00:00.000000000",
          "2002-10-01T00:00:00.000000000",
          "2002-11-01T00:00:00.000000000",
          "2002-12-01T00:00:00.000000000",
          "2003-01-01T00:00:00.000000000",
          "2003-02-01T00:00:00.000000000",
          "2003-03-01T00:00:00.000000000",
          "2003-04-01T00:00:00.000000000",
          "2003-05-01T00:00:00.000000000",
          "2003-06-01T00:00:00.000000000",
          "2003-07-01T00:00:00.000000000",
          "2003-08-01T00:00:00.000000000",
          "2003-09-01T00:00:00.000000000",
          "2003-10-01T00:00:00.000000000",
          "2003-11-01T00:00:00.000000000",
          "2003-12-01T00:00:00.000000000",
          "2004-01-01T00:00:00.000000000",
          "2004-02-01T00:00:00.000000000",
          "2004-03-01T00:00:00.000000000",
          "2004-04-01T00:00:00.000000000",
          "2004-05-01T00:00:00.000000000",
          "2004-06-01T00:00:00.000000000",
          "2004-07-01T00:00:00.000000000",
          "2004-08-01T00:00:00.000000000",
          "2004-09-01T00:00:00.000000000",
          "2004-10-01T00:00:00.000000000",
          "2004-11-01T00:00:00.000000000",
          "2004-12-01T00:00:00.000000000",
          "2005-01-01T00:00:00.000000000",
          "2005-02-01T00:00:00.000000000",
          "2005-03-01T00:00:00.000000000",
          "2005-04-01T00:00:00.000000000",
          "2005-05-01T00:00:00.000000000",
          "2005-06-01T00:00:00.000000000",
          "2005-07-01T00:00:00.000000000",
          "2005-08-01T00:00:00.000000000",
          "2005-09-01T00:00:00.000000000",
          "2005-10-01T00:00:00.000000000",
          "2005-11-01T00:00:00.000000000",
          "2005-12-01T00:00:00.000000000",
          "2006-01-01T00:00:00.000000000",
          "2006-02-01T00:00:00.000000000",
          "2006-03-01T00:00:00.000000000",
          "2006-04-01T00:00:00.000000000",
          "2006-05-01T00:00:00.000000000",
          "2006-06-01T00:00:00.000000000",
          "2006-07-01T00:00:00.000000000",
          "2006-08-01T00:00:00.000000000",
          "2006-09-01T00:00:00.000000000",
          "2006-10-01T00:00:00.000000000",
          "2006-11-01T00:00:00.000000000",
          "2006-12-01T00:00:00.000000000",
          "2007-01-01T00:00:00.000000000",
          "2007-02-01T00:00:00.000000000",
          "2007-03-01T00:00:00.000000000",
          "2007-04-01T00:00:00.000000000",
          "2007-05-01T00:00:00.000000000",
          "2007-06-01T00:00:00.000000000",
          "2007-07-01T00:00:00.000000000",
          "2007-08-01T00:00:00.000000000",
          "2007-09-01T00:00:00.000000000",
          "2007-10-01T00:00:00.000000000",
          "2007-11-01T00:00:00.000000000",
          "2007-12-01T00:00:00.000000000",
          "2008-01-01T00:00:00.000000000",
          "2008-02-01T00:00:00.000000000",
          "2008-03-01T00:00:00.000000000",
          "2008-04-01T00:00:00.000000000",
          "2008-05-01T00:00:00.000000000",
          "2008-06-01T00:00:00.000000000",
          "2008-07-01T00:00:00.000000000",
          "2008-08-01T00:00:00.000000000",
          "2008-09-01T00:00:00.000000000",
          "2008-10-01T00:00:00.000000000",
          "2008-11-01T00:00:00.000000000",
          "2008-12-01T00:00:00.000000000",
          "2009-01-01T00:00:00.000000000",
          "2009-02-01T00:00:00.000000000",
          "2009-03-01T00:00:00.000000000",
          "2009-04-01T00:00:00.000000000",
          "2009-05-01T00:00:00.000000000",
          "2009-06-01T00:00:00.000000000",
          "2009-07-01T00:00:00.000000000",
          "2009-08-01T00:00:00.000000000",
          "2009-09-01T00:00:00.000000000",
          "2009-10-01T00:00:00.000000000",
          "2009-11-01T00:00:00.000000000",
          "2009-12-01T00:00:00.000000000",
          "2010-01-01T00:00:00.000000000",
          "2010-02-01T00:00:00.000000000",
          "2010-03-01T00:00:00.000000000",
          "2010-04-01T00:00:00.000000000",
          "2010-05-01T00:00:00.000000000",
          "2010-06-01T00:00:00.000000000",
          "2010-07-01T00:00:00.000000000",
          "2010-08-01T00:00:00.000000000",
          "2010-09-01T00:00:00.000000000",
          "2010-10-01T00:00:00.000000000",
          "2010-11-01T00:00:00.000000000",
          "2010-12-01T00:00:00.000000000",
          "2011-01-01T00:00:00.000000000",
          "2011-02-01T00:00:00.000000000",
          "2011-03-01T00:00:00.000000000",
          "2011-04-01T00:00:00.000000000",
          "2011-05-01T00:00:00.000000000",
          "2011-06-01T00:00:00.000000000",
          "2011-07-01T00:00:00.000000000",
          "2011-08-01T00:00:00.000000000",
          "2011-09-01T00:00:00.000000000",
          "2011-10-01T00:00:00.000000000",
          "2011-11-01T00:00:00.000000000",
          "2011-12-01T00:00:00.000000000",
          "2012-01-01T00:00:00.000000000",
          "2012-02-01T00:00:00.000000000",
          "2012-03-01T00:00:00.000000000",
          "2012-04-01T00:00:00.000000000",
          "2012-05-01T00:00:00.000000000",
          "2012-06-01T00:00:00.000000000",
          "2012-07-01T00:00:00.000000000",
          "2012-08-01T00:00:00.000000000",
          "2012-09-01T00:00:00.000000000",
          "2012-10-01T00:00:00.000000000",
          "2012-11-01T00:00:00.000000000",
          "2012-12-01T00:00:00.000000000",
          "2013-01-01T00:00:00.000000000",
          "2013-02-01T00:00:00.000000000",
          "2013-03-01T00:00:00.000000000",
          "2013-04-01T00:00:00.000000000",
          "2013-05-01T00:00:00.000000000",
          "2013-06-01T00:00:00.000000000",
          "2013-07-01T00:00:00.000000000",
          "2013-08-01T00:00:00.000000000",
          "2013-09-01T00:00:00.000000000",
          "2013-10-01T00:00:00.000000000",
          "2013-11-01T00:00:00.000000000",
          "2013-12-01T00:00:00.000000000",
          "2014-01-01T00:00:00.000000000",
          "2014-02-01T00:00:00.000000000",
          "2014-03-01T00:00:00.000000000",
          "2014-04-01T00:00:00.000000000",
          "2014-05-01T00:00:00.000000000",
          "2014-06-01T00:00:00.000000000",
          "2014-07-01T00:00:00.000000000",
          "2014-08-01T00:00:00.000000000",
          "2014-09-01T00:00:00.000000000",
          "2014-10-01T00:00:00.000000000",
          "2014-11-01T00:00:00.000000000",
          "2014-12-01T00:00:00.000000000",
          "2015-01-01T00:00:00.000000000",
          "2015-02-01T00:00:00.000000000",
          "2015-03-01T00:00:00.000000000",
          "2015-04-01T00:00:00.000000000",
          "2015-05-01T00:00:00.000000000",
          "2015-06-01T00:00:00.000000000",
          "2015-07-01T00:00:00.000000000",
          "2015-08-01T00:00:00.000000000",
          "2015-09-01T00:00:00.000000000",
          "2015-10-01T00:00:00.000000000",
          "2015-11-01T00:00:00.000000000",
          "2015-12-01T00:00:00.000000000",
          "2016-01-01T00:00:00.000000000",
          "2016-02-01T00:00:00.000000000",
          "2016-03-01T00:00:00.000000000",
          "2016-04-01T00:00:00.000000000",
          "2016-05-01T00:00:00.000000000",
          "2016-06-01T00:00:00.000000000",
          "2016-07-01T00:00:00.000000000",
          "2016-08-01T00:00:00.000000000",
          "2016-09-01T00:00:00.000000000",
          "2016-10-01T00:00:00.000000000",
          "2016-11-01T00:00:00.000000000",
          "2016-12-01T00:00:00.000000000",
          "2017-01-01T00:00:00.000000000",
          "2017-02-01T00:00:00.000000000",
          "2017-03-01T00:00:00.000000000",
          "2017-04-01T00:00:00.000000000",
          "2017-05-01T00:00:00.000000000",
          "2017-06-01T00:00:00.000000000",
          "2017-07-01T00:00:00.000000000",
          "2017-08-01T00:00:00.000000000",
          "2017-09-01T00:00:00.000000000",
          "2017-10-01T00:00:00.000000000",
          "2017-11-01T00:00:00.000000000",
          "2017-12-01T00:00:00.000000000",
          "2018-01-01T00:00:00.000000000",
          "2018-02-01T00:00:00.000000000",
          "2018-03-01T00:00:00.000000000",
          "2018-04-01T00:00:00.000000000",
          "2018-05-01T00:00:00.000000000",
          "2018-06-01T00:00:00.000000000",
          "2018-07-01T00:00:00.000000000",
          "2018-08-01T00:00:00.000000000",
          "2018-09-01T00:00:00.000000000",
          "2018-10-01T00:00:00.000000000",
          "2018-11-01T00:00:00.000000000",
          "2018-12-01T00:00:00.000000000",
          "2019-01-01T00:00:00.000000000",
          "2019-02-01T00:00:00.000000000",
          "2019-03-01T00:00:00.000000000",
          "2019-04-01T00:00:00.000000000",
          "2019-05-01T00:00:00.000000000",
          "2019-06-01T00:00:00.000000000",
          "2019-07-01T00:00:00.000000000",
          "2019-08-01T00:00:00.000000000",
          "2019-09-01T00:00:00.000000000",
          "2019-10-01T00:00:00.000000000",
          "2019-11-01T00:00:00.000000000",
          "2019-12-01T00:00:00.000000000",
          "2020-01-01T00:00:00.000000000",
          "2020-02-01T00:00:00.000000000",
          "2020-03-01T00:00:00.000000000",
          "2020-04-01T00:00:00.000000000",
          "2020-05-01T00:00:00.000000000",
          "2020-06-01T00:00:00.000000000",
          "2020-07-01T00:00:00.000000000",
          "2020-08-01T00:00:00.000000000",
          "2020-09-01T00:00:00.000000000",
          "2020-10-01T00:00:00.000000000",
          "2020-11-01T00:00:00.000000000",
          "2020-12-01T00:00:00.000000000",
          "2021-01-01T00:00:00.000000000",
          "2021-02-01T00:00:00.000000000",
          "2021-03-01T00:00:00.000000000",
          "2021-04-01T00:00:00.000000000",
          "2021-05-01T00:00:00.000000000",
          "2021-06-01T00:00:00.000000000",
          "2021-07-01T00:00:00.000000000",
          "2021-08-01T00:00:00.000000000",
          "2021-09-01T00:00:00.000000000",
          "2021-10-01T00:00:00.000000000",
          "2021-11-01T00:00:00.000000000",
          "2021-12-01T00:00:00.000000000",
          "2022-01-01T00:00:00.000000000",
          "2022-02-01T00:00:00.000000000",
          "2022-03-01T00:00:00.000000000",
          "2022-04-01T00:00:00.000000000",
          "2022-05-01T00:00:00.000000000",
          "2022-06-01T00:00:00.000000000",
          "2022-07-01T00:00:00.000000000",
          "2022-08-01T00:00:00.000000000",
          "2022-09-01T00:00:00.000000000",
          "2022-10-01T00:00:00.000000000",
          "2022-11-01T00:00:00.000000000",
          "2022-12-01T00:00:00.000000000",
          "2023-01-01T00:00:00.000000000",
          "2023-02-01T00:00:00.000000000",
          "2023-03-01T00:00:00.000000000",
          "2023-04-01T00:00:00.000000000",
          "2023-05-01T00:00:00.000000000",
          "2023-06-01T00:00:00.000000000",
          "2023-07-01T00:00:00.000000000",
          "2023-08-01T00:00:00.000000000",
          "2023-09-01T00:00:00.000000000",
          "2023-10-01T00:00:00.000000000",
          "2023-11-01T00:00:00.000000000",
          "2023-12-01T00:00:00.000000000"
         ],
         "y": {
          "bdata": "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",
          "dtype": "f8"
         }
        },
        {
         "line": {
          "color": "green"
         },
         "name": "Actual Test Values",
         "type": "scatter",
         "x": [
          "2024-01-01T00:00:00.000000000",
          "2024-02-01T00:00:00.000000000",
          "2024-03-01T00:00:00.000000000",
          "2024-04-01T00:00:00.000000000",
          "2024-05-01T00:00:00.000000000",
          "2024-06-01T00:00:00.000000000",
          "2024-07-01T00:00:00.000000000",
          "2024-08-01T00:00:00.000000000",
          "2024-09-01T00:00:00.000000000",
          "2024-10-01T00:00:00.000000000",
          "2024-11-01T00:00:00.000000000",
          "2024-12-01T00:00:00.000000000"
         ],
         "y": {
          "bdata": "XI/C9SjIn0ApXI/C9ZyfQOxRuB4F3KBAZmZmZuY2okD2KFyPQl6iQHsUrkfhLKJAZmZmZma8okDNzMzMTEyjQJqZmZkZFaRAXI/C9SgEpUD2KFyPQrakQOxRuB4FsKRA",
          "dtype": "f8"
         }
        },
        {
         "line": {
          "color": "red"
         },
         "name": "Forecast",
         "type": "scatter",
         "x": [
          "2024-01-31T00:00:00.000000000",
          "2024-02-29T00:00:00.000000000",
          "2024-03-31T00:00:00.000000000",
          "2024-04-30T00:00:00.000000000",
          "2024-05-31T00:00:00.000000000",
          "2024-06-30T00:00:00.000000000",
          "2024-07-31T00:00:00.000000000",
          "2024-08-31T00:00:00.000000000",
          "2024-09-30T00:00:00.000000000",
          "2024-10-31T00:00:00.000000000",
          "2024-11-30T00:00:00.000000000",
          "2024-12-31T00:00:00.000000000"
         ],
         "y": {
          "bdata": "p+DlFF9UoEAqeDnF3N6fQERjfVgNHKBAcwperiluoECn4OVU0DmgQJIkSeKQkKBAx/rQuLZQoEB4OQV/FVSgQEmSJMmbeKBA8HIK3qo/oECdgpejDVSgQK0PjbVFuaBA",
          "dtype": "f8"
         }
        },
        {
         "fill": "toself",
         "fillcolor": "rgba(255,0,0,0.2)",
         "line": {
          "color": "rgba(255,255,255,0)"
         },
         "name": "80% Confidence",
         "type": "scatter",
         "x": [
          "2024-01-31T00:00:00",
          "2024-02-29T00:00:00",
          "2024-03-31T00:00:00",
          "2024-04-30T00:00:00",
          "2024-05-31T00:00:00",
          "2024-06-30T00:00:00",
          "2024-07-31T00:00:00",
          "2024-08-31T00:00:00",
          "2024-09-30T00:00:00",
          "2024-10-31T00:00:00",
          "2024-11-30T00:00:00",
          "2024-12-31T00:00:00",
          "2024-12-31T00:00:00",
          "2024-11-30T00:00:00",
          "2024-10-31T00:00:00",
          "2024-09-30T00:00:00",
          "2024-08-31T00:00:00",
          "2024-07-31T00:00:00",
          "2024-06-30T00:00:00",
          "2024-05-31T00:00:00",
          "2024-04-30T00:00:00",
          "2024-03-31T00:00:00",
          "2024-02-29T00:00:00",
          "2024-01-31T00:00:00"
         ],
         "y": [
          2233.2770029496173,
          2205.3210698341836,
          2223.1851134008293,
          2266.7849669164543,
          2250.5288634008293,
          2306.0335419323983,
          2283.9306341677297,
          2289.374223732462,
          2316.278741330517,
          2295.171047911352,
          2308.2924635283803,
          2373.8059709821428,
          1928.0568867586098,
          1891.116607043208,
          1885.3130181760205,
          1922.0399962133292,
          1912.9637822365275,
          1922.498043885523,
          1954.817040766502,
          1929.9925213249362,
          1965.8953533561862,
          1934.324499760842,
          1893.9988091916455,
          1977.0053387077487
         ]
        }
       ],
       "layout": {
        "hovermode": "x unified",
        "template": {
         "data": {
          "bar": [
           {
            "error_x": {
             "color": "#2a3f5f"
            },
            "error_y": {
             "color": "#2a3f5f"
            },
            "marker": {
             "line": {
              "color": "white",
              "width": 0.5
             },
             "pattern": {
              "fillmode": "overlay",
              "size": 10,
              "solidity": 0.2
             }
            },
            "type": "bar"
           }
          ],
          "barpolar": [
           {
            "marker": {
             "line": {
              "color": "white",
              "width": 0.5
             },
             "pattern": {
              "fillmode": "overlay",
              "size": 10,
              "solidity": 0.2
             }
            },
            "type": "barpolar"
           }
          ],
          "carpet": [
           {
            "aaxis": {
             "endlinecolor": "#2a3f5f",
             "gridcolor": "#C8D4E3",
             "linecolor": "#C8D4E3",
             "minorgridcolor": "#C8D4E3",
             "startlinecolor": "#2a3f5f"
            },
            "baxis": {
             "endlinecolor": "#2a3f5f",
             "gridcolor": "#C8D4E3",
             "linecolor": "#C8D4E3",
             "minorgridcolor": "#C8D4E3",
             "startlinecolor": "#2a3f5f"
            },
            "type": "carpet"
           }
          ],
          "choropleth": [
           {
            "colorbar": {
             "outlinewidth": 0,
             "ticks": ""
            },
            "type": "choropleth"
           }
          ],
          "contour": [
           {
            "colorbar": {
             "outlinewidth": 0,
             "ticks": ""
            },
            "colorscale": [
             [
              0,
              "#0d0887"
             ],
             [
              0.1111111111111111,
              "#46039f"
             ],
             [
              0.2222222222222222,
              "#7201a8"
             ],
             [
              0.3333333333333333,
              "#9c179e"
             ],
             [
              0.4444444444444444,
              "#bd3786"
             ],
             [
              0.5555555555555556,
              "#d8576b"
             ],
             [
              0.6666666666666666,
              "#ed7953"
             ],
             [
              0.7777777777777778,
              "#fb9f3a"
             ],
             [
              0.8888888888888888,
              "#fdca26"
             ],
             [
              1,
              "#f0f921"
             ]
            ],
            "type": "contour"
           }
          ],
          "contourcarpet": [
           {
            "colorbar": {
             "outlinewidth": 0,
             "ticks": ""
            },
            "type": "contourcarpet"
           }
          ],
          "heatmap": [
           {
            "colorbar": {
             "outlinewidth": 0,
             "ticks": ""
            },
            "colorscale": [
             [
              0,
              "#0d0887"
             ],
             [
              0.1111111111111111,
              "#46039f"
             ],
             [
              0.2222222222222222,
              "#7201a8"
             ],
             [
              0.3333333333333333,
              "#9c179e"
             ],
             [
              0.4444444444444444,
              "#bd3786"
             ],
             [
              0.5555555555555556,
              "#d8576b"
             ],
             [
              0.6666666666666666,
              "#ed7953"
             ],
             [
              0.7777777777777778,
              "#fb9f3a"
             ],
             [
              0.8888888888888888,
              "#fdca26"
             ],
             [
              1,
              "#f0f921"
             ]
            ],
            "type": "heatmap"
           }
          ],
          "histogram": [
           {
            "marker": {
             "pattern": {
              "fillmode": "overlay",
              "size": 10,
              "solidity": 0.2
             }
            },
            "type": "histogram"
           }
          ],
          "histogram2d": [
           {
            "colorbar": {
             "outlinewidth": 0,
             "ticks": ""
            },
            "colorscale": [
             [
              0,
              "#0d0887"
             ],
             [
              0.1111111111111111,
              "#46039f"
             ],
             [
              0.2222222222222222,
              "#7201a8"
             ],
             [
              0.3333333333333333,
              "#9c179e"
             ],
             [
              0.4444444444444444,
              "#bd3786"
             ],
             [
              0.5555555555555556,
              "#d8576b"
             ],
             [
              0.6666666666666666,
              "#ed7953"
             ],
             [
              0.7777777777777778,
              "#fb9f3a"
             ],
             [
              0.8888888888888888,
              "#fdca26"
             ],
             [
              1,
              "#f0f921"
             ]
            ],
            "type": "histogram2d"
           }
          ],
          "histogram2dcontour": [
           {
            "colorbar": {
             "outlinewidth": 0,
             "ticks": ""
            },
            "colorscale": [
             [
              0,
              "#0d0887"
             ],
             [
              0.1111111111111111,
              "#46039f"
             ],
             [
              0.2222222222222222,
              "#7201a8"
             ],
             [
              0.3333333333333333,
              "#9c179e"
             ],
             [
              0.4444444444444444,
              "#bd3786"
             ],
             [
              0.5555555555555556,
              "#d8576b"
             ],
             [
              0.6666666666666666,
              "#ed7953"
             ],
             [
              0.7777777777777778,
              "#fb9f3a"
             ],
             [
              0.8888888888888888,
              "#fdca26"
             ],
             [
              1,
              "#f0f921"
             ]
            ],
            "type": "histogram2dcontour"
           }
          ],
          "mesh3d": [
           {
            "colorbar": {
             "outlinewidth": 0,
             "ticks": ""
            },
            "type": "mesh3d"
           }
          ],
          "parcoords": [
           {
            "line": {
             "colorbar": {
              "outlinewidth": 0,
              "ticks": ""
             }
            },
            "type": "parcoords"
           }
          ],
          "pie": [
           {
            "automargin": true,
            "type": "pie"
           }
          ],
          "scatter": [
           {
            "fillpattern": {
             "fillmode": "overlay",
             "size": 10,
             "solidity": 0.2
            },
            "type": "scatter"
           }
          ],
          "scatter3d": [
           {
            "line": {
             "colorbar": {
              "outlinewidth": 0,
              "ticks": ""
             }
            },
            "marker": {
             "colorbar": {
              "outlinewidth": 0,
              "ticks": ""
             }
            },
            "type": "scatter3d"
           }
          ],
          "scattercarpet": [
           {
            "marker": {
             "colorbar": {
              "outlinewidth": 0,
              "ticks": ""
             }
            },
            "type": "scattercarpet"
           }
          ],
          "scattergeo": [
           {
            "marker": {
             "colorbar": {
              "outlinewidth": 0,
              "ticks": ""
             }
            },
            "type": "scattergeo"
           }
          ],
          "scattergl": [
           {
            "marker": {
             "colorbar": {
              "outlinewidth": 0,
              "ticks": ""
             }
            },
            "type": "scattergl"
           }
          ],
          "scattermap": [
           {
            "marker": {
             "colorbar": {
              "outlinewidth": 0,
              "ticks": ""
             }
            },
            "type": "scattermap"
           }
          ],
          "scattermapbox": [
           {
            "marker": {
             "colorbar": {
              "outlinewidth": 0,
              "ticks": ""
             }
            },
            "type": "scattermapbox"
           }
          ],
          "scatterpolar": [
           {
            "marker": {
             "colorbar": {
              "outlinewidth": 0,
              "ticks": ""
             }
            },
            "type": "scatterpolar"
           }
          ],
          "scatterpolargl": [
           {
            "marker": {
             "colorbar": {
              "outlinewidth": 0,
              "ticks": ""
             }
            },
            "type": "scatterpolargl"
           }
          ],
          "scatterternary": [
           {
            "marker": {
             "colorbar": {
              "outlinewidth": 0,
              "ticks": ""
             }
            },
            "type": "scatterternary"
           }
          ],
          "surface": [
           {
            "colorbar": {
             "outlinewidth": 0,
             "ticks": ""
            },
            "colorscale": [
             [
              0,
              "#0d0887"
             ],
             [
              0.1111111111111111,
              "#46039f"
             ],
             [
              0.2222222222222222,
              "#7201a8"
             ],
             [
              0.3333333333333333,
              "#9c179e"
             ],
             [
              0.4444444444444444,
              "#bd3786"
             ],
             [
              0.5555555555555556,
              "#d8576b"
             ],
             [
              0.6666666666666666,
              "#ed7953"
             ],
             [
              0.7777777777777778,
              "#fb9f3a"
             ],
             [
              0.8888888888888888,
              "#fdca26"
             ],
             [
              1,
              "#f0f921"
             ]
            ],
            "type": "surface"
           }
          ],
          "table": [
           {
            "cells": {
             "fill": {
              "color": "#EBF0F8"
             },
             "line": {
              "color": "white"
             }
            },
            "header": {
             "fill": {
              "color": "#C8D4E3"
             },
             "line": {
              "color": "white"
             }
            },
            "type": "table"
           }
          ]
         },
         "layout": {
          "annotationdefaults": {
           "arrowcolor": "#2a3f5f",
           "arrowhead": 0,
           "arrowwidth": 1
          },
          "autotypenumbers": "strict",
          "coloraxis": {
           "colorbar": {
            "outlinewidth": 0,
            "ticks": ""
           }
          },
          "colorscale": {
           "diverging": [
            [
             0,
             "#8e0152"
            ],
            [
             0.1,
             "#c51b7d"
            ],
            [
             0.2,
             "#de77ae"
            ],
            [
             0.3,
             "#f1b6da"
            ],
            [
             0.4,
             "#fde0ef"
            ],
            [
             0.5,
             "#f7f7f7"
            ],
            [
             0.6,
             "#e6f5d0"
            ],
            [
             0.7,
             "#b8e186"
            ],
            [
             0.8,
             "#7fbc41"
            ],
            [
             0.9,
             "#4d9221"
            ],
            [
             1,
             "#276419"
            ]
           ],
           "sequential": [
            [
             0,
             "#0d0887"
            ],
            [
             0.1111111111111111,
             "#46039f"
            ],
            [
             0.2222222222222222,
             "#7201a8"
            ],
            [
             0.3333333333333333,
             "#9c179e"
            ],
            [
             0.4444444444444444,
             "#bd3786"
            ],
            [
             0.5555555555555556,
             "#d8576b"
            ],
            [
             0.6666666666666666,
             "#ed7953"
            ],
            [
             0.7777777777777778,
             "#fb9f3a"
            ],
            [
             0.8888888888888888,
             "#fdca26"
            ],
            [
             1,
             "#f0f921"
            ]
           ],
           "sequentialminus": [
            [
             0,
             "#0d0887"
            ],
            [
             0.1111111111111111,
             "#46039f"
            ],
            [
             0.2222222222222222,
             "#7201a8"
            ],
            [
             0.3333333333333333,
             "#9c179e"
            ],
            [
             0.4444444444444444,
             "#bd3786"
            ],
            [
             0.5555555555555556,
             "#d8576b"
            ],
            [
             0.6666666666666666,
             "#ed7953"
            ],
            [
             0.7777777777777778,
             "#fb9f3a"
            ],
            [
             0.8888888888888888,
             "#fdca26"
            ],
            [
             1,
             "#f0f921"
            ]
           ]
          },
          "colorway": [
           "#636efa",
           "#EF553B",
           "#00cc96",
           "#ab63fa",
           "#FFA15A",
           "#19d3f3",
           "#FF6692",
           "#B6E880",
           "#FF97FF",
           "#FECB52"
          ],
          "font": {
           "color": "#2a3f5f"
          },
          "geo": {
           "bgcolor": "white",
           "lakecolor": "white",
           "landcolor": "white",
           "showlakes": true,
           "showland": true,
           "subunitcolor": "#C8D4E3"
          },
          "hoverlabel": {
           "align": "left"
          },
          "hovermode": "closest",
          "mapbox": {
           "style": "light"
          },
          "paper_bgcolor": "white",
          "plot_bgcolor": "white",
          "polar": {
           "angularaxis": {
            "gridcolor": "#EBF0F8",
            "linecolor": "#EBF0F8",
            "ticks": ""
           },
           "bgcolor": "white",
           "radialaxis": {
            "gridcolor": "#EBF0F8",
            "linecolor": "#EBF0F8",
            "ticks": ""
           }
          },
          "scene": {
           "xaxis": {
            "backgroundcolor": "white",
            "gridcolor": "#DFE8F3",
            "gridwidth": 2,
            "linecolor": "#EBF0F8",
            "showbackground": true,
            "ticks": "",
            "zerolinecolor": "#EBF0F8"
           },
           "yaxis": {
            "backgroundcolor": "white",
            "gridcolor": "#DFE8F3",
            "gridwidth": 2,
            "linecolor": "#EBF0F8",
            "showbackground": true,
            "ticks": "",
            "zerolinecolor": "#EBF0F8"
           },
           "zaxis": {
            "backgroundcolor": "white",
            "gridcolor": "#DFE8F3",
            "gridwidth": 2,
            "linecolor": "#EBF0F8",
            "showbackground": true,
            "ticks": "",
            "zerolinecolor": "#EBF0F8"
           }
          },
          "shapedefaults": {
           "line": {
            "color": "#2a3f5f"
           }
          },
          "ternary": {
           "aaxis": {
            "gridcolor": "#DFE8F3",
            "linecolor": "#A2B1C6",
            "ticks": ""
           },
           "baxis": {
            "gridcolor": "#DFE8F3",
            "linecolor": "#A2B1C6",
            "ticks": ""
           },
           "bgcolor": "white",
           "caxis": {
            "gridcolor": "#DFE8F3",
            "linecolor": "#A2B1C6",
            "ticks": ""
           }
          },
          "title": {
           "x": 0.05
          },
          "xaxis": {
           "automargin": true,
           "gridcolor": "#EBF0F8",
           "linecolor": "#EBF0F8",
           "ticks": "",
           "title": {
            "standoff": 15
           },
           "zerolinecolor": "#EBF0F8",
           "zerolinewidth": 2
          },
          "yaxis": {
           "automargin": true,
           "gridcolor": "#EBF0F8",
           "linecolor": "#EBF0F8",
           "ticks": "",
           "title": {
            "standoff": 15
           },
           "zerolinecolor": "#EBF0F8",
           "zerolinewidth": 2
          }
         }
        },
        "title": {
         "text": "Gold Price Forecast vs Actual"
        },
        "xaxis": {
         "title": {
          "text": "Date"
         }
        },
        "yaxis": {
         "title": {
          "text": "Price"
         }
        }
       }
      }
     },
     "metadata": {},
     "output_type": "display_data"
    },
    {
     "name": "stdout",
     "output_type": "stream",
     "text": [
      "\n",
      "Gold Price Evaluation:\n",
      "best_model: WeightedEnsemble\n",
      "- MAE: 309.02\n",
      "- MAPE: 12.30%\n",
      "- RMSE: 363.01\n"
     ]
    },
    {
     "data": {
      "application/vnd.plotly.v1+json": {
       "config": {
        "plotlyServerURL": "https://plot.ly"
       },
       "data": [
        {
         "alignmentgroup": "True",
         "hovertemplate": "Metric=MAE<br>index=%{x}<br>Metric Value=%{y}<extra></extra>",
         "legendgroup": "MAE",
         "marker": {
          "color": "#636efa",
          "pattern": {
           "shape": ""
          }
         },
         "name": "MAE",
         "offsetgroup": "MAE",
         "orientation": "v",
         "showlegend": true,
         "textposition": "auto",
         "type": "bar",
         "x": [
          "Crude Oil Brent Price",
          "Cocoa Price",
          "Gold Price"
         ],
         "xaxis": "x",
         "y": {
          "bdata": "V7oiH6LCG0AdbHxNC6UJQGQjTKFdUHNA",
          "dtype": "f8"
         },
         "yaxis": "y"
        },
        {
         "alignmentgroup": "True",
         "hovertemplate": "Metric=MAPE<br>index=%{x}<br>Metric Value=%{y}<extra></extra>",
         "legendgroup": "MAPE",
         "marker": {
          "color": "#EF553B",
          "pattern": {
           "shape": ""
          }
         },
         "name": "MAPE",
         "offsetgroup": "MAPE",
         "orientation": "v",
         "showlegend": true,
         "textposition": "auto",
         "type": "bar",
         "x": [
          "Crude Oil Brent Price",
          "Cocoa Price",
          "Gold Price"
         ],
         "xaxis": "x",
         "y": {
          "bdata": "SfBB09EBIkBDBy7Po3lEQBARSddvmyhA",
          "dtype": "f8"
         },
         "yaxis": "y"
        },
        {
         "alignmentgroup": "True",
         "hovertemplate": "Metric=RMSE<br>index=%{x}<br>Metric Value=%{y}<extra></extra>",
         "legendgroup": "RMSE",
         "marker": {
          "color": "#00cc96",
          "pattern": {
           "shape": ""
          }
         },
         "name": "RMSE",
         "offsetgroup": "RMSE",
         "orientation": "v",
         "showlegend": true,
         "textposition": "auto",
         "type": "bar",
         "x": [
          "Crude Oil Brent Price",
          "Cocoa Price",
          "Gold Price"
         ],
         "xaxis": "x",
         "y": {
          "bdata": "Ipu7CtbwIUCa9RdtLI0MQILqYWImsHZA",
          "dtype": "f8"
         },
         "yaxis": "y"
        }
       ],
       "layout": {
        "barmode": "group",
        "legend": {
         "title": {
          "text": "Metric"
         },
         "tracegroupgap": 0
        },
        "template": {
         "data": {
          "bar": [
           {
            "error_x": {
             "color": "#2a3f5f"
            },
            "error_y": {
             "color": "#2a3f5f"
            },
            "marker": {
             "line": {
              "color": "white",
              "width": 0.5
             },
             "pattern": {
              "fillmode": "overlay",
              "size": 10,
              "solidity": 0.2
             }
            },
            "type": "bar"
           }
          ],
          "barpolar": [
           {
            "marker": {
             "line": {
              "color": "white",
              "width": 0.5
             },
             "pattern": {
              "fillmode": "overlay",
              "size": 10,
              "solidity": 0.2
             }
            },
            "type": "barpolar"
           }
          ],
          "carpet": [
           {
            "aaxis": {
             "endlinecolor": "#2a3f5f",
             "gridcolor": "#C8D4E3",
             "linecolor": "#C8D4E3",
             "minorgridcolor": "#C8D4E3",
             "startlinecolor": "#2a3f5f"
            },
            "baxis": {
             "endlinecolor": "#2a3f5f",
             "gridcolor": "#C8D4E3",
             "linecolor": "#C8D4E3",
             "minorgridcolor": "#C8D4E3",
             "startlinecolor": "#2a3f5f"
            },
            "type": "carpet"
           }
          ],
          "choropleth": [
           {
            "colorbar": {
             "outlinewidth": 0,
             "ticks": ""
            },
            "type": "choropleth"
           }
          ],
          "contour": [
           {
            "colorbar": {
             "outlinewidth": 0,
             "ticks": ""
            },
            "colorscale": [
             [
              0,
              "#0d0887"
             ],
             [
              0.1111111111111111,
              "#46039f"
             ],
             [
              0.2222222222222222,
              "#7201a8"
             ],
             [
              0.3333333333333333,
              "#9c179e"
             ],
             [
              0.4444444444444444,
              "#bd3786"
             ],
             [
              0.5555555555555556,
              "#d8576b"
             ],
             [
              0.6666666666666666,
              "#ed7953"
             ],
             [
              0.7777777777777778,
              "#fb9f3a"
             ],
             [
              0.8888888888888888,
              "#fdca26"
             ],
             [
              1,
              "#f0f921"
             ]
            ],
            "type": "contour"
           }
          ],
          "contourcarpet": [
           {
            "colorbar": {
             "outlinewidth": 0,
             "ticks": ""
            },
            "type": "contourcarpet"
           }
          ],
          "heatmap": [
           {
            "colorbar": {
             "outlinewidth": 0,
             "ticks": ""
            },
            "colorscale": [
             [
              0,
              "#0d0887"
             ],
             [
              0.1111111111111111,
              "#46039f"
             ],
             [
              0.2222222222222222,
              "#7201a8"
             ],
             [
              0.3333333333333333,
              "#9c179e"
             ],
             [
              0.4444444444444444,
              "#bd3786"
             ],
             [
              0.5555555555555556,
              "#d8576b"
             ],
             [
              0.6666666666666666,
              "#ed7953"
             ],
             [
              0.7777777777777778,
              "#fb9f3a"
             ],
             [
              0.8888888888888888,
              "#fdca26"
             ],
             [
              1,
              "#f0f921"
             ]
            ],
            "type": "heatmap"
           }
          ],
          "histogram": [
           {
            "marker": {
             "pattern": {
              "fillmode": "overlay",
              "size": 10,
              "solidity": 0.2
             }
            },
            "type": "histogram"
           }
          ],
          "histogram2d": [
           {
            "colorbar": {
             "outlinewidth": 0,
             "ticks": ""
            },
            "colorscale": [
             [
              0,
              "#0d0887"
             ],
             [
              0.1111111111111111,
              "#46039f"
             ],
             [
              0.2222222222222222,
              "#7201a8"
             ],
             [
              0.3333333333333333,
              "#9c179e"
             ],
             [
              0.4444444444444444,
              "#bd3786"
             ],
             [
              0.5555555555555556,
              "#d8576b"
             ],
             [
              0.6666666666666666,
              "#ed7953"
             ],
             [
              0.7777777777777778,
              "#fb9f3a"
             ],
             [
              0.8888888888888888,
              "#fdca26"
             ],
             [
              1,
              "#f0f921"
             ]
            ],
            "type": "histogram2d"
           }
          ],
          "histogram2dcontour": [
           {
            "colorbar": {
             "outlinewidth": 0,
             "ticks": ""
            },
            "colorscale": [
             [
              0,
              "#0d0887"
             ],
             [
              0.1111111111111111,
              "#46039f"
             ],
             [
              0.2222222222222222,
              "#7201a8"
             ],
             [
              0.3333333333333333,
              "#9c179e"
             ],
             [
              0.4444444444444444,
              "#bd3786"
             ],
             [
              0.5555555555555556,
              "#d8576b"
             ],
             [
              0.6666666666666666,
              "#ed7953"
             ],
             [
              0.7777777777777778,
              "#fb9f3a"
             ],
             [
              0.8888888888888888,
              "#fdca26"
             ],
             [
              1,
              "#f0f921"
             ]
            ],
            "type": "histogram2dcontour"
           }
          ],
          "mesh3d": [
           {
            "colorbar": {
             "outlinewidth": 0,
             "ticks": ""
            },
            "type": "mesh3d"
           }
          ],
          "parcoords": [
           {
            "line": {
             "colorbar": {
              "outlinewidth": 0,
              "ticks": ""
             }
            },
            "type": "parcoords"
           }
          ],
          "pie": [
           {
            "automargin": true,
            "type": "pie"
           }
          ],
          "scatter": [
           {
            "fillpattern": {
             "fillmode": "overlay",
             "size": 10,
             "solidity": 0.2
            },
            "type": "scatter"
           }
          ],
          "scatter3d": [
           {
            "line": {
             "colorbar": {
              "outlinewidth": 0,
              "ticks": ""
             }
            },
            "marker": {
             "colorbar": {
              "outlinewidth": 0,
              "ticks": ""
             }
            },
            "type": "scatter3d"
           }
          ],
          "scattercarpet": [
           {
            "marker": {
             "colorbar": {
              "outlinewidth": 0,
              "ticks": ""
             }
            },
            "type": "scattercarpet"
           }
          ],
          "scattergeo": [
           {
            "marker": {
             "colorbar": {
              "outlinewidth": 0,
              "ticks": ""
             }
            },
            "type": "scattergeo"
           }
          ],
          "scattergl": [
           {
            "marker": {
             "colorbar": {
              "outlinewidth": 0,
              "ticks": ""
             }
            },
            "type": "scattergl"
           }
          ],
          "scattermap": [
           {
            "marker": {
             "colorbar": {
              "outlinewidth": 0,
              "ticks": ""
             }
            },
            "type": "scattermap"
           }
          ],
          "scattermapbox": [
           {
            "marker": {
             "colorbar": {
              "outlinewidth": 0,
              "ticks": ""
             }
            },
            "type": "scattermapbox"
           }
          ],
          "scatterpolar": [
           {
            "marker": {
             "colorbar": {
              "outlinewidth": 0,
              "ticks": ""
             }
            },
            "type": "scatterpolar"
           }
          ],
          "scatterpolargl": [
           {
            "marker": {
             "colorbar": {
              "outlinewidth": 0,
              "ticks": ""
             }
            },
            "type": "scatterpolargl"
           }
          ],
          "scatterternary": [
           {
            "marker": {
             "colorbar": {
              "outlinewidth": 0,
              "ticks": ""
             }
            },
            "type": "scatterternary"
           }
          ],
          "surface": [
           {
            "colorbar": {
             "outlinewidth": 0,
             "ticks": ""
            },
            "colorscale": [
             [
              0,
              "#0d0887"
             ],
             [
              0.1111111111111111,
              "#46039f"
             ],
             [
              0.2222222222222222,
              "#7201a8"
             ],
             [
              0.3333333333333333,
              "#9c179e"
             ],
             [
              0.4444444444444444,
              "#bd3786"
             ],
             [
              0.5555555555555556,
              "#d8576b"
             ],
             [
              0.6666666666666666,
              "#ed7953"
             ],
             [
              0.7777777777777778,
              "#fb9f3a"
             ],
             [
              0.8888888888888888,
              "#fdca26"
             ],
             [
              1,
              "#f0f921"
             ]
            ],
            "type": "surface"
           }
          ],
          "table": [
           {
            "cells": {
             "fill": {
              "color": "#EBF0F8"
             },
             "line": {
              "color": "white"
             }
            },
            "header": {
             "fill": {
              "color": "#C8D4E3"
             },
             "line": {
              "color": "white"
             }
            },
            "type": "table"
           }
          ]
         },
         "layout": {
          "annotationdefaults": {
           "arrowcolor": "#2a3f5f",
           "arrowhead": 0,
           "arrowwidth": 1
          },
          "autotypenumbers": "strict",
          "coloraxis": {
           "colorbar": {
            "outlinewidth": 0,
            "ticks": ""
           }
          },
          "colorscale": {
           "diverging": [
            [
             0,
             "#8e0152"
            ],
            [
             0.1,
             "#c51b7d"
            ],
            [
             0.2,
             "#de77ae"
            ],
            [
             0.3,
             "#f1b6da"
            ],
            [
             0.4,
             "#fde0ef"
            ],
            [
             0.5,
             "#f7f7f7"
            ],
            [
             0.6,
             "#e6f5d0"
            ],
            [
             0.7,
             "#b8e186"
            ],
            [
             0.8,
             "#7fbc41"
            ],
            [
             0.9,
             "#4d9221"
            ],
            [
             1,
             "#276419"
            ]
           ],
           "sequential": [
            [
             0,
             "#0d0887"
            ],
            [
             0.1111111111111111,
             "#46039f"
            ],
            [
             0.2222222222222222,
             "#7201a8"
            ],
            [
             0.3333333333333333,
             "#9c179e"
            ],
            [
             0.4444444444444444,
             "#bd3786"
            ],
            [
             0.5555555555555556,
             "#d8576b"
            ],
            [
             0.6666666666666666,
             "#ed7953"
            ],
            [
             0.7777777777777778,
             "#fb9f3a"
            ],
            [
             0.8888888888888888,
             "#fdca26"
            ],
            [
             1,
             "#f0f921"
            ]
           ],
           "sequentialminus": [
            [
             0,
             "#0d0887"
            ],
            [
             0.1111111111111111,
             "#46039f"
            ],
            [
             0.2222222222222222,
             "#7201a8"
            ],
            [
             0.3333333333333333,
             "#9c179e"
            ],
            [
             0.4444444444444444,
             "#bd3786"
            ],
            [
             0.5555555555555556,
             "#d8576b"
            ],
            [
             0.6666666666666666,
             "#ed7953"
            ],
            [
             0.7777777777777778,
             "#fb9f3a"
            ],
            [
             0.8888888888888888,
             "#fdca26"
            ],
            [
             1,
             "#f0f921"
            ]
           ]
          },
          "colorway": [
           "#636efa",
           "#EF553B",
           "#00cc96",
           "#ab63fa",
           "#FFA15A",
           "#19d3f3",
           "#FF6692",
           "#B6E880",
           "#FF97FF",
           "#FECB52"
          ],
          "font": {
           "color": "#2a3f5f"
          },
          "geo": {
           "bgcolor": "white",
           "lakecolor": "white",
           "landcolor": "white",
           "showlakes": true,
           "showland": true,
           "subunitcolor": "#C8D4E3"
          },
          "hoverlabel": {
           "align": "left"
          },
          "hovermode": "closest",
          "mapbox": {
           "style": "light"
          },
          "paper_bgcolor": "white",
          "plot_bgcolor": "white",
          "polar": {
           "angularaxis": {
            "gridcolor": "#EBF0F8",
            "linecolor": "#EBF0F8",
            "ticks": ""
           },
           "bgcolor": "white",
           "radialaxis": {
            "gridcolor": "#EBF0F8",
            "linecolor": "#EBF0F8",
            "ticks": ""
           }
          },
          "scene": {
           "xaxis": {
            "backgroundcolor": "white",
            "gridcolor": "#DFE8F3",
            "gridwidth": 2,
            "linecolor": "#EBF0F8",
            "showbackground": true,
            "ticks": "",
            "zerolinecolor": "#EBF0F8"
           },
           "yaxis": {
            "backgroundcolor": "white",
            "gridcolor": "#DFE8F3",
            "gridwidth": 2,
            "linecolor": "#EBF0F8",
            "showbackground": true,
            "ticks": "",
            "zerolinecolor": "#EBF0F8"
           },
           "zaxis": {
            "backgroundcolor": "white",
            "gridcolor": "#DFE8F3",
            "gridwidth": 2,
            "linecolor": "#EBF0F8",
            "showbackground": true,
            "ticks": "",
            "zerolinecolor": "#EBF0F8"
           }
          },
          "shapedefaults": {
           "line": {
            "color": "#2a3f5f"
           }
          },
          "ternary": {
           "aaxis": {
            "gridcolor": "#DFE8F3",
            "linecolor": "#A2B1C6",
            "ticks": ""
           },
           "baxis": {
            "gridcolor": "#DFE8F3",
            "linecolor": "#A2B1C6",
            "ticks": ""
           },
           "bgcolor": "white",
           "caxis": {
            "gridcolor": "#DFE8F3",
            "linecolor": "#A2B1C6",
            "ticks": ""
           }
          },
          "title": {
           "x": 0.05
          },
          "xaxis": {
           "automargin": true,
           "gridcolor": "#EBF0F8",
           "linecolor": "#EBF0F8",
           "ticks": "",
           "title": {
            "standoff": 15
           },
           "zerolinecolor": "#EBF0F8",
           "zerolinewidth": 2
          },
          "yaxis": {
           "automargin": true,
           "gridcolor": "#EBF0F8",
           "linecolor": "#EBF0F8",
           "ticks": "",
           "title": {
            "standoff": 15
           },
           "zerolinecolor": "#EBF0F8",
           "zerolinewidth": 2
          }
         }
        },
        "title": {
         "text": "Model Performance Across Commodities"
        },
        "xaxis": {
         "anchor": "y",
         "domain": [
          0,
          1
         ],
         "title": {
          "text": "index"
         }
        },
        "yaxis": {
         "anchor": "x",
         "domain": [
          0,
          1
         ],
         "title": {
          "text": "Metric Value"
         }
        }
       }
      }
     },
     "metadata": {},
     "output_type": "display_data"
    }
   ],
   "source": [
    "import pandas as pd\n",
    "import numpy as np\n",
    "import plotly.express as px\n",
    "import plotly.graph_objects as go\n",
    "from autogluon.timeseries import TimeSeriesPredictor, TimeSeriesDataFrame\n",
    "from sklearn.metrics import mean_absolute_error, mean_absolute_percentage_error, mean_squared_error\n",
    "\n",
    "\n",
    "def prepare_data(filepath):\n",
    "    \"\"\"Load and prepare data with required __id__ column\"\"\"\n",
    "    df = pd.read_csv(filepath, parse_dates=['date'])\n",
    "    df['__id__'] = \"main_series\"  # Single time series ID\n",
    "    \n",
    "    # Add temporal features\n",
    "    for col in ['Crude Oil Brent Price', 'Cocoa Price', 'Gold Price']:\n",
    "        df[f'{col}_3mo_ma'] = df[col].rolling(3, min_periods=1).mean()\n",
    "        df[f'{col}_12mo_ma'] = df[col].rolling(12, min_periods=6).mean()\n",
    "    \n",
    "    return df.set_index('date').sort_index()\n",
    "\n",
    "\n",
    "def prepare_covariates(test_df:pd.DataFrame, target_col:str):\n",
    "    \"\"\"Prepare known covariates from test data for evaluation\"\"\"\n",
    "    # Extract all columns except the target we're predicting\n",
    "    covariate_cols = [col for col in test_df.columns if col not in [target_col, '__id__', 'Crude Oil Brent Price', 'Cocoa Price', 'Gold Price']]\n",
    "    \n",
    "    # Create TimeSeriesDataFrame with the test period covariates\n",
    "    test_covs = test_df[[target_col]+covariate_cols].copy()\n",
    "    test_covs['__id__'] = \"main_series\"  # Add ID column\n",
    "    \n",
    "    return TimeSeriesDataFrame.from_data_frame(\n",
    "        test_covs.reset_index(),\n",
    "        id_column=\"__id__\",\n",
    "        timestamp_column=\"date\"\n",
    "    )\n",
    "\n",
    "\n",
    "def create_ts_dataframe(df:pd.DataFrame, target_col:str):\n",
    "    \"\"\"Create properly formatted TimeSeriesDataFrame\"\"\"\n",
    "    # Keep only relevant columns\n",
    "    keep_cols = ['__id__', target_col] + [col for col in df.columns if col not in ['Crude Oil Brent Price', 'Cocoa Price', 'Gold Price', '__id__']]\n",
    "\n",
    "    # Prepare known covariates (all features except other commodities)\n",
    "    # covariates = [f for f in keep_cols if f not in ['__id__'] and f != target]\n",
    "    # covariates = [f for f in keep_cols if f != target]\n",
    "    # covariates = [f for f in keep_cols if f not in ['__id__', target_col]]\n",
    "\n",
    "    return TimeSeriesDataFrame.from_data_frame(\n",
    "        df[keep_cols].reset_index(),\n",
    "        id_column=\"__id__\",\n",
    "        timestamp_column=\"date\"\n",
    "    )\n",
    "\n",
    "\n",
    "def run_automl_forecasting(ts_data:TimeSeriesDataFrame, target_col:str, prediction_length=12):\n",
    "    \"\"\"Run AutoML forecasting for a single target\"\"\"\n",
    "\n",
    "    # Identify covariates - all columns except target and __id__\n",
    "    # known_covariates = [col for col in ts_data.columns if col not in [target_col, '__id__']]\n",
    "    # known_covariates_data = ts_data[known_covariates]  # Extract as TimeSeriesDataFrame\n",
    "\n",
    "    predictor = TimeSeriesPredictor(\n",
    "        target=target_col,\n",
    "        prediction_length=prediction_length,\n",
    "        eval_metric=\"RMSE\",\n",
    "        path=f\"autogluon_models/{target_col.replace(' ', '_')}\",\n",
    "    )\n",
    "    \n",
    "    predictor.fit(\n",
    "        train_data=ts_data,\n",
    "        time_limit=None,  # 1hour (3600) | None\n",
    "        presets=\"medium_quality\",\n",
    "        hyperparameters={\n",
    "            \"DeepARModel\": {\"num_layers\": 4},\n",
    "            \"SimpleFeedForwardModel\": {\"hidden_dimensions\":[256,128]},\n",
    "            \"TemporalFusionTransformerModel\": {},\n",
    "            \"PatchTSTModel\": {},\n",
    "            \"DLinearModel\": {},\n",
    "            \"TiDEModel\": {},\n",
    "            \"WaveNetModel\": {}\n",
    "        },\n",
    "        enable_ensemble=True,\n",
    "        num_val_windows=3,  # 3-fold time-based validation\n",
    "        verbosity=2,\n",
    "    )\n",
    "    \n",
    "    return predictor\n",
    "\n",
    "\n",
    "def calculate_metrics(y_true, y_pred):\n",
    "    \"\"\"Calculate evaluation metrics for time series forecasts\"\"\"\n",
    "    return {\n",
    "        'MAE': mean_absolute_error(y_true, y_pred),\n",
    "        'MAPE': mean_absolute_percentage_error(y_true, y_pred) * 100,  # as percentage\n",
    "        'RMSE': np.sqrt(mean_squared_error(y_true, y_pred))\n",
    "    }\n",
    "\n",
    "\n",
    "def plot_actual_vs_predicted(train_df:pd.DataFrame, test_df:pd.DataFrame, forecast_df:pd.DataFrame, target_col:str):\n",
    "    \"\"\"Interactive plot of actual vs predicted values\"\"\"\n",
    "    fig = go.Figure()\n",
    "    \n",
    "    # Convert indices to datetime\n",
    "    train_df.index = pd.to_datetime(train_df.index)\n",
    "    test_df.index = pd.to_datetime(test_df.index)\n",
    "    forecast_df.index = pd.to_datetime(forecast_df.index)\n",
    "    \n",
    "    # Training data\n",
    "    fig.add_trace(go.Scatter(\n",
    "        x=train_df.index,\n",
    "        y=train_df[target_col],\n",
    "        name='Training Data',\n",
    "        line=dict(color='blue')\n",
    "    ))\n",
    "    \n",
    "    # Test actuals\n",
    "    fig.add_trace(go.Scatter(\n",
    "        x=test_df.index,\n",
    "        y=test_df[target_col],\n",
    "        name='Actual Test Values',\n",
    "        line=dict(color='green')\n",
    "    ))\n",
    "    \n",
    "    # Forecasts (ensure proper alignment)\n",
    "    forecast_start = test_df.index[0]\n",
    "    forecast_dates = pd.date_range(\n",
    "        start=forecast_start,\n",
    "        periods=len(forecast_df),\n",
    "        freq='ME'\n",
    "    )\n",
    "    \n",
    "    fig.add_trace(go.Scatter(\n",
    "        x=forecast_dates,\n",
    "        y=forecast_df['mean'],\n",
    "        name='Forecast',\n",
    "        line=dict(color='red')\n",
    "    ))\n",
    "    \n",
    "    # Confidence interval\n",
    "    fig.add_trace(go.Scatter(\n",
    "        x=forecast_dates.tolist() + forecast_dates[::-1].tolist(),\n",
    "        y=forecast_df['0.9'].tolist() + forecast_df['0.1'][::-1].tolist(),\n",
    "        fill='toself',\n",
    "        fillcolor='rgba(255,0,0,0.2)',\n",
    "        line=dict(color='rgba(255,255,255,0)'),\n",
    "        name='80% Confidence'\n",
    "    ))\n",
    "    \n",
    "    fig.update_layout(\n",
    "        title=f'{target_col} Forecast vs Actual',\n",
    "        xaxis_title='Date',\n",
    "        yaxis_title='Price',\n",
    "        hovermode='x unified',\n",
    "        template='plotly_white'\n",
    "    )\n",
    "    fig.show()\n",
    "\n",
    "def plot_metrics(metrics_dict):\n",
    "    \"\"\"Bar plot comparing metrics across commodities\"\"\"\n",
    "    metrics_df = pd.DataFrame(metrics_dict).T\n",
    "    fig = px.bar(metrics_df, \n",
    "                 barmode='group',\n",
    "                 title='Model Performance Across Commodities',\n",
    "                 labels={'value': 'Metric Value', 'variable': 'Metric'})\n",
    "    fig.update_layout(template='plotly_white')\n",
    "    fig.show()\n",
    "\n",
    "\n",
    "if __name__ == \"__main__\":\n",
    "    # Configuration\n",
    "    # from google.colab import drive\n",
    "    # drive.mount('/content/drive')\n",
    "    DATA_PATH = \"merged_macro_commodity.csv\"\n",
    "    COMMODITIES = ['Crude Oil Brent Price', 'Cocoa Price', 'Gold Price']\n",
    "    PREDICTION_LENGTH = 12  # 12-month forecast\n",
    "    \n",
    "    # Prepare data\n",
    "    full_df = prepare_data(DATA_PATH)\n",
    "    train_df = full_df.iloc[:-PREDICTION_LENGTH]\n",
    "    test_df = full_df.iloc[-PREDICTION_LENGTH:]\n",
    "    \n",
    "    results = {}\n",
    "    for target in COMMODITIES:\n",
    "        print(f\"\\n=== Processing {target} ===\")\n",
    "        \n",
    "        # Prepare data\n",
    "        train_ts = create_ts_dataframe(train_df, target)\n",
    "        \n",
    "        # Train model\n",
    "        predictor = run_automl_forecasting(train_ts, target)\n",
    "\n",
    "        # Prepare future covariates\n",
    "        # test_covariates = prepare_covariates(test_df, target)\n",
    "        # train_covariates = prepare_covariates(train_df, target)\n",
    "        \n",
    "        # Generate forecast\n",
    "        forecast = predictor.predict(train_ts)\n",
    "\n",
    "        # Generate forecast with error handling\n",
    "        # try:\n",
    "        #     print(f\"Attempting to predict with covariates...\")\n",
    "        #     print(f\"  - Train data shape: {train_ts.shape}\")\n",
    "        #     print(f\"  - Test covariates shape: {test_covariates.shape}\")\n",
    "        #     print(f\"  - Test covariates columns: {test_covariates.columns.tolist()}\")\n",
    "        #     print(f\"  - Train_ts columns: {train_ts.columns.tolist()}\")\n",
    "            \n",
    "        #     forecast = predictor.predict(train_ts, known_covariates=train_covariates_ts) # test_cov\n",
    "        #     print(\"Successfully predicted with covariates!\")\n",
    "        # except ValueError as e:\n",
    "        #     print(f\"Error using covariates: {str(e)}\")\n",
    "        #     print(\"Falling back to prediction without covariates...\")\n",
    "        #     forecast = predictor.predict(train_ts)\n",
    "        \n",
    "        forecast_df = forecast.reset_index().set_index('timestamp')\n",
    "        \n",
    "        # Evaluate on test period\n",
    "        y_true = test_df[target]\n",
    "        y_pred = forecast_df['mean']\n",
    "        metrics = calculate_metrics(y_true, y_pred)\n",
    "        \n",
    "        # Store results\n",
    "        results[target] = {\n",
    "            'metrics': metrics,\n",
    "            'forecast': forecast_df,\n",
    "            'predictor': predictor,\n",
    "            'best_model': predictor.model_best\n",
    "        }\n",
    "        \n",
    "        # Show interactive plot\n",
    "        plot_actual_vs_predicted(train_df, test_df, forecast_df, target)\n",
    "        \n",
    "        print(f\"\\n{target} Evaluation:\")\n",
    "        print(f\"best_model: {results[target][\"best_model\"]}\")\n",
    "        print(f\"- MAE: {metrics['MAE']:.2f}\")\n",
    "        print(f\"- MAPE: {metrics['MAPE']:.2f}%\")\n",
    "        print(f\"- RMSE: {metrics['RMSE']:.2f}\")\n",
    "    \n",
    "    # Compare metrics across commodities\n",
    "    metrics_dict = {k: v['metrics'] for k, v in results.items()}\n",
    "    plot_metrics(metrics_dict)"
   ]
  },
  {
   "cell_type": "code",
   "execution_count": 2,
   "id": "f106706e",
   "metadata": {},
   "outputs": [
    {
     "name": "stdout",
     "output_type": "stream",
     "text": [
      "Available GPUs: 0\n",
      "PyTorch: 2.5.1\n",
      "AutoGluon-TimeSeries: 1.2\n",
      "GPU Available?: False\n"
     ]
    }
   ],
   "source": [
    "import torch, autogluon\n",
    "print(f\"Available GPUs: {torch.cuda.device_count()}\")\n",
    "print(f\"PyTorch: {torch.__version__}\")\n",
    "print(f\"AutoGluon-TimeSeries: {autogluon.timeseries.__version__}\")\n",
    "print(f\"GPU Available?: {torch.cuda.is_available()}\")"
   ]
  },
  {
   "cell_type": "code",
   "execution_count": 3,
   "id": "6772db5b",
   "metadata": {},
   "outputs": [
    {
     "name": "stdout",
     "output_type": "stream",
     "text": [
      "crudeoil: <autogluon.timeseries.predictor.TimeSeriesPredictor object at 0x17acc57f0>\n",
      "cocoa: <autogluon.timeseries.predictor.TimeSeriesPredictor object at 0x17ac71c40>\n",
      "gold: <autogluon.timeseries.predictor.TimeSeriesPredictor object at 0x3321b7c50>\n"
     ]
    }
   ],
   "source": [
    "print(f'crudeoil: {results[\"Crude Oil Brent Price\"][\"predictor\"]}')\n",
    "print(f'cocoa: {results[\"Cocoa Price\"][\"predictor\"]}')\n",
    "print(f'gold: {results[\"Gold Price\"][\"predictor\"]}')"
   ]
  },
  {
   "cell_type": "code",
   "execution_count": 4,
   "id": "d097bfcd",
   "metadata": {},
   "outputs": [
    {
     "data": {
      "text/html": [
       "<div>\n",
       "<style scoped>\n",
       "    .dataframe tbody tr th:only-of-type {\n",
       "        vertical-align: middle;\n",
       "    }\n",
       "\n",
       "    .dataframe tbody tr th {\n",
       "        vertical-align: top;\n",
       "    }\n",
       "\n",
       "    .dataframe thead th {\n",
       "        text-align: right;\n",
       "    }\n",
       "</style>\n",
       "<table border=\"1\" class=\"dataframe\">\n",
       "  <thead>\n",
       "    <tr style=\"text-align: right;\">\n",
       "      <th></th>\n",
       "      <th>model</th>\n",
       "      <th>crudeoil_score_val</th>\n",
       "    </tr>\n",
       "  </thead>\n",
       "  <tbody>\n",
       "    <tr>\n",
       "      <th>0</th>\n",
       "      <td>WeightedEnsemble</td>\n",
       "      <td>-8.976845</td>\n",
       "    </tr>\n",
       "    <tr>\n",
       "      <th>1</th>\n",
       "      <td>DLinear</td>\n",
       "      <td>-9.753381</td>\n",
       "    </tr>\n",
       "    <tr>\n",
       "      <th>2</th>\n",
       "      <td>TiDE</td>\n",
       "      <td>-10.579251</td>\n",
       "    </tr>\n",
       "    <tr>\n",
       "      <th>3</th>\n",
       "      <td>DeepAR</td>\n",
       "      <td>-10.924309</td>\n",
       "    </tr>\n",
       "    <tr>\n",
       "      <th>4</th>\n",
       "      <td>SimpleFeedForward</td>\n",
       "      <td>-14.126011</td>\n",
       "    </tr>\n",
       "    <tr>\n",
       "      <th>5</th>\n",
       "      <td>PatchTST</td>\n",
       "      <td>-14.211325</td>\n",
       "    </tr>\n",
       "    <tr>\n",
       "      <th>6</th>\n",
       "      <td>WaveNet</td>\n",
       "      <td>-16.312070</td>\n",
       "    </tr>\n",
       "    <tr>\n",
       "      <th>7</th>\n",
       "      <td>TemporalFusionTransformer</td>\n",
       "      <td>-28.168570</td>\n",
       "    </tr>\n",
       "  </tbody>\n",
       "</table>\n",
       "</div>"
      ],
      "text/plain": [
       "                       model  crudeoil_score_val\n",
       "0           WeightedEnsemble           -8.976845\n",
       "1                    DLinear           -9.753381\n",
       "2                       TiDE          -10.579251\n",
       "3                     DeepAR          -10.924309\n",
       "4          SimpleFeedForward          -14.126011\n",
       "5                   PatchTST          -14.211325\n",
       "6                    WaveNet          -16.312070\n",
       "7  TemporalFusionTransformer          -28.168570"
      ]
     },
     "execution_count": 4,
     "metadata": {},
     "output_type": "execute_result"
    }
   ],
   "source": [
    "crudeoil_results = results[\"Crude Oil Brent Price\"][\"predictor\"].leaderboard().iloc[:,:2].rename(columns={'score_val':'crudeoil_score_val'})\n",
    "crudeoil_results"
   ]
  },
  {
   "cell_type": "code",
   "execution_count": 5,
   "id": "85e4af0e",
   "metadata": {},
   "outputs": [
    {
     "data": {
      "text/html": [
       "<div>\n",
       "<style scoped>\n",
       "    .dataframe tbody tr th:only-of-type {\n",
       "        vertical-align: middle;\n",
       "    }\n",
       "\n",
       "    .dataframe tbody tr th {\n",
       "        vertical-align: top;\n",
       "    }\n",
       "\n",
       "    .dataframe thead th {\n",
       "        text-align: right;\n",
       "    }\n",
       "</style>\n",
       "<table border=\"1\" class=\"dataframe\">\n",
       "  <thead>\n",
       "    <tr style=\"text-align: right;\">\n",
       "      <th></th>\n",
       "      <th>model</th>\n",
       "      <th>cocoa_score_val</th>\n",
       "    </tr>\n",
       "  </thead>\n",
       "  <tbody>\n",
       "    <tr>\n",
       "      <th>0</th>\n",
       "      <td>WeightedEnsemble</td>\n",
       "      <td>-0.326548</td>\n",
       "    </tr>\n",
       "    <tr>\n",
       "      <th>1</th>\n",
       "      <td>SimpleFeedForward</td>\n",
       "      <td>-0.331668</td>\n",
       "    </tr>\n",
       "    <tr>\n",
       "      <th>2</th>\n",
       "      <td>DeepAR</td>\n",
       "      <td>-0.345152</td>\n",
       "    </tr>\n",
       "    <tr>\n",
       "      <th>3</th>\n",
       "      <td>TiDE</td>\n",
       "      <td>-0.354351</td>\n",
       "    </tr>\n",
       "    <tr>\n",
       "      <th>4</th>\n",
       "      <td>WaveNet</td>\n",
       "      <td>-0.381314</td>\n",
       "    </tr>\n",
       "    <tr>\n",
       "      <th>5</th>\n",
       "      <td>PatchTST</td>\n",
       "      <td>-0.394774</td>\n",
       "    </tr>\n",
       "    <tr>\n",
       "      <th>6</th>\n",
       "      <td>TemporalFusionTransformer</td>\n",
       "      <td>-0.421827</td>\n",
       "    </tr>\n",
       "    <tr>\n",
       "      <th>7</th>\n",
       "      <td>DLinear</td>\n",
       "      <td>-0.453622</td>\n",
       "    </tr>\n",
       "  </tbody>\n",
       "</table>\n",
       "</div>"
      ],
      "text/plain": [
       "                       model  cocoa_score_val\n",
       "0           WeightedEnsemble        -0.326548\n",
       "1          SimpleFeedForward        -0.331668\n",
       "2                     DeepAR        -0.345152\n",
       "3                       TiDE        -0.354351\n",
       "4                    WaveNet        -0.381314\n",
       "5                   PatchTST        -0.394774\n",
       "6  TemporalFusionTransformer        -0.421827\n",
       "7                    DLinear        -0.453622"
      ]
     },
     "execution_count": 5,
     "metadata": {},
     "output_type": "execute_result"
    }
   ],
   "source": [
    "cocoa_results = results[\"Cocoa Price\"][\"predictor\"].leaderboard().iloc[:,:2].rename(columns={'score_val':'cocoa_score_val'})\n",
    "cocoa_results"
   ]
  },
  {
   "cell_type": "code",
   "execution_count": 6,
   "id": "c21715de",
   "metadata": {},
   "outputs": [
    {
     "data": {
      "text/html": [
       "<div>\n",
       "<style scoped>\n",
       "    .dataframe tbody tr th:only-of-type {\n",
       "        vertical-align: middle;\n",
       "    }\n",
       "\n",
       "    .dataframe tbody tr th {\n",
       "        vertical-align: top;\n",
       "    }\n",
       "\n",
       "    .dataframe thead th {\n",
       "        text-align: right;\n",
       "    }\n",
       "</style>\n",
       "<table border=\"1\" class=\"dataframe\">\n",
       "  <thead>\n",
       "    <tr style=\"text-align: right;\">\n",
       "      <th></th>\n",
       "      <th>model</th>\n",
       "      <th>gold_score_val</th>\n",
       "    </tr>\n",
       "  </thead>\n",
       "  <tbody>\n",
       "    <tr>\n",
       "      <th>0</th>\n",
       "      <td>WeightedEnsemble</td>\n",
       "      <td>-79.942443</td>\n",
       "    </tr>\n",
       "    <tr>\n",
       "      <th>1</th>\n",
       "      <td>PatchTST</td>\n",
       "      <td>-85.661554</td>\n",
       "    </tr>\n",
       "    <tr>\n",
       "      <th>2</th>\n",
       "      <td>WaveNet</td>\n",
       "      <td>-106.363797</td>\n",
       "    </tr>\n",
       "    <tr>\n",
       "      <th>3</th>\n",
       "      <td>TemporalFusionTransformer</td>\n",
       "      <td>-126.995260</td>\n",
       "    </tr>\n",
       "    <tr>\n",
       "      <th>4</th>\n",
       "      <td>SimpleFeedForward</td>\n",
       "      <td>-128.807712</td>\n",
       "    </tr>\n",
       "    <tr>\n",
       "      <th>5</th>\n",
       "      <td>DeepAR</td>\n",
       "      <td>-137.264133</td>\n",
       "    </tr>\n",
       "    <tr>\n",
       "      <th>6</th>\n",
       "      <td>TiDE</td>\n",
       "      <td>-153.109312</td>\n",
       "    </tr>\n",
       "    <tr>\n",
       "      <th>7</th>\n",
       "      <td>DLinear</td>\n",
       "      <td>-168.651384</td>\n",
       "    </tr>\n",
       "  </tbody>\n",
       "</table>\n",
       "</div>"
      ],
      "text/plain": [
       "                       model  gold_score_val\n",
       "0           WeightedEnsemble      -79.942443\n",
       "1                   PatchTST      -85.661554\n",
       "2                    WaveNet     -106.363797\n",
       "3  TemporalFusionTransformer     -126.995260\n",
       "4          SimpleFeedForward     -128.807712\n",
       "5                     DeepAR     -137.264133\n",
       "6                       TiDE     -153.109312\n",
       "7                    DLinear     -168.651384"
      ]
     },
     "execution_count": 6,
     "metadata": {},
     "output_type": "execute_result"
    }
   ],
   "source": [
    "gold_results = results[\"Gold Price\"][\"predictor\"].leaderboard().iloc[:,:2].rename(columns={'score_val':'gold_score_val'})\n",
    "gold_results"
   ]
  },
  {
   "cell_type": "code",
   "execution_count": 7,
   "id": "513f70c6",
   "metadata": {},
   "outputs": [
    {
     "data": {
      "text/html": [
       "<div>\n",
       "<style scoped>\n",
       "    .dataframe tbody tr th:only-of-type {\n",
       "        vertical-align: middle;\n",
       "    }\n",
       "\n",
       "    .dataframe tbody tr th {\n",
       "        vertical-align: top;\n",
       "    }\n",
       "\n",
       "    .dataframe thead th {\n",
       "        text-align: right;\n",
       "    }\n",
       "</style>\n",
       "<table border=\"1\" class=\"dataframe\">\n",
       "  <thead>\n",
       "    <tr style=\"text-align: right;\">\n",
       "      <th></th>\n",
       "      <th>model</th>\n",
       "      <th>crudeoil_score_val</th>\n",
       "      <th>cocoa_score_val</th>\n",
       "      <th>gold_score_val</th>\n",
       "    </tr>\n",
       "  </thead>\n",
       "  <tbody>\n",
       "    <tr>\n",
       "      <th>0</th>\n",
       "      <td>WeightedEnsemble</td>\n",
       "      <td>-8.976845</td>\n",
       "      <td>-0.326548</td>\n",
       "      <td>-79.942443</td>\n",
       "    </tr>\n",
       "    <tr>\n",
       "      <th>1</th>\n",
       "      <td>DLinear</td>\n",
       "      <td>-9.753381</td>\n",
       "      <td>-0.453622</td>\n",
       "      <td>-168.651384</td>\n",
       "    </tr>\n",
       "    <tr>\n",
       "      <th>2</th>\n",
       "      <td>TiDE</td>\n",
       "      <td>-10.579251</td>\n",
       "      <td>-0.354351</td>\n",
       "      <td>-153.109312</td>\n",
       "    </tr>\n",
       "    <tr>\n",
       "      <th>3</th>\n",
       "      <td>DeepAR</td>\n",
       "      <td>-10.924309</td>\n",
       "      <td>-0.345152</td>\n",
       "      <td>-137.264133</td>\n",
       "    </tr>\n",
       "    <tr>\n",
       "      <th>4</th>\n",
       "      <td>SimpleFeedForward</td>\n",
       "      <td>-14.126011</td>\n",
       "      <td>-0.331668</td>\n",
       "      <td>-128.807712</td>\n",
       "    </tr>\n",
       "    <tr>\n",
       "      <th>5</th>\n",
       "      <td>PatchTST</td>\n",
       "      <td>-14.211325</td>\n",
       "      <td>-0.394774</td>\n",
       "      <td>-85.661554</td>\n",
       "    </tr>\n",
       "    <tr>\n",
       "      <th>6</th>\n",
       "      <td>WaveNet</td>\n",
       "      <td>-16.312070</td>\n",
       "      <td>-0.381314</td>\n",
       "      <td>-106.363797</td>\n",
       "    </tr>\n",
       "    <tr>\n",
       "      <th>7</th>\n",
       "      <td>TemporalFusionTransformer</td>\n",
       "      <td>-28.168570</td>\n",
       "      <td>-0.421827</td>\n",
       "      <td>-126.995260</td>\n",
       "    </tr>\n",
       "  </tbody>\n",
       "</table>\n",
       "</div>"
      ],
      "text/plain": [
       "                       model  crudeoil_score_val  cocoa_score_val  \\\n",
       "0           WeightedEnsemble           -8.976845        -0.326548   \n",
       "1                    DLinear           -9.753381        -0.453622   \n",
       "2                       TiDE          -10.579251        -0.354351   \n",
       "3                     DeepAR          -10.924309        -0.345152   \n",
       "4          SimpleFeedForward          -14.126011        -0.331668   \n",
       "5                   PatchTST          -14.211325        -0.394774   \n",
       "6                    WaveNet          -16.312070        -0.381314   \n",
       "7  TemporalFusionTransformer          -28.168570        -0.421827   \n",
       "\n",
       "   gold_score_val  \n",
       "0      -79.942443  \n",
       "1     -168.651384  \n",
       "2     -153.109312  \n",
       "3     -137.264133  \n",
       "4     -128.807712  \n",
       "5      -85.661554  \n",
       "6     -106.363797  \n",
       "7     -126.995260  "
      ]
     },
     "execution_count": 7,
     "metadata": {},
     "output_type": "execute_result"
    }
   ],
   "source": [
    "merged_results = pd.merge(crudeoil_results, cocoa_results, on=\"model\")\n",
    "merged_results = pd.merge(merged_results, gold_results, on=\"model\")\n",
    "merged_results.sort_values(by=['crudeoil_score_val', 'cocoa_score_val', 'gold_score_val'], ascending=False)"
   ]
  },
  {
   "cell_type": "code",
   "execution_count": 8,
   "id": "fc14d0e6",
   "metadata": {},
   "outputs": [],
   "source": [
    "# f\"crudeoil mape: {results[\"Crude Oil Brent Price\"][\"metrics\"][\"MAPE\"]:.2f}%\""
   ]
  },
  {
   "cell_type": "code",
   "execution_count": 9,
   "id": "ae7dc93a",
   "metadata": {},
   "outputs": [
    {
     "data": {
      "text/html": [
       "<div>\n",
       "<style scoped>\n",
       "    .dataframe tbody tr th:only-of-type {\n",
       "        vertical-align: middle;\n",
       "    }\n",
       "\n",
       "    .dataframe tbody tr th {\n",
       "        vertical-align: top;\n",
       "    }\n",
       "\n",
       "    .dataframe thead th {\n",
       "        text-align: right;\n",
       "    }\n",
       "</style>\n",
       "<table border=\"1\" class=\"dataframe\">\n",
       "  <thead>\n",
       "    <tr style=\"text-align: right;\">\n",
       "      <th></th>\n",
       "      <th>Revenue, excluding grants (% of GDP)</th>\n",
       "      <th>GDP (constant 2015 US$)</th>\n",
       "      <th>Employment to population ratio (15+, total %)</th>\n",
       "      <th>Crude Oil Brent Price</th>\n",
       "      <th>Cocoa Price</th>\n",
       "      <th>Gold Price</th>\n",
       "      <th>Crude Oil Brent Price_3mo_ma</th>\n",
       "      <th>Crude Oil Brent Price_12mo_ma</th>\n",
       "      <th>Cocoa Price_3mo_ma</th>\n",
       "      <th>Cocoa Price_12mo_ma</th>\n",
       "      <th>Gold Price_3mo_ma</th>\n",
       "      <th>Gold Price_12mo_ma</th>\n",
       "    </tr>\n",
       "  </thead>\n",
       "  <tbody>\n",
       "    <tr>\n",
       "      <th>count</th>\n",
       "      <td>408.000000</td>\n",
       "      <td>4.080000e+02</td>\n",
       "      <td>408.000000</td>\n",
       "      <td>408.000000</td>\n",
       "      <td>408.000000</td>\n",
       "      <td>408.000000</td>\n",
       "      <td>408.000000</td>\n",
       "      <td>403.000000</td>\n",
       "      <td>408.000000</td>\n",
       "      <td>403.000000</td>\n",
       "      <td>408.000000</td>\n",
       "      <td>403.000000</td>\n",
       "    </tr>\n",
       "    <tr>\n",
       "      <th>mean</th>\n",
       "      <td>16.616929</td>\n",
       "      <td>3.724039e+10</td>\n",
       "      <td>67.172923</td>\n",
       "      <td>53.780237</td>\n",
       "      <td>2.183022</td>\n",
       "      <td>927.032063</td>\n",
       "      <td>53.655044</td>\n",
       "      <td>53.399272</td>\n",
       "      <td>2.162741</td>\n",
       "      <td>2.104714</td>\n",
       "      <td>921.471495</td>\n",
       "      <td>904.549729</td>\n",
       "    </tr>\n",
       "    <tr>\n",
       "      <th>std</th>\n",
       "      <td>2.341241</td>\n",
       "      <td>1.957863e+10</td>\n",
       "      <td>3.399120</td>\n",
       "      <td>32.828573</td>\n",
       "      <td>1.178294</td>\n",
       "      <td>614.889160</td>\n",
       "      <td>32.645234</td>\n",
       "      <td>31.750334</td>\n",
       "      <td>1.106218</td>\n",
       "      <td>0.910264</td>\n",
       "      <td>608.905930</td>\n",
       "      <td>585.911597</td>\n",
       "    </tr>\n",
       "    <tr>\n",
       "      <th>min</th>\n",
       "      <td>11.900566</td>\n",
       "      <td>1.386282e+10</td>\n",
       "      <td>59.489757</td>\n",
       "      <td>9.800000</td>\n",
       "      <td>0.856900</td>\n",
       "      <td>256.080000</td>\n",
       "      <td>10.353333</td>\n",
       "      <td>12.008208</td>\n",
       "      <td>0.880000</td>\n",
       "      <td>0.905792</td>\n",
       "      <td>258.026667</td>\n",
       "      <td>267.876667</td>\n",
       "    </tr>\n",
       "    <tr>\n",
       "      <th>25%</th>\n",
       "      <td>14.691761</td>\n",
       "      <td>1.969137e+10</td>\n",
       "      <td>64.851770</td>\n",
       "      <td>21.775000</td>\n",
       "      <td>1.466000</td>\n",
       "      <td>360.069500</td>\n",
       "      <td>21.471667</td>\n",
       "      <td>20.990104</td>\n",
       "      <td>1.463792</td>\n",
       "      <td>1.456500</td>\n",
       "      <td>360.614167</td>\n",
       "      <td>360.976250</td>\n",
       "    </tr>\n",
       "    <tr>\n",
       "      <th>50%</th>\n",
       "      <td>16.483090</td>\n",
       "      <td>3.098749e+10</td>\n",
       "      <td>67.683811</td>\n",
       "      <td>50.357619</td>\n",
       "      <td>2.010423</td>\n",
       "      <td>804.725500</td>\n",
       "      <td>50.206372</td>\n",
       "      <td>51.243431</td>\n",
       "      <td>2.017340</td>\n",
       "      <td>2.016616</td>\n",
       "      <td>791.271667</td>\n",
       "      <td>765.847000</td>\n",
       "    </tr>\n",
       "    <tr>\n",
       "      <th>75%</th>\n",
       "      <td>17.809587</td>\n",
       "      <td>5.277785e+10</td>\n",
       "      <td>68.786394</td>\n",
       "      <td>76.779053</td>\n",
       "      <td>2.617109</td>\n",
       "      <td>1340.633500</td>\n",
       "      <td>76.904279</td>\n",
       "      <td>79.277610</td>\n",
       "      <td>2.566580</td>\n",
       "      <td>2.545956</td>\n",
       "      <td>1328.688534</td>\n",
       "      <td>1307.294430</td>\n",
       "    </tr>\n",
       "    <tr>\n",
       "      <th>max</th>\n",
       "      <td>23.712146</td>\n",
       "      <td>8.063873e+10</td>\n",
       "      <td>74.834000</td>\n",
       "      <td>133.873043</td>\n",
       "      <td>10.320510</td>\n",
       "      <td>2690.080000</td>\n",
       "      <td>130.285935</td>\n",
       "      <td>114.364602</td>\n",
       "      <td>8.516583</td>\n",
       "      <td>7.329646</td>\n",
       "      <td>2663.073333</td>\n",
       "      <td>2387.702500</td>\n",
       "    </tr>\n",
       "  </tbody>\n",
       "</table>\n",
       "</div>"
      ],
      "text/plain": [
       "       Revenue, excluding grants (% of GDP)  GDP (constant 2015 US$)  \\\n",
       "count                            408.000000             4.080000e+02   \n",
       "mean                              16.616929             3.724039e+10   \n",
       "std                                2.341241             1.957863e+10   \n",
       "min                               11.900566             1.386282e+10   \n",
       "25%                               14.691761             1.969137e+10   \n",
       "50%                               16.483090             3.098749e+10   \n",
       "75%                               17.809587             5.277785e+10   \n",
       "max                               23.712146             8.063873e+10   \n",
       "\n",
       "       Employment to population ratio (15+, total %)  Crude Oil Brent Price  \\\n",
       "count                                     408.000000             408.000000   \n",
       "mean                                       67.172923              53.780237   \n",
       "std                                         3.399120              32.828573   \n",
       "min                                        59.489757               9.800000   \n",
       "25%                                        64.851770              21.775000   \n",
       "50%                                        67.683811              50.357619   \n",
       "75%                                        68.786394              76.779053   \n",
       "max                                        74.834000             133.873043   \n",
       "\n",
       "       Cocoa Price   Gold Price  Crude Oil Brent Price_3mo_ma  \\\n",
       "count   408.000000   408.000000                    408.000000   \n",
       "mean      2.183022   927.032063                     53.655044   \n",
       "std       1.178294   614.889160                     32.645234   \n",
       "min       0.856900   256.080000                     10.353333   \n",
       "25%       1.466000   360.069500                     21.471667   \n",
       "50%       2.010423   804.725500                     50.206372   \n",
       "75%       2.617109  1340.633500                     76.904279   \n",
       "max      10.320510  2690.080000                    130.285935   \n",
       "\n",
       "       Crude Oil Brent Price_12mo_ma  Cocoa Price_3mo_ma  Cocoa Price_12mo_ma  \\\n",
       "count                     403.000000          408.000000           403.000000   \n",
       "mean                       53.399272            2.162741             2.104714   \n",
       "std                        31.750334            1.106218             0.910264   \n",
       "min                        12.008208            0.880000             0.905792   \n",
       "25%                        20.990104            1.463792             1.456500   \n",
       "50%                        51.243431            2.017340             2.016616   \n",
       "75%                        79.277610            2.566580             2.545956   \n",
       "max                       114.364602            8.516583             7.329646   \n",
       "\n",
       "       Gold Price_3mo_ma  Gold Price_12mo_ma  \n",
       "count         408.000000          403.000000  \n",
       "mean          921.471495          904.549729  \n",
       "std           608.905930          585.911597  \n",
       "min           258.026667          267.876667  \n",
       "25%           360.614167          360.976250  \n",
       "50%           791.271667          765.847000  \n",
       "75%          1328.688534         1307.294430  \n",
       "max          2663.073333         2387.702500  "
      ]
     },
     "execution_count": 9,
     "metadata": {},
     "output_type": "execute_result"
    }
   ],
   "source": [
    "full_df.describe()"
   ]
  },
  {
   "cell_type": "code",
   "execution_count": 10,
   "id": "2831e19c",
   "metadata": {},
   "outputs": [
    {
     "data": {
      "text/plain": [
       "{'path': '/Users/purplegeminii/Desktop/Undergraduate Thesis/commodity_price_prediction/autogluon_models/Crude_Oil_Brent_Price',\n",
       " 'version': '1.2',\n",
       " 'time_fit_training': 536.9436190128326,\n",
       " 'time_limit': None,\n",
       " 'best_model': 'WeightedEnsemble',\n",
       " 'best_model_score_val': -8.976844989779183,\n",
       " 'num_models_trained': 8,\n",
       " 'model_info': {'TemporalFusionTransformer': {'name': 'TemporalFusionTransformer',\n",
       "   'model_type': 'MultiWindowBacktestingModel',\n",
       "   'eval_metric': RMSE,\n",
       "   'fit_time': 86.45067572593689,\n",
       "   'predict_time': 0.006362199783325195,\n",
       "   'freq': 'MS',\n",
       "   'prediction_length': 12,\n",
       "   'quantile_levels': [0.1, 0.2, 0.3, 0.4, 0.5, 0.6, 0.7, 0.8, 0.9],\n",
       "   'val_score': -28.16856998162397,\n",
       "   'hyperparameters': {},\n",
       "   'info_per_val_window': [{'window_index': 0,\n",
       "     'refit_this_window': True,\n",
       "     'fit_time': 30.998071670532227,\n",
       "     'val_score': -19.58589043162157,\n",
       "     'predict_time': 0.006792783737182617},\n",
       "    {'window_index': 1,\n",
       "     'refit_this_window': True,\n",
       "     'fit_time': 27.08922815322876,\n",
       "     'val_score': -44.44144691007632,\n",
       "     'predict_time': 0.005649089813232422},\n",
       "    {'window_index': 2,\n",
       "     'refit_this_window': True,\n",
       "     'fit_time': 28.34310293197632,\n",
       "     'val_score': -20.478372603174016,\n",
       "     'predict_time': 0.006362199783325195}]},\n",
       "  'DeepAR': {'name': 'DeepAR',\n",
       "   'model_type': 'MultiWindowBacktestingModel',\n",
       "   'eval_metric': RMSE,\n",
       "   'fit_time': 116.11939907073975,\n",
       "   'predict_time': 0.01971602439880371,\n",
       "   'freq': 'MS',\n",
       "   'prediction_length': 12,\n",
       "   'quantile_levels': [0.1, 0.2, 0.3, 0.4, 0.5, 0.6, 0.7, 0.8, 0.9],\n",
       "   'val_score': -10.924308731574385,\n",
       "   'hyperparameters': {'num_layers': 4},\n",
       "   'info_per_val_window': [{'window_index': 0,\n",
       "     'refit_this_window': True,\n",
       "     'fit_time': 26.081858158111572,\n",
       "     'val_score': -10.427542213595723,\n",
       "     'predict_time': 0.01776576042175293},\n",
       "    {'window_index': 1,\n",
       "     'refit_this_window': True,\n",
       "     'fit_time': 48.97537398338318,\n",
       "     'val_score': -13.089084466610599,\n",
       "     'predict_time': 0.018430233001708984},\n",
       "    {'window_index': 2,\n",
       "     'refit_this_window': True,\n",
       "     'fit_time': 41.018985986709595,\n",
       "     'val_score': -9.25629951451683,\n",
       "     'predict_time': 0.01971602439880371}]},\n",
       "  'PatchTST': {'name': 'PatchTST',\n",
       "   'model_type': 'MultiWindowBacktestingModel',\n",
       "   'eval_metric': RMSE,\n",
       "   'fit_time': 38.51001334190369,\n",
       "   'predict_time': 0.0034596920013427734,\n",
       "   'freq': 'MS',\n",
       "   'prediction_length': 12,\n",
       "   'quantile_levels': [0.1, 0.2, 0.3, 0.4, 0.5, 0.6, 0.7, 0.8, 0.9],\n",
       "   'val_score': -14.211325477474437,\n",
       "   'hyperparameters': {},\n",
       "   'info_per_val_window': [{'window_index': 0,\n",
       "     'refit_this_window': True,\n",
       "     'fit_time': 10.225250005722046,\n",
       "     'val_score': -21.50343554608862,\n",
       "     'predict_time': 0.006739139556884766},\n",
       "    {'window_index': 1,\n",
       "     'refit_this_window': True,\n",
       "     'fit_time': 12.232772827148438,\n",
       "     'val_score': -15.150789294279834,\n",
       "     'predict_time': 0.0035791397094726562},\n",
       "    {'window_index': 2,\n",
       "     'refit_this_window': True,\n",
       "     'fit_time': 16.03427791595459,\n",
       "     'val_score': -5.9797515920548525,\n",
       "     'predict_time': 0.0034596920013427734}]},\n",
       "  'TiDE': {'name': 'TiDE',\n",
       "   'model_type': 'MultiWindowBacktestingModel',\n",
       "   'eval_metric': RMSE,\n",
       "   'fit_time': 42.95824408531189,\n",
       "   'predict_time': 0.0038657188415527344,\n",
       "   'freq': 'MS',\n",
       "   'prediction_length': 12,\n",
       "   'quantile_levels': [0.1, 0.2, 0.3, 0.4, 0.5, 0.6, 0.7, 0.8, 0.9],\n",
       "   'val_score': -10.57925129160659,\n",
       "   'hyperparameters': {},\n",
       "   'info_per_val_window': [{'window_index': 0,\n",
       "     'refit_this_window': True,\n",
       "     'fit_time': 10.830609321594238,\n",
       "     'val_score': -10.397417513068959,\n",
       "     'predict_time': 0.0037801265716552734},\n",
       "    {'window_index': 1,\n",
       "     'refit_this_window': True,\n",
       "     'fit_time': 17.398253202438354,\n",
       "     'val_score': -12.055300573750781,\n",
       "     'predict_time': 0.003798246383666992},\n",
       "    {'window_index': 2,\n",
       "     'refit_this_window': True,\n",
       "     'fit_time': 14.714949131011963,\n",
       "     'val_score': -9.28503578800003,\n",
       "     'predict_time': 0.0038657188415527344}]},\n",
       "  'WaveNet': {'name': 'WaveNet',\n",
       "   'model_type': 'MultiWindowBacktestingModel',\n",
       "   'eval_metric': RMSE,\n",
       "   'fit_time': 225.62145709991455,\n",
       "   'predict_time': 0.37856292724609375,\n",
       "   'freq': 'MS',\n",
       "   'prediction_length': 12,\n",
       "   'quantile_levels': [0.1, 0.2, 0.3, 0.4, 0.5, 0.6, 0.7, 0.8, 0.9],\n",
       "   'val_score': -16.312070188468255,\n",
       "   'hyperparameters': {},\n",
       "   'info_per_val_window': [{'window_index': 0,\n",
       "     'refit_this_window': True,\n",
       "     'fit_time': 80.19774675369263,\n",
       "     'val_score': -18.7946659372056,\n",
       "     'predict_time': 0.3546469211578369},\n",
       "    {'window_index': 1,\n",
       "     'refit_this_window': True,\n",
       "     'fit_time': 75.21082592010498,\n",
       "     'val_score': -24.235119359824413,\n",
       "     'predict_time': 0.3801274299621582},\n",
       "    {'window_index': 2,\n",
       "     'refit_this_window': True,\n",
       "     'fit_time': 69.46963787078857,\n",
       "     'val_score': -5.906425268374744,\n",
       "     'predict_time': 0.37856292724609375}]},\n",
       "  'SimpleFeedForward': {'name': 'SimpleFeedForward',\n",
       "   'model_type': 'MultiWindowBacktestingModel',\n",
       "   'eval_metric': RMSE,\n",
       "   'fit_time': 18.983333826065063,\n",
       "   'predict_time': 0.003503084182739258,\n",
       "   'freq': 'MS',\n",
       "   'prediction_length': 12,\n",
       "   'quantile_levels': [0.1, 0.2, 0.3, 0.4, 0.5, 0.6, 0.7, 0.8, 0.9],\n",
       "   'val_score': -14.126011068130436,\n",
       "   'hyperparameters': {'hidden_dimensions': [256, 128]},\n",
       "   'info_per_val_window': [{'window_index': 0,\n",
       "     'refit_this_window': True,\n",
       "     'fit_time': 5.2653281688690186,\n",
       "     'val_score': -21.85615130967287,\n",
       "     'predict_time': 0.0038802623748779297},\n",
       "    {'window_index': 1,\n",
       "     'refit_this_window': True,\n",
       "     'fit_time': 4.146295070648193,\n",
       "     'val_score': -14.514812664983243,\n",
       "     'predict_time': 0.0033299922943115234},\n",
       "    {'window_index': 2,\n",
       "     'refit_this_window': True,\n",
       "     'fit_time': 9.557167768478394,\n",
       "     'val_score': -6.007069229735193,\n",
       "     'predict_time': 0.003503084182739258}]},\n",
       "  'DLinear': {'name': 'DLinear',\n",
       "   'model_type': 'MultiWindowBacktestingModel',\n",
       "   'eval_metric': RMSE,\n",
       "   'fit_time': 7.3268232345581055,\n",
       "   'predict_time': 0.0034058094024658203,\n",
       "   'freq': 'MS',\n",
       "   'prediction_length': 12,\n",
       "   'quantile_levels': [0.1, 0.2, 0.3, 0.4, 0.5, 0.6, 0.7, 0.8, 0.9],\n",
       "   'val_score': -9.753381381103098,\n",
       "   'hyperparameters': {},\n",
       "   'info_per_val_window': [{'window_index': 0,\n",
       "     'refit_this_window': True,\n",
       "     'fit_time': 2.3992128372192383,\n",
       "     'val_score': -7.6900795677259595,\n",
       "     'predict_time': 0.003390073776245117},\n",
       "    {'window_index': 1,\n",
       "     'refit_this_window': True,\n",
       "     'fit_time': 2.3770790100097656,\n",
       "     'val_score': -13.442681424906963,\n",
       "     'predict_time': 0.0033271312713623047},\n",
       "    {'window_index': 2,\n",
       "     'refit_this_window': True,\n",
       "     'fit_time': 2.536522388458252,\n",
       "     'val_score': -8.12738315067637,\n",
       "     'predict_time': 0.0034058094024658203}]},\n",
       "  'WeightedEnsemble': {'name': 'WeightedEnsemble',\n",
       "   'model_type': 'TimeSeriesGreedyEnsemble',\n",
       "   'eval_metric': RMSE,\n",
       "   'fit_time': 0.4735872745513916,\n",
       "   'predict_time': 0.026987552642822266,\n",
       "   'freq': 'MS',\n",
       "   'prediction_length': 12,\n",
       "   'quantile_levels': [0.1, 0.2, 0.3, 0.4, 0.5, 0.6, 0.7, 0.8, 0.9],\n",
       "   'val_score': -8.976844989779183,\n",
       "   'hyperparameters': {},\n",
       "   'model_weights': {'DeepAR': 0.4032258064516129,\n",
       "    'TiDE': 0.41935483870967744,\n",
       "    'DLinear': 0.1774193548387097}}}}"
      ]
     },
     "execution_count": 10,
     "metadata": {},
     "output_type": "execute_result"
    }
   ],
   "source": [
    "results[\"Crude Oil Brent Price\"][\"predictor\"].info()"
   ]
  },
  {
   "cell_type": "markdown",
   "id": "879c155b",
   "metadata": {},
   "source": [
    "GRANGER TEST"
   ]
  },
  {
   "cell_type": "code",
   "execution_count": 11,
   "id": "3c377dde",
   "metadata": {},
   "outputs": [],
   "source": [
    "# Granger causality tests will be incorporated to establish directional relationships among the forecasted prices of cocoa, gold, and crude oil."
   ]
  },
  {
   "cell_type": "code",
   "execution_count": 12,
   "id": "dc03803a",
   "metadata": {},
   "outputs": [],
   "source": [
    "from statsmodels.tsa.stattools import grangercausalitytests"
   ]
  },
  {
   "cell_type": "code",
   "execution_count": 13,
   "id": "ce4897a6",
   "metadata": {},
   "outputs": [
    {
     "name": "stdout",
     "output_type": "stream",
     "text": [
      "Testing if Cocoa Price Granger-causes Gold Price\n",
      "Testing if Gold Price Granger-causes Cocoa Price\n",
      "Testing if Cocoa Price Granger-causes Crude Oil Brent Price\n",
      "Testing if Crude Oil Brent Price Granger-causes Cocoa Price\n",
      "Testing if Gold Price Granger-causes Crude Oil Brent Price\n",
      "Testing if Crude Oil Brent Price Granger-causes Gold Price\n"
     ]
    },
    {
     "name": "stderr",
     "output_type": "stream",
     "text": [
      "/opt/anaconda3/envs/automl/lib/python3.12/site-packages/statsmodels/tsa/stattools.py:1556: FutureWarning:\n",
      "\n",
      "verbose is deprecated since functions should not print results\n",
      "\n",
      "/opt/anaconda3/envs/automl/lib/python3.12/site-packages/statsmodels/tsa/stattools.py:1556: FutureWarning:\n",
      "\n",
      "verbose is deprecated since functions should not print results\n",
      "\n",
      "/opt/anaconda3/envs/automl/lib/python3.12/site-packages/statsmodels/tsa/stattools.py:1556: FutureWarning:\n",
      "\n",
      "verbose is deprecated since functions should not print results\n",
      "\n",
      "/opt/anaconda3/envs/automl/lib/python3.12/site-packages/statsmodels/tsa/stattools.py:1556: FutureWarning:\n",
      "\n",
      "verbose is deprecated since functions should not print results\n",
      "\n",
      "/opt/anaconda3/envs/automl/lib/python3.12/site-packages/statsmodels/tsa/stattools.py:1556: FutureWarning:\n",
      "\n",
      "verbose is deprecated since functions should not print results\n",
      "\n",
      "/opt/anaconda3/envs/automl/lib/python3.12/site-packages/statsmodels/tsa/stattools.py:1556: FutureWarning:\n",
      "\n",
      "verbose is deprecated since functions should not print results\n",
      "\n"
     ]
    }
   ],
   "source": [
    "from itertools import combinations\n",
    "\n",
    "max_lag=12\n",
    "commodities = ['Cocoa Price', 'Gold Price', 'Crude Oil Brent Price']\n",
    "results2 = {}\n",
    "\n",
    "for x, y in combinations(commodities, 2):\n",
    "    print(f\"Testing if {x} Granger-causes {y}\")\n",
    "    result_xy = grangercausalitytests(full_df[[y, x]], maxlag=max_lag, verbose=False)\n",
    "    results2[f'{x} → {y}'] = result_xy\n",
    "    \n",
    "    print(f\"Testing if {y} Granger-causes {x}\")\n",
    "    result_yx = grangercausalitytests(full_df[[x, y]], maxlag=max_lag, verbose=False)\n",
    "    results2[f'{y} → {x}'] = result_yx\n"
   ]
  },
  {
   "cell_type": "code",
   "execution_count": 14,
   "id": "07414dbc",
   "metadata": {},
   "outputs": [
    {
     "name": "stdout",
     "output_type": "stream",
     "text": [
      "<class 'pandas.core.frame.DataFrame'>\n",
      "Index: 4 entries, metrics to best_model\n",
      "Data columns (total 3 columns):\n",
      " #   Column                 Non-Null Count  Dtype \n",
      "---  ------                 --------------  ----- \n",
      " 0   Crude Oil Brent Price  4 non-null      object\n",
      " 1   Cocoa Price            4 non-null      object\n",
      " 2   Gold Price             4 non-null      object\n",
      "dtypes: object(3)\n",
      "memory usage: 128.0+ bytes\n"
     ]
    }
   ],
   "source": [
    "results2 = pd.DataFrame(results2)\n",
    "pd.DataFrame(results).info()"
   ]
  },
  {
   "cell_type": "code",
   "execution_count": 15,
   "id": "dae7c86d",
   "metadata": {},
   "outputs": [
    {
     "data": {
      "text/html": [
       "<div>\n",
       "<style scoped>\n",
       "    .dataframe tbody tr th:only-of-type {\n",
       "        vertical-align: middle;\n",
       "    }\n",
       "\n",
       "    .dataframe tbody tr th {\n",
       "        vertical-align: top;\n",
       "    }\n",
       "\n",
       "    .dataframe thead th {\n",
       "        text-align: right;\n",
       "    }\n",
       "</style>\n",
       "<table border=\"1\" class=\"dataframe\">\n",
       "  <thead>\n",
       "    <tr style=\"text-align: right;\">\n",
       "      <th></th>\n",
       "      <th>item_id</th>\n",
       "      <th>mean</th>\n",
       "      <th>0.1</th>\n",
       "      <th>0.2</th>\n",
       "      <th>0.3</th>\n",
       "      <th>0.4</th>\n",
       "      <th>0.5</th>\n",
       "      <th>0.6</th>\n",
       "      <th>0.7</th>\n",
       "      <th>0.8</th>\n",
       "      <th>0.9</th>\n",
       "    </tr>\n",
       "    <tr>\n",
       "      <th>timestamp</th>\n",
       "      <th></th>\n",
       "      <th></th>\n",
       "      <th></th>\n",
       "      <th></th>\n",
       "      <th></th>\n",
       "      <th></th>\n",
       "      <th></th>\n",
       "      <th></th>\n",
       "      <th></th>\n",
       "      <th></th>\n",
       "      <th></th>\n",
       "    </tr>\n",
       "  </thead>\n",
       "  <tbody>\n",
       "    <tr>\n",
       "      <th>2024-01-01</th>\n",
       "      <td>main_series</td>\n",
       "      <td>82.845467</td>\n",
       "      <td>74.477958</td>\n",
       "      <td>77.589222</td>\n",
       "      <td>79.512970</td>\n",
       "      <td>81.211364</td>\n",
       "      <td>82.868930</td>\n",
       "      <td>84.487071</td>\n",
       "      <td>86.081627</td>\n",
       "      <td>88.104305</td>\n",
       "      <td>91.518641</td>\n",
       "    </tr>\n",
       "    <tr>\n",
       "      <th>2024-02-01</th>\n",
       "      <td>main_series</td>\n",
       "      <td>82.193781</td>\n",
       "      <td>72.259076</td>\n",
       "      <td>75.787468</td>\n",
       "      <td>78.560148</td>\n",
       "      <td>80.449061</td>\n",
       "      <td>82.259736</td>\n",
       "      <td>84.115276</td>\n",
       "      <td>86.043928</td>\n",
       "      <td>88.337846</td>\n",
       "      <td>92.193749</td>\n",
       "    </tr>\n",
       "    <tr>\n",
       "      <th>2024-03-01</th>\n",
       "      <td>main_series</td>\n",
       "      <td>83.055513</td>\n",
       "      <td>72.511089</td>\n",
       "      <td>76.316025</td>\n",
       "      <td>79.079222</td>\n",
       "      <td>81.217502</td>\n",
       "      <td>82.974454</td>\n",
       "      <td>85.114828</td>\n",
       "      <td>87.147720</td>\n",
       "      <td>89.600984</td>\n",
       "      <td>93.713006</td>\n",
       "    </tr>\n",
       "    <tr>\n",
       "      <th>2024-04-01</th>\n",
       "      <td>main_series</td>\n",
       "      <td>85.322983</td>\n",
       "      <td>73.129987</td>\n",
       "      <td>77.983227</td>\n",
       "      <td>80.681344</td>\n",
       "      <td>83.008720</td>\n",
       "      <td>85.188429</td>\n",
       "      <td>87.596320</td>\n",
       "      <td>89.884571</td>\n",
       "      <td>92.849025</td>\n",
       "      <td>97.543784</td>\n",
       "    </tr>\n",
       "    <tr>\n",
       "      <th>2024-05-01</th>\n",
       "      <td>main_series</td>\n",
       "      <td>83.832573</td>\n",
       "      <td>71.658529</td>\n",
       "      <td>76.145567</td>\n",
       "      <td>79.184593</td>\n",
       "      <td>81.659421</td>\n",
       "      <td>83.664365</td>\n",
       "      <td>85.990844</td>\n",
       "      <td>88.482229</td>\n",
       "      <td>91.429575</td>\n",
       "      <td>96.116702</td>\n",
       "    </tr>\n",
       "    <tr>\n",
       "      <th>2024-06-01</th>\n",
       "      <td>main_series</td>\n",
       "      <td>83.566188</td>\n",
       "      <td>71.409795</td>\n",
       "      <td>75.653131</td>\n",
       "      <td>78.618784</td>\n",
       "      <td>81.147051</td>\n",
       "      <td>83.677116</td>\n",
       "      <td>85.827285</td>\n",
       "      <td>88.393004</td>\n",
       "      <td>91.570693</td>\n",
       "      <td>96.217034</td>\n",
       "    </tr>\n",
       "    <tr>\n",
       "      <th>2024-07-01</th>\n",
       "      <td>main_series</td>\n",
       "      <td>88.505651</td>\n",
       "      <td>75.806834</td>\n",
       "      <td>80.572791</td>\n",
       "      <td>83.482308</td>\n",
       "      <td>86.043895</td>\n",
       "      <td>88.298616</td>\n",
       "      <td>90.631928</td>\n",
       "      <td>93.354868</td>\n",
       "      <td>96.643394</td>\n",
       "      <td>101.397872</td>\n",
       "    </tr>\n",
       "    <tr>\n",
       "      <th>2024-08-01</th>\n",
       "      <td>main_series</td>\n",
       "      <td>88.999287</td>\n",
       "      <td>72.696524</td>\n",
       "      <td>78.924625</td>\n",
       "      <td>82.864329</td>\n",
       "      <td>85.967931</td>\n",
       "      <td>88.576583</td>\n",
       "      <td>91.534328</td>\n",
       "      <td>94.967510</td>\n",
       "      <td>99.315344</td>\n",
       "      <td>104.812469</td>\n",
       "    </tr>\n",
       "    <tr>\n",
       "      <th>2024-09-01</th>\n",
       "      <td>main_series</td>\n",
       "      <td>87.555110</td>\n",
       "      <td>70.845171</td>\n",
       "      <td>76.858135</td>\n",
       "      <td>80.955114</td>\n",
       "      <td>83.972485</td>\n",
       "      <td>87.123977</td>\n",
       "      <td>90.217464</td>\n",
       "      <td>93.690905</td>\n",
       "      <td>97.939715</td>\n",
       "      <td>104.973723</td>\n",
       "    </tr>\n",
       "    <tr>\n",
       "      <th>2024-10-01</th>\n",
       "      <td>main_series</td>\n",
       "      <td>89.099288</td>\n",
       "      <td>70.097903</td>\n",
       "      <td>76.596057</td>\n",
       "      <td>81.085759</td>\n",
       "      <td>84.868827</td>\n",
       "      <td>88.599119</td>\n",
       "      <td>92.201833</td>\n",
       "      <td>96.444367</td>\n",
       "      <td>101.233491</td>\n",
       "      <td>109.347506</td>\n",
       "    </tr>\n",
       "    <tr>\n",
       "      <th>2024-11-01</th>\n",
       "      <td>main_series</td>\n",
       "      <td>87.932848</td>\n",
       "      <td>64.259461</td>\n",
       "      <td>73.163894</td>\n",
       "      <td>78.562165</td>\n",
       "      <td>83.212562</td>\n",
       "      <td>87.374170</td>\n",
       "      <td>91.917125</td>\n",
       "      <td>96.841943</td>\n",
       "      <td>102.673732</td>\n",
       "      <td>111.950105</td>\n",
       "    </tr>\n",
       "    <tr>\n",
       "      <th>2024-12-01</th>\n",
       "      <td>main_series</td>\n",
       "      <td>91.370724</td>\n",
       "      <td>67.996654</td>\n",
       "      <td>76.680795</td>\n",
       "      <td>81.973643</td>\n",
       "      <td>86.583066</td>\n",
       "      <td>90.667713</td>\n",
       "      <td>94.807211</td>\n",
       "      <td>99.777147</td>\n",
       "      <td>105.862147</td>\n",
       "      <td>116.982844</td>\n",
       "    </tr>\n",
       "  </tbody>\n",
       "</table>\n",
       "</div>"
      ],
      "text/plain": [
       "                item_id       mean        0.1        0.2        0.3  \\\n",
       "timestamp                                                             \n",
       "2024-01-01  main_series  82.845467  74.477958  77.589222  79.512970   \n",
       "2024-02-01  main_series  82.193781  72.259076  75.787468  78.560148   \n",
       "2024-03-01  main_series  83.055513  72.511089  76.316025  79.079222   \n",
       "2024-04-01  main_series  85.322983  73.129987  77.983227  80.681344   \n",
       "2024-05-01  main_series  83.832573  71.658529  76.145567  79.184593   \n",
       "2024-06-01  main_series  83.566188  71.409795  75.653131  78.618784   \n",
       "2024-07-01  main_series  88.505651  75.806834  80.572791  83.482308   \n",
       "2024-08-01  main_series  88.999287  72.696524  78.924625  82.864329   \n",
       "2024-09-01  main_series  87.555110  70.845171  76.858135  80.955114   \n",
       "2024-10-01  main_series  89.099288  70.097903  76.596057  81.085759   \n",
       "2024-11-01  main_series  87.932848  64.259461  73.163894  78.562165   \n",
       "2024-12-01  main_series  91.370724  67.996654  76.680795  81.973643   \n",
       "\n",
       "                  0.4        0.5        0.6        0.7         0.8         0.9  \n",
       "timestamp                                                                       \n",
       "2024-01-01  81.211364  82.868930  84.487071  86.081627   88.104305   91.518641  \n",
       "2024-02-01  80.449061  82.259736  84.115276  86.043928   88.337846   92.193749  \n",
       "2024-03-01  81.217502  82.974454  85.114828  87.147720   89.600984   93.713006  \n",
       "2024-04-01  83.008720  85.188429  87.596320  89.884571   92.849025   97.543784  \n",
       "2024-05-01  81.659421  83.664365  85.990844  88.482229   91.429575   96.116702  \n",
       "2024-06-01  81.147051  83.677116  85.827285  88.393004   91.570693   96.217034  \n",
       "2024-07-01  86.043895  88.298616  90.631928  93.354868   96.643394  101.397872  \n",
       "2024-08-01  85.967931  88.576583  91.534328  94.967510   99.315344  104.812469  \n",
       "2024-09-01  83.972485  87.123977  90.217464  93.690905   97.939715  104.973723  \n",
       "2024-10-01  84.868827  88.599119  92.201833  96.444367  101.233491  109.347506  \n",
       "2024-11-01  83.212562  87.374170  91.917125  96.841943  102.673732  111.950105  \n",
       "2024-12-01  86.583066  90.667713  94.807211  99.777147  105.862147  116.982844  "
      ]
     },
     "execution_count": 15,
     "metadata": {},
     "output_type": "execute_result"
    }
   ],
   "source": [
    "results[\"Crude Oil Brent Price\"][\"forecast\"]"
   ]
  },
  {
   "cell_type": "code",
   "execution_count": 16,
   "id": "ba62e34e",
   "metadata": {},
   "outputs": [
    {
     "name": "stdout",
     "output_type": "stream",
     "text": [
      "<class 'pandas.core.series.Series'>\n",
      "DatetimeIndex: 12 entries, 2024-01-01 to 2024-12-01\n",
      "Series name: mean\n",
      "Non-Null Count  Dtype  \n",
      "--------------  -----  \n",
      "12 non-null     float64\n",
      "dtypes: float64(1)\n",
      "memory usage: 192.0 bytes\n"
     ]
    }
   ],
   "source": [
    "pd.Series(results[\"Crude Oil Brent Price\"][\"forecast\"][\"mean\"]).info()"
   ]
  },
  {
   "cell_type": "code",
   "execution_count": 17,
   "id": "005dfe71",
   "metadata": {},
   "outputs": [],
   "source": [
    "# forecasted_crudeoil = pd.Series(results[\"Crude Oil Brent Price\"][\"forecast\"][\"mean\"])\n",
    "# forecasted_cocoa = pd.Series(results[\"Cocoa Price\"][\"forecast\"][\"mean\"])\n",
    "# forecasted_gold = pd.Series(results[\"Gold Price\"][\"forecast\"][\"mean\"])"
   ]
  },
  {
   "cell_type": "code",
   "execution_count": 18,
   "id": "07c433a1",
   "metadata": {},
   "outputs": [],
   "source": [
    "# df = pd.read_csv(\"merged_macro_commodity.csv\", parse_dates=['date'])\n",
    "# df['date'] = pd.to_datetime(df['date'])\n",
    "# test_macro_df = df[df[\"date\"] >= \"2024-01-01\"]\n",
    "# gdp_series = test_macro_df[\"GDP (constant 2015 US$)\"]\n",
    "# revenue_series = test_macro_df[\"Revenue, excluding grants (% of GDP)\"]\n",
    "# employment_series = test_macro_df[\"Employment to population ratio (15+, total %)\"]"
   ]
  },
  {
   "cell_type": "code",
   "execution_count": 19,
   "id": "5dcb057c",
   "metadata": {},
   "outputs": [],
   "source": [
    "# data = pd.DataFrame({\n",
    "#     'Forecasted Crude Oil Price': forecasted_crudeoil,\n",
    "#     'Forecasted Cocoa Price': forecasted_cocoa,\n",
    "#     'Forecasted Gold Price': forecasted_gold,\n",
    "#     'GDP': gdp_series,\n",
    "#     'Revenue': revenue_series,\n",
    "#     'Employment': employment_series,\n",
    "# })\n",
    "# data\n",
    "# pd.concat([forecasted_crudeoil, forecasted_cocoa, forecasted_gold, gdp_series], axis=\"columns\")"
   ]
  },
  {
   "cell_type": "code",
   "execution_count": 20,
   "id": "585cb5bd",
   "metadata": {},
   "outputs": [],
   "source": [
    "# 1. Load forecasted series\n",
    "forecasted_crudeoil = pd.Series(results[\"Crude Oil Brent Price\"][\"forecast\"][\"mean\"])\n",
    "forecasted_cocoa = pd.Series(results[\"Cocoa Price\"][\"forecast\"][\"mean\"])\n",
    "forecasted_gold = pd.Series(results[\"Gold Price\"][\"forecast\"][\"mean\"])\n",
    "\n",
    "# 2. Load macroeconomic data\n",
    "df = pd.read_csv(\"merged_macro_commodity.csv\", parse_dates=['date'])\n",
    "df['date'] = pd.to_datetime(df['date'])\n",
    "\n",
    "# 3. Filter macro data to match forecast dates\n",
    "test_macro_df = df[df[\"date\"] >= \"2024-01-01\"].copy()\n",
    "\n",
    "# 4. Make forecasted series into a DataFrame with 'date' as a column\n",
    "forecasted_df = pd.DataFrame({\n",
    "    'date': forecasted_crudeoil.index,\n",
    "    'Forecasted Crude Oil Price': forecasted_crudeoil.values,\n",
    "    'Forecasted Cocoa Price': forecasted_cocoa.values,\n",
    "    'Forecasted Gold Price': forecasted_gold.values,\n",
    "})\n",
    "\n",
    "# 5. Merge forecasts and macroeconomic features on 'date'\n",
    "merged_df = pd.merge(forecasted_df, test_macro_df, on='date', how='inner')\n",
    "merged_forecasted_macro_df = merged_df\n",
    "merged_forecasted_macro_df.to_csv(\"merged_autogluon_forecasted_macro.csv\")\n",
    "\n",
    "# 7. Select the series you need\n",
    "gdp_series = merged_df[\"GDP (constant 2015 US$)\"]\n",
    "revenue_series = merged_df[\"Revenue, excluding grants (% of GDP)\"]\n",
    "employment_series = merged_df[\"Employment to population ratio (15+, total %)\"]\n",
    "\n",
    "# 8. Final combined dataset to use for Granger causality\n",
    "data_for_granger = merged_df[\n",
    "    ['Forecasted Crude Oil Price', 'Forecasted Cocoa Price', 'Forecasted Gold Price',\n",
    "     'GDP (constant 2015 US$)', 'Revenue, excluding grants (% of GDP)', 'Employment to population ratio (15+, total %)']\n",
    "]\n",
    "\n",
    "\n",
    "from statsmodels.tsa.stattools import grangercausalitytests\n",
    "\n",
    "# def run_granger_tests(data, predictors, targets, max_lag=12, significance_level=0.05):\n",
    "#     \"\"\"\n",
    "#     Run Granger causality tests for multiple predictors and targets.\n",
    "\n",
    "#     Parameters:\n",
    "#         data (DataFrame): Combined DataFrame with predictors and targets.\n",
    "#         predictors (list): List of forecasted commodity price columns.\n",
    "#         targets (list): List of macroeconomic variable columns.\n",
    "#         max_lag (int): Maximum lag to consider.\n",
    "#         significance_level (float): p-value threshold to determine causality.\n",
    "\n",
    "#     Returns:\n",
    "#         results_df (DataFrame): Summary table of Granger test results.\n",
    "#     \"\"\"\n",
    "#     results = []\n",
    "\n",
    "#     for predictor in predictors:\n",
    "#         for target in targets:\n",
    "#             # Prepare the data: target first, predictor second\n",
    "#             test_data = data[[target, predictor]].dropna()\n",
    "\n",
    "#             # Run Granger causality test\n",
    "#             try:\n",
    "#                 granger_result = grangercausalitytests(test_data, maxlag=max_lag, verbose=False)\n",
    "                \n",
    "#                 # Find the lag with the lowest p-value\n",
    "#                 best_lag = None\n",
    "#                 best_pvalue = 1\n",
    "#                 best_fstat = None\n",
    "                \n",
    "#                 for lag in range(1, max_lag + 1):\n",
    "#                     test_stat = granger_result[lag][0]['ssr_ftest']\n",
    "#                     fstat, pvalue, df_denom, df_num = test_stat\n",
    "\n",
    "#                     if pvalue < best_pvalue:\n",
    "#                         best_pvalue = pvalue\n",
    "#                         best_lag = lag\n",
    "#                         best_fstat = fstat\n",
    "\n",
    "#                 conclusion = 'Yes' if best_pvalue < significance_level else 'No'\n",
    "\n",
    "#                 results.append({\n",
    "#                     'Forecasted Commodity': predictor,\n",
    "#                     'Macroeconomic Variable': target,\n",
    "#                     'Best Lag': best_lag,\n",
    "#                     'F-Statistic': round(best_fstat, 4),\n",
    "#                     'p-Value': round(best_pvalue, 4),\n",
    "#                     'Granger Causality Exists?': conclusion\n",
    "#                 })\n",
    "\n",
    "#             except Exception as e:\n",
    "#                 print(f\"Error testing {predictor} → {target}: {e}\")\n",
    "\n",
    "#     results_df = pd.DataFrame(results)\n",
    "#     return results_df\n",
    "\n",
    "# # === Example Usage ===\n",
    "\n",
    "# # Define predictors and targets\n",
    "# predictors = ['Forecasted Crude Oil Price', 'Forecasted Cocoa Price', 'Forecasted Gold Price']\n",
    "# targets = ['GDP (constant 2015 US$)', 'Revenue, excluding grants (% of GDP)', 'Employment to population ratio (15+, total %)']\n",
    "\n",
    "# # Run\n",
    "# granger_summary = run_granger_tests(data_for_granger, predictors, targets, max_lag=2)\n",
    "\n",
    "# # View\n",
    "# granger_summary\n"
   ]
  },
  {
   "cell_type": "code",
   "execution_count": 21,
   "id": "1826294b",
   "metadata": {},
   "outputs": [
    {
     "name": "stdout",
     "output_type": "stream",
     "text": [
      "<class 'pandas.core.frame.DataFrame'>\n",
      "RangeIndex: 12 entries, 0 to 11\n",
      "Data columns (total 10 columns):\n",
      " #   Column                                         Non-Null Count  Dtype         \n",
      "---  ------                                         --------------  -----         \n",
      " 0   date                                           12 non-null     datetime64[ns]\n",
      " 1   Forecasted Crude Oil Price                     12 non-null     float64       \n",
      " 2   Forecasted Cocoa Price                         12 non-null     float64       \n",
      " 3   Forecasted Gold Price                          12 non-null     float64       \n",
      " 4   Revenue, excluding grants (% of GDP)           12 non-null     float64       \n",
      " 5   GDP (constant 2015 US$)                        12 non-null     float64       \n",
      " 6   Employment to population ratio (15+, total %)  12 non-null     float64       \n",
      " 7   Crude Oil Brent Price                          12 non-null     float64       \n",
      " 8   Cocoa Price                                    12 non-null     float64       \n",
      " 9   Gold Price                                     12 non-null     float64       \n",
      "dtypes: datetime64[ns](1), float64(9)\n",
      "memory usage: 1.1 KB\n"
     ]
    }
   ],
   "source": [
    "merged_df.info()"
   ]
  },
  {
   "cell_type": "code",
   "execution_count": 25,
   "id": "09bfdb8e",
   "metadata": {},
   "outputs": [
    {
     "name": "stderr",
     "output_type": "stream",
     "text": [
      "/var/folders/rd/tqc_535n6bb2mkqrf4_7nf6w0000gn/T/ipykernel_97354/3585908330.py:19: SettingWithCopyWarning:\n",
      "\n",
      "\n",
      "A value is trying to be set on a copy of a slice from a DataFrame.\n",
      "Try using .loc[row_indexer,col_indexer] = value instead\n",
      "\n",
      "See the caveats in the documentation: https://pandas.pydata.org/pandas-docs/stable/user_guide/indexing.html#returning-a-view-versus-a-copy\n",
      "\n"
     ]
    },
    {
     "data": {
      "image/png": "[encoded data removed]",
      "text/plain": [
       "<Figure size 1000x800 with 2 Axes>"
      ]
     },
     "metadata": {},
     "output_type": "display_data"
    }
   ],
   "source": [
    "import pandas as pd\n",
    "import seaborn as sns\n",
    "import matplotlib.pyplot as plt\n",
    "import numpy as np\n",
    "\n",
    "# df = pd.read_csv(\"merged_macro_commodity.csv\", parse_dates=['date'])\n",
    "merged_df = pd.read_csv(\"merged_autogluon_forecasted_macro.csv\", parse_dates=['date'])\n",
    "df = merged_df[\n",
    "    [\n",
    "     'date',\n",
    "     'Forecasted Crude Oil Price', \n",
    "     'Forecasted Cocoa Price', \n",
    "     'Forecasted Gold Price',\n",
    "     'GDP (constant 2015 US$)', \n",
    "     'Revenue, excluding grants (% of GDP)', \n",
    "     'Employment to population ratio (15+, total %)'\n",
    "    ]\n",
    "]\n",
    "df['date'] = pd.to_datetime(df['date'])\n",
    "\n",
    "# Calculate the correlation matrix\n",
    "corr = df.drop(columns=['date']).corr()\n",
    "\n",
    "# Generate a mask for the upper triangle\n",
    "mask = np.triu(np.ones_like(corr, dtype=bool))\n",
    "\n",
    "# Set up the matplotlib figure\n",
    "plt.figure(figsize=(10, 8))\n",
    "\n",
    "# Create a custom diverging colormap\n",
    "sns.heatmap(\n",
    "    corr, \n",
    "    mask=mask, \n",
    "    cmap='YlGnBu',  # You can try 'Spectral' too\n",
    "    vmax=1, \n",
    "    vmin=-1,\n",
    "    center=0,\n",
    "    annot=True, \n",
    "    fmt=\".2f\",\n",
    "    square=True,\n",
    "    linewidths=0.5,\n",
    "    cbar_kws={\"shrink\": 0.8}\n",
    ")\n",
    "\n",
    "plt.title('Forecast Correlation Heatmap', fontsize=16)\n",
    "plt.xticks(rotation=45, ha='right')\n",
    "plt.yticks(rotation=0)\n",
    "plt.tight_layout()\n",
    "plt.show()\n"
   ]
  }
 ],
 "metadata": {
  "kernelspec": {
   "display_name": "automl",
   "language": "python",
   "name": "python3"
  },
  "language_info": {
   "codemirror_mode": {
    "name": "ipython",
    "version": 3
   },
   "file_extension": ".py",
   "mimetype": "text/x-python",
   "name": "python",
   "nbconvert_exporter": "python",
   "pygments_lexer": "ipython3",
   "version": "3.12.9"
  }
 },
 "nbformat": 4,
 "nbformat_minor": 5
}
