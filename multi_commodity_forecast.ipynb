{
 "cells": [
  {
   "cell_type": "code",
   "execution_count": 1,
   "metadata": {},
   "outputs": [],
   "source": [
    "import tensorflow as tf\n",
    "from tensorflow import keras \n",
    "import pandas as pd \n",
    "import numpy as np \n",
    "from sklearn.preprocessing import StandardScaler, MinMaxScaler \n",
    "import matplotlib.pyplot as plt \n",
    "import seaborn as sns \n",
    "import os \n",
    "from datetime import datetime"
   ]
  },
  {
   "cell_type": "code",
   "execution_count": 2,
   "metadata": {},
   "outputs": [],
   "source": [
    "# suppress warnings\n",
    "os.environ['TF_CPP_MIN_LOG_LEVEL'] = '2'"
   ]
  },
  {
   "cell_type": "code",
   "execution_count": 3,
   "metadata": {},
   "outputs": [
    {
     "name": "stdout",
     "output_type": "stream",
     "text": [
      "<class 'pandas.core.frame.DataFrame'>\n",
      "RangeIndex: 408 entries, 0 to 407\n",
      "Data columns (total 7 columns):\n",
      " #   Column                                         Non-Null Count  Dtype  \n",
      "---  ------                                         --------------  -----  \n",
      " 0   date                                           408 non-null    object \n",
      " 1   Revenue, excluding grants (% of GDP)           408 non-null    float64\n",
      " 2   GDP (constant 2015 US$)                        408 non-null    float64\n",
      " 3   Employment to population ratio (15+, total %)  408 non-null    float64\n",
      " 4   Crude Oil Brent Price                          408 non-null    float64\n",
      " 5   Cocoa Price                                    408 non-null    float64\n",
      " 6   Gold Price                                     408 non-null    float64\n",
      "dtypes: float64(6), object(1)\n",
      "memory usage: 22.4+ KB\n"
     ]
    }
   ],
   "source": [
    "df = pd.read_csv(\"merged_macro_commodity.csv\")\n",
    "df.info()"
   ]
  },
  {
   "cell_type": "code",
   "execution_count": 4,
   "metadata": {},
   "outputs": [],
   "source": [
    "data = df.copy()\n",
    "data['date'] = pd.to_datetime(data['date'])"
   ]
  },
  {
   "cell_type": "code",
   "execution_count": 5,
   "metadata": {},
   "outputs": [],
   "source": [
    "import plotly.express as px\n",
    "import plotly.graph_objects as go\n",
    "\n",
    "\n",
    "def plotting(title, data, x, y, x_label, y_label, text=False, lam=None):\n",
    "    \"\"\"General function to plot the data.\"\"\"\n",
    "    fig = px.line(data, x=data[x], y=data[y], labels={x: x_label, y: y_label})\n",
    "    fig.update_layout(template=\"simple_white\", font=dict(size=18), title_text=title, width=650, title_x=0.5, height=400)\n",
    "    if text:\n",
    "      fig.add_annotation(\n",
    "          x='1952-12-20', y=10, text=f'Lambda = {lam:.3f}',\n",
    "          align='left', yanchor='bottom', showarrow=False,\n",
    "          font=dict(size=20, color=\"black\", family=\"Courier New, monospace\"),\n",
    "          bordercolor='black', borderwidth=2, bgcolor=\"white\"\n",
    "      )\n",
    "    fig.show()\n",
    "\n",
    "\n",
    "def add_separator(width=650):\n",
    "    \"\"\"Add a horizontal line as a separator.\"\"\"\n",
    "    fig = go.Figure()\n",
    "    fig.add_hline(y=0.5, line_dash=\"dot\", line_color=\"gray\", line_width=2)\n",
    "    fig.update_layout(height=50, width=width, margin=dict(l=20, r=20, t=20, b=20), xaxis_visible=False, yaxis_visible=False)\n",
    "    fig.show()\n"
   ]
  },
  {
   "cell_type": "code",
   "execution_count": 6,
   "metadata": {},
   "outputs": [
    {
     "data": {
      "application/vnd.plotly.v1+json": {
       "config": {
        "plotlyServerURL": "https://plot.ly"
       },
       "data": [
        {
         "hovertemplate": "Date=%{x}<br>%=%{y}<extra></extra>",
         "legendgroup": "",
         "line": {
          "color": "#636efa",
          "dash": "solid"
         },
         "marker": {
          "symbol": "circle"
         },
         "mode": "lines",
         "name": "",
         "orientation": "v",
         "showlegend": false,
         "type": "scatter",
         "x": [
          "1991-01-01T00:00:00",
          "1991-02-01T00:00:00",
          "1991-03-01T00:00:00",
          "1991-04-01T00:00:00",
          "1991-05-01T00:00:00",
          "1991-06-01T00:00:00",
          "1991-07-01T00:00:00",
          "1991-08-01T00:00:00",
          "1991-09-01T00:00:00",
          "1991-10-01T00:00:00",
          "1991-11-01T00:00:00",
          "1991-12-01T00:00:00",
          "1992-01-01T00:00:00",
          "1992-02-01T00:00:00",
          "1992-03-01T00:00:00",
          "1992-04-01T00:00:00",
          "1992-05-01T00:00:00",
          "1992-06-01T00:00:00",
          "1992-07-01T00:00:00",
          "1992-08-01T00:00:00",
          "1992-09-01T00:00:00",
          "1992-10-01T00:00:00",
          "1992-11-01T00:00:00",
          "1992-12-01T00:00:00",
          "1993-01-01T00:00:00",
          "1993-02-01T00:00:00",
          "1993-03-01T00:00:00",
          "1993-04-01T00:00:00",
          "1993-05-01T00:00:00",
          "1993-06-01T00:00:00",
          "1993-07-01T00:00:00",
          "1993-08-01T00:00:00",
          "1993-09-01T00:00:00",
          "1993-10-01T00:00:00",
          "1993-11-01T00:00:00",
          "1993-12-01T00:00:00",
          "1994-01-01T00:00:00",
          "1994-02-01T00:00:00",
          "1994-03-01T00:00:00",
          "1994-04-01T00:00:00",
          "1994-05-01T00:00:00",
          "1994-06-01T00:00:00",
          "1994-07-01T00:00:00",
          "1994-08-01T00:00:00",
          "1994-09-01T00:00:00",
          "1994-10-01T00:00:00",
          "1994-11-01T00:00:00",
          "1994-12-01T00:00:00",
          "1995-01-01T00:00:00",
          "1995-02-01T00:00:00",
          "1995-03-01T00:00:00",
          "1995-04-01T00:00:00",
          "1995-05-01T00:00:00",
          "1995-06-01T00:00:00",
          "1995-07-01T00:00:00",
          "1995-08-01T00:00:00",
          "1995-09-01T00:00:00",
          "1995-10-01T00:00:00",
          "1995-11-01T00:00:00",
          "1995-12-01T00:00:00",
          "1996-01-01T00:00:00",
          "1996-02-01T00:00:00",
          "1996-03-01T00:00:00",
          "1996-04-01T00:00:00",
          "1996-05-01T00:00:00",
          "1996-06-01T00:00:00",
          "1996-07-01T00:00:00",
          "1996-08-01T00:00:00",
          "1996-09-01T00:00:00",
          "1996-10-01T00:00:00",
          "1996-11-01T00:00:00",
          "1996-12-01T00:00:00",
          "1997-01-01T00:00:00",
          "1997-02-01T00:00:00",
          "1997-03-01T00:00:00",
          "1997-04-01T00:00:00",
          "1997-05-01T00:00:00",
          "1997-06-01T00:00:00",
          "1997-07-01T00:00:00",
          "1997-08-01T00:00:00",
          "1997-09-01T00:00:00",
          "1997-10-01T00:00:00",
          "1997-11-01T00:00:00",
          "1997-12-01T00:00:00",
          "1998-01-01T00:00:00",
          "1998-02-01T00:00:00",
          "1998-03-01T00:00:00",
          "1998-04-01T00:00:00",
          "1998-05-01T00:00:00",
          "1998-06-01T00:00:00",
          "1998-07-01T00:00:00",
          "1998-08-01T00:00:00",
          "1998-09-01T00:00:00",
          "1998-10-01T00:00:00",
          "1998-11-01T00:00:00",
          "1998-12-01T00:00:00",
          "1999-01-01T00:00:00",
          "1999-02-01T00:00:00",
          "1999-03-01T00:00:00",
          "1999-04-01T00:00:00",
          "1999-05-01T00:00:00",
          "1999-06-01T00:00:00",
          "1999-07-01T00:00:00",
          "1999-08-01T00:00:00",
          "1999-09-01T00:00:00",
          "1999-10-01T00:00:00",
          "1999-11-01T00:00:00",
          "1999-12-01T00:00:00",
          "2000-01-01T00:00:00",
          "2000-02-01T00:00:00",
          "2000-03-01T00:00:00",
          "2000-04-01T00:00:00",
          "2000-05-01T00:00:00",
          "2000-06-01T00:00:00",
          "2000-07-01T00:00:00",
          "2000-08-01T00:00:00",
          "2000-09-01T00:00:00",
          "2000-10-01T00:00:00",
          "2000-11-01T00:00:00",
          "2000-12-01T00:00:00",
          "2001-01-01T00:00:00",
          "2001-02-01T00:00:00",
          "2001-03-01T00:00:00",
          "2001-04-01T00:00:00",
          "2001-05-01T00:00:00",
          "2001-06-01T00:00:00",
          "2001-07-01T00:00:00",
          "2001-08-01T00:00:00",
          "2001-09-01T00:00:00",
          "2001-10-01T00:00:00",
          "2001-11-01T00:00:00",
          "2001-12-01T00:00:00",
          "2002-01-01T00:00:00",
          "2002-02-01T00:00:00",
          "2002-03-01T00:00:00",
          "2002-04-01T00:00:00",
          "2002-05-01T00:00:00",
          "2002-06-01T00:00:00",
          "2002-07-01T00:00:00",
          "2002-08-01T00:00:00",
          "2002-09-01T00:00:00",
          "2002-10-01T00:00:00",
          "2002-11-01T00:00:00",
          "2002-12-01T00:00:00",
          "2003-01-01T00:00:00",
          "2003-02-01T00:00:00",
          "2003-03-01T00:00:00",
          "2003-04-01T00:00:00",
          "2003-05-01T00:00:00",
          "2003-06-01T00:00:00",
          "2003-07-01T00:00:00",
          "2003-08-01T00:00:00",
          "2003-09-01T00:00:00",
          "2003-10-01T00:00:00",
          "2003-11-01T00:00:00",
          "2003-12-01T00:00:00",
          "2004-01-01T00:00:00",
          "2004-02-01T00:00:00",
          "2004-03-01T00:00:00",
          "2004-04-01T00:00:00",
          "2004-05-01T00:00:00",
          "2004-06-01T00:00:00",
          "2004-07-01T00:00:00",
          "2004-08-01T00:00:00",
          "2004-09-01T00:00:00",
          "2004-10-01T00:00:00",
          "2004-11-01T00:00:00",
          "2004-12-01T00:00:00",
          "2005-01-01T00:00:00",
          "2005-02-01T00:00:00",
          "2005-03-01T00:00:00",
          "2005-04-01T00:00:00",
          "2005-05-01T00:00:00",
          "2005-06-01T00:00:00",
          "2005-07-01T00:00:00",
          "2005-08-01T00:00:00",
          "2005-09-01T00:00:00",
          "2005-10-01T00:00:00",
          "2005-11-01T00:00:00",
          "2005-12-01T00:00:00",
          "2006-01-01T00:00:00",
          "2006-02-01T00:00:00",
          "2006-03-01T00:00:00",
          "2006-04-01T00:00:00",
          "2006-05-01T00:00:00",
          "2006-06-01T00:00:00",
          "2006-07-01T00:00:00",
          "2006-08-01T00:00:00",
          "2006-09-01T00:00:00",
          "2006-10-01T00:00:00",
          "2006-11-01T00:00:00",
          "2006-12-01T00:00:00",
          "2007-01-01T00:00:00",
          "2007-02-01T00:00:00",
          "2007-03-01T00:00:00",
          "2007-04-01T00:00:00",
          "2007-05-01T00:00:00",
          "2007-06-01T00:00:00",
          "2007-07-01T00:00:00",
          "2007-08-01T00:00:00",
          "2007-09-01T00:00:00",
          "2007-10-01T00:00:00",
          "2007-11-01T00:00:00",
          "2007-12-01T00:00:00",
          "2008-01-01T00:00:00",
          "2008-02-01T00:00:00",
          "2008-03-01T00:00:00",
          "2008-04-01T00:00:00",
          "2008-05-01T00:00:00",
          "2008-06-01T00:00:00",
          "2008-07-01T00:00:00",
          "2008-08-01T00:00:00",
          "2008-09-01T00:00:00",
          "2008-10-01T00:00:00",
          "2008-11-01T00:00:00",
          "2008-12-01T00:00:00",
          "2009-01-01T00:00:00",
          "2009-02-01T00:00:00",
          "2009-03-01T00:00:00",
          "2009-04-01T00:00:00",
          "2009-05-01T00:00:00",
          "2009-06-01T00:00:00",
          "2009-07-01T00:00:00",
          "2009-08-01T00:00:00",
          "2009-09-01T00:00:00",
          "2009-10-01T00:00:00",
          "2009-11-01T00:00:00",
          "2009-12-01T00:00:00",
          "2010-01-01T00:00:00",
          "2010-02-01T00:00:00",
          "2010-03-01T00:00:00",
          "2010-04-01T00:00:00",
          "2010-05-01T00:00:00",
          "2010-06-01T00:00:00",
          "2010-07-01T00:00:00",
          "2010-08-01T00:00:00",
          "2010-09-01T00:00:00",
          "2010-10-01T00:00:00",
          "2010-11-01T00:00:00",
          "2010-12-01T00:00:00",
          "2011-01-01T00:00:00",
          "2011-02-01T00:00:00",
          "2011-03-01T00:00:00",
          "2011-04-01T00:00:00",
          "2011-05-01T00:00:00",
          "2011-06-01T00:00:00",
          "2011-07-01T00:00:00",
          "2011-08-01T00:00:00",
          "2011-09-01T00:00:00",
          "2011-10-01T00:00:00",
          "2011-11-01T00:00:00",
          "2011-12-01T00:00:00",
          "2012-01-01T00:00:00",
          "2012-02-01T00:00:00",
          "2012-03-01T00:00:00",
          "2012-04-01T00:00:00",
          "2012-05-01T00:00:00",
          "2012-06-01T00:00:00",
          "2012-07-01T00:00:00",
          "2012-08-01T00:00:00",
          "2012-09-01T00:00:00",
          "2012-10-01T00:00:00",
          "2012-11-01T00:00:00",
          "2012-12-01T00:00:00",
          "2013-01-01T00:00:00",
          "2013-02-01T00:00:00",
          "2013-03-01T00:00:00",
          "2013-04-01T00:00:00",
          "2013-05-01T00:00:00",
          "2013-06-01T00:00:00",
          "2013-07-01T00:00:00",
          "2013-08-01T00:00:00",
          "2013-09-01T00:00:00",
          "2013-10-01T00:00:00",
          "2013-11-01T00:00:00",
          "2013-12-01T00:00:00",
          "2014-01-01T00:00:00",
          "2014-02-01T00:00:00",
          "2014-03-01T00:00:00",
          "2014-04-01T00:00:00",
          "2014-05-01T00:00:00",
          "2014-06-01T00:00:00",
          "2014-07-01T00:00:00",
          "2014-08-01T00:00:00",
          "2014-09-01T00:00:00",
          "2014-10-01T00:00:00",
          "2014-11-01T00:00:00",
          "2014-12-01T00:00:00",
          "2015-01-01T00:00:00",
          "2015-02-01T00:00:00",
          "2015-03-01T00:00:00",
          "2015-04-01T00:00:00",
          "2015-05-01T00:00:00",
          "2015-06-01T00:00:00",
          "2015-07-01T00:00:00",
          "2015-08-01T00:00:00",
          "2015-09-01T00:00:00",
          "2015-10-01T00:00:00",
          "2015-11-01T00:00:00",
          "2015-12-01T00:00:00",
          "2016-01-01T00:00:00",
          "2016-02-01T00:00:00",
          "2016-03-01T00:00:00",
          "2016-04-01T00:00:00",
          "2016-05-01T00:00:00",
          "2016-06-01T00:00:00",
          "2016-07-01T00:00:00",
          "2016-08-01T00:00:00",
          "2016-09-01T00:00:00",
          "2016-10-01T00:00:00",
          "2016-11-01T00:00:00",
          "2016-12-01T00:00:00",
          "2017-01-01T00:00:00",
          "2017-02-01T00:00:00",
          "2017-03-01T00:00:00",
          "2017-04-01T00:00:00",
          "2017-05-01T00:00:00",
          "2017-06-01T00:00:00",
          "2017-07-01T00:00:00",
          "2017-08-01T00:00:00",
          "2017-09-01T00:00:00",
          "2017-10-01T00:00:00",
          "2017-11-01T00:00:00",
          "2017-12-01T00:00:00",
          "2018-01-01T00:00:00",
          "2018-02-01T00:00:00",
          "2018-03-01T00:00:00",
          "2018-04-01T00:00:00",
          "2018-05-01T00:00:00",
          "2018-06-01T00:00:00",
          "2018-07-01T00:00:00",
          "2018-08-01T00:00:00",
          "2018-09-01T00:00:00",
          "2018-10-01T00:00:00",
          "2018-11-01T00:00:00",
          "2018-12-01T00:00:00",
          "2019-01-01T00:00:00",
          "2019-02-01T00:00:00",
          "2019-03-01T00:00:00",
          "2019-04-01T00:00:00",
          "2019-05-01T00:00:00",
          "2019-06-01T00:00:00",
          "2019-07-01T00:00:00",
          "2019-08-01T00:00:00",
          "2019-09-01T00:00:00",
          "2019-10-01T00:00:00",
          "2019-11-01T00:00:00",
          "2019-12-01T00:00:00",
          "2020-01-01T00:00:00",
          "2020-02-01T00:00:00",
          "2020-03-01T00:00:00",
          "2020-04-01T00:00:00",
          "2020-05-01T00:00:00",
          "2020-06-01T00:00:00",
          "2020-07-01T00:00:00",
          "2020-08-01T00:00:00",
          "2020-09-01T00:00:00",
          "2020-10-01T00:00:00",
          "2020-11-01T00:00:00",
          "2020-12-01T00:00:00",
          "2021-01-01T00:00:00",
          "2021-02-01T00:00:00",
          "2021-03-01T00:00:00",
          "2021-04-01T00:00:00",
          "2021-05-01T00:00:00",
          "2021-06-01T00:00:00",
          "2021-07-01T00:00:00",
          "2021-08-01T00:00:00",
          "2021-09-01T00:00:00",
          "2021-10-01T00:00:00",
          "2021-11-01T00:00:00",
          "2021-12-01T00:00:00",
          "2022-01-01T00:00:00",
          "2022-02-01T00:00:00",
          "2022-03-01T00:00:00",
          "2022-04-01T00:00:00",
          "2022-05-01T00:00:00",
          "2022-06-01T00:00:00",
          "2022-07-01T00:00:00",
          "2022-08-01T00:00:00",
          "2022-09-01T00:00:00",
          "2022-10-01T00:00:00",
          "2022-11-01T00:00:00",
          "2022-12-01T00:00:00",
          "2023-01-01T00:00:00",
          "2023-02-01T00:00:00",
          "2023-03-01T00:00:00",
          "2023-04-01T00:00:00",
          "2023-05-01T00:00:00",
          "2023-06-01T00:00:00",
          "2023-07-01T00:00:00",
          "2023-08-01T00:00:00",
          "2023-09-01T00:00:00",
          "2023-10-01T00:00:00",
          "2023-11-01T00:00:00",
          "2023-12-01T00:00:00",
          "2024-01-01T00:00:00",
          "2024-02-01T00:00:00",
          "2024-03-01T00:00:00",
          "2024-04-01T00:00:00",
          "2024-05-01T00:00:00",
          "2024-06-01T00:00:00",
          "2024-07-01T00:00:00",
          "2024-08-01T00:00:00",
          "2024-09-01T00:00:00",
          "2024-10-01T00:00:00",
          "2024-11-01T00:00:00",
          "2024-12-01T00:00:00"
         ],
         "xaxis": "x",
         "y": {
          "bdata": "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",
          "dtype": "f8"
         },
         "yaxis": "y"
        }
       ],
       "layout": {
        "font": {
         "size": 18
        },
        "height": 400,
        "legend": {
         "tracegroupgap": 0
        },
        "margin": {
         "t": 60
        },
        "template": {
         "data": {
          "bar": [
           {
            "error_x": {
             "color": "rgb(36,36,36)"
            },
            "error_y": {
             "color": "rgb(36,36,36)"
            },
            "marker": {
             "line": {
              "color": "white",
              "width": 0.5
             },
             "pattern": {
              "fillmode": "overlay",
              "size": 10,
              "solidity": 0.2
             }
            },
            "type": "bar"
           }
          ],
          "barpolar": [
           {
            "marker": {
             "line": {
              "color": "white",
              "width": 0.5
             },
             "pattern": {
              "fillmode": "overlay",
              "size": 10,
              "solidity": 0.2
             }
            },
            "type": "barpolar"
           }
          ],
          "carpet": [
           {
            "aaxis": {
             "endlinecolor": "rgb(36,36,36)",
             "gridcolor": "white",
             "linecolor": "white",
             "minorgridcolor": "white",
             "startlinecolor": "rgb(36,36,36)"
            },
            "baxis": {
             "endlinecolor": "rgb(36,36,36)",
             "gridcolor": "white",
             "linecolor": "white",
             "minorgridcolor": "white",
             "startlinecolor": "rgb(36,36,36)"
            },
            "type": "carpet"
           }
          ],
          "choropleth": [
           {
            "colorbar": {
             "outlinewidth": 1,
             "tickcolor": "rgb(36,36,36)",
             "ticks": "outside"
            },
            "type": "choropleth"
           }
          ],
          "contour": [
           {
            "colorbar": {
             "outlinewidth": 1,
             "tickcolor": "rgb(36,36,36)",
             "ticks": "outside"
            },
            "colorscale": [
             [
              0,
              "#440154"
             ],
             [
              0.1111111111111111,
              "#482878"
             ],
             [
              0.2222222222222222,
              "#3e4989"
             ],
             [
              0.3333333333333333,
              "#31688e"
             ],
             [
              0.4444444444444444,
              "#26828e"
             ],
             [
              0.5555555555555556,
              "#1f9e89"
             ],
             [
              0.6666666666666666,
              "#35b779"
             ],
             [
              0.7777777777777778,
              "#6ece58"
             ],
             [
              0.8888888888888888,
              "#b5de2b"
             ],
             [
              1,
              "#fde725"
             ]
            ],
            "type": "contour"
           }
          ],
          "contourcarpet": [
           {
            "colorbar": {
             "outlinewidth": 1,
             "tickcolor": "rgb(36,36,36)",
             "ticks": "outside"
            },
            "type": "contourcarpet"
           }
          ],
          "heatmap": [
           {
            "colorbar": {
             "outlinewidth": 1,
             "tickcolor": "rgb(36,36,36)",
             "ticks": "outside"
            },
            "colorscale": [
             [
              0,
              "#440154"
             ],
             [
              0.1111111111111111,
              "#482878"
             ],
             [
              0.2222222222222222,
              "#3e4989"
             ],
             [
              0.3333333333333333,
              "#31688e"
             ],
             [
              0.4444444444444444,
              "#26828e"
             ],
             [
              0.5555555555555556,
              "#1f9e89"
             ],
             [
              0.6666666666666666,
              "#35b779"
             ],
             [
              0.7777777777777778,
              "#6ece58"
             ],
             [
              0.8888888888888888,
              "#b5de2b"
             ],
             [
              1,
              "#fde725"
             ]
            ],
            "type": "heatmap"
           }
          ],
          "histogram": [
           {
            "marker": {
             "line": {
              "color": "white",
              "width": 0.6
             }
            },
            "type": "histogram"
           }
          ],
          "histogram2d": [
           {
            "colorbar": {
             "outlinewidth": 1,
             "tickcolor": "rgb(36,36,36)",
             "ticks": "outside"
            },
            "colorscale": [
             [
              0,
              "#440154"
             ],
             [
              0.1111111111111111,
              "#482878"
             ],
             [
              0.2222222222222222,
              "#3e4989"
             ],
             [
              0.3333333333333333,
              "#31688e"
             ],
             [
              0.4444444444444444,
              "#26828e"
             ],
             [
              0.5555555555555556,
              "#1f9e89"
             ],
             [
              0.6666666666666666,
              "#35b779"
             ],
             [
              0.7777777777777778,
              "#6ece58"
             ],
             [
              0.8888888888888888,
              "#b5de2b"
             ],
             [
              1,
              "#fde725"
             ]
            ],
            "type": "histogram2d"
           }
          ],
          "histogram2dcontour": [
           {
            "colorbar": {
             "outlinewidth": 1,
             "tickcolor": "rgb(36,36,36)",
             "ticks": "outside"
            },
            "colorscale": [
             [
              0,
              "#440154"
             ],
             [
              0.1111111111111111,
              "#482878"
             ],
             [
              0.2222222222222222,
              "#3e4989"
             ],
             [
              0.3333333333333333,
              "#31688e"
             ],
             [
              0.4444444444444444,
              "#26828e"
             ],
             [
              0.5555555555555556,
              "#1f9e89"
             ],
             [
              0.6666666666666666,
              "#35b779"
             ],
             [
              0.7777777777777778,
              "#6ece58"
             ],
             [
              0.8888888888888888,
              "#b5de2b"
             ],
             [
              1,
              "#fde725"
             ]
            ],
            "type": "histogram2dcontour"
           }
          ],
          "mesh3d": [
           {
            "colorbar": {
             "outlinewidth": 1,
             "tickcolor": "rgb(36,36,36)",
             "ticks": "outside"
            },
            "type": "mesh3d"
           }
          ],
          "parcoords": [
           {
            "line": {
             "colorbar": {
              "outlinewidth": 1,
              "tickcolor": "rgb(36,36,36)",
              "ticks": "outside"
             }
            },
            "type": "parcoords"
           }
          ],
          "pie": [
           {
            "automargin": true,
            "type": "pie"
           }
          ],
          "scatter": [
           {
            "fillpattern": {
             "fillmode": "overlay",
             "size": 10,
             "solidity": 0.2
            },
            "type": "scatter"
           }
          ],
          "scatter3d": [
           {
            "line": {
             "colorbar": {
              "outlinewidth": 1,
              "tickcolor": "rgb(36,36,36)",
              "ticks": "outside"
             }
            },
            "marker": {
             "colorbar": {
              "outlinewidth": 1,
              "tickcolor": "rgb(36,36,36)",
              "ticks": "outside"
             }
            },
            "type": "scatter3d"
           }
          ],
          "scattercarpet": [
           {
            "marker": {
             "colorbar": {
              "outlinewidth": 1,
              "tickcolor": "rgb(36,36,36)",
              "ticks": "outside"
             }
            },
            "type": "scattercarpet"
           }
          ],
          "scattergeo": [
           {
            "marker": {
             "colorbar": {
              "outlinewidth": 1,
              "tickcolor": "rgb(36,36,36)",
              "ticks": "outside"
             }
            },
            "type": "scattergeo"
           }
          ],
          "scattergl": [
           {
            "marker": {
             "colorbar": {
              "outlinewidth": 1,
              "tickcolor": "rgb(36,36,36)",
              "ticks": "outside"
             }
            },
            "type": "scattergl"
           }
          ],
          "scattermap": [
           {
            "marker": {
             "colorbar": {
              "outlinewidth": 1,
              "tickcolor": "rgb(36,36,36)",
              "ticks": "outside"
             }
            },
            "type": "scattermap"
           }
          ],
          "scattermapbox": [
           {
            "marker": {
             "colorbar": {
              "outlinewidth": 1,
              "tickcolor": "rgb(36,36,36)",
              "ticks": "outside"
             }
            },
            "type": "scattermapbox"
           }
          ],
          "scatterpolar": [
           {
            "marker": {
             "colorbar": {
              "outlinewidth": 1,
              "tickcolor": "rgb(36,36,36)",
              "ticks": "outside"
             }
            },
            "type": "scatterpolar"
           }
          ],
          "scatterpolargl": [
           {
            "marker": {
             "colorbar": {
              "outlinewidth": 1,
              "tickcolor": "rgb(36,36,36)",
              "ticks": "outside"
             }
            },
            "type": "scatterpolargl"
           }
          ],
          "scatterternary": [
           {
            "marker": {
             "colorbar": {
              "outlinewidth": 1,
              "tickcolor": "rgb(36,36,36)",
              "ticks": "outside"
             }
            },
            "type": "scatterternary"
           }
          ],
          "surface": [
           {
            "colorbar": {
             "outlinewidth": 1,
             "tickcolor": "rgb(36,36,36)",
             "ticks": "outside"
            },
            "colorscale": [
             [
              0,
              "#440154"
             ],
             [
              0.1111111111111111,
              "#482878"
             ],
             [
              0.2222222222222222,
              "#3e4989"
             ],
             [
              0.3333333333333333,
              "#31688e"
             ],
             [
              0.4444444444444444,
              "#26828e"
             ],
             [
              0.5555555555555556,
              "#1f9e89"
             ],
             [
              0.6666666666666666,
              "#35b779"
             ],
             [
              0.7777777777777778,
              "#6ece58"
             ],
             [
              0.8888888888888888,
              "#b5de2b"
             ],
             [
              1,
              "#fde725"
             ]
            ],
            "type": "surface"
           }
          ],
          "table": [
           {
            "cells": {
             "fill": {
              "color": "rgb(237,237,237)"
             },
             "line": {
              "color": "white"
             }
            },
            "header": {
             "fill": {
              "color": "rgb(217,217,217)"
             },
             "line": {
              "color": "white"
             }
            },
            "type": "table"
           }
          ]
         },
         "layout": {
          "annotationdefaults": {
           "arrowhead": 0,
           "arrowwidth": 1
          },
          "autotypenumbers": "strict",
          "coloraxis": {
           "colorbar": {
            "outlinewidth": 1,
            "tickcolor": "rgb(36,36,36)",
            "ticks": "outside"
           }
          },
          "colorscale": {
           "diverging": [
            [
             0,
             "rgb(103,0,31)"
            ],
            [
             0.1,
             "rgb(178,24,43)"
            ],
            [
             0.2,
             "rgb(214,96,77)"
            ],
            [
             0.3,
             "rgb(244,165,130)"
            ],
            [
             0.4,
             "rgb(253,219,199)"
            ],
            [
             0.5,
             "rgb(247,247,247)"
            ],
            [
             0.6,
             "rgb(209,229,240)"
            ],
            [
             0.7,
             "rgb(146,197,222)"
            ],
            [
             0.8,
             "rgb(67,147,195)"
            ],
            [
             0.9,
             "rgb(33,102,172)"
            ],
            [
             1,
             "rgb(5,48,97)"
            ]
           ],
           "sequential": [
            [
             0,
             "#440154"
            ],
            [
             0.1111111111111111,
             "#482878"
            ],
            [
             0.2222222222222222,
             "#3e4989"
            ],
            [
             0.3333333333333333,
             "#31688e"
            ],
            [
             0.4444444444444444,
             "#26828e"
            ],
            [
             0.5555555555555556,
             "#1f9e89"
            ],
            [
             0.6666666666666666,
             "#35b779"
            ],
            [
             0.7777777777777778,
             "#6ece58"
            ],
            [
             0.8888888888888888,
             "#b5de2b"
            ],
            [
             1,
             "#fde725"
            ]
           ],
           "sequentialminus": [
            [
             0,
             "#440154"
            ],
            [
             0.1111111111111111,
             "#482878"
            ],
            [
             0.2222222222222222,
             "#3e4989"
            ],
            [
             0.3333333333333333,
             "#31688e"
            ],
            [
             0.4444444444444444,
             "#26828e"
            ],
            [
             0.5555555555555556,
             "#1f9e89"
            ],
            [
             0.6666666666666666,
             "#35b779"
            ],
            [
             0.7777777777777778,
             "#6ece58"
            ],
            [
             0.8888888888888888,
             "#b5de2b"
            ],
            [
             1,
             "#fde725"
            ]
           ]
          },
          "colorway": [
           "#1F77B4",
           "#FF7F0E",
           "#2CA02C",
           "#D62728",
           "#9467BD",
           "#8C564B",
           "#E377C2",
           "#7F7F7F",
           "#BCBD22",
           "#17BECF"
          ],
          "font": {
           "color": "rgb(36,36,36)"
          },
          "geo": {
           "bgcolor": "white",
           "lakecolor": "white",
           "landcolor": "white",
           "showlakes": true,
           "showland": true,
           "subunitcolor": "white"
          },
          "hoverlabel": {
           "align": "left"
          },
          "hovermode": "closest",
          "mapbox": {
           "style": "light"
          },
          "paper_bgcolor": "white",
          "plot_bgcolor": "white",
          "polar": {
           "angularaxis": {
            "gridcolor": "rgb(232,232,232)",
            "linecolor": "rgb(36,36,36)",
            "showgrid": false,
            "showline": true,
            "ticks": "outside"
           },
           "bgcolor": "white",
           "radialaxis": {
            "gridcolor": "rgb(232,232,232)",
            "linecolor": "rgb(36,36,36)",
            "showgrid": false,
            "showline": true,
            "ticks": "outside"
           }
          },
          "scene": {
           "xaxis": {
            "backgroundcolor": "white",
            "gridcolor": "rgb(232,232,232)",
            "gridwidth": 2,
            "linecolor": "rgb(36,36,36)",
            "showbackground": true,
            "showgrid": false,
            "showline": true,
            "ticks": "outside",
            "zeroline": false,
            "zerolinecolor": "rgb(36,36,36)"
           },
           "yaxis": {
            "backgroundcolor": "white",
            "gridcolor": "rgb(232,232,232)",
            "gridwidth": 2,
            "linecolor": "rgb(36,36,36)",
            "showbackground": true,
            "showgrid": false,
            "showline": true,
            "ticks": "outside",
            "zeroline": false,
            "zerolinecolor": "rgb(36,36,36)"
           },
           "zaxis": {
            "backgroundcolor": "white",
            "gridcolor": "rgb(232,232,232)",
            "gridwidth": 2,
            "linecolor": "rgb(36,36,36)",
            "showbackground": true,
            "showgrid": false,
            "showline": true,
            "ticks": "outside",
            "zeroline": false,
            "zerolinecolor": "rgb(36,36,36)"
           }
          },
          "shapedefaults": {
           "fillcolor": "black",
           "line": {
            "width": 0
           },
           "opacity": 0.3
          },
          "ternary": {
           "aaxis": {
            "gridcolor": "rgb(232,232,232)",
            "linecolor": "rgb(36,36,36)",
            "showgrid": false,
            "showline": true,
            "ticks": "outside"
           },
           "baxis": {
            "gridcolor": "rgb(232,232,232)",
            "linecolor": "rgb(36,36,36)",
            "showgrid": false,
            "showline": true,
            "ticks": "outside"
           },
           "bgcolor": "white",
           "caxis": {
            "gridcolor": "rgb(232,232,232)",
            "linecolor": "rgb(36,36,36)",
            "showgrid": false,
            "showline": true,
            "ticks": "outside"
           }
          },
          "title": {
           "x": 0.05
          },
          "xaxis": {
           "automargin": true,
           "gridcolor": "rgb(232,232,232)",
           "linecolor": "rgb(36,36,36)",
           "showgrid": false,
           "showline": true,
           "ticks": "outside",
           "title": {
            "standoff": 15
           },
           "zeroline": false,
           "zerolinecolor": "rgb(36,36,36)"
          },
          "yaxis": {
           "automargin": true,
           "gridcolor": "rgb(232,232,232)",
           "linecolor": "rgb(36,36,36)",
           "showgrid": false,
           "showline": true,
           "ticks": "outside",
           "title": {
            "standoff": 15
           },
           "zeroline": false,
           "zerolinecolor": "rgb(36,36,36)"
          }
         }
        },
        "title": {
         "text": "Revenue Over Time",
         "x": 0.5
        },
        "width": 650,
        "xaxis": {
         "anchor": "y",
         "domain": [
          0,
          1
         ],
         "title": {
          "text": "Date"
         }
        },
        "yaxis": {
         "anchor": "x",
         "domain": [
          0,
          1
         ],
         "title": {
          "text": "%"
         }
        }
       }
      }
     },
     "metadata": {},
     "output_type": "display_data"
    }
   ],
   "source": [
    "plotting(title='Revenue Over Time', data=data, x='date', y='Revenue, excluding grants (% of GDP)', x_label='Date', y_label='%')"
   ]
  },
  {
   "cell_type": "code",
   "execution_count": 7,
   "metadata": {},
   "outputs": [
    {
     "data": {
      "text/plain": [
       "408"
      ]
     },
     "execution_count": 7,
     "metadata": {},
     "output_type": "execute_result"
    }
   ],
   "source": [
    "len(data)"
   ]
  },
  {
   "cell_type": "code",
   "execution_count": 8,
   "metadata": {},
   "outputs": [],
   "source": [
    "# Add volatility as an additional target\n",
    "df['CrudeOil_Volatility'] = df['Crude Oil Brent Price'].pct_change().rolling(12).std()\n",
    "df['Cocoa_Volatility'] = df['Cocoa Price'].pct_change().rolling(12).std()\n",
    "df['Gold_Volatility'] = df['Gold Price'].pct_change().rolling(12).std()"
   ]
  },
  {
   "cell_type": "code",
   "execution_count": 9,
   "metadata": {},
   "outputs": [
    {
     "name": "stderr",
     "output_type": "stream",
     "text": [
      "/opt/anaconda3/envs/ML/lib/python3.12/site-packages/keras/src/layers/rnn/rnn.py:200: UserWarning:\n",
      "\n",
      "Do not pass an `input_shape`/`input_dim` argument to a layer. When using Sequential models, prefer using an `Input(shape)` object as the first layer in the model instead.\n",
      "\n"
     ]
    },
    {
     "name": "stdout",
     "output_type": "stream",
     "text": [
      "CRUDE OIL BRENT PRICE     MAPE: 32.60% | RMSE: 22.69\n",
      "COCOA PRICE               MAPE: 21.48% | RMSE: 2.03\n",
      "GOLD PRICE                MAPE: 34.57% | RMSE: 754.39\n",
      "\n",
      "Feature Importance:\n",
      "Cocoa_Volatility                    -0.1038\n",
      "CrudeOil_Volatility                 0.0405\n",
      "Revenue, excluding grants (% of GDP) 0.0210\n",
      "GDP (constant 2015 US$)             0.0138\n",
      "Employment to population ratio (15+, total %) 0.0124\n",
      "Gold_Volatility                     -0.0088\n"
     ]
    }
   ],
   "source": [
    "from sklearn.preprocessing import RobustScaler\n",
    "from sklearn.metrics import mean_absolute_percentage_error, root_mean_squared_error\n",
    "from tensorflow.keras.models import Sequential\n",
    "from tensorflow.keras.layers import LSTM, Dense, Dropout, BatchNormalization\n",
    "from tensorflow.keras.regularizers import L1L2\n",
    "from tensorflow.keras.optimizers import Adam\n",
    "from tensorflow.keras.callbacks import EarlyStopping, ReduceLROnPlateau\n",
    "\n",
    "# Prepare volatility features\n",
    "for commodity in ['Crude Oil Brent Price', 'Cocoa Price', 'Gold Price']:\n",
    "    df[f'{commodity.split()[0]}_Volatility'] = df[commodity].pct_change().rolling(12).std()\n",
    "\n",
    "# Define features and targets\n",
    "features = [\n",
    "    'Revenue, excluding grants (% of GDP)', \n",
    "    'GDP (constant 2015 US$)', \n",
    "    'Employment to population ratio (15+, total %)',\n",
    "    'CrudeOil_Volatility',\n",
    "    'Cocoa_Volatility',\n",
    "    'Gold_Volatility'\n",
    "]\n",
    "targets = ['Crude Oil Brent Price', 'Cocoa Price', 'Gold Price']\n",
    "\n",
    "# Handle missing values from volatility calculation\n",
    "df = df.dropna()\n",
    "\n",
    "# Scale features and targets separately\n",
    "feature_scaler = RobustScaler()\n",
    "target_scaler = RobustScaler()\n",
    "\n",
    "X_scaled = feature_scaler.fit_transform(df[features])\n",
    "y_scaled = target_scaler.fit_transform(df[targets])\n",
    "\n",
    "# Create sequences with 12-month lookback\n",
    "def create_sequences(X, y, n_steps):\n",
    "    X_seq, y_seq = [], []\n",
    "    for i in range(n_steps, len(X)):\n",
    "        X_seq.append(X[i-n_steps:i])\n",
    "        y_seq.append(y[i])\n",
    "    return np.array(X_seq), np.array(y_seq)\n",
    "\n",
    "n_steps = 12\n",
    "X_seq, y_seq = create_sequences(X_scaled, y_scaled, n_steps)\n",
    "\n",
    "# Build enhanced LSTM model with volatility awareness\n",
    "model = Sequential([\n",
    "    # First LSTM layer with attention to volatility\n",
    "    LSTM(256, activation='tanh', \n",
    "         input_shape=(n_steps, len(features)),\n",
    "         kernel_regularizer=L1L2(l1=1e-5, l2=1e-4),\n",
    "         return_sequences=True),\n",
    "    BatchNormalization(),\n",
    "    Dropout(0.25),\n",
    "    \n",
    "    # Second LSTM layer\n",
    "    LSTM(128, activation='tanh',\n",
    "         kernel_regularizer=L1L2(l1=1e-5, l2=1e-4)),\n",
    "    BatchNormalization(),\n",
    "    Dropout(0.25),\n",
    "    \n",
    "    # Volatility-conditioned dense layers\n",
    "    Dense(128, activation='relu'),\n",
    "    BatchNormalization(),\n",
    "    Dense(64, activation='relu'),\n",
    "    \n",
    "    # Final output layer\n",
    "    Dense(len(targets))\n",
    "])\n",
    "\n",
    "# Custom learning rate with decay\n",
    "optimizer = Adam(learning_rate=0.0001, clipnorm=1.0)\n",
    "model.compile(optimizer=optimizer, loss='mse', metrics=['mae'])\n",
    "\n",
    "# Callbacks\n",
    "early_stop = EarlyStopping(monitor='val_loss', patience=20, restore_best_weights=True)\n",
    "lr_scheduler = ReduceLROnPlateau(monitor='val_loss', factor=0.5, patience=5)\n",
    "\n",
    "# Train with temporal cross-validation\n",
    "test_size = int(0.2 * len(X_seq))\n",
    "X_train, X_test = X_seq[:-test_size], X_seq[-test_size:]\n",
    "y_train, y_test = y_seq[:-test_size], y_seq[-test_size:]\n",
    "\n",
    "history = model.fit(\n",
    "    X_train, y_train,\n",
    "    epochs=300,\n",
    "    batch_size=64,\n",
    "    validation_data=(X_test, y_test),\n",
    "    callbacks=[early_stop, lr_scheduler],\n",
    "    verbose=0\n",
    ")\n",
    "\n",
    "# Evaluate with walk-forward validation\n",
    "def evaluate_walk_forward(X, y, model, steps):\n",
    "    predictions = []\n",
    "    actuals = []\n",
    "    for i in range(steps):\n",
    "        x_input = X[-(steps-i)].reshape(1, n_steps, X.shape[2])\n",
    "        y_pred = model.predict(x_input, verbose=0)\n",
    "        predictions.append(y_pred[0])\n",
    "        actuals.append(y[-(steps-i)])\n",
    "    return np.array(predictions), np.array(actuals)\n",
    "\n",
    "preds, actuals = evaluate_walk_forward(X_seq, y_seq, model, test_size)\n",
    "preds = target_scaler.inverse_transform(preds)\n",
    "actuals = target_scaler.inverse_transform(actuals)\n",
    "\n",
    "# Commodity-specific evaluation\n",
    "results = {}\n",
    "for i, target in enumerate(targets):\n",
    "    mape = mean_absolute_percentage_error(actuals[:, i], preds[:, i])\n",
    "    rmse = root_mean_squared_error(actuals[:, i], preds[:, i])\n",
    "    results[target] = {'MAPE': mape*100, 'RMSE': rmse}\n",
    "    print(f\"{target.upper():<25} MAPE: {mape*100:.2f}% | RMSE: {rmse:.2f}\")\n",
    "\n",
    "# Feature importance analysis (permutation importance)\n",
    "def calculate_permutation_importance(model, X_test, y_test, n_iterations=10):\n",
    "    baseline = model.evaluate(X_test, y_test, verbose=0)[0]\n",
    "    importance = {i: 0 for i in range(len(features))}\n",
    "    \n",
    "    for i in range(len(features)):\n",
    "        X_temp = X_test.copy()\n",
    "        for _ in range(n_iterations):\n",
    "            X_temp[:, :, i] = np.random.permutation(X_temp[:, :, i])\n",
    "            loss = model.evaluate(X_temp, y_test, verbose=0)[0]\n",
    "            importance[i] += (loss - baseline)/n_iterations\n",
    "            \n",
    "    return {features[k]: v for k, v in importance.items()}\n",
    "\n",
    "perm_importance = calculate_permutation_importance(model, X_test, y_test)\n",
    "print(\"\\nFeature Importance:\")\n",
    "for feat, imp in sorted(perm_importance.items(), key=lambda x: abs(x[1]), reverse=True):\n",
    "    print(f\"{feat:<35} {imp:.4f}\")"
   ]
  },
  {
   "cell_type": "code",
   "execution_count": 10,
   "metadata": {},
   "outputs": [
    {
     "data": {
      "text/plain": [
       "[<matplotlib.lines.Line2D at 0x3637288c0>]"
      ]
     },
     "execution_count": 10,
     "metadata": {},
     "output_type": "execute_result"
    },
    {
     "data": {
      "image/png": "[encoded data removed]",
      "text/plain": [
       "<Figure size 640x480 with 1 Axes>"
      ]
     },
     "metadata": {},
     "output_type": "display_data"
    }
   ],
   "source": [
    "loss_per_epoch = model.history.history['loss']\n",
    "plt.plot(range(len(loss_per_epoch)),loss_per_epoch)"
   ]
  }
 ],
 "metadata": {
  "kernelspec": {
   "display_name": "ML",
   "language": "python",
   "name": "python3"
  },
  "language_info": {
   "codemirror_mode": {
    "name": "ipython",
    "version": 3
   },
   "file_extension": ".py",
   "mimetype": "text/x-python",
   "name": "python",
   "nbconvert_exporter": "python",
   "pygments_lexer": "ipython3",
   "version": "3.12.9"
  }
 },
 "nbformat": 4,
 "nbformat_minor": 2
}
