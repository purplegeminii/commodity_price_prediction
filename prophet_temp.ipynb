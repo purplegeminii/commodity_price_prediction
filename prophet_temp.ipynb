{
 "cells": [
  {
   "cell_type": "code",
   "execution_count": 1,
   "id": "ca1c3ddb",
   "metadata": {},
   "outputs": [
    {
     "name": "stderr",
     "output_type": "stream",
     "text": [
      "/opt/anaconda3/envs/ML/lib/python3.12/site-packages/tqdm/auto.py:21: TqdmWarning: IProgress not found. Please update jupyter and ipywidgets. See https://ipywidgets.readthedocs.io/en/stable/user_install.html\n",
      "  from .autonotebook import tqdm as notebook_tqdm\n"
     ]
    }
   ],
   "source": [
    "import pandas as pd\n",
    "import numpy as np\n",
    "import matplotlib.pyplot as plt\n",
    "from prophet import Prophet\n",
    "from sklearn.metrics import mean_absolute_error, mean_absolute_percentage_error, mean_squared_error"
   ]
  },
  {
   "cell_type": "code",
   "execution_count": 2,
   "id": "1abcd1a6",
   "metadata": {},
   "outputs": [],
   "source": [
    "df = pd.read_csv('merged_macro_commodity.csv', parse_dates=['date'])\n",
    "df.set_index('date', inplace=True)\n",
    "df_reset = df.reset_index()"
   ]
  },
  {
   "cell_type": "code",
   "execution_count": 3,
   "id": "b21c53a4",
   "metadata": {},
   "outputs": [
    {
     "name": "stdout",
     "output_type": "stream",
     "text": [
      "<class 'pandas.core.frame.DataFrame'>\n",
      "DatetimeIndex: 408 entries, 1991-01-01 to 2024-12-01\n",
      "Data columns (total 6 columns):\n",
      " #   Column                                         Non-Null Count  Dtype  \n",
      "---  ------                                         --------------  -----  \n",
      " 0   Revenue, excluding grants (% of GDP)           408 non-null    float64\n",
      " 1   GDP (constant 2015 US$)                        408 non-null    float64\n",
      " 2   Employment to population ratio (15+, total %)  408 non-null    float64\n",
      " 3   Crude Oil Brent Price                          408 non-null    float64\n",
      " 4   Cocoa Price                                    408 non-null    float64\n",
      " 5   Gold Price                                     408 non-null    float64\n",
      "dtypes: float64(6)\n",
      "memory usage: 22.3 KB\n"
     ]
    }
   ],
   "source": [
    "df.info()"
   ]
  },
  {
   "cell_type": "code",
   "execution_count": 4,
   "id": "32e22268",
   "metadata": {},
   "outputs": [],
   "source": [
    "# Create separate Prophet models for each commodity\n",
    "commodity_cols = ['Crude Oil Brent Price', 'Cocoa Price', 'Gold Price']\n",
    "feature_cols = ['Revenue, excluding grants (% of GDP)', 'GDP (constant 2015 US$)', \n",
    "                'Employment to population ratio (15+, total %)']\n",
    "\n",
    "# Split data into train and test sets (using last 20% for testing)\n",
    "test_size = int(0.2 * len(df_reset))\n",
    "train_size = len(df_reset) - test_size\n",
    "\n",
    "train_df = df_reset.iloc[:train_size]\n",
    "test_df = df_reset.iloc[train_size:]"
   ]
  },
  {
   "cell_type": "code",
   "execution_count": 5,
   "id": "093a3d49",
   "metadata": {},
   "outputs": [
    {
     "name": "stderr",
     "output_type": "stream",
     "text": [
      "/var/folders/rd/tqc_535n6bb2mkqrf4_7nf6w0000gn/T/ipykernel_8379/3450242253.py:44: FutureWarning: Series.fillna with 'method' is deprecated and will raise in a future version. Use obj.ffill() or obj.bfill() instead.\n",
      "  prophet_df[f'{feature}_lag3'] = train_df[feature].shift(3).fillna(method='bfill').values\n",
      "/var/folders/rd/tqc_535n6bb2mkqrf4_7nf6w0000gn/T/ipykernel_8379/3450242253.py:44: FutureWarning: Series.fillna with 'method' is deprecated and will raise in a future version. Use obj.ffill() or obj.bfill() instead.\n",
      "  prophet_df[f'{feature}_lag3'] = train_df[feature].shift(3).fillna(method='bfill').values\n",
      "/var/folders/rd/tqc_535n6bb2mkqrf4_7nf6w0000gn/T/ipykernel_8379/3450242253.py:44: FutureWarning: Series.fillna with 'method' is deprecated and will raise in a future version. Use obj.ffill() or obj.bfill() instead.\n",
      "  prophet_df[f'{feature}_lag3'] = train_df[feature].shift(3).fillna(method='bfill').values\n",
      "/var/folders/rd/tqc_535n6bb2mkqrf4_7nf6w0000gn/T/ipykernel_8379/3450242253.py:44: FutureWarning: Series.fillna with 'method' is deprecated and will raise in a future version. Use obj.ffill() or obj.bfill() instead.\n",
      "  prophet_df[f'{feature}_lag3'] = train_df[feature].shift(3).fillna(method='bfill').values\n",
      "/var/folders/rd/tqc_535n6bb2mkqrf4_7nf6w0000gn/T/ipykernel_8379/3450242253.py:44: FutureWarning: Series.fillna with 'method' is deprecated and will raise in a future version. Use obj.ffill() or obj.bfill() instead.\n",
      "  prophet_df[f'{feature}_lag3'] = train_df[feature].shift(3).fillna(method='bfill').values\n",
      "/var/folders/rd/tqc_535n6bb2mkqrf4_7nf6w0000gn/T/ipykernel_8379/3450242253.py:44: FutureWarning: Series.fillna with 'method' is deprecated and will raise in a future version. Use obj.ffill() or obj.bfill() instead.\n",
      "  prophet_df[f'{feature}_lag3'] = train_df[feature].shift(3).fillna(method='bfill').values\n",
      "/var/folders/rd/tqc_535n6bb2mkqrf4_7nf6w0000gn/T/ipykernel_8379/3450242253.py:44: FutureWarning: Series.fillna with 'method' is deprecated and will raise in a future version. Use obj.ffill() or obj.bfill() instead.\n",
      "  prophet_df[f'{feature}_lag3'] = train_df[feature].shift(3).fillna(method='bfill').values\n",
      "/var/folders/rd/tqc_535n6bb2mkqrf4_7nf6w0000gn/T/ipykernel_8379/3450242253.py:44: FutureWarning: Series.fillna with 'method' is deprecated and will raise in a future version. Use obj.ffill() or obj.bfill() instead.\n",
      "  prophet_df[f'{feature}_lag3'] = train_df[feature].shift(3).fillna(method='bfill').values\n",
      "/var/folders/rd/tqc_535n6bb2mkqrf4_7nf6w0000gn/T/ipykernel_8379/3450242253.py:44: FutureWarning: Series.fillna with 'method' is deprecated and will raise in a future version. Use obj.ffill() or obj.bfill() instead.\n",
      "  prophet_df[f'{feature}_lag3'] = train_df[feature].shift(3).fillna(method='bfill').values\n"
     ]
    }
   ],
   "source": [
    "# Modified Prophet configuration for monthly data\n",
    "model = Prophet(\n",
    "    yearly_seasonality=True,\n",
    "    weekly_seasonality=False,  # Disabled for monthly data\n",
    "    daily_seasonality=False,   # Disabled for monthly data\n",
    "    seasonality_mode='multiplicative',\n",
    "    changepoint_prior_scale=0.05,\n",
    "    seasonality_prior_scale=10,\n",
    "    holidays_prior_scale=10,\n",
    "    interval_width=0.95,\n",
    "    growth='logistic',  # Prevents negative prices\n",
    "    mcmc_samples=300 if len(train_df) > 60 else 0  # Only for sufficient data\n",
    ")\n",
    "\n",
    "# Crude Oil Brent Price\tCocoa Price\tGold Price\n",
    "# count\t780.000000\t780.000000\t780.000000\n",
    "# mean\t34.230560\t1.839660\t581.009694\n",
    "# std\t32.522904\t1.139750\t586.327299\n",
    "# min\t1.210000\t0.259000\t34.940000\n",
    "# 25%\t11.510000\t1.060550\t149.980000\n",
    "# 50%\t22.565000\t1.641050\t373.980000\n",
    "# 75%\t54.127273\t2.383293\t889.746250\n",
    "# max\t133.873043\t10.320510\t2690.080000\n",
    "\n",
    "\n",
    "# Set realistic bounds for each commodity\n",
    "commodity_bounds = {\n",
    "    'Crude Oil Brent Price': {'floor': 20, 'cap': 150},  # Historical range\n",
    "    'Cocoa Price': {'floor': 1, 'cap': 10},\n",
    "    'Gold Price': {'floor': 150, 'cap': 2500}\n",
    "}\n",
    "\n",
    "for commodity in commodity_cols:\n",
    "    prophet_df = train_df[['date', commodity]].rename(columns={'date': 'ds', commodity: 'y'})\n",
    "    bounds = commodity_bounds.get(commodity, {'floor': 0, 'cap': None})\n",
    "    \n",
    "    # Set floor and cap\n",
    "    prophet_df['floor'] = bounds['floor']\n",
    "    prophet_df['cap'] = bounds['cap'] if bounds['cap'] else prophet_df['y'].max() * 1.5\n",
    "    \n",
    "    # Add macroeconomic regressors with 3-month lags\n",
    "    for feature in feature_cols:\n",
    "        prophet_df[feature] = train_df[feature].values\n",
    "        prophet_df[f'{feature}_lag3'] = train_df[feature].shift(3).fillna(method='bfill').values"
   ]
  },
  {
   "cell_type": "code",
   "execution_count": 6,
   "id": "09130f2b",
   "metadata": {},
   "outputs": [
    {
     "data": {
      "text/plain": [
       "<prophet.forecaster.Prophet at 0x12a8601d0>"
      ]
     },
     "execution_count": 6,
     "metadata": {},
     "output_type": "execute_result"
    }
   ],
   "source": [
    "# Add custom monthly seasonality (since default yearly may not capture monthly patterns well)\n",
    "model.add_seasonality(\n",
    "    name='monthly',\n",
    "    period=30.5,  # Average month length\n",
    "    fourier_order=5  # Moderate complexity\n",
    ")\n",
    "\n",
    "# Add quarterly seasonality for commodities\n",
    "model.add_seasonality(\n",
    "    name='quarterly',\n",
    "    period=91.25,  # Average quarter length\n",
    "    fourier_order=3\n",
    ")"
   ]
  },
  {
   "cell_type": "code",
   "execution_count": 7,
   "id": "8b035357",
   "metadata": {},
   "outputs": [],
   "source": [
    "# Standardize regressors for better convergence\n",
    "from sklearn.preprocessing import StandardScaler\n",
    "\n",
    "scaler = StandardScaler()\n",
    "for feature in feature_cols + [f'{f}_lag3' for f in feature_cols]:\n",
    "    prophet_df[feature] = scaler.fit_transform(prophet_df[feature].values.reshape(-1, 1))\n",
    "    \n",
    "    # Add as regressor with potentially different modes\n",
    "    if 'GDP' in feature:\n",
    "        mode = 'multiplicative'\n",
    "    else:\n",
    "        mode = 'additive'\n",
    "    model.add_regressor(feature, mode=mode)"
   ]
  },
  {
   "cell_type": "code",
   "execution_count": 8,
   "id": "6ca8b843",
   "metadata": {},
   "outputs": [
    {
     "name": "stderr",
     "output_type": "stream",
     "text": [
      "02:53:22 - cmdstanpy - INFO - CmdStan start processing\n",
      "chain 1 |\u001b[33m          \u001b[0m| 00:00 Status\n",
      "\u001b[A\n",
      "\n",
      "chain 1 |\u001b[33m████      \u001b[0m| 00:02 Iteration:   1 / 300 [  0%]  (Warmup)\n",
      "\u001b[A\n",
      "\n",
      "chain 1 |\u001b[34m██████    \u001b[0m| 00:03 Iteration: 100 / 300 [ 33%]  (Warmup)\n",
      "\u001b[A\n",
      "\n",
      "chain 1 |\u001b[34m████████  \u001b[0m| 00:06 Iteration: 151 / 300 [ 50%]  (Sampling)\n",
      "\u001b[A\n",
      "\n",
      "chain 1 |\u001b[34m██████████\u001b[0m| 00:07 Iteration: 250 / 300 [ 83%]  (Sampling)\n",
      "\u001b[A\n",
      "\n",
      "chain 1 |\u001b[34m██████████\u001b[0m| 00:07 Sampling completed                     \n",
      "chain 2 |\u001b[34m██████████\u001b[0m| 00:07 Sampling completed                     \n",
      "chain 3 |\u001b[34m██████████\u001b[0m| 00:07 Sampling completed                     \n",
      "chain 4 |\u001b[34m██████████\u001b[0m| 00:07 Sampling completed                     "
     ]
    },
    {
     "name": "stdout",
     "output_type": "stream",
     "text": [
      "                                                                                                                                                                                                                                                                                                                                "
     ]
    },
    {
     "name": "stderr",
     "output_type": "stream",
     "text": [
      "\n",
      "02:53:30 - cmdstanpy - INFO - CmdStan done processing.\n",
      "02:53:30 - cmdstanpy - WARNING - Non-fatal error during sampling:\n",
      "Exception: normal_id_glm_lpdf: Scale vector is 0, but must be positive finite! (in 'prophet.stan', line 137, column 2 to line 142, column 4)\n",
      "\tException: normal_id_glm_lpdf: Matrix of independent variables is inf, but must be finite! (in 'prophet.stan', line 137, column 2 to line 142, column 4)\n",
      "Exception: normal_id_glm_lpdf: Scale vector is inf, but must be positive finite! (in 'prophet.stan', line 137, column 2 to line 142, column 4)\n",
      "\tException: normal_id_glm_lpdf: Scale vector is inf, but must be positive finite! (in 'prophet.stan', line 137, column 2 to line 142, column 4)\n",
      "Exception: normal_id_glm_lpdf: Scale vector is 0, but must be positive finite! (in 'prophet.stan', line 137, column 2 to line 142, column 4)\n",
      "\tException: normal_id_glm_lpdf: Matrix of independent variables is inf, but must be finite! (in 'prophet.stan', line 137, column 2 to line 142, column 4)\n",
      "Exception: normal_id_glm_lpdf: Scale vector is inf, but must be positive finite! (in 'prophet.stan', line 137, column 2 to line 142, column 4)\n",
      "\tException: normal_id_glm_lpdf: Scale vector is inf, but must be positive finite! (in 'prophet.stan', line 137, column 2 to line 142, column 4)\n",
      "Consider re-running with show_console=True if the above output is unclear!\n",
      "02:53:30 - cmdstanpy - WARNING - Some chains may have failed to converge.\n",
      "\tChain 1 had 1 divergent transitions (0.7%)\n",
      "\tChain 1 had 149 iterations at max treedepth (99.3%)\n",
      "\tChain 2 had 2 divergent transitions (1.3%)\n",
      "\tChain 2 had 148 iterations at max treedepth (98.7%)\n",
      "\tChain 3 had 149 iterations at max treedepth (99.3%)\n",
      "\tChain 4 had 150 iterations at max treedepth (100.0%)\n",
      "\tUse the \"diagnose()\" method on the CmdStanMCMC object to see further information.\n"
     ]
    },
    {
     "name": "stdout",
     "output_type": "stream",
     "text": [
      "\n"
     ]
    },
    {
     "name": "stderr",
     "output_type": "stream",
     "text": [
      "/opt/anaconda3/envs/ML/lib/python3.12/site-packages/prophet/forecaster.py:1854: FutureWarning: 'M' is deprecated and will be removed in a future version, please use 'ME' instead.\n",
      "  dates = pd.date_range(\n"
     ]
    }
   ],
   "source": [
    "# For each commodity\n",
    "model.fit(prophet_df)\n",
    "\n",
    "# Create future dataframe with proper monthly spacing\n",
    "future = model.make_future_dataframe(periods=test_size, freq='M')\n",
    "\n",
    "# Add regressors to future dataframe\n",
    "for feature in feature_cols + [f'{f}_lag3' for f in feature_cols]:\n",
    "    # Use the last known value (simplest approach)\n",
    "    future[feature] = prophet_df[feature].iloc[-1]\n",
    "\n",
    "# Set bounds for future\n",
    "future['floor'] = bounds['floor']\n",
    "future['cap'] = bounds['cap']"
   ]
  },
  {
   "cell_type": "code",
   "execution_count": 9,
   "id": "0bfa6312",
   "metadata": {},
   "outputs": [],
   "source": [
    "# Helper function to calculate MAPE\n",
    "def calculate_mape(y_true, y_pred):\n",
    "    \"\"\"Calculate MAPE with handling for zero values\"\"\"\n",
    "    mask = (y_true != 0)\n",
    "    return 100 * np.mean(np.abs((y_true[mask] - y_pred[mask]) / y_true[mask]))"
   ]
  },
  {
   "cell_type": "code",
   "execution_count": 10,
   "id": "7737b752",
   "metadata": {},
   "outputs": [
    {
     "name": "stderr",
     "output_type": "stream",
     "text": [
      "  0%|          | 0/49 [00:00<?, ?it/s]02:53:30 - cmdstanpy - INFO - CmdStan start processing\n",
      "\n",
      "\u001b[A\n",
      "\n",
      "\u001b[A\u001b[A\n",
      "\n",
      "\n",
      "\u001b[A\u001b[A\u001b[A\n",
      "\n",
      "\n",
      "\u001b[A\u001b[A\u001b[A\n",
      "\u001b[A\n",
      "\n",
      "\u001b[A\u001b[A\n",
      "\n",
      "\u001b[A\u001b[A\n",
      "\u001b[A\n",
      "\n",
      "\n",
      "\u001b[A\u001b[A\u001b[A\n",
      "\n",
      "\n",
      "\u001b[A\u001b[A\u001b[A\n",
      "\u001b[A\n",
      "\n",
      "\u001b[A\u001b[A\n",
      "\n",
      "\n",
      "\u001b[A\u001b[A\u001b[A\n",
      "\u001b[A\n",
      "\n",
      "chain 1 |\u001b[34m██████████\u001b[0m| 00:01 Sampling completed                     \n",
      "chain 2 |\u001b[34m██████████\u001b[0m| 00:01 Sampling completed                     \n",
      "chain 3 |\u001b[34m██████████\u001b[0m| 00:01 Sampling completed                     \n",
      "chain 4 |\u001b[34m██████████\u001b[0m| 00:01 Sampling completed                     "
     ]
    },
    {
     "name": "stdout",
     "output_type": "stream",
     "text": [
      "                                                                                                                                                                                                                                                                                                                                "
     ]
    },
    {
     "name": "stderr",
     "output_type": "stream",
     "text": [
      "\n",
      "02:53:31 - cmdstanpy - INFO - CmdStan done processing.\n",
      "02:53:31 - cmdstanpy - WARNING - Non-fatal error during sampling:\n",
      "Exception: normal_id_glm_lpdf: Scale vector is inf, but must be positive finite! (in 'prophet.stan', line 137, column 2 to line 142, column 4)\n",
      "Exception: normal_id_glm_lpdf: Scale vector is 0, but must be positive finite! (in 'prophet.stan', line 137, column 2 to line 142, column 4)\n",
      "Exception: normal_id_glm_lpdf: Scale vector is 0, but must be positive finite! (in 'prophet.stan', line 137, column 2 to line 142, column 4)\n",
      "Consider re-running with show_console=True if the above output is unclear!\n",
      "02:53:32 - cmdstanpy - WARNING - Some chains may have failed to converge.\n",
      "\tChain 1 had 12 divergent transitions (8.0%)\n",
      "\tChain 1 had 137 iterations at max treedepth (91.3%)\n",
      "\tChain 2 had 15 divergent transitions (10.0%)\n",
      "\tChain 2 had 132 iterations at max treedepth (88.0%)\n",
      "\tChain 3 had 150 iterations at max treedepth (100.0%)\n",
      "\tChain 4 had 36 divergent transitions (24.0%)\n",
      "\tChain 4 had 110 iterations at max treedepth (73.3%)\n",
      "\tUse the \"diagnose()\" method on the CmdStanMCMC object to see further information.\n"
     ]
    },
    {
     "name": "stdout",
     "output_type": "stream",
     "text": [
      "\n"
     ]
    },
    {
     "name": "stderr",
     "output_type": "stream",
     "text": [
      "  2%|▏         | 1/49 [00:01<01:23,  1.74s/it]02:53:32 - cmdstanpy - INFO - CmdStan start processing\n",
      "\n",
      "\u001b[A\n",
      "\n",
      "\u001b[A\u001b[A\n",
      "\n",
      "\n",
      "\u001b[A\u001b[A\u001b[A\n",
      "\u001b[A\n",
      "\n",
      "\u001b[A\u001b[A\n",
      "\n",
      "\n",
      "\u001b[A\u001b[A\u001b[A\n",
      "\u001b[A\n",
      "\n",
      "\u001b[A\u001b[A\n",
      "\n",
      "\n",
      "\u001b[A\u001b[A\u001b[A\n",
      "\u001b[A\n",
      "\n",
      "\u001b[A\u001b[A\n",
      "\n",
      "\n",
      "\u001b[A\u001b[A\u001b[A\n",
      "\n",
      "\u001b[A\u001b[A\n",
      "\n",
      "\n",
      "chain 1 |\u001b[34m██████████\u001b[0m| 00:01 Sampling completed                     \n",
      "\n",
      "chain 2 |\u001b[34m██████████\u001b[0m| 00:01 Sampling completed\n",
      "chain 3 |\u001b[34m██████████\u001b[0m| 00:01 Sampling completed                     \n",
      "chain 4 |\u001b[34m██████████\u001b[0m| 00:01 Sampling completed                     "
     ]
    },
    {
     "name": "stdout",
     "output_type": "stream",
     "text": [
      "                                                                                                                                                                                                                                                                                                                                "
     ]
    },
    {
     "name": "stderr",
     "output_type": "stream",
     "text": [
      "\n",
      "02:53:33 - cmdstanpy - INFO - CmdStan done processing.\n",
      "02:53:33 - cmdstanpy - WARNING - Non-fatal error during sampling:\n",
      "Exception: normal_id_glm_lpdf: Scale vector is inf, but must be positive finite! (in 'prophet.stan', line 137, column 2 to line 142, column 4)\n",
      "Consider re-running with show_console=True if the above output is unclear!\n",
      "02:53:33 - cmdstanpy - WARNING - Some chains may have failed to converge.\n",
      "\tChain 1 had 150 iterations at max treedepth (100.0%)\n",
      "\tChain 2 had 52 divergent transitions (34.7%)\n",
      "\tChain 2 had 90 iterations at max treedepth (60.0%)\n",
      "\tChain 3 had 23 divergent transitions (15.3%)\n",
      "\tChain 3 had 124 iterations at max treedepth (82.7%)\n",
      "\tChain 4 had 150 iterations at max treedepth (100.0%)\n",
      "\tUse the \"diagnose()\" method on the CmdStanMCMC object to see further information.\n"
     ]
    },
    {
     "name": "stdout",
     "output_type": "stream",
     "text": [
      "\n"
     ]
    },
    {
     "name": "stderr",
     "output_type": "stream",
     "text": [
      "  4%|▍         | 2/49 [00:03<01:25,  1.83s/it]02:53:34 - cmdstanpy - INFO - CmdStan start processing\n",
      "\n",
      "\u001b[A\n",
      "\n",
      "\u001b[A\u001b[A\n",
      "\n",
      "\n",
      "\u001b[A\u001b[A\u001b[A\n",
      "\n",
      "\u001b[A\u001b[A\n",
      "\u001b[A\n",
      "\n",
      "\n",
      "\u001b[A\u001b[A\u001b[A\n",
      "\n",
      "\u001b[A\u001b[A\n",
      "\u001b[A\n",
      "\n",
      "\n",
      "\u001b[A\u001b[A\u001b[A\n",
      "\n",
      "\u001b[A\u001b[A\n",
      "\u001b[A\n",
      "\n",
      "\n",
      "\u001b[A\u001b[A\u001b[A\n",
      "\n",
      "\u001b[A\u001b[A\n",
      "\u001b[A\n",
      "\n",
      "\n",
      "chain 1 |\u001b[34m██████████\u001b[0m| 00:01 Sampling completed                     \n",
      "chain 2 |\u001b[34m██████████\u001b[0m| 00:01 Sampling completed                     \n",
      "chain 3 |\u001b[34m██████████\u001b[0m| 00:01 Sampling completed                     \n",
      "chain 4 |\u001b[34m██████████\u001b[0m| 00:01 Sampling completed                     "
     ]
    },
    {
     "name": "stdout",
     "output_type": "stream",
     "text": [
      "                                                                                                                                                                                                                                                                                                                                "
     ]
    },
    {
     "name": "stderr",
     "output_type": "stream",
     "text": [
      "\n",
      "02:53:35 - cmdstanpy - INFO - CmdStan done processing.\n",
      "02:53:35 - cmdstanpy - WARNING - Non-fatal error during sampling:\n",
      "Exception: normal_id_glm_lpdf: Scale vector is 0, but must be positive finite! (in 'prophet.stan', line 137, column 2 to line 142, column 4)\n",
      "Exception: normal_id_glm_lpdf: Scale vector is 0, but must be positive finite! (in 'prophet.stan', line 137, column 2 to line 142, column 4)\n",
      "Exception: normal_id_glm_lpdf: Scale vector is 0, but must be positive finite! (in 'prophet.stan', line 137, column 2 to line 142, column 4)\n",
      "Exception: normal_id_glm_lpdf: Scale vector is 0, but must be positive finite! (in 'prophet.stan', line 137, column 2 to line 142, column 4)\n",
      "Consider re-running with show_console=True if the above output is unclear!\n",
      "02:53:35 - cmdstanpy - WARNING - Some chains may have failed to converge.\n",
      "\tChain 1 had 150 iterations at max treedepth (100.0%)\n",
      "\tChain 2 had 150 iterations at max treedepth (100.0%)\n",
      "\tChain 3 had 150 iterations at max treedepth (100.0%)\n",
      "\tChain 4 had 1 divergent transitions (0.7%)\n",
      "\tChain 4 had 149 iterations at max treedepth (99.3%)\n",
      "\tUse the \"diagnose()\" method on the CmdStanMCMC object to see further information.\n"
     ]
    },
    {
     "name": "stdout",
     "output_type": "stream",
     "text": [
      "\n"
     ]
    },
    {
     "name": "stderr",
     "output_type": "stream",
     "text": [
      "  6%|▌         | 3/49 [00:05<01:27,  1.90s/it]02:53:36 - cmdstanpy - INFO - CmdStan start processing\n",
      "\n",
      "\u001b[A\n",
      "\n",
      "\u001b[A\u001b[A\n",
      "\n",
      "\n",
      "\u001b[A\u001b[A\u001b[A\n",
      "\n",
      "\n",
      "\u001b[A\u001b[A\u001b[A\n",
      "\n",
      "\u001b[A\u001b[A\n",
      "\u001b[A\n",
      "\n",
      "\n",
      "\u001b[A\u001b[A\u001b[A\n",
      "\u001b[A\n",
      "\n",
      "\u001b[A\u001b[A\n",
      "\u001b[A\n",
      "\n",
      "\n",
      "\u001b[A\u001b[A\u001b[A\n",
      "\n",
      "\u001b[A\u001b[A\n",
      "\u001b[A\n",
      "\n",
      "\n",
      "\u001b[A\u001b[A\u001b[A\n",
      "\n",
      "chain 1 |\u001b[34m██████████\u001b[0m| 00:01 Sampling completed                     \n",
      "chain 2 |\u001b[34m██████████\u001b[0m| 00:01 Sampling completed                     \n",
      "chain 3 |\u001b[34m██████████\u001b[0m| 00:01 Sampling completed                     \n",
      "chain 4 |\u001b[34m██████████\u001b[0m| 00:01 Sampling completed                     "
     ]
    },
    {
     "name": "stdout",
     "output_type": "stream",
     "text": [
      "                                                                                                                                                                                                                                                                                                                                "
     ]
    },
    {
     "name": "stderr",
     "output_type": "stream",
     "text": [
      "\n",
      "02:53:37 - cmdstanpy - INFO - CmdStan done processing.\n",
      "02:53:37 - cmdstanpy - WARNING - Non-fatal error during sampling:\n",
      "Exception: normal_id_glm_lpdf: Scale vector is 0, but must be positive finite! (in 'prophet.stan', line 137, column 2 to line 142, column 4)\n",
      "Exception: normal_id_glm_lpdf: Scale vector is 0, but must be positive finite! (in 'prophet.stan', line 137, column 2 to line 142, column 4)\n",
      "Exception: normal_id_glm_lpdf: Scale vector is 0, but must be positive finite! (in 'prophet.stan', line 137, column 2 to line 142, column 4)\n",
      "Exception: normal_id_glm_lpdf: Scale vector is 0, but must be positive finite! (in 'prophet.stan', line 137, column 2 to line 142, column 4)\n",
      "Consider re-running with show_console=True if the above output is unclear!\n",
      "02:53:37 - cmdstanpy - WARNING - Some chains may have failed to converge.\n",
      "\tChain 1 had 150 iterations at max treedepth (100.0%)\n",
      "\tChain 2 had 150 iterations at max treedepth (100.0%)\n",
      "\tChain 3 had 150 iterations at max treedepth (100.0%)\n",
      "\tChain 4 had 150 iterations at max treedepth (100.0%)\n",
      "\tUse the \"diagnose()\" method on the CmdStanMCMC object to see further information.\n"
     ]
    },
    {
     "name": "stdout",
     "output_type": "stream",
     "text": [
      "\n"
     ]
    },
    {
     "name": "stderr",
     "output_type": "stream",
     "text": [
      "  8%|▊         | 4/49 [00:07<01:29,  1.99s/it]02:53:38 - cmdstanpy - INFO - CmdStan start processing\n",
      "\n",
      "\u001b[A\n",
      "\n",
      "\u001b[A\u001b[A\n",
      "\n",
      "\n",
      "\u001b[A\u001b[A\u001b[A\n",
      "\n",
      "\n",
      "\u001b[A\u001b[A\u001b[A\n",
      "\u001b[A\n",
      "\n",
      "\u001b[A\u001b[A\n",
      "\n",
      "\n",
      "\u001b[A\u001b[A\u001b[A\n",
      "\u001b[A\n",
      "\n",
      "\u001b[A\u001b[A\n",
      "\n",
      "\n",
      "\u001b[A\u001b[A\u001b[A\n",
      "\u001b[A\n",
      "\n",
      "\u001b[A\u001b[A\n",
      "\n",
      "\n",
      "\u001b[A\u001b[A\u001b[A\n",
      "\u001b[A\n",
      "\n",
      "chain 1 |\u001b[34m██████████\u001b[0m| 00:01 Sampling completed                     \n",
      "chain 2 |\u001b[34m██████████\u001b[0m| 00:01 Sampling completed                     \n",
      "chain 3 |\u001b[34m██████████\u001b[0m| 00:01 Sampling completed                     \n",
      "chain 4 |\u001b[34m██████████\u001b[0m| 00:01 Sampling completed                     "
     ]
    },
    {
     "name": "stdout",
     "output_type": "stream",
     "text": [
      "                                                                                                                                                                                                                                                                                                                                "
     ]
    },
    {
     "name": "stderr",
     "output_type": "stream",
     "text": [
      "\n",
      "02:53:40 - cmdstanpy - INFO - CmdStan done processing.\n",
      "02:53:40 - cmdstanpy - WARNING - Non-fatal error during sampling:\n",
      "Exception: normal_id_glm_lpdf: Scale vector is 0, but must be positive finite! (in 'prophet.stan', line 137, column 2 to line 142, column 4)\n",
      "Exception: normal_id_glm_lpdf: Scale vector is 0, but must be positive finite! (in 'prophet.stan', line 137, column 2 to line 142, column 4)\n",
      "Exception: normal_id_glm_lpdf: Scale vector is 0, but must be positive finite! (in 'prophet.stan', line 137, column 2 to line 142, column 4)\n",
      "Exception: normal_id_glm_lpdf: Scale vector is 0, but must be positive finite! (in 'prophet.stan', line 137, column 2 to line 142, column 4)\n",
      "Consider re-running with show_console=True if the above output is unclear!\n",
      "02:53:40 - cmdstanpy - WARNING - Some chains may have failed to converge.\n",
      "\tChain 1 had 150 iterations at max treedepth (100.0%)\n",
      "\tChain 2 had 150 iterations at max treedepth (100.0%)\n",
      "\tChain 3 had 150 iterations at max treedepth (100.0%)\n",
      "\tChain 4 had 150 iterations at max treedepth (100.0%)\n",
      "\tUse the \"diagnose()\" method on the CmdStanMCMC object to see further information.\n"
     ]
    },
    {
     "name": "stdout",
     "output_type": "stream",
     "text": [
      "\n"
     ]
    },
    {
     "name": "stderr",
     "output_type": "stream",
     "text": [
      " 10%|█         | 5/49 [00:09<01:31,  2.08s/it]02:53:40 - cmdstanpy - INFO - CmdStan start processing\n",
      "\n",
      "\u001b[A\n",
      "\n",
      "\u001b[A\u001b[A\n",
      "\n",
      "\n",
      "\u001b[A\u001b[A\u001b[A\n",
      "\n",
      "\u001b[A\u001b[A\n",
      "\u001b[A\n",
      "\n",
      "\n",
      "\u001b[A\u001b[A\u001b[A\n",
      "\n",
      "\u001b[A\u001b[A\n",
      "\u001b[A\n",
      "\n",
      "\n",
      "\u001b[A\u001b[A\u001b[A\n",
      "\n",
      "\u001b[A\u001b[A\n",
      "\u001b[A\n",
      "\n",
      "\n",
      "\u001b[A\u001b[A\u001b[A\n",
      "\n",
      "\u001b[A\u001b[A\n",
      "\u001b[A\n",
      "\n",
      "\n",
      "chain 1 |\u001b[34m██████████\u001b[0m| 00:02 Sampling completed                     \n",
      "chain 2 |\u001b[34m██████████\u001b[0m| 00:02 Sampling completed                     \n",
      "chain 3 |\u001b[34m██████████\u001b[0m| 00:02 Sampling completed                     \n",
      "chain 4 |\u001b[34m██████████\u001b[0m| 00:02 Sampling completed                     "
     ]
    },
    {
     "name": "stdout",
     "output_type": "stream",
     "text": [
      "                                                                                                                                                                                                                                                                                                                                "
     ]
    },
    {
     "name": "stderr",
     "output_type": "stream",
     "text": [
      "\n",
      "02:53:42 - cmdstanpy - INFO - CmdStan done processing.\n",
      "02:53:42 - cmdstanpy - WARNING - Non-fatal error during sampling:\n",
      "Exception: normal_id_glm_lpdf: Scale vector is 0, but must be positive finite! (in 'prophet.stan', line 137, column 2 to line 142, column 4)\n",
      "Exception: normal_id_glm_lpdf: Scale vector is 0, but must be positive finite! (in 'prophet.stan', line 137, column 2 to line 142, column 4)\n",
      "Consider re-running with show_console=True if the above output is unclear!\n",
      "02:53:42 - cmdstanpy - WARNING - Some chains may have failed to converge.\n",
      "\tChain 1 had 150 iterations at max treedepth (100.0%)\n",
      "\tChain 2 had 150 iterations at max treedepth (100.0%)\n",
      "\tChain 3 had 150 iterations at max treedepth (100.0%)\n",
      "\tChain 4 had 150 iterations at max treedepth (100.0%)\n",
      "\tUse the \"diagnose()\" method on the CmdStanMCMC object to see further information.\n"
     ]
    },
    {
     "name": "stdout",
     "output_type": "stream",
     "text": [
      "\n"
     ]
    },
    {
     "name": "stderr",
     "output_type": "stream",
     "text": [
      " 12%|█▏        | 6/49 [00:12<01:33,  2.18s/it]02:53:42 - cmdstanpy - INFO - CmdStan start processing\n",
      "\n",
      "\u001b[A\n",
      "\n",
      "\u001b[A\u001b[A\n",
      "\n",
      "\n",
      "\u001b[A\u001b[A\u001b[A\n",
      "\u001b[A\n",
      "\n",
      "\n",
      "\u001b[A\u001b[A\u001b[A\n",
      "\n",
      "\u001b[A\u001b[A\n",
      "\u001b[A\n",
      "\n",
      "\n",
      "\u001b[A\u001b[A\u001b[A\n",
      "\n",
      "\u001b[A\u001b[A\n",
      "\u001b[A\n",
      "\n",
      "\n",
      "\u001b[A\u001b[A\u001b[A\n",
      "\n",
      "\u001b[A\u001b[A\n",
      "\u001b[A\n",
      "\n",
      "\n",
      "\u001b[A\u001b[A\u001b[A\n",
      "\n",
      "chain 1 |\u001b[34m██████████\u001b[0m| 00:02 Sampling completed                     \n",
      "chain 2 |\u001b[34m██████████\u001b[0m| 00:02 Sampling completed                     \n",
      "chain 3 |\u001b[34m██████████\u001b[0m| 00:02 Sampling completed                     \n",
      "chain 4 |\u001b[34m██████████\u001b[0m| 00:02 Sampling completed                     "
     ]
    },
    {
     "name": "stdout",
     "output_type": "stream",
     "text": [
      "                                                                                                                                                                                                                                                                                                                                "
     ]
    },
    {
     "name": "stderr",
     "output_type": "stream",
     "text": [
      "\n",
      "02:53:45 - cmdstanpy - INFO - CmdStan done processing.\n",
      "02:53:45 - cmdstanpy - WARNING - Non-fatal error during sampling:\n",
      "Exception: normal_id_glm_lpdf: Scale vector is 0, but must be positive finite! (in 'prophet.stan', line 137, column 2 to line 142, column 4)\n",
      "Exception: normal_id_glm_lpdf: Scale vector is 0, but must be positive finite! (in 'prophet.stan', line 137, column 2 to line 142, column 4)\n",
      "Exception: normal_id_glm_lpdf: Scale vector is 0, but must be positive finite! (in 'prophet.stan', line 137, column 2 to line 142, column 4)\n",
      "Exception: normal_id_glm_lpdf: Scale vector is 0, but must be positive finite! (in 'prophet.stan', line 137, column 2 to line 142, column 4)\n",
      "Consider re-running with show_console=True if the above output is unclear!\n",
      "02:53:45 - cmdstanpy - WARNING - Some chains may have failed to converge.\n",
      "\tChain 1 had 150 iterations at max treedepth (100.0%)\n",
      "\tChain 2 had 15 divergent transitions (10.0%)\n",
      "\tChain 2 had 131 iterations at max treedepth (87.3%)\n",
      "\tChain 3 had 150 iterations at max treedepth (100.0%)\n",
      "\tChain 4 had 150 iterations at max treedepth (100.0%)\n",
      "\tUse the \"diagnose()\" method on the CmdStanMCMC object to see further information.\n"
     ]
    },
    {
     "name": "stdout",
     "output_type": "stream",
     "text": [
      "\n"
     ]
    },
    {
     "name": "stderr",
     "output_type": "stream",
     "text": [
      " 14%|█▍        | 7/49 [00:14<01:36,  2.30s/it]02:53:45 - cmdstanpy - INFO - CmdStan start processing\n",
      "\n",
      "\u001b[A\n",
      "\n",
      "\u001b[A\u001b[A\n",
      "\n",
      "\n",
      "\u001b[A\u001b[A\u001b[A\n",
      "\n",
      "\u001b[A\u001b[A\n",
      "\n",
      "\n",
      "\u001b[A\u001b[A\u001b[A\n",
      "\u001b[A\n",
      "\n",
      "\u001b[A\u001b[A\n",
      "\u001b[A\n",
      "\n",
      "\n",
      "\u001b[A\u001b[A\u001b[A\n",
      "\n",
      "\u001b[A\u001b[A\n",
      "\u001b[A\n",
      "\n",
      "\n",
      "\u001b[A\u001b[A\u001b[A\n",
      "\n",
      "\u001b[A\u001b[A\n",
      "\u001b[A\n",
      "\n",
      "\n",
      "chain 1 |\u001b[34m██████████\u001b[0m| 00:02 Sampling completed                     \n",
      "chain 2 |\u001b[34m██████████\u001b[0m| 00:02 Sampling completed                     \n",
      "chain 3 |\u001b[34m██████████\u001b[0m| 00:02 Sampling completed                     \n",
      "chain 4 |\u001b[34m██████████\u001b[0m| 00:02 Sampling completed                     "
     ]
    },
    {
     "name": "stdout",
     "output_type": "stream",
     "text": [
      "                                                                                                                                                                                                                                                                                                                                "
     ]
    },
    {
     "name": "stderr",
     "output_type": "stream",
     "text": [
      "\n",
      "02:53:47 - cmdstanpy - INFO - CmdStan done processing.\n",
      "02:53:47 - cmdstanpy - WARNING - Non-fatal error during sampling:\n",
      "Exception: normal_id_glm_lpdf: Scale vector is 0, but must be positive finite! (in 'prophet.stan', line 137, column 2 to line 142, column 4)\n",
      "Exception: normal_id_glm_lpdf: Scale vector is 0, but must be positive finite! (in 'prophet.stan', line 137, column 2 to line 142, column 4)\n",
      "Exception: normal_id_glm_lpdf: Scale vector is 0, but must be positive finite! (in 'prophet.stan', line 137, column 2 to line 142, column 4)\n",
      "Exception: normal_id_glm_lpdf: Scale vector is 0, but must be positive finite! (in 'prophet.stan', line 137, column 2 to line 142, column 4)\n",
      "Consider re-running with show_console=True if the above output is unclear!\n",
      "02:53:47 - cmdstanpy - WARNING - Some chains may have failed to converge.\n",
      "\tChain 1 had 150 iterations at max treedepth (100.0%)\n",
      "\tChain 2 had 150 iterations at max treedepth (100.0%)\n",
      "\tChain 3 had 150 iterations at max treedepth (100.0%)\n",
      "\tChain 4 had 150 iterations at max treedepth (100.0%)\n",
      "\tUse the \"diagnose()\" method on the CmdStanMCMC object to see further information.\n"
     ]
    },
    {
     "name": "stdout",
     "output_type": "stream",
     "text": [
      "\n"
     ]
    },
    {
     "name": "stderr",
     "output_type": "stream",
     "text": [
      " 16%|█▋        | 8/49 [00:17<01:40,  2.46s/it]02:53:48 - cmdstanpy - INFO - CmdStan start processing\n",
      "\n",
      "\u001b[A\n",
      "\n",
      "\u001b[A\u001b[A\n",
      "\n",
      "\n",
      "\u001b[A\u001b[A\u001b[A\n",
      "\n",
      "\n",
      "\u001b[A\u001b[A\u001b[A\n",
      "\u001b[A\n",
      "\n",
      "\u001b[A\u001b[A\n",
      "\n",
      "\n",
      "\u001b[A\u001b[A\u001b[A\n",
      "\u001b[A\n",
      "\n",
      "\u001b[A\u001b[A\n",
      "\n",
      "\n",
      "\u001b[A\u001b[A\u001b[A\n",
      "\n",
      "\u001b[A\u001b[A\n",
      "\u001b[A\n",
      "\n",
      "\n",
      "\u001b[A\u001b[A\u001b[A\n",
      "\u001b[A\n",
      "\n",
      "chain 1 |\u001b[34m██████████\u001b[0m| 00:02 Sampling completed                     \n",
      "chain 2 |\u001b[34m██████████\u001b[0m| 00:02 Sampling completed                     \n",
      "chain 3 |\u001b[34m██████████\u001b[0m| 00:02 Sampling completed                     \n",
      "chain 4 |\u001b[34m██████████\u001b[0m| 00:02 Sampling completed                     "
     ]
    },
    {
     "name": "stdout",
     "output_type": "stream",
     "text": [
      "                                                                                                                                                                                                                                                                                                                                "
     ]
    },
    {
     "name": "stderr",
     "output_type": "stream",
     "text": [
      "\n",
      "02:53:50 - cmdstanpy - INFO - CmdStan done processing.\n",
      "02:53:50 - cmdstanpy - WARNING - Non-fatal error during sampling:\n",
      "Exception: normal_id_glm_lpdf: Scale vector is 0, but must be positive finite! (in 'prophet.stan', line 137, column 2 to line 142, column 4)\n",
      "Exception: normal_id_glm_lpdf: Scale vector is 0, but must be positive finite! (in 'prophet.stan', line 137, column 2 to line 142, column 4)\n",
      "Exception: normal_id_glm_lpdf: Scale vector is 0, but must be positive finite! (in 'prophet.stan', line 137, column 2 to line 142, column 4)\n",
      "Exception: normal_id_glm_lpdf: Scale vector is 0, but must be positive finite! (in 'prophet.stan', line 137, column 2 to line 142, column 4)\n",
      "Consider re-running with show_console=True if the above output is unclear!\n",
      "02:53:50 - cmdstanpy - WARNING - Some chains may have failed to converge.\n",
      "\tChain 1 had 150 iterations at max treedepth (100.0%)\n",
      "\tChain 2 had 150 iterations at max treedepth (100.0%)\n",
      "\tChain 3 had 150 iterations at max treedepth (100.0%)\n",
      "\tChain 4 had 150 iterations at max treedepth (100.0%)\n",
      "\tUse the \"diagnose()\" method on the CmdStanMCMC object to see further information.\n"
     ]
    },
    {
     "name": "stdout",
     "output_type": "stream",
     "text": [
      "\n"
     ]
    },
    {
     "name": "stderr",
     "output_type": "stream",
     "text": [
      " 18%|█▊        | 9/49 [00:20<01:43,  2.60s/it]02:53:51 - cmdstanpy - INFO - CmdStan start processing\n",
      "\n",
      "\u001b[A\n",
      "\n",
      "\u001b[A\u001b[A\n",
      "\n",
      "\n",
      "\u001b[A\u001b[A\u001b[A\n",
      "\n",
      "\n",
      "\u001b[A\u001b[A\u001b[A\n",
      "\u001b[A\n",
      "\n",
      "\u001b[A\u001b[A\n",
      "\n",
      "\u001b[A\u001b[A\n",
      "\u001b[A\n",
      "\n",
      "\n",
      "\u001b[A\u001b[A\u001b[A\n",
      "\n",
      "\u001b[A\u001b[A\n",
      "\u001b[A\n",
      "\n",
      "\n",
      "\u001b[A\u001b[A\u001b[A\n",
      "\n",
      "\u001b[A\u001b[A\n",
      "\u001b[A\n",
      "\n",
      "\n",
      "chain 1 |\u001b[34m██████████\u001b[0m| 00:02 Sampling completed                     \n",
      "chain 2 |\u001b[34m██████████\u001b[0m| 00:02 Sampling completed                     \n",
      "chain 3 |\u001b[34m██████████\u001b[0m| 00:02 Sampling completed                     \n",
      "chain 4 |\u001b[34m██████████\u001b[0m| 00:02 Sampling completed                     "
     ]
    },
    {
     "name": "stdout",
     "output_type": "stream",
     "text": [
      "                                                                                                                                                                                                                                                                                                                                "
     ]
    },
    {
     "name": "stderr",
     "output_type": "stream",
     "text": [
      "\n",
      "02:53:53 - cmdstanpy - INFO - CmdStan done processing.\n",
      "02:53:53 - cmdstanpy - WARNING - Non-fatal error during sampling:\n",
      "Exception: normal_id_glm_lpdf: Scale vector is 0, but must be positive finite! (in 'prophet.stan', line 137, column 2 to line 142, column 4)\n",
      "Exception: normal_id_glm_lpdf: Scale vector is inf, but must be positive finite! (in 'prophet.stan', line 137, column 2 to line 142, column 4)\n",
      "Exception: normal_id_glm_lpdf: Scale vector is 0, but must be positive finite! (in 'prophet.stan', line 137, column 2 to line 142, column 4)\n",
      "Exception: normal_id_glm_lpdf: Matrix of independent variables is inf, but must be finite! (in 'prophet.stan', line 137, column 2 to line 142, column 4)\n",
      "Consider re-running with show_console=True if the above output is unclear!\n",
      "02:53:53 - cmdstanpy - WARNING - Some chains may have failed to converge.\n",
      "\tChain 1 had 9 divergent transitions (6.0%)\n",
      "\tChain 1 had 140 iterations at max treedepth (93.3%)\n",
      "\tChain 2 had 3 divergent transitions (2.0%)\n",
      "\tChain 2 had 147 iterations at max treedepth (98.0%)\n",
      "\tChain 3 had 150 iterations at max treedepth (100.0%)\n",
      "\tChain 4 had 150 iterations at max treedepth (100.0%)\n",
      "\tUse the \"diagnose()\" method on the CmdStanMCMC object to see further information.\n"
     ]
    },
    {
     "name": "stdout",
     "output_type": "stream",
     "text": [
      "\n"
     ]
    },
    {
     "name": "stderr",
     "output_type": "stream",
     "text": [
      " 20%|██        | 10/49 [00:23<01:46,  2.73s/it]02:53:54 - cmdstanpy - INFO - CmdStan start processing\n",
      "\n",
      "\u001b[A\n",
      "\n",
      "\u001b[A\u001b[A\n",
      "\n",
      "\n",
      "\u001b[A\u001b[A\u001b[A\n",
      "\n",
      "\n",
      "\u001b[A\u001b[A\u001b[A\n",
      "\n",
      "\u001b[A\u001b[A\n",
      "\u001b[A\n",
      "\u001b[A\n",
      "\n",
      "\n",
      "\u001b[A\u001b[A\u001b[A\n",
      "\n",
      "\u001b[A\u001b[A\n",
      "\u001b[A\n",
      "\n",
      "\n",
      "\u001b[A\u001b[A\u001b[A\n",
      "\n",
      "\u001b[A\u001b[A\n",
      "\u001b[A\n",
      "\n",
      "\n",
      "\u001b[A\u001b[A\u001b[A\n",
      "\n",
      "chain 1 |\u001b[34m██████████\u001b[0m| 00:02 Sampling completed                     \n",
      "chain 2 |\u001b[34m██████████\u001b[0m| 00:02 Sampling completed                     \n",
      "chain 3 |\u001b[34m██████████\u001b[0m| 00:02 Sampling completed                     \n",
      "chain 4 |\u001b[34m██████████\u001b[0m| 00:02 Sampling completed                     "
     ]
    },
    {
     "name": "stdout",
     "output_type": "stream",
     "text": [
      "                                                                                                                                                                                                                                                                                                                                "
     ]
    },
    {
     "name": "stderr",
     "output_type": "stream",
     "text": [
      "\n",
      "02:53:56 - cmdstanpy - INFO - CmdStan done processing.\n",
      "02:53:56 - cmdstanpy - WARNING - Non-fatal error during sampling:\n",
      "Exception: normal_id_glm_lpdf: Scale vector is inf, but must be positive finite! (in 'prophet.stan', line 137, column 2 to line 142, column 4)\n",
      "Exception: normal_id_glm_lpdf: Scale vector is inf, but must be positive finite! (in 'prophet.stan', line 137, column 2 to line 142, column 4)\n",
      "Exception: normal_id_glm_lpdf: Scale vector is 0, but must be positive finite! (in 'prophet.stan', line 137, column 2 to line 142, column 4)\n",
      "Exception: normal_id_glm_lpdf: Scale vector is inf, but must be positive finite! (in 'prophet.stan', line 137, column 2 to line 142, column 4)\n",
      "Consider re-running with show_console=True if the above output is unclear!\n",
      "02:53:57 - cmdstanpy - WARNING - Some chains may have failed to converge.\n",
      "\tChain 1 had 150 iterations at max treedepth (100.0%)\n",
      "\tChain 2 had 150 iterations at max treedepth (100.0%)\n",
      "\tChain 3 had 150 iterations at max treedepth (100.0%)\n",
      "\tChain 4 had 150 iterations at max treedepth (100.0%)\n",
      "\tUse the \"diagnose()\" method on the CmdStanMCMC object to see further information.\n"
     ]
    },
    {
     "name": "stdout",
     "output_type": "stream",
     "text": [
      "\n"
     ]
    },
    {
     "name": "stderr",
     "output_type": "stream",
     "text": [
      " 22%|██▏       | 11/49 [00:26<01:49,  2.88s/it]02:53:57 - cmdstanpy - INFO - CmdStan start processing\n",
      "\n",
      "\u001b[A\n",
      "\n",
      "\u001b[A\u001b[A\n",
      "\n",
      "\n",
      "\u001b[A\u001b[A\u001b[A\n",
      "\n",
      "\n",
      "\u001b[A\u001b[A\u001b[A\n",
      "\n",
      "\u001b[A\u001b[A\n",
      "\u001b[A\n",
      "\n",
      "\u001b[A\u001b[A\n",
      "\n",
      "\n",
      "\u001b[A\u001b[A\u001b[A\n",
      "\u001b[A\n",
      "\n",
      "\u001b[A\u001b[A\n",
      "\n",
      "\n",
      "\u001b[A\u001b[A\u001b[A\n",
      "\u001b[A\n",
      "\n",
      "\u001b[A\u001b[A\n",
      "\n",
      "\n",
      "\u001b[A\u001b[A\u001b[A\n",
      "chain 1 |\u001b[34m██████████\u001b[0m| 00:02 Sampling completed                     \n",
      "chain 2 |\u001b[34m██████████\u001b[0m| 00:02 Sampling completed                     \n",
      "chain 3 |\u001b[34m██████████\u001b[0m| 00:02 Sampling completed                     \n",
      "chain 4 |\u001b[34m██████████\u001b[0m| 00:02 Sampling completed                     "
     ]
    },
    {
     "name": "stdout",
     "output_type": "stream",
     "text": [
      "                                                                                                                                                                                                                                                                                                                                "
     ]
    },
    {
     "name": "stderr",
     "output_type": "stream",
     "text": [
      "\n",
      "02:54:00 - cmdstanpy - INFO - CmdStan done processing.\n",
      "02:54:00 - cmdstanpy - WARNING - Non-fatal error during sampling:\n",
      "Exception: normal_id_glm_lpdf: Scale vector is 0, but must be positive finite! (in 'prophet.stan', line 137, column 2 to line 142, column 4)\n",
      "Exception: normal_id_glm_lpdf: Scale vector is 0, but must be positive finite! (in 'prophet.stan', line 137, column 2 to line 142, column 4)\n",
      "Exception: normal_id_glm_lpdf: Scale vector is 0, but must be positive finite! (in 'prophet.stan', line 137, column 2 to line 142, column 4)\n",
      "Consider re-running with show_console=True if the above output is unclear!\n",
      "02:54:00 - cmdstanpy - WARNING - Some chains may have failed to converge.\n",
      "\tChain 1 had 150 iterations at max treedepth (100.0%)\n",
      "\tChain 2 had 150 iterations at max treedepth (100.0%)\n",
      "\tChain 3 had 9 divergent transitions (6.0%)\n",
      "\tChain 3 had 141 iterations at max treedepth (94.0%)\n",
      "\tChain 4 had 2 divergent transitions (1.3%)\n",
      "\tChain 4 had 148 iterations at max treedepth (98.7%)\n",
      "\tUse the \"diagnose()\" method on the CmdStanMCMC object to see further information.\n"
     ]
    },
    {
     "name": "stdout",
     "output_type": "stream",
     "text": [
      "\n"
     ]
    },
    {
     "name": "stderr",
     "output_type": "stream",
     "text": [
      " 24%|██▍       | 12/49 [00:30<01:52,  3.03s/it]02:54:00 - cmdstanpy - INFO - CmdStan start processing\n",
      "\n",
      "\u001b[A\n",
      "\n",
      "\u001b[A\u001b[A\n",
      "\n",
      "\n",
      "\u001b[A\u001b[A\u001b[A\n",
      "\n",
      "\u001b[A\u001b[A\n",
      "\n",
      "\n",
      "\u001b[A\u001b[A\u001b[A\n",
      "\u001b[A\n",
      "\n",
      "\u001b[A\u001b[A\n",
      "\u001b[A\n",
      "\n",
      "\n",
      "\u001b[A\u001b[A\u001b[A\n",
      "\n",
      "\n",
      "\u001b[A\u001b[A\u001b[A\n",
      "\n",
      "\u001b[A\u001b[A\n",
      "\u001b[A\n",
      "\n",
      "\n",
      "\u001b[A\u001b[A\u001b[A\n",
      "\n",
      "\u001b[A\u001b[A\n",
      "chain 1 |\u001b[34m██████████\u001b[0m| 00:03 Sampling completed                     \n",
      "chain 2 |\u001b[34m██████████\u001b[0m| 00:03 Sampling completed                     \n",
      "chain 3 |\u001b[34m██████████\u001b[0m| 00:03 Sampling completed                     \n",
      "chain 4 |\u001b[34m██████████\u001b[0m| 00:03 Sampling completed                     "
     ]
    },
    {
     "name": "stdout",
     "output_type": "stream",
     "text": [
      "                                                                                                                                                                                                                                                                                                                                "
     ]
    },
    {
     "name": "stderr",
     "output_type": "stream",
     "text": [
      "\n",
      "02:54:03 - cmdstanpy - INFO - CmdStan done processing.\n",
      "02:54:03 - cmdstanpy - WARNING - Non-fatal error during sampling:\n",
      "Exception: normal_id_glm_lpdf: Scale vector is 0, but must be positive finite! (in 'prophet.stan', line 137, column 2 to line 142, column 4)\n",
      "Exception: normal_id_glm_lpdf: Scale vector is 0, but must be positive finite! (in 'prophet.stan', line 137, column 2 to line 142, column 4)\n",
      "Exception: normal_id_glm_lpdf: Scale vector is inf, but must be positive finite! (in 'prophet.stan', line 137, column 2 to line 142, column 4)\n",
      "Exception: normal_id_glm_lpdf: Scale vector is 0, but must be positive finite! (in 'prophet.stan', line 137, column 2 to line 142, column 4)\n",
      "Consider re-running with show_console=True if the above output is unclear!\n",
      "02:54:03 - cmdstanpy - WARNING - Some chains may have failed to converge.\n",
      "\tChain 1 had 150 iterations at max treedepth (100.0%)\n",
      "\tChain 2 had 150 iterations at max treedepth (100.0%)\n",
      "\tChain 3 had 150 iterations at max treedepth (100.0%)\n",
      "\tChain 4 had 17 divergent transitions (11.3%)\n",
      "\tChain 4 had 132 iterations at max treedepth (88.0%)\n",
      "\tUse the \"diagnose()\" method on the CmdStanMCMC object to see further information.\n"
     ]
    },
    {
     "name": "stdout",
     "output_type": "stream",
     "text": [
      "\n"
     ]
    },
    {
     "name": "stderr",
     "output_type": "stream",
     "text": [
      " 27%|██▋       | 13/49 [00:33<01:53,  3.16s/it]02:54:04 - cmdstanpy - INFO - CmdStan start processing\n",
      "\n",
      "\u001b[A\n",
      "\n",
      "\u001b[A\u001b[A\n",
      "\n",
      "\n",
      "\u001b[A\u001b[A\u001b[A\n",
      "\u001b[A\n",
      "\n",
      "\u001b[A\u001b[A\n",
      "\n",
      "\n",
      "\u001b[A\u001b[A\u001b[A\n",
      "\u001b[A\n",
      "\n",
      "\n",
      "\u001b[A\u001b[A\u001b[A\n",
      "\n",
      "\u001b[A\u001b[A\n",
      "\u001b[A\n",
      "\n",
      "\n",
      "\u001b[A\u001b[A\u001b[A\n",
      "\n",
      "\u001b[A\u001b[A\n",
      "\u001b[A\n",
      "\n",
      "\n",
      "\u001b[A\u001b[A\u001b[A\n",
      "\n",
      "chain 1 |\u001b[34m██████████\u001b[0m| 00:03 Sampling completed                     \n",
      "chain 2 |\u001b[34m██████████\u001b[0m| 00:03 Sampling completed                     \n",
      "chain 3 |\u001b[34m██████████\u001b[0m| 00:03 Sampling completed                     \n",
      "chain 4 |\u001b[34m██████████\u001b[0m| 00:03 Sampling completed                     "
     ]
    },
    {
     "name": "stdout",
     "output_type": "stream",
     "text": [
      "                                                                                                                                                                                                                                                                                                                                "
     ]
    },
    {
     "name": "stderr",
     "output_type": "stream",
     "text": [
      "\n",
      "02:54:07 - cmdstanpy - INFO - CmdStan done processing.\n",
      "02:54:07 - cmdstanpy - WARNING - Non-fatal error during sampling:\n",
      "Exception: normal_id_glm_lpdf: Scale vector is 0, but must be positive finite! (in 'prophet.stan', line 137, column 2 to line 142, column 4)\n",
      "Exception: normal_id_glm_lpdf: Scale vector is 0, but must be positive finite! (in 'prophet.stan', line 137, column 2 to line 142, column 4)\n",
      "Exception: normal_id_glm_lpdf: Scale vector is inf, but must be positive finite! (in 'prophet.stan', line 137, column 2 to line 142, column 4)\n",
      "Exception: normal_id_glm_lpdf: Scale vector is 0, but must be positive finite! (in 'prophet.stan', line 137, column 2 to line 142, column 4)\n",
      "Consider re-running with show_console=True if the above output is unclear!\n",
      "02:54:07 - cmdstanpy - WARNING - Some chains may have failed to converge.\n",
      "\tChain 1 had 7 divergent transitions (4.7%)\n",
      "\tChain 1 had 143 iterations at max treedepth (95.3%)\n",
      "\tChain 2 had 150 iterations at max treedepth (100.0%)\n",
      "\tChain 3 had 150 iterations at max treedepth (100.0%)\n",
      "\tChain 4 had 150 iterations at max treedepth (100.0%)\n",
      "\tUse the \"diagnose()\" method on the CmdStanMCMC object to see further information.\n"
     ]
    },
    {
     "name": "stdout",
     "output_type": "stream",
     "text": [
      "\n"
     ]
    },
    {
     "name": "stderr",
     "output_type": "stream",
     "text": [
      " 29%|██▊       | 14/49 [00:37<01:56,  3.32s/it]02:54:07 - cmdstanpy - INFO - CmdStan start processing\n",
      "\n",
      "\u001b[A\n",
      "\n",
      "\u001b[A\u001b[A\n",
      "\n",
      "\n",
      "\u001b[A\u001b[A\u001b[A\n",
      "\n",
      "\u001b[A\u001b[A\n",
      "\n",
      "\n",
      "\u001b[A\u001b[A\u001b[A\n",
      "\u001b[A\n",
      "\n",
      "\u001b[A\u001b[A\n",
      "\n",
      "\n",
      "\u001b[A\u001b[A\u001b[A\n",
      "\u001b[A\n",
      "\n",
      "\u001b[A\u001b[A\n",
      "\n",
      "\n",
      "\u001b[A\u001b[A\u001b[A\n",
      "\u001b[A\n",
      "\n",
      "\n",
      "\u001b[A\u001b[A\u001b[A\n",
      "\n",
      "\u001b[A\u001b[A\n",
      "chain 1 |\u001b[34m██████████\u001b[0m| 00:03 Sampling completed                     \n",
      "chain 2 |\u001b[34m██████████\u001b[0m| 00:03 Sampling completed                     \n",
      "chain 3 |\u001b[34m██████████\u001b[0m| 00:03 Sampling completed                     \n",
      "chain 4 |\u001b[34m██████████\u001b[0m| 00:03 Sampling completed                     "
     ]
    },
    {
     "name": "stdout",
     "output_type": "stream",
     "text": [
      "                                                                                                                                                                                                                                                                                                                                "
     ]
    },
    {
     "name": "stderr",
     "output_type": "stream",
     "text": [
      "\n",
      "02:54:11 - cmdstanpy - INFO - CmdStan done processing.\n",
      "02:54:11 - cmdstanpy - WARNING - Non-fatal error during sampling:\n",
      "Exception: normal_id_glm_lpdf: Scale vector is 0, but must be positive finite! (in 'prophet.stan', line 137, column 2 to line 142, column 4)\n",
      "Exception: normal_id_glm_lpdf: Scale vector is 0, but must be positive finite! (in 'prophet.stan', line 137, column 2 to line 142, column 4)\n",
      "Exception: normal_id_glm_lpdf: Scale vector is 0, but must be positive finite! (in 'prophet.stan', line 137, column 2 to line 142, column 4)\n",
      "Exception: normal_id_glm_lpdf: Scale vector is 0, but must be positive finite! (in 'prophet.stan', line 137, column 2 to line 142, column 4)\n",
      "Consider re-running with show_console=True if the above output is unclear!\n",
      "02:54:11 - cmdstanpy - WARNING - Some chains may have failed to converge.\n",
      "\tChain 1 had 3 divergent transitions (2.0%)\n",
      "\tChain 1 had 146 iterations at max treedepth (97.3%)\n",
      "\tChain 2 had 1 divergent transitions (0.7%)\n",
      "\tChain 2 had 149 iterations at max treedepth (99.3%)\n",
      "\tChain 3 had 3 divergent transitions (2.0%)\n",
      "\tChain 3 had 147 iterations at max treedepth (98.0%)\n",
      "\tChain 4 had 9 divergent transitions (6.0%)\n",
      "\tChain 4 had 141 iterations at max treedepth (94.0%)\n",
      "\tUse the \"diagnose()\" method on the CmdStanMCMC object to see further information.\n"
     ]
    },
    {
     "name": "stdout",
     "output_type": "stream",
     "text": [
      "\n"
     ]
    },
    {
     "name": "stderr",
     "output_type": "stream",
     "text": [
      " 31%|███       | 15/49 [00:41<02:03,  3.63s/it]02:54:12 - cmdstanpy - INFO - CmdStan start processing\n",
      "\n",
      "\u001b[A\n",
      "\n",
      "\u001b[A\u001b[A\n",
      "\n",
      "\n",
      "\u001b[A\u001b[A\u001b[A\n",
      "\n",
      "\u001b[A\u001b[A\n",
      "\n",
      "\n",
      "\u001b[A\u001b[A\u001b[A\n",
      "\u001b[A\n",
      "\n",
      "\u001b[A\u001b[A\n",
      "\n",
      "\n",
      "\u001b[A\u001b[A\u001b[A\n",
      "\u001b[A\n",
      "\n",
      "\u001b[A\u001b[A\n",
      "\n",
      "\n",
      "\u001b[A\u001b[A\u001b[A\n",
      "\u001b[A\n",
      "\n",
      "\u001b[A\u001b[A\n",
      "\n",
      "\n",
      "\u001b[A\u001b[A\u001b[A\n",
      "chain 1 |\u001b[34m██████████\u001b[0m| 00:03 Sampling completed                     \n",
      "chain 2 |\u001b[34m██████████\u001b[0m| 00:03 Sampling completed                     \n",
      "chain 3 |\u001b[34m██████████\u001b[0m| 00:03 Sampling completed                     \n",
      "chain 4 |\u001b[34m██████████\u001b[0m| 00:03 Sampling completed                     "
     ]
    },
    {
     "name": "stdout",
     "output_type": "stream",
     "text": [
      "                                                                                                                                                                                                                                                                                                                                "
     ]
    },
    {
     "name": "stderr",
     "output_type": "stream",
     "text": [
      "\n",
      "02:54:15 - cmdstanpy - INFO - CmdStan done processing.\n",
      "02:54:15 - cmdstanpy - WARNING - Non-fatal error during sampling:\n",
      "Exception: normal_id_glm_lpdf: Scale vector is 0, but must be positive finite! (in 'prophet.stan', line 137, column 2 to line 142, column 4)\n",
      "Exception: normal_id_glm_lpdf: Scale vector is inf, but must be positive finite! (in 'prophet.stan', line 137, column 2 to line 142, column 4)\n",
      "Exception: normal_id_glm_lpdf: Scale vector is 0, but must be positive finite! (in 'prophet.stan', line 137, column 2 to line 142, column 4)\n",
      "Exception: normal_id_glm_lpdf: Scale vector is 0, but must be positive finite! (in 'prophet.stan', line 137, column 2 to line 142, column 4)\n",
      "Consider re-running with show_console=True if the above output is unclear!\n",
      "02:54:15 - cmdstanpy - WARNING - Some chains may have failed to converge.\n",
      "\tChain 1 had 150 iterations at max treedepth (100.0%)\n",
      "\tChain 2 had 2 divergent transitions (1.3%)\n",
      "\tChain 2 had 148 iterations at max treedepth (98.7%)\n",
      "\tChain 3 had 150 iterations at max treedepth (100.0%)\n",
      "\tChain 4 had 3 divergent transitions (2.0%)\n",
      "\tChain 4 had 147 iterations at max treedepth (98.0%)\n",
      "\tUse the \"diagnose()\" method on the CmdStanMCMC object to see further information.\n"
     ]
    },
    {
     "name": "stdout",
     "output_type": "stream",
     "text": [
      "\n"
     ]
    },
    {
     "name": "stderr",
     "output_type": "stream",
     "text": [
      " 33%|███▎      | 16/49 [00:45<02:02,  3.70s/it]02:54:16 - cmdstanpy - INFO - CmdStan start processing\n",
      "\n",
      "\u001b[A\n",
      "\n",
      "\u001b[A\u001b[A\n",
      "\n",
      "\n",
      "\u001b[A\u001b[A\u001b[A\n",
      "\n",
      "\u001b[A\u001b[A\n",
      "\n",
      "\n",
      "\u001b[A\u001b[A\u001b[A\n",
      "\u001b[A\n",
      "\n",
      "\u001b[A\u001b[A\n",
      "\u001b[A\n",
      "\n",
      "\n",
      "\u001b[A\u001b[A\u001b[A\n",
      "\u001b[A\n",
      "\n",
      "\u001b[A\u001b[A\n",
      "\n",
      "\n",
      "\u001b[A\u001b[A\u001b[A\n",
      "\u001b[A\n",
      "\n",
      "\u001b[A\u001b[A\n",
      "\n",
      "\n",
      "chain 1 |\u001b[34m██████████\u001b[0m| 00:03 Sampling completed                     \n",
      "chain 2 |\u001b[34m██████████\u001b[0m| 00:03 Sampling completed                     \n",
      "chain 3 |\u001b[34m██████████\u001b[0m| 00:03 Sampling completed                     \n",
      "chain 4 |\u001b[34m██████████\u001b[0m| 00:03 Sampling completed                     "
     ]
    },
    {
     "name": "stdout",
     "output_type": "stream",
     "text": [
      "                                                                                                                                                                                                                                                                                                                                "
     ]
    },
    {
     "name": "stderr",
     "output_type": "stream",
     "text": [
      "\n",
      "02:54:19 - cmdstanpy - INFO - CmdStan done processing.\n",
      "02:54:19 - cmdstanpy - WARNING - Non-fatal error during sampling:\n",
      "Exception: normal_id_glm_lpdf: Scale vector is 0, but must be positive finite! (in 'prophet.stan', line 137, column 2 to line 142, column 4)\n",
      "Exception: normal_id_glm_lpdf: Scale vector is 0, but must be positive finite! (in 'prophet.stan', line 137, column 2 to line 142, column 4)\n",
      "Exception: normal_id_glm_lpdf: Scale vector is 0, but must be positive finite! (in 'prophet.stan', line 137, column 2 to line 142, column 4)\n",
      "Exception: normal_id_glm_lpdf: Scale vector is 0, but must be positive finite! (in 'prophet.stan', line 137, column 2 to line 142, column 4)\n",
      "Consider re-running with show_console=True if the above output is unclear!\n",
      "02:54:19 - cmdstanpy - WARNING - Some chains may have failed to converge.\n",
      "\tChain 1 had 1 divergent transitions (0.7%)\n",
      "\tChain 1 had 149 iterations at max treedepth (99.3%)\n",
      "\tChain 2 had 150 iterations at max treedepth (100.0%)\n",
      "\tChain 3 had 150 iterations at max treedepth (100.0%)\n",
      "\tChain 4 had 150 iterations at max treedepth (100.0%)\n",
      "\tUse the \"diagnose()\" method on the CmdStanMCMC object to see further information.\n"
     ]
    },
    {
     "name": "stdout",
     "output_type": "stream",
     "text": [
      "\n"
     ]
    },
    {
     "name": "stderr",
     "output_type": "stream",
     "text": [
      " 35%|███▍      | 17/49 [00:49<02:01,  3.81s/it]02:54:20 - cmdstanpy - INFO - CmdStan start processing\n",
      "\n",
      "\u001b[A\n",
      "\n",
      "\u001b[A\u001b[A\n",
      "\n",
      "\n",
      "\u001b[A\u001b[A\u001b[A\n",
      "\n",
      "\n",
      "\u001b[A\u001b[A\u001b[A\n",
      "\u001b[A\n",
      "\n",
      "\u001b[A\u001b[A\n",
      "\u001b[A\n",
      "\n",
      "\n",
      "\u001b[A\u001b[A\u001b[A\n",
      "\n",
      "\u001b[A\u001b[A\n",
      "\n",
      "\n",
      "\u001b[A\u001b[A\u001b[A\n",
      "\u001b[A\n",
      "\n",
      "\u001b[A\u001b[A\n",
      "\n",
      "\n",
      "\u001b[A\u001b[A\u001b[A\n",
      "\u001b[A\n",
      "\n",
      "chain 1 |\u001b[34m██████████\u001b[0m| 00:03 Sampling completed                     \n",
      "chain 2 |\u001b[34m██████████\u001b[0m| 00:03 Sampling completed                     \n",
      "chain 3 |\u001b[34m██████████\u001b[0m| 00:03 Sampling completed                     \n",
      "chain 4 |\u001b[34m██████████\u001b[0m| 00:03 Sampling completed                     "
     ]
    },
    {
     "name": "stdout",
     "output_type": "stream",
     "text": [
      "                                                                                                                                                                                                                                                                                                                                "
     ]
    },
    {
     "name": "stderr",
     "output_type": "stream",
     "text": [
      "\n",
      "02:54:23 - cmdstanpy - INFO - CmdStan done processing.\n",
      "02:54:23 - cmdstanpy - WARNING - Non-fatal error during sampling:\n",
      "Exception: normal_id_glm_lpdf: Scale vector is 0, but must be positive finite! (in 'prophet.stan', line 137, column 2 to line 142, column 4)\n",
      "Exception: normal_id_glm_lpdf: Scale vector is inf, but must be positive finite! (in 'prophet.stan', line 137, column 2 to line 142, column 4)\n",
      "Exception: normal_id_glm_lpdf: Scale vector is 0, but must be positive finite! (in 'prophet.stan', line 137, column 2 to line 142, column 4)\n",
      "Consider re-running with show_console=True if the above output is unclear!\n",
      "02:54:23 - cmdstanpy - WARNING - Some chains may have failed to converge.\n",
      "\tChain 1 had 150 iterations at max treedepth (100.0%)\n",
      "\tChain 2 had 150 iterations at max treedepth (100.0%)\n",
      "\tChain 3 had 150 iterations at max treedepth (100.0%)\n",
      "\tChain 4 had 150 iterations at max treedepth (100.0%)\n",
      "\tUse the \"diagnose()\" method on the CmdStanMCMC object to see further information.\n"
     ]
    },
    {
     "name": "stdout",
     "output_type": "stream",
     "text": [
      "\n"
     ]
    },
    {
     "name": "stderr",
     "output_type": "stream",
     "text": [
      " 37%|███▋      | 18/49 [00:53<02:01,  3.93s/it]02:54:24 - cmdstanpy - INFO - CmdStan start processing\n",
      "\n",
      "\u001b[A\n",
      "\n",
      "\u001b[A\u001b[A\n",
      "\n",
      "\n",
      "\u001b[A\u001b[A\u001b[A\n",
      "\n",
      "\n",
      "\u001b[A\u001b[A\u001b[A\n",
      "\n",
      "\u001b[A\u001b[A\n",
      "\u001b[A\n",
      "\n",
      "\u001b[A\u001b[A\n",
      "\n",
      "\n",
      "\u001b[A\u001b[A\u001b[A\n",
      "\u001b[A\n",
      "\n",
      "\u001b[A\u001b[A\n",
      "\n",
      "\n",
      "\u001b[A\u001b[A\u001b[A\n",
      "\u001b[A\n",
      "\n",
      "\u001b[A\u001b[A\n",
      "\n",
      "\n",
      "\u001b[A\u001b[A\u001b[A\n",
      "chain 1 |\u001b[34m██████████\u001b[0m| 00:03 Sampling completed                     \n",
      "chain 2 |\u001b[34m██████████\u001b[0m| 00:03 Sampling completed                     \n",
      "chain 3 |\u001b[34m██████████\u001b[0m| 00:03 Sampling completed                     \n",
      "chain 4 |\u001b[34m██████████\u001b[0m| 00:03 Sampling completed                     "
     ]
    },
    {
     "name": "stdout",
     "output_type": "stream",
     "text": [
      "                                                                                                                                                                                                                                                                                                                                "
     ]
    },
    {
     "name": "stderr",
     "output_type": "stream",
     "text": [
      "\n",
      "02:54:28 - cmdstanpy - INFO - CmdStan done processing.\n",
      "02:54:28 - cmdstanpy - WARNING - Non-fatal error during sampling:\n",
      "Exception: normal_id_glm_lpdf: Scale vector is 0, but must be positive finite! (in 'prophet.stan', line 137, column 2 to line 142, column 4)\n",
      "Exception: normal_id_glm_lpdf: Scale vector is inf, but must be positive finite! (in 'prophet.stan', line 137, column 2 to line 142, column 4)\n",
      "Exception: normal_id_glm_lpdf: Scale vector is 0, but must be positive finite! (in 'prophet.stan', line 137, column 2 to line 142, column 4)\n",
      "Exception: normal_id_glm_lpdf: Scale vector is 0, but must be positive finite! (in 'prophet.stan', line 137, column 2 to line 142, column 4)\n",
      "Consider re-running with show_console=True if the above output is unclear!\n",
      "02:54:28 - cmdstanpy - WARNING - Some chains may have failed to converge.\n",
      "\tChain 1 had 1 divergent transitions (0.7%)\n",
      "\tChain 1 had 149 iterations at max treedepth (99.3%)\n",
      "\tChain 2 had 4 divergent transitions (2.7%)\n",
      "\tChain 2 had 144 iterations at max treedepth (96.0%)\n",
      "\tChain 3 had 150 iterations at max treedepth (100.0%)\n",
      "\tChain 4 had 150 iterations at max treedepth (100.0%)\n",
      "\tUse the \"diagnose()\" method on the CmdStanMCMC object to see further information.\n"
     ]
    },
    {
     "name": "stdout",
     "output_type": "stream",
     "text": [
      "\n"
     ]
    },
    {
     "name": "stderr",
     "output_type": "stream",
     "text": [
      " 39%|███▉      | 19/49 [00:58<02:01,  4.04s/it]02:54:28 - cmdstanpy - INFO - CmdStan start processing\n",
      "\n",
      "\u001b[A\n",
      "\n",
      "\u001b[A\u001b[A\n",
      "\n",
      "\n",
      "\u001b[A\u001b[A\u001b[A\n",
      "\n",
      "\u001b[A\u001b[A\n",
      "\u001b[A\n",
      "\n",
      "\n",
      "\u001b[A\u001b[A\u001b[A\n",
      "\n",
      "\u001b[A\u001b[A\n",
      "\u001b[A\n",
      "\n",
      "\n",
      "\u001b[A\u001b[A\u001b[A\n",
      "\n",
      "\u001b[A\u001b[A\n",
      "\u001b[A\n",
      "\n",
      "\n",
      "\u001b[A\u001b[A\u001b[A\n",
      "\n",
      "\u001b[A\u001b[A\n",
      "\u001b[A\n",
      "\n",
      "\n",
      "chain 1 |\u001b[34m██████████\u001b[0m| 00:03 Sampling completed                     \n",
      "chain 2 |\u001b[34m██████████\u001b[0m| 00:03 Sampling completed                     \n",
      "chain 3 |\u001b[34m██████████\u001b[0m| 00:03 Sampling completed                     \n",
      "chain 4 |\u001b[34m██████████\u001b[0m| 00:03 Sampling completed                     "
     ]
    },
    {
     "name": "stdout",
     "output_type": "stream",
     "text": [
      "                                                                                                                                                                                                                                                                                                                                "
     ]
    },
    {
     "name": "stderr",
     "output_type": "stream",
     "text": [
      "\n",
      "02:54:32 - cmdstanpy - INFO - CmdStan done processing.\n",
      "02:54:32 - cmdstanpy - WARNING - Non-fatal error during sampling:\n",
      "Exception: normal_id_glm_lpdf: Scale vector is 0, but must be positive finite! (in 'prophet.stan', line 137, column 2 to line 142, column 4)\n",
      "Exception: normal_id_glm_lpdf: Scale vector is inf, but must be positive finite! (in 'prophet.stan', line 137, column 2 to line 142, column 4)\n",
      "Exception: normal_id_glm_lpdf: Scale vector is inf, but must be positive finite! (in 'prophet.stan', line 137, column 2 to line 142, column 4)\n",
      "Exception: normal_id_glm_lpdf: Scale vector is inf, but must be positive finite! (in 'prophet.stan', line 137, column 2 to line 142, column 4)\n",
      "Consider re-running with show_console=True if the above output is unclear!\n",
      "02:54:32 - cmdstanpy - WARNING - Some chains may have failed to converge.\n",
      "\tChain 1 had 150 iterations at max treedepth (100.0%)\n",
      "\tChain 2 had 150 iterations at max treedepth (100.0%)\n",
      "\tChain 3 had 150 iterations at max treedepth (100.0%)\n",
      "\tChain 4 had 1 divergent transitions (0.7%)\n",
      "\tChain 4 had 149 iterations at max treedepth (99.3%)\n",
      "\tUse the \"diagnose()\" method on the CmdStanMCMC object to see further information.\n"
     ]
    },
    {
     "name": "stdout",
     "output_type": "stream",
     "text": [
      "\n"
     ]
    },
    {
     "name": "stderr",
     "output_type": "stream",
     "text": [
      " 41%|████      | 20/49 [01:02<02:00,  4.16s/it]02:54:33 - cmdstanpy - INFO - CmdStan start processing\n",
      "\n",
      "\u001b[A\n",
      "\n",
      "\u001b[A\u001b[A\n",
      "\n",
      "\n",
      "\u001b[A\u001b[A\u001b[A\n",
      "\n",
      "\u001b[A\u001b[A\n",
      "\u001b[A\n",
      "\n",
      "\n",
      "\u001b[A\u001b[A\u001b[A\n",
      "\u001b[A\n",
      "\n",
      "\u001b[A\u001b[A\n",
      "\n",
      "\n",
      "\u001b[A\u001b[A\u001b[A\n",
      "\u001b[A\n",
      "\n",
      "\u001b[A\u001b[A\n",
      "\n",
      "\n",
      "\u001b[A\u001b[A\u001b[A\n",
      "\u001b[A\n",
      "\n",
      "\u001b[A\u001b[A\n",
      "\n",
      "\n",
      "chain 1 |\u001b[34m██████████\u001b[0m| 00:04 Sampling completed                     \n",
      "chain 2 |\u001b[34m██████████\u001b[0m| 00:04 Sampling completed                     \n",
      "chain 3 |\u001b[34m██████████\u001b[0m| 00:04 Sampling completed                     \n",
      "chain 4 |\u001b[34m██████████\u001b[0m| 00:04 Sampling completed                     "
     ]
    },
    {
     "name": "stdout",
     "output_type": "stream",
     "text": [
      "                                                                                                                                                                                                                                                                                                                                "
     ]
    },
    {
     "name": "stderr",
     "output_type": "stream",
     "text": [
      "\n",
      "02:54:37 - cmdstanpy - INFO - CmdStan done processing.\n",
      "02:54:37 - cmdstanpy - WARNING - Non-fatal error during sampling:\n",
      "Exception: normal_id_glm_lpdf: Scale vector is inf, but must be positive finite! (in 'prophet.stan', line 137, column 2 to line 142, column 4)\n",
      "Exception: normal_id_glm_lpdf: Scale vector is 0, but must be positive finite! (in 'prophet.stan', line 137, column 2 to line 142, column 4)\n",
      "Exception: normal_id_glm_lpdf: Scale vector is 0, but must be positive finite! (in 'prophet.stan', line 137, column 2 to line 142, column 4)\n",
      "Exception: normal_id_glm_lpdf: Scale vector is 0, but must be positive finite! (in 'prophet.stan', line 137, column 2 to line 142, column 4)\n",
      "Consider re-running with show_console=True if the above output is unclear!\n",
      "02:54:37 - cmdstanpy - WARNING - Some chains may have failed to converge.\n",
      "\tChain 1 had 150 iterations at max treedepth (100.0%)\n",
      "\tChain 2 had 150 iterations at max treedepth (100.0%)\n",
      "\tChain 3 had 150 iterations at max treedepth (100.0%)\n",
      "\tChain 4 had 150 iterations at max treedepth (100.0%)\n",
      "\tUse the \"diagnose()\" method on the CmdStanMCMC object to see further information.\n"
     ]
    },
    {
     "name": "stdout",
     "output_type": "stream",
     "text": [
      "\n"
     ]
    },
    {
     "name": "stderr",
     "output_type": "stream",
     "text": [
      " 43%|████▎     | 21/49 [01:07<01:59,  4.28s/it]02:54:37 - cmdstanpy - INFO - CmdStan start processing\n",
      "\n",
      "\u001b[A\n",
      "\n",
      "\u001b[A\u001b[A\n",
      "\n",
      "\n",
      "\u001b[A\u001b[A\u001b[A\n",
      "\u001b[A\n",
      "\n",
      "\u001b[A\u001b[A\n",
      "\n",
      "\n",
      "\u001b[A\u001b[A\u001b[A\n",
      "\u001b[A\n",
      "\n",
      "\u001b[A\u001b[A\n",
      "\n",
      "\n",
      "\u001b[A\u001b[A\u001b[A\n",
      "\u001b[A\n",
      "\n",
      "\u001b[A\u001b[A\n",
      "\n",
      "\n",
      "\u001b[A\u001b[A\u001b[A\n",
      "\u001b[A\n",
      "\n",
      "\u001b[A\u001b[A\n",
      "\n",
      "\n",
      "chain 1 |\u001b[34m██████████\u001b[0m| 00:04 Sampling completed                     \n",
      "chain 2 |\u001b[34m██████████\u001b[0m| 00:04 Sampling completed                     \n",
      "chain 3 |\u001b[34m██████████\u001b[0m| 00:04 Sampling completed                     \n",
      "chain 4 |\u001b[34m██████████\u001b[0m| 00:04 Sampling completed                     "
     ]
    },
    {
     "name": "stdout",
     "output_type": "stream",
     "text": [
      "                                                                                                                                                                                                                                                                                                                                "
     ]
    },
    {
     "name": "stderr",
     "output_type": "stream",
     "text": [
      "\n",
      "02:54:41 - cmdstanpy - INFO - CmdStan done processing.\n",
      "02:54:41 - cmdstanpy - WARNING - Non-fatal error during sampling:\n",
      "Exception: normal_id_glm_lpdf: Scale vector is 0, but must be positive finite! (in 'prophet.stan', line 137, column 2 to line 142, column 4)\n",
      "Exception: normal_id_glm_lpdf: Scale vector is 0, but must be positive finite! (in 'prophet.stan', line 137, column 2 to line 142, column 4)\n",
      "Exception: normal_id_glm_lpdf: Scale vector is 0, but must be positive finite! (in 'prophet.stan', line 137, column 2 to line 142, column 4)\n",
      "Exception: normal_id_glm_lpdf: Scale vector is inf, but must be positive finite! (in 'prophet.stan', line 137, column 2 to line 142, column 4)\n",
      "Consider re-running with show_console=True if the above output is unclear!\n",
      "02:54:41 - cmdstanpy - WARNING - Some chains may have failed to converge.\n",
      "\tChain 1 had 1 divergent transitions (0.7%)\n",
      "\tChain 1 had 149 iterations at max treedepth (99.3%)\n",
      "\tChain 2 had 150 iterations at max treedepth (100.0%)\n",
      "\tChain 3 had 150 iterations at max treedepth (100.0%)\n",
      "\tChain 4 had 1 divergent transitions (0.7%)\n",
      "\tChain 4 had 149 iterations at max treedepth (99.3%)\n",
      "\tUse the \"diagnose()\" method on the CmdStanMCMC object to see further information.\n"
     ]
    },
    {
     "name": "stdout",
     "output_type": "stream",
     "text": [
      "\n"
     ]
    },
    {
     "name": "stderr",
     "output_type": "stream",
     "text": [
      " 45%|████▍     | 22/49 [01:11<01:58,  4.39s/it]02:54:42 - cmdstanpy - INFO - CmdStan start processing\n",
      "\n",
      "\u001b[A\n",
      "\n",
      "\u001b[A\u001b[A\n",
      "\n",
      "\n",
      "\u001b[A\u001b[A\u001b[A\n",
      "\u001b[A\n",
      "\n",
      "\n",
      "\u001b[A\u001b[A\u001b[A\n",
      "\n",
      "\u001b[A\u001b[A\n",
      "\u001b[A\n",
      "\n",
      "\n",
      "\u001b[A\u001b[A\u001b[A\n",
      "\n",
      "\u001b[A\u001b[A\n",
      "\u001b[A\n",
      "\n",
      "\n",
      "\u001b[A\u001b[A\u001b[A\n",
      "\n",
      "\u001b[A\u001b[A\n",
      "\u001b[A\n",
      "\n",
      "\n",
      "\u001b[A\u001b[A\u001b[A\n",
      "\n",
      "chain 1 |\u001b[34m██████████\u001b[0m| 00:04 Sampling completed                     \n",
      "chain 2 |\u001b[34m██████████\u001b[0m| 00:04 Sampling completed                     \n",
      "chain 3 |\u001b[34m██████████\u001b[0m| 00:04 Sampling completed                     \n",
      "chain 4 |\u001b[34m██████████\u001b[0m| 00:04 Sampling completed                     "
     ]
    },
    {
     "name": "stdout",
     "output_type": "stream",
     "text": [
      "                                                                                                                                                                                                                                                                                                                                "
     ]
    },
    {
     "name": "stderr",
     "output_type": "stream",
     "text": [
      "\n",
      "02:54:46 - cmdstanpy - INFO - CmdStan done processing.\n",
      "02:54:46 - cmdstanpy - WARNING - Non-fatal error during sampling:\n",
      "Exception: normal_id_glm_lpdf: Scale vector is 0, but must be positive finite! (in 'prophet.stan', line 137, column 2 to line 142, column 4)\n",
      "Exception: normal_id_glm_lpdf: Scale vector is 0, but must be positive finite! (in 'prophet.stan', line 137, column 2 to line 142, column 4)\n",
      "Exception: normal_id_glm_lpdf: Scale vector is 0, but must be positive finite! (in 'prophet.stan', line 137, column 2 to line 142, column 4)\n",
      "Exception: normal_id_glm_lpdf: Scale vector is 0, but must be positive finite! (in 'prophet.stan', line 137, column 2 to line 142, column 4)\n",
      "Consider re-running with show_console=True if the above output is unclear!\n",
      "02:54:46 - cmdstanpy - WARNING - Some chains may have failed to converge.\n",
      "\tChain 1 had 150 iterations at max treedepth (100.0%)\n",
      "\tChain 2 had 150 iterations at max treedepth (100.0%)\n",
      "\tChain 3 had 4 divergent transitions (2.7%)\n",
      "\tChain 3 had 145 iterations at max treedepth (96.7%)\n",
      "\tChain 4 had 2 divergent transitions (1.3%)\n",
      "\tChain 4 had 148 iterations at max treedepth (98.7%)\n",
      "\tUse the \"diagnose()\" method on the CmdStanMCMC object to see further information.\n"
     ]
    },
    {
     "name": "stdout",
     "output_type": "stream",
     "text": [
      "\n"
     ]
    },
    {
     "name": "stderr",
     "output_type": "stream",
     "text": [
      " 47%|████▋     | 23/49 [01:16<01:56,  4.50s/it]02:54:47 - cmdstanpy - INFO - CmdStan start processing\n",
      "\n",
      "\u001b[A\n",
      "\n",
      "\u001b[A\u001b[A\n",
      "\n",
      "\n",
      "\u001b[A\u001b[A\u001b[A\n",
      "\n",
      "\n",
      "\u001b[A\u001b[A\u001b[A\n",
      "\u001b[A\n",
      "\n",
      "\u001b[A\u001b[A\n",
      "\n",
      "\n",
      "\u001b[A\u001b[A\u001b[A\n",
      "\n",
      "\u001b[A\u001b[A\n",
      "\u001b[A\n",
      "\n",
      "\u001b[A\u001b[A\n",
      "\n",
      "\n",
      "\u001b[A\u001b[A\u001b[A\n",
      "\u001b[A\n",
      "\n",
      "\u001b[A\u001b[A\n",
      "\n",
      "\n",
      "\u001b[A\u001b[A\u001b[A\n",
      "chain 1 |\u001b[34m██████████\u001b[0m| 00:04 Sampling completed                     \n",
      "chain 2 |\u001b[34m██████████\u001b[0m| 00:04 Sampling completed                     \n",
      "chain 3 |\u001b[34m██████████\u001b[0m| 00:04 Sampling completed                     \n",
      "chain 4 |\u001b[34m██████████\u001b[0m| 00:04 Sampling completed                     "
     ]
    },
    {
     "name": "stdout",
     "output_type": "stream",
     "text": [
      "                                                                                                                                                                                                                                                                                                                                "
     ]
    },
    {
     "name": "stderr",
     "output_type": "stream",
     "text": [
      "\n",
      "02:54:51 - cmdstanpy - INFO - CmdStan done processing.\n",
      "02:54:51 - cmdstanpy - WARNING - Non-fatal error during sampling:\n",
      "Exception: normal_id_glm_lpdf: Matrix of independent variables is inf, but must be finite! (in 'prophet.stan', line 137, column 2 to line 142, column 4)\n",
      "Exception: normal_id_glm_lpdf: Scale vector is 0, but must be positive finite! (in 'prophet.stan', line 137, column 2 to line 142, column 4)\n",
      "Exception: normal_id_glm_lpdf: Matrix of independent variables is inf, but must be finite! (in 'prophet.stan', line 137, column 2 to line 142, column 4)\n",
      "Exception: normal_id_glm_lpdf: Scale vector is 0, but must be positive finite! (in 'prophet.stan', line 137, column 2 to line 142, column 4)\n",
      "Consider re-running with show_console=True if the above output is unclear!\n",
      "02:54:51 - cmdstanpy - WARNING - Some chains may have failed to converge.\n",
      "\tChain 1 had 150 iterations at max treedepth (100.0%)\n",
      "\tChain 2 had 150 iterations at max treedepth (100.0%)\n",
      "\tChain 3 had 26 divergent transitions (17.3%)\n",
      "\tChain 3 had 121 iterations at max treedepth (80.7%)\n",
      "\tChain 4 had 150 iterations at max treedepth (100.0%)\n",
      "\tUse the \"diagnose()\" method on the CmdStanMCMC object to see further information.\n"
     ]
    },
    {
     "name": "stdout",
     "output_type": "stream",
     "text": [
      "\n"
     ]
    },
    {
     "name": "stderr",
     "output_type": "stream",
     "text": [
      " 49%|████▉     | 24/49 [01:21<01:55,  4.61s/it]02:54:52 - cmdstanpy - INFO - CmdStan start processing\n",
      "\n",
      "\u001b[A\n",
      "\n",
      "\u001b[A\u001b[A\n",
      "\n",
      "\n",
      "\u001b[A\u001b[A\u001b[A\n",
      "\n",
      "\n",
      "\u001b[A\u001b[A\u001b[A\n",
      "\u001b[A\n",
      "\n",
      "\u001b[A\u001b[A\n",
      "\n",
      "\n",
      "\u001b[A\u001b[A\u001b[A\n",
      "\u001b[A\n",
      "\n",
      "\u001b[A\u001b[A\n",
      "\n",
      "\n",
      "\u001b[A\u001b[A\u001b[A\n",
      "\u001b[A\n",
      "\n",
      "\u001b[A\u001b[A\n",
      "\n",
      "\n",
      "\u001b[A\u001b[A\u001b[A\n",
      "\u001b[A\n",
      "\n",
      "chain 1 |\u001b[34m██████████\u001b[0m| 00:04 Sampling completed                     \n",
      "chain 2 |\u001b[34m██████████\u001b[0m| 00:04 Sampling completed                     \n",
      "chain 3 |\u001b[34m██████████\u001b[0m| 00:04 Sampling completed                     \n",
      "chain 4 |\u001b[34m██████████\u001b[0m| 00:04 Sampling completed                     "
     ]
    },
    {
     "name": "stdout",
     "output_type": "stream",
     "text": [
      "                                                                                                                                                                                                                                                                                                                                "
     ]
    },
    {
     "name": "stderr",
     "output_type": "stream",
     "text": [
      "\n",
      "02:54:56 - cmdstanpy - INFO - CmdStan done processing.\n",
      "02:54:56 - cmdstanpy - WARNING - Non-fatal error during sampling:\n",
      "Exception: normal_id_glm_lpdf: Scale vector is 0, but must be positive finite! (in 'prophet.stan', line 137, column 2 to line 142, column 4)\n",
      "Exception: normal_id_glm_lpdf: Scale vector is 0, but must be positive finite! (in 'prophet.stan', line 137, column 2 to line 142, column 4)\n",
      "Exception: normal_id_glm_lpdf: Scale vector is inf, but must be positive finite! (in 'prophet.stan', line 137, column 2 to line 142, column 4)\n",
      "Exception: normal_id_glm_lpdf: Scale vector is 0, but must be positive finite! (in 'prophet.stan', line 137, column 2 to line 142, column 4)\n",
      "Consider re-running with show_console=True if the above output is unclear!\n",
      "02:54:56 - cmdstanpy - WARNING - Some chains may have failed to converge.\n",
      "\tChain 1 had 150 iterations at max treedepth (100.0%)\n",
      "\tChain 2 had 150 iterations at max treedepth (100.0%)\n",
      "\tChain 3 had 150 iterations at max treedepth (100.0%)\n",
      "\tChain 4 had 1 divergent transitions (0.7%)\n",
      "\tChain 4 had 149 iterations at max treedepth (99.3%)\n",
      "\tUse the \"diagnose()\" method on the CmdStanMCMC object to see further information.\n"
     ]
    },
    {
     "name": "stdout",
     "output_type": "stream",
     "text": [
      "\n"
     ]
    },
    {
     "name": "stderr",
     "output_type": "stream",
     "text": [
      " 51%|█████     | 25/49 [01:26<01:54,  4.75s/it]02:54:57 - cmdstanpy - INFO - CmdStan start processing\n",
      "\n",
      "\u001b[A\n",
      "\n",
      "\u001b[A\u001b[A\n",
      "\n",
      "\n",
      "\u001b[A\u001b[A\u001b[A\n",
      "\u001b[A\n",
      "\n",
      "\u001b[A\u001b[A\n",
      "\n",
      "\n",
      "\u001b[A\u001b[A\u001b[A\n",
      "\n",
      "\u001b[A\u001b[A\n",
      "\n",
      "\n",
      "\u001b[A\u001b[A\u001b[A\n",
      "\u001b[A\n",
      "\n",
      "\u001b[A\u001b[A\n",
      "\n",
      "\n",
      "\u001b[A\u001b[A\u001b[A\n",
      "\u001b[A\n",
      "\n",
      "\u001b[A\u001b[A\n",
      "\u001b[A\n",
      "\n",
      "\n",
      "chain 1 |\u001b[34m██████████\u001b[0m| 00:04 Sampling completed                     \n",
      "chain 2 |\u001b[34m██████████\u001b[0m| 00:04 Sampling completed                     \n",
      "chain 3 |\u001b[34m██████████\u001b[0m| 00:04 Sampling completed                     \n",
      "chain 4 |\u001b[34m██████████\u001b[0m| 00:04 Sampling completed                     "
     ]
    },
    {
     "name": "stdout",
     "output_type": "stream",
     "text": [
      "                                                                                                                                                                                                                                                                                                                                "
     ]
    },
    {
     "name": "stderr",
     "output_type": "stream",
     "text": [
      "\n",
      "02:55:01 - cmdstanpy - INFO - CmdStan done processing.\n",
      "02:55:01 - cmdstanpy - WARNING - Non-fatal error during sampling:\n",
      "Exception: normal_id_glm_lpdf: Scale vector is 0, but must be positive finite! (in 'prophet.stan', line 137, column 2 to line 142, column 4)\n",
      "Exception: normal_id_glm_lpdf: Scale vector is inf, but must be positive finite! (in 'prophet.stan', line 137, column 2 to line 142, column 4)\n",
      "Exception: normal_id_glm_lpdf: Scale vector is 0, but must be positive finite! (in 'prophet.stan', line 137, column 2 to line 142, column 4)\n",
      "Exception: normal_id_glm_lpdf: Scale vector is inf, but must be positive finite! (in 'prophet.stan', line 137, column 2 to line 142, column 4)\n",
      "Consider re-running with show_console=True if the above output is unclear!\n",
      "02:55:01 - cmdstanpy - WARNING - Some chains may have failed to converge.\n",
      "\tChain 1 had 150 iterations at max treedepth (100.0%)\n",
      "\tChain 2 had 150 iterations at max treedepth (100.0%)\n",
      "\tChain 3 had 150 iterations at max treedepth (100.0%)\n",
      "\tChain 4 had 150 iterations at max treedepth (100.0%)\n",
      "\tUse the \"diagnose()\" method on the CmdStanMCMC object to see further information.\n"
     ]
    },
    {
     "name": "stdout",
     "output_type": "stream",
     "text": [
      "\n"
     ]
    },
    {
     "name": "stderr",
     "output_type": "stream",
     "text": [
      " 53%|█████▎    | 26/49 [01:31<01:52,  4.88s/it]02:55:02 - cmdstanpy - INFO - CmdStan start processing\n",
      "\n",
      "\u001b[A\n",
      "\n",
      "\u001b[A\u001b[A\n",
      "\n",
      "\n",
      "\u001b[A\u001b[A\u001b[A\n",
      "\u001b[A\n",
      "\n",
      "\u001b[A\u001b[A\n",
      "\n",
      "\n",
      "\u001b[A\u001b[A\u001b[A\n",
      "\u001b[A\n",
      "\n",
      "\u001b[A\u001b[A\n",
      "\n",
      "\n",
      "\u001b[A\u001b[A\u001b[A\n",
      "\u001b[A\n",
      "\n",
      "\u001b[A\u001b[A\n",
      "\n",
      "\n",
      "\u001b[A\u001b[A\u001b[A\n",
      "\u001b[A\n",
      "\n",
      "\u001b[A\u001b[A\n",
      "\n",
      "\n",
      "chain 1 |\u001b[34m██████████\u001b[0m| 00:04 Sampling completed                     \n",
      "chain 2 |\u001b[34m██████████\u001b[0m| 00:04 Sampling completed                     \n",
      "chain 3 |\u001b[34m██████████\u001b[0m| 00:04 Sampling completed                     \n",
      "chain 4 |\u001b[34m██████████\u001b[0m| 00:04 Sampling completed                     "
     ]
    },
    {
     "name": "stdout",
     "output_type": "stream",
     "text": [
      "                                                                                                                                                                                                                                                                                                                                "
     ]
    },
    {
     "name": "stderr",
     "output_type": "stream",
     "text": [
      "\n",
      "02:55:07 - cmdstanpy - INFO - CmdStan done processing.\n",
      "02:55:07 - cmdstanpy - WARNING - Non-fatal error during sampling:\n",
      "Exception: normal_id_glm_lpdf: Scale vector is inf, but must be positive finite! (in 'prophet.stan', line 137, column 2 to line 142, column 4)\n",
      "Exception: normal_id_glm_lpdf: Scale vector is 0, but must be positive finite! (in 'prophet.stan', line 137, column 2 to line 142, column 4)\n",
      "Exception: normal_id_glm_lpdf: Scale vector is inf, but must be positive finite! (in 'prophet.stan', line 137, column 2 to line 142, column 4)\n",
      "Exception: normal_id_glm_lpdf: Scale vector is inf, but must be positive finite! (in 'prophet.stan', line 137, column 2 to line 142, column 4)\n",
      "Consider re-running with show_console=True if the above output is unclear!\n",
      "02:55:07 - cmdstanpy - WARNING - Some chains may have failed to converge.\n",
      "\tChain 1 had 150 iterations at max treedepth (100.0%)\n",
      "\tChain 2 had 150 iterations at max treedepth (100.0%)\n",
      "\tChain 3 had 1 divergent transitions (0.7%)\n",
      "\tChain 3 had 149 iterations at max treedepth (99.3%)\n",
      "\tChain 4 had 150 iterations at max treedepth (100.0%)\n",
      "\tUse the \"diagnose()\" method on the CmdStanMCMC object to see further information.\n"
     ]
    },
    {
     "name": "stdout",
     "output_type": "stream",
     "text": [
      "\n"
     ]
    },
    {
     "name": "stderr",
     "output_type": "stream",
     "text": [
      " 55%|█████▌    | 27/49 [01:37<01:50,  5.03s/it]02:55:07 - cmdstanpy - INFO - CmdStan start processing\n",
      "\n",
      "\u001b[A\n",
      "\n",
      "\u001b[A\u001b[A\n",
      "\n",
      "\n",
      "\u001b[A\u001b[A\u001b[A\n",
      "\u001b[A\n",
      "\n",
      "\n",
      "\u001b[A\u001b[A\u001b[A\n",
      "\n",
      "\u001b[A\u001b[A\n",
      "\u001b[A\n",
      "\n",
      "\n",
      "\u001b[A\u001b[A\u001b[A\n",
      "\n",
      "\u001b[A\u001b[A\n",
      "\n",
      "\n",
      "\u001b[A\u001b[A\u001b[A\n",
      "\u001b[A\n",
      "\n",
      "\u001b[A\u001b[A\n",
      "\n",
      "\n",
      "\u001b[A\u001b[A\u001b[A\n",
      "\u001b[A\n",
      "\n",
      "chain 1 |\u001b[34m██████████\u001b[0m| 00:04 Sampling completed                     \n",
      "chain 2 |\u001b[34m██████████\u001b[0m| 00:04 Sampling completed                     \n",
      "chain 3 |\u001b[34m██████████\u001b[0m| 00:04 Sampling completed                     \n",
      "chain 4 |\u001b[34m██████████\u001b[0m| 00:04 Sampling completed                     "
     ]
    },
    {
     "name": "stdout",
     "output_type": "stream",
     "text": [
      "                                                                                                                                                                                                                                                                                                                                "
     ]
    },
    {
     "name": "stderr",
     "output_type": "stream",
     "text": [
      "\n",
      "02:55:12 - cmdstanpy - INFO - CmdStan done processing.\n",
      "02:55:12 - cmdstanpy - WARNING - Non-fatal error during sampling:\n",
      "Exception: normal_id_glm_lpdf: Scale vector is inf, but must be positive finite! (in 'prophet.stan', line 137, column 2 to line 142, column 4)\n",
      "\tException: normal_id_glm_lpdf: Scale vector is inf, but must be positive finite! (in 'prophet.stan', line 137, column 2 to line 142, column 4)\n",
      "Exception: normal_id_glm_lpdf: Scale vector is 0, but must be positive finite! (in 'prophet.stan', line 137, column 2 to line 142, column 4)\n",
      "Exception: normal_id_glm_lpdf: Scale vector is 0, but must be positive finite! (in 'prophet.stan', line 137, column 2 to line 142, column 4)\n",
      "Exception: normal_id_glm_lpdf: Scale vector is 0, but must be positive finite! (in 'prophet.stan', line 137, column 2 to line 142, column 4)\n",
      "Consider re-running with show_console=True if the above output is unclear!\n",
      "02:55:12 - cmdstanpy - WARNING - Some chains may have failed to converge.\n",
      "\tChain 1 had 150 iterations at max treedepth (100.0%)\n",
      "\tChain 2 had 150 iterations at max treedepth (100.0%)\n",
      "\tChain 3 had 2 divergent transitions (1.3%)\n",
      "\tChain 3 had 148 iterations at max treedepth (98.7%)\n",
      "\tChain 4 had 150 iterations at max treedepth (100.0%)\n",
      "\tUse the \"diagnose()\" method on the CmdStanMCMC object to see further information.\n"
     ]
    },
    {
     "name": "stdout",
     "output_type": "stream",
     "text": [
      "\n"
     ]
    },
    {
     "name": "stderr",
     "output_type": "stream",
     "text": [
      " 57%|█████▋    | 28/49 [01:42<01:48,  5.18s/it]02:55:13 - cmdstanpy - INFO - CmdStan start processing\n",
      "\n",
      "\u001b[A\n",
      "\n",
      "\u001b[A\u001b[A\n",
      "\n",
      "\n",
      "\u001b[A\u001b[A\u001b[A\n",
      "\u001b[A\n",
      "\n",
      "\n",
      "\u001b[A\u001b[A\u001b[A\n",
      "\n",
      "\u001b[A\u001b[A\n",
      "\n",
      "\n",
      "\u001b[A\u001b[A\u001b[A\n",
      "\n",
      "\u001b[A\u001b[A\n",
      "\u001b[A\n",
      "\n",
      "\u001b[A\u001b[A\n",
      "\n",
      "\n",
      "\u001b[A\u001b[A\u001b[A\n",
      "\u001b[A\n",
      "\u001b[A\n",
      "\n",
      "\u001b[A\u001b[A\n",
      "\n",
      "\n",
      "chain 1 |\u001b[34m██████████\u001b[0m| 00:05 Sampling completed                     \n",
      "chain 2 |\u001b[34m██████████\u001b[0m| 00:05 Sampling completed                     \n",
      "chain 3 |\u001b[34m██████████\u001b[0m| 00:05 Sampling completed                     \n",
      "chain 4 |\u001b[34m██████████\u001b[0m| 00:05 Sampling completed                     "
     ]
    },
    {
     "name": "stdout",
     "output_type": "stream",
     "text": [
      "                                                                                                                                                                                                                                                                                                                                "
     ]
    },
    {
     "name": "stderr",
     "output_type": "stream",
     "text": [
      "\n",
      "02:55:18 - cmdstanpy - INFO - CmdStan done processing.\n",
      "02:55:18 - cmdstanpy - WARNING - Non-fatal error during sampling:\n",
      "Exception: normal_id_glm_lpdf: Scale vector is 0, but must be positive finite! (in 'prophet.stan', line 137, column 2 to line 142, column 4)\n",
      "Exception: normal_id_glm_lpdf: Scale vector is 0, but must be positive finite! (in 'prophet.stan', line 137, column 2 to line 142, column 4)\n",
      "Exception: normal_id_glm_lpdf: Scale vector is inf, but must be positive finite! (in 'prophet.stan', line 137, column 2 to line 142, column 4)\n",
      "Exception: normal_id_glm_lpdf: Scale vector is inf, but must be positive finite! (in 'prophet.stan', line 137, column 2 to line 142, column 4)\n",
      "Consider re-running with show_console=True if the above output is unclear!\n",
      "02:55:18 - cmdstanpy - WARNING - Some chains may have failed to converge.\n",
      "\tChain 1 had 2 divergent transitions (1.3%)\n",
      "\tChain 1 had 148 iterations at max treedepth (98.7%)\n",
      "\tChain 2 had 8 divergent transitions (5.3%)\n",
      "\tChain 2 had 141 iterations at max treedepth (94.0%)\n",
      "\tChain 3 had 5 divergent transitions (3.3%)\n",
      "\tChain 3 had 144 iterations at max treedepth (96.0%)\n",
      "\tChain 4 had 150 iterations at max treedepth (100.0%)\n",
      "\tUse the \"diagnose()\" method on the CmdStanMCMC object to see further information.\n"
     ]
    },
    {
     "name": "stdout",
     "output_type": "stream",
     "text": [
      "\n"
     ]
    },
    {
     "name": "stderr",
     "output_type": "stream",
     "text": [
      " 59%|█████▉    | 29/49 [01:48<01:46,  5.32s/it]02:55:18 - cmdstanpy - INFO - CmdStan start processing\n",
      "\n",
      "\u001b[A\n",
      "\n",
      "\u001b[A\u001b[A\n",
      "\n",
      "\n",
      "\u001b[A\u001b[A\u001b[A\n",
      "\n",
      "\u001b[A\u001b[A\n",
      "\n",
      "\n",
      "\u001b[A\u001b[A\u001b[A\n",
      "\u001b[A\n",
      "\n",
      "\u001b[A\u001b[A\n",
      "\n",
      "\n",
      "\u001b[A\u001b[A\u001b[A\n",
      "\u001b[A\n",
      "\n",
      "\u001b[A\u001b[A\n",
      "\n",
      "\n",
      "\u001b[A\u001b[A\u001b[A\n",
      "\u001b[A\n",
      "\n",
      "\u001b[A\u001b[A\n",
      "\n",
      "\n",
      "\u001b[A\u001b[A\u001b[A\n",
      "chain 1 |\u001b[34m██████████\u001b[0m| 00:05 Sampling completed                     \n",
      "chain 2 |\u001b[34m██████████\u001b[0m| 00:05 Sampling completed                     \n",
      "chain 3 |\u001b[34m██████████\u001b[0m| 00:05 Sampling completed                     \n",
      "chain 4 |\u001b[34m██████████\u001b[0m| 00:05 Sampling completed                     "
     ]
    },
    {
     "name": "stdout",
     "output_type": "stream",
     "text": [
      "                                                                                                                                                                                                                                                                                                                                "
     ]
    },
    {
     "name": "stderr",
     "output_type": "stream",
     "text": [
      "\n",
      "02:55:23 - cmdstanpy - INFO - CmdStan done processing.\n",
      "02:55:23 - cmdstanpy - WARNING - Non-fatal error during sampling:\n",
      "Exception: normal_id_glm_lpdf: Scale vector is inf, but must be positive finite! (in 'prophet.stan', line 137, column 2 to line 142, column 4)\n",
      "Exception: normal_id_glm_lpdf: Scale vector is 0, but must be positive finite! (in 'prophet.stan', line 137, column 2 to line 142, column 4)\n",
      "Exception: normal_id_glm_lpdf: Scale vector is 0, but must be positive finite! (in 'prophet.stan', line 137, column 2 to line 142, column 4)\n",
      "Exception: normal_id_glm_lpdf: Scale vector is 0, but must be positive finite! (in 'prophet.stan', line 137, column 2 to line 142, column 4)\n",
      "Consider re-running with show_console=True if the above output is unclear!\n",
      "02:55:23 - cmdstanpy - WARNING - Some chains may have failed to converge.\n",
      "\tChain 1 had 150 iterations at max treedepth (100.0%)\n",
      "\tChain 2 had 150 iterations at max treedepth (100.0%)\n",
      "\tChain 3 had 150 iterations at max treedepth (100.0%)\n",
      "\tChain 4 had 150 iterations at max treedepth (100.0%)\n",
      "\tUse the \"diagnose()\" method on the CmdStanMCMC object to see further information.\n"
     ]
    },
    {
     "name": "stdout",
     "output_type": "stream",
     "text": [
      "\n"
     ]
    },
    {
     "name": "stderr",
     "output_type": "stream",
     "text": [
      " 61%|██████    | 30/49 [01:53<01:43,  5.44s/it]02:55:24 - cmdstanpy - INFO - CmdStan start processing\n",
      "\n",
      "\u001b[A\n",
      "\n",
      "\u001b[A\u001b[A\n",
      "\n",
      "\n",
      "\u001b[A\u001b[A\u001b[A\n",
      "\n",
      "\u001b[A\u001b[A\n",
      "\u001b[A\n",
      "\n",
      "\n",
      "\u001b[A\u001b[A\u001b[A\n",
      "\n",
      "\u001b[A\u001b[A\n",
      "\u001b[A\n",
      "\n",
      "\n",
      "\u001b[A\u001b[A\u001b[A\n",
      "\n",
      "\u001b[A\u001b[A\n",
      "\u001b[A\n",
      "\n",
      "\n",
      "\u001b[A\u001b[A\u001b[A\n",
      "\n",
      "\u001b[A\u001b[A\n",
      "\u001b[A\n",
      "\n",
      "\n",
      "chain 1 |\u001b[34m██████████\u001b[0m| 00:05 Sampling completed                     \n",
      "chain 2 |\u001b[34m██████████\u001b[0m| 00:05 Sampling completed                     \n",
      "chain 3 |\u001b[34m██████████\u001b[0m| 00:05 Sampling completed                     \n",
      "chain 4 |\u001b[34m██████████\u001b[0m| 00:05 Sampling completed                     "
     ]
    },
    {
     "name": "stdout",
     "output_type": "stream",
     "text": [
      "                                                                                                                                                                                                                                                                                                                                "
     ]
    },
    {
     "name": "stderr",
     "output_type": "stream",
     "text": [
      "\n",
      "02:55:29 - cmdstanpy - INFO - CmdStan done processing.\n",
      "02:55:29 - cmdstanpy - WARNING - Non-fatal error during sampling:\n",
      "Exception: normal_id_glm_lpdf: Scale vector is inf, but must be positive finite! (in 'prophet.stan', line 137, column 2 to line 142, column 4)\n",
      "Exception: normal_id_glm_lpdf: Scale vector is inf, but must be positive finite! (in 'prophet.stan', line 137, column 2 to line 142, column 4)\n",
      "Exception: normal_id_glm_lpdf: Scale vector is 0, but must be positive finite! (in 'prophet.stan', line 137, column 2 to line 142, column 4)\n",
      "Exception: normal_id_glm_lpdf: Scale vector is inf, but must be positive finite! (in 'prophet.stan', line 137, column 2 to line 142, column 4)\n",
      "Consider re-running with show_console=True if the above output is unclear!\n",
      "02:55:29 - cmdstanpy - WARNING - Some chains may have failed to converge.\n",
      "\tChain 1 had 150 iterations at max treedepth (100.0%)\n",
      "\tChain 2 had 150 iterations at max treedepth (100.0%)\n",
      "\tChain 3 had 150 iterations at max treedepth (100.0%)\n",
      "\tChain 4 had 2 divergent transitions (1.3%)\n",
      "\tChain 4 had 148 iterations at max treedepth (98.7%)\n",
      "\tUse the \"diagnose()\" method on the CmdStanMCMC object to see further information.\n"
     ]
    },
    {
     "name": "stdout",
     "output_type": "stream",
     "text": [
      "\n"
     ]
    },
    {
     "name": "stderr",
     "output_type": "stream",
     "text": [
      " 63%|██████▎   | 31/49 [01:59<01:40,  5.61s/it]02:55:30 - cmdstanpy - INFO - CmdStan start processing\n",
      "\n",
      "\u001b[A\n",
      "\n",
      "\u001b[A\u001b[A\n",
      "\n",
      "\n",
      "\u001b[A\u001b[A\u001b[A\n",
      "\n",
      "\n",
      "\u001b[A\u001b[A\u001b[A\n",
      "\n",
      "\u001b[A\u001b[A\n",
      "\u001b[A\n",
      "\n",
      "\u001b[A\u001b[A\n",
      "\n",
      "\n",
      "\u001b[A\u001b[A\u001b[A\n",
      "\u001b[A\n",
      "\n",
      "\u001b[A\u001b[A\n",
      "\n",
      "\n",
      "\u001b[A\u001b[A\u001b[A\n",
      "\u001b[A\n",
      "\n",
      "\u001b[A\u001b[A\n",
      "\n",
      "\n",
      "\u001b[A\u001b[A\u001b[A\n",
      "chain 1 |\u001b[34m██████████\u001b[0m| 00:05 Sampling completed                     \n",
      "chain 2 |\u001b[34m██████████\u001b[0m| 00:05 Sampling completed                     \n",
      "chain 3 |\u001b[34m██████████\u001b[0m| 00:05 Sampling completed                     \n",
      "chain 4 |\u001b[34m██████████\u001b[0m| 00:05 Sampling completed                     "
     ]
    },
    {
     "name": "stdout",
     "output_type": "stream",
     "text": [
      "                                                                                                                                                                                                                                                                                                                                "
     ]
    },
    {
     "name": "stderr",
     "output_type": "stream",
     "text": [
      "\n",
      "02:55:35 - cmdstanpy - INFO - CmdStan done processing.\n",
      "02:55:35 - cmdstanpy - WARNING - Non-fatal error during sampling:\n",
      "Exception: normal_id_glm_lpdf: Scale vector is 0, but must be positive finite! (in 'prophet.stan', line 137, column 2 to line 142, column 4)\n",
      "Exception: normal_id_glm_lpdf: Scale vector is 0, but must be positive finite! (in 'prophet.stan', line 137, column 2 to line 142, column 4)\n",
      "Exception: normal_id_glm_lpdf: Scale vector is 0, but must be positive finite! (in 'prophet.stan', line 137, column 2 to line 142, column 4)\n",
      "Exception: normal_id_glm_lpdf: Scale vector is 0, but must be positive finite! (in 'prophet.stan', line 137, column 2 to line 142, column 4)\n",
      "Consider re-running with show_console=True if the above output is unclear!\n",
      "02:55:35 - cmdstanpy - WARNING - Some chains may have failed to converge.\n",
      "\tChain 1 had 150 iterations at max treedepth (100.0%)\n",
      "\tChain 2 had 150 iterations at max treedepth (100.0%)\n",
      "\tChain 3 had 150 iterations at max treedepth (100.0%)\n",
      "\tChain 4 had 150 iterations at max treedepth (100.0%)\n",
      "\tUse the \"diagnose()\" method on the CmdStanMCMC object to see further information.\n"
     ]
    },
    {
     "name": "stdout",
     "output_type": "stream",
     "text": [
      "\n"
     ]
    },
    {
     "name": "stderr",
     "output_type": "stream",
     "text": [
      " 65%|██████▌   | 32/49 [02:05<01:37,  5.72s/it]02:55:36 - cmdstanpy - INFO - CmdStan start processing\n",
      "\n",
      "\u001b[A\n",
      "\n",
      "\u001b[A\u001b[A\n",
      "\n",
      "\n",
      "\u001b[A\u001b[A\u001b[A\n",
      "\u001b[A\n",
      "\n",
      "\n",
      "\u001b[A\u001b[A\u001b[A\n",
      "\n",
      "\u001b[A\u001b[A\n",
      "\u001b[A\n",
      "\n",
      "\n",
      "\u001b[A\u001b[A\u001b[A\n",
      "\n",
      "\u001b[A\u001b[A\n",
      "\u001b[A\n",
      "\n",
      "\n",
      "\u001b[A\u001b[A\u001b[A\n",
      "\n",
      "\u001b[A\u001b[A\n",
      "\u001b[A\n",
      "\n",
      "\n",
      "\u001b[A\u001b[A\u001b[A\n",
      "\n",
      "chain 1 |\u001b[34m██████████\u001b[0m| 00:05 Sampling completed                     \n",
      "chain 2 |\u001b[34m██████████\u001b[0m| 00:05 Sampling completed                     \n",
      "chain 3 |\u001b[34m██████████\u001b[0m| 00:05 Sampling completed                     \n",
      "chain 4 |\u001b[34m██████████\u001b[0m| 00:05 Sampling completed                     "
     ]
    },
    {
     "name": "stdout",
     "output_type": "stream",
     "text": [
      "                                                                                                                                                                                                                                                                                                                                "
     ]
    },
    {
     "name": "stderr",
     "output_type": "stream",
     "text": [
      "\n",
      "02:55:42 - cmdstanpy - INFO - CmdStan done processing.\n",
      "02:55:42 - cmdstanpy - WARNING - Non-fatal error during sampling:\n",
      "Exception: normal_id_glm_lpdf: Scale vector is inf, but must be positive finite! (in 'prophet.stan', line 137, column 2 to line 142, column 4)\n",
      "Exception: normal_id_glm_lpdf: Scale vector is 0, but must be positive finite! (in 'prophet.stan', line 137, column 2 to line 142, column 4)\n",
      "Exception: normal_id_glm_lpdf: Scale vector is inf, but must be positive finite! (in 'prophet.stan', line 137, column 2 to line 142, column 4)\n",
      "Exception: normal_id_glm_lpdf: Scale vector is inf, but must be positive finite! (in 'prophet.stan', line 137, column 2 to line 142, column 4)\n",
      "\tException: normal_id_glm_lpdf: Scale vector is inf, but must be positive finite! (in 'prophet.stan', line 137, column 2 to line 142, column 4)\n",
      "Consider re-running with show_console=True if the above output is unclear!\n",
      "02:55:42 - cmdstanpy - WARNING - Some chains may have failed to converge.\n",
      "\tChain 1 had 150 iterations at max treedepth (100.0%)\n",
      "\tChain 2 had 3 divergent transitions (2.0%)\n",
      "\tChain 2 had 147 iterations at max treedepth (98.0%)\n",
      "\tChain 3 had 150 iterations at max treedepth (100.0%)\n",
      "\tChain 4 had 150 iterations at max treedepth (100.0%)\n",
      "\tUse the \"diagnose()\" method on the CmdStanMCMC object to see further information.\n"
     ]
    },
    {
     "name": "stdout",
     "output_type": "stream",
     "text": [
      "\n"
     ]
    },
    {
     "name": "stderr",
     "output_type": "stream",
     "text": [
      " 67%|██████▋   | 33/49 [02:12<01:33,  5.86s/it]02:55:42 - cmdstanpy - INFO - CmdStan start processing\n",
      "\n",
      "\u001b[A\n",
      "\n",
      "\u001b[A\u001b[A\n",
      "\n",
      "\n",
      "\u001b[A\u001b[A\u001b[A\n",
      "\n",
      "\u001b[A\u001b[A\n",
      "\u001b[A\n",
      "\n",
      "\n",
      "\u001b[A\u001b[A\u001b[A\n",
      "\n",
      "\u001b[A\u001b[A\n",
      "\n",
      "\n",
      "\u001b[A\u001b[A\u001b[A\n",
      "\u001b[A\n",
      "\n",
      "\u001b[A\u001b[A\n",
      "\u001b[A\n",
      "\n",
      "\n",
      "\u001b[A\u001b[A\u001b[A\n",
      "\n",
      "\u001b[A\u001b[A\n",
      "\u001b[A\n",
      "\n",
      "\n",
      "chain 1 |\u001b[34m██████████\u001b[0m| 00:05 Sampling completed                     \n",
      "chain 2 |\u001b[34m██████████\u001b[0m| 00:05 Sampling completed                     \n",
      "chain 3 |\u001b[34m██████████\u001b[0m| 00:05 Sampling completed                     \n",
      "chain 4 |\u001b[34m██████████\u001b[0m| 00:05 Sampling completed                     "
     ]
    },
    {
     "name": "stdout",
     "output_type": "stream",
     "text": [
      "                                                                                                                                                                                                                                                                                                                                "
     ]
    },
    {
     "name": "stderr",
     "output_type": "stream",
     "text": [
      "\n",
      "02:55:48 - cmdstanpy - INFO - CmdStan done processing.\n",
      "02:55:48 - cmdstanpy - WARNING - Non-fatal error during sampling:\n",
      "Exception: normal_id_glm_lpdf: Scale vector is inf, but must be positive finite! (in 'prophet.stan', line 137, column 2 to line 142, column 4)\n",
      "\tException: normal_id_glm_lpdf: Scale vector is inf, but must be positive finite! (in 'prophet.stan', line 137, column 2 to line 142, column 4)\n",
      "Exception: normal_id_glm_lpdf: Scale vector is 0, but must be positive finite! (in 'prophet.stan', line 137, column 2 to line 142, column 4)\n",
      "Exception: normal_id_glm_lpdf: Scale vector is 0, but must be positive finite! (in 'prophet.stan', line 137, column 2 to line 142, column 4)\n",
      "Exception: normal_id_glm_lpdf: Scale vector is inf, but must be positive finite! (in 'prophet.stan', line 137, column 2 to line 142, column 4)\n",
      "Consider re-running with show_console=True if the above output is unclear!\n",
      "02:55:48 - cmdstanpy - WARNING - Some chains may have failed to converge.\n",
      "\tChain 1 had 150 iterations at max treedepth (100.0%)\n",
      "\tChain 2 had 150 iterations at max treedepth (100.0%)\n",
      "\tChain 3 had 150 iterations at max treedepth (100.0%)\n",
      "\tChain 4 had 149 iterations at max treedepth (99.3%)\n",
      "\tUse the \"diagnose()\" method on the CmdStanMCMC object to see further information.\n"
     ]
    },
    {
     "name": "stdout",
     "output_type": "stream",
     "text": [
      "\n"
     ]
    },
    {
     "name": "stderr",
     "output_type": "stream",
     "text": [
      " 69%|██████▉   | 34/49 [02:18<01:30,  6.02s/it]02:55:49 - cmdstanpy - INFO - CmdStan start processing\n",
      "\n",
      "\u001b[A\n",
      "\n",
      "\u001b[A\u001b[A\n",
      "\n",
      "\n",
      "\u001b[A\u001b[A\u001b[A\n",
      "\n",
      "\u001b[A\u001b[A\n",
      "\u001b[A\n",
      "\n",
      "\n",
      "\u001b[A\u001b[A\u001b[A\n",
      "\n",
      "\u001b[A\u001b[A\n",
      "\u001b[A\n",
      "\n",
      "\n",
      "\u001b[A\u001b[A\u001b[A\n",
      "\n",
      "\u001b[A\u001b[A\n",
      "\u001b[A\n",
      "\n",
      "\n",
      "\u001b[A\u001b[A\u001b[A\n",
      "\n",
      "\u001b[A\u001b[A\n",
      "\u001b[A\n",
      "\n",
      "\n",
      "chain 1 |\u001b[34m██████████\u001b[0m| 00:05 Sampling completed                     \n",
      "chain 2 |\u001b[34m██████████\u001b[0m| 00:05 Sampling completed                     \n",
      "chain 3 |\u001b[34m██████████\u001b[0m| 00:05 Sampling completed                     \n",
      "chain 4 |\u001b[34m██████████\u001b[0m| 00:05 Sampling completed                     "
     ]
    },
    {
     "name": "stdout",
     "output_type": "stream",
     "text": [
      "                                                                                                                                                                                                                                                                                                                                "
     ]
    },
    {
     "name": "stderr",
     "output_type": "stream",
     "text": [
      "\n",
      "02:55:54 - cmdstanpy - INFO - CmdStan done processing.\n",
      "02:55:54 - cmdstanpy - WARNING - Non-fatal error during sampling:\n",
      "Exception: normal_id_glm_lpdf: Scale vector is 0, but must be positive finite! (in 'prophet.stan', line 137, column 2 to line 142, column 4)\n",
      "Exception: normal_id_glm_lpdf: Scale vector is 0, but must be positive finite! (in 'prophet.stan', line 137, column 2 to line 142, column 4)\n",
      "Exception: normal_id_glm_lpdf: Scale vector is 0, but must be positive finite! (in 'prophet.stan', line 137, column 2 to line 142, column 4)\n",
      "Exception: normal_id_glm_lpdf: Scale vector is inf, but must be positive finite! (in 'prophet.stan', line 137, column 2 to line 142, column 4)\n",
      "Consider re-running with show_console=True if the above output is unclear!\n",
      "02:55:54 - cmdstanpy - WARNING - Some chains may have failed to converge.\n",
      "\tChain 1 had 150 iterations at max treedepth (100.0%)\n",
      "\tChain 2 had 150 iterations at max treedepth (100.0%)\n",
      "\tChain 3 had 150 iterations at max treedepth (100.0%)\n",
      "\tChain 4 had 150 iterations at max treedepth (100.0%)\n",
      "\tUse the \"diagnose()\" method on the CmdStanMCMC object to see further information.\n"
     ]
    },
    {
     "name": "stdout",
     "output_type": "stream",
     "text": [
      "\n"
     ]
    },
    {
     "name": "stderr",
     "output_type": "stream",
     "text": [
      " 71%|███████▏  | 35/49 [02:24<01:25,  6.14s/it]02:55:55 - cmdstanpy - INFO - CmdStan start processing\n",
      "\n",
      "\u001b[A\n",
      "\n",
      "\u001b[A\u001b[A\n",
      "\n",
      "\n",
      "\u001b[A\u001b[A\u001b[A\n",
      "\n",
      "\u001b[A\u001b[A\n",
      "\u001b[A\n",
      "\n",
      "\n",
      "\u001b[A\u001b[A\u001b[A\n",
      "\n",
      "\u001b[A\u001b[A\n",
      "\u001b[A\n",
      "\n",
      "\n",
      "\u001b[A\u001b[A\u001b[A\n",
      "\n",
      "\u001b[A\u001b[A\n",
      "\u001b[A\n",
      "\n",
      "\n",
      "\u001b[A\u001b[A\u001b[A\n",
      "\n",
      "\u001b[A\u001b[A\n",
      "\u001b[A\n",
      "\n",
      "\n",
      "chain 1 |\u001b[34m██████████\u001b[0m| 00:05 Sampling completed                     \n",
      "chain 2 |\u001b[34m██████████\u001b[0m| 00:05 Sampling completed                     \n",
      "chain 3 |\u001b[34m██████████\u001b[0m| 00:05 Sampling completed                     \n",
      "chain 4 |\u001b[34m██████████\u001b[0m| 00:05 Sampling completed                     "
     ]
    },
    {
     "name": "stdout",
     "output_type": "stream",
     "text": [
      "                                                                                                                                                                                                                                                                                                                                "
     ]
    },
    {
     "name": "stderr",
     "output_type": "stream",
     "text": [
      "\n",
      "02:56:01 - cmdstanpy - INFO - CmdStan done processing.\n",
      "02:56:01 - cmdstanpy - WARNING - Non-fatal error during sampling:\n",
      "Exception: normal_id_glm_lpdf: Scale vector is inf, but must be positive finite! (in 'prophet.stan', line 137, column 2 to line 142, column 4)\n",
      "Exception: normal_id_glm_lpdf: Scale vector is 0, but must be positive finite! (in 'prophet.stan', line 137, column 2 to line 142, column 4)\n",
      "Exception: normal_id_glm_lpdf: Scale vector is 0, but must be positive finite! (in 'prophet.stan', line 137, column 2 to line 142, column 4)\n",
      "Exception: normal_id_glm_lpdf: Scale vector is inf, but must be positive finite! (in 'prophet.stan', line 137, column 2 to line 142, column 4)\n",
      "Consider re-running with show_console=True if the above output is unclear!\n",
      "02:56:01 - cmdstanpy - WARNING - Some chains may have failed to converge.\n",
      "\tChain 1 had 150 iterations at max treedepth (100.0%)\n",
      "\tChain 2 had 1 divergent transitions (0.7%)\n",
      "\tChain 2 had 147 iterations at max treedepth (98.0%)\n",
      "\tChain 3 had 150 iterations at max treedepth (100.0%)\n",
      "\tChain 4 had 150 iterations at max treedepth (100.0%)\n",
      "\tUse the \"diagnose()\" method on the CmdStanMCMC object to see further information.\n"
     ]
    },
    {
     "name": "stdout",
     "output_type": "stream",
     "text": [
      "\n"
     ]
    },
    {
     "name": "stderr",
     "output_type": "stream",
     "text": [
      " 73%|███████▎  | 36/49 [02:31<01:21,  6.27s/it]02:56:02 - cmdstanpy - INFO - CmdStan start processing\n",
      "\n",
      "\u001b[A\n",
      "\n",
      "\u001b[A\u001b[A\n",
      "\n",
      "\n",
      "\u001b[A\u001b[A\u001b[A\n",
      "\n",
      "\u001b[A\u001b[A\n",
      "\n",
      "\n",
      "\u001b[A\u001b[A\u001b[A\n",
      "\u001b[A\n",
      "\n",
      "\u001b[A\u001b[A\n",
      "\u001b[A\n",
      "\n",
      "\n",
      "\u001b[A\u001b[A\u001b[A\n",
      "\n",
      "\u001b[A\u001b[A\n",
      "\u001b[A\n",
      "\n",
      "\n",
      "\u001b[A\u001b[A\u001b[A\n",
      "\n",
      "\u001b[A\u001b[A\n",
      "\u001b[A\n",
      "\n",
      "\n",
      "chain 1 |\u001b[34m██████████\u001b[0m| 00:06 Sampling completed                     \n",
      "chain 2 |\u001b[34m██████████\u001b[0m| 00:06 Sampling completed                     \n",
      "chain 3 |\u001b[34m██████████\u001b[0m| 00:06 Sampling completed                     \n",
      "chain 4 |\u001b[34m██████████\u001b[0m| 00:06 Sampling completed                     "
     ]
    },
    {
     "name": "stdout",
     "output_type": "stream",
     "text": [
      "                                                                                                                                                                                                                                                                                                                                "
     ]
    },
    {
     "name": "stderr",
     "output_type": "stream",
     "text": [
      "\n",
      "02:56:08 - cmdstanpy - INFO - CmdStan done processing.\n",
      "02:56:08 - cmdstanpy - WARNING - Non-fatal error during sampling:\n",
      "Exception: normal_id_glm_lpdf: Scale vector is 0, but must be positive finite! (in 'prophet.stan', line 137, column 2 to line 142, column 4)\n",
      "Exception: normal_id_glm_lpdf: Scale vector is 0, but must be positive finite! (in 'prophet.stan', line 137, column 2 to line 142, column 4)\n",
      "Exception: normal_id_glm_lpdf: Scale vector is 0, but must be positive finite! (in 'prophet.stan', line 137, column 2 to line 142, column 4)\n",
      "Exception: normal_id_glm_lpdf: Scale vector is 0, but must be positive finite! (in 'prophet.stan', line 137, column 2 to line 142, column 4)\n",
      "Consider re-running with show_console=True if the above output is unclear!\n",
      "02:56:08 - cmdstanpy - WARNING - Some chains may have failed to converge.\n",
      "\tChain 1 had 150 iterations at max treedepth (100.0%)\n",
      "\tChain 2 had 150 iterations at max treedepth (100.0%)\n",
      "\tChain 3 had 150 iterations at max treedepth (100.0%)\n",
      "\tChain 4 had 1 divergent transitions (0.7%)\n",
      "\tChain 4 had 149 iterations at max treedepth (99.3%)\n",
      "\tUse the \"diagnose()\" method on the CmdStanMCMC object to see further information.\n"
     ]
    },
    {
     "name": "stdout",
     "output_type": "stream",
     "text": [
      "\n"
     ]
    },
    {
     "name": "stderr",
     "output_type": "stream",
     "text": [
      " 76%|███████▌  | 37/49 [02:38<01:16,  6.41s/it]02:56:08 - cmdstanpy - INFO - CmdStan start processing\n",
      "\n",
      "\u001b[A\n",
      "\n",
      "\u001b[A\u001b[A\n",
      "\n",
      "\n",
      "\u001b[A\u001b[A\u001b[A\n",
      "\n",
      "\u001b[A\u001b[A\n",
      "\n",
      "\n",
      "\u001b[A\u001b[A\u001b[A\n",
      "\u001b[A\n",
      "\n",
      "\u001b[A\u001b[A\n",
      "\n",
      "\n",
      "\u001b[A\u001b[A\u001b[A\n",
      "\u001b[A\n",
      "\n",
      "\u001b[A\u001b[A\n",
      "\n",
      "\n",
      "\u001b[A\u001b[A\u001b[A\n",
      "\u001b[A\n",
      "\n",
      "\u001b[A\u001b[A\n",
      "\n",
      "\n",
      "\u001b[A\u001b[A\u001b[A\n",
      "chain 1 |\u001b[34m██████████\u001b[0m| 00:06 Sampling completed                     \n",
      "chain 2 |\u001b[34m██████████\u001b[0m| 00:06 Sampling completed                     \n",
      "chain 3 |\u001b[34m██████████\u001b[0m| 00:06 Sampling completed                     \n",
      "chain 4 |\u001b[34m██████████\u001b[0m| 00:06 Sampling completed                     "
     ]
    },
    {
     "name": "stdout",
     "output_type": "stream",
     "text": [
      "                                                                                                                                                                                                                                                                                                                                "
     ]
    },
    {
     "name": "stderr",
     "output_type": "stream",
     "text": [
      "\n",
      "02:56:14 - cmdstanpy - INFO - CmdStan done processing.\n",
      "02:56:14 - cmdstanpy - WARNING - Non-fatal error during sampling:\n",
      "Exception: normal_id_glm_lpdf: Scale vector is 0, but must be positive finite! (in 'prophet.stan', line 137, column 2 to line 142, column 4)\n",
      "Exception: normal_id_glm_lpdf: Scale vector is inf, but must be positive finite! (in 'prophet.stan', line 137, column 2 to line 142, column 4)\n",
      "Exception: normal_id_glm_lpdf: Scale vector is 0, but must be positive finite! (in 'prophet.stan', line 137, column 2 to line 142, column 4)\n",
      "Exception: normal_id_glm_lpdf: Scale vector is inf, but must be positive finite! (in 'prophet.stan', line 137, column 2 to line 142, column 4)\n",
      "Consider re-running with show_console=True if the above output is unclear!\n",
      "02:56:14 - cmdstanpy - WARNING - Some chains may have failed to converge.\n",
      "\tChain 1 had 150 iterations at max treedepth (100.0%)\n",
      "\tChain 2 had 150 iterations at max treedepth (100.0%)\n",
      "\tChain 3 had 150 iterations at max treedepth (100.0%)\n",
      "\tChain 4 had 150 iterations at max treedepth (100.0%)\n",
      "\tUse the \"diagnose()\" method on the CmdStanMCMC object to see further information.\n"
     ]
    },
    {
     "name": "stdout",
     "output_type": "stream",
     "text": [
      "\n"
     ]
    },
    {
     "name": "stderr",
     "output_type": "stream",
     "text": [
      " 78%|███████▊  | 38/49 [02:45<01:11,  6.52s/it]02:56:15 - cmdstanpy - INFO - CmdStan start processing\n",
      "\n",
      "\u001b[A\n",
      "\n",
      "\u001b[A\u001b[A\n",
      "\n",
      "\n",
      "\u001b[A\u001b[A\u001b[A\n",
      "\u001b[A\n",
      "\n",
      "\u001b[A\u001b[A\n",
      "\n",
      "\n",
      "\u001b[A\u001b[A\u001b[A\n",
      "\u001b[A\n",
      "\n",
      "\n",
      "\u001b[A\u001b[A\u001b[A\n",
      "\n",
      "\u001b[A\u001b[A\n",
      "\u001b[A\n",
      "\n",
      "\n",
      "\u001b[A\u001b[A\u001b[A\n",
      "\n",
      "\u001b[A\u001b[A\n",
      "\u001b[A\n",
      "\n",
      "\n",
      "\u001b[A\u001b[A\u001b[A\n",
      "\n",
      "chain 1 |\u001b[34m██████████\u001b[0m| 00:06 Sampling completed                     \n",
      "chain 2 |\u001b[34m██████████\u001b[0m| 00:06 Sampling completed                     \n",
      "chain 3 |\u001b[34m██████████\u001b[0m| 00:06 Sampling completed                     \n",
      "chain 4 |\u001b[34m██████████\u001b[0m| 00:06 Sampling completed                     "
     ]
    },
    {
     "name": "stdout",
     "output_type": "stream",
     "text": [
      "                                                                                                                                                                                                                                                                                                                                "
     ]
    },
    {
     "name": "stderr",
     "output_type": "stream",
     "text": [
      "\n",
      "02:56:21 - cmdstanpy - INFO - CmdStan done processing.\n",
      "02:56:21 - cmdstanpy - WARNING - Non-fatal error during sampling:\n",
      "Exception: normal_id_glm_lpdf: Scale vector is 0, but must be positive finite! (in 'prophet.stan', line 137, column 2 to line 142, column 4)\n",
      "Exception: normal_id_glm_lpdf: Scale vector is inf, but must be positive finite! (in 'prophet.stan', line 137, column 2 to line 142, column 4)\n",
      "Exception: normal_id_glm_lpdf: Scale vector is 0, but must be positive finite! (in 'prophet.stan', line 137, column 2 to line 142, column 4)\n",
      "\tException: normal_id_glm_lpdf: Matrix of independent variables is inf, but must be finite! (in 'prophet.stan', line 137, column 2 to line 142, column 4)\n",
      "Exception: normal_id_glm_lpdf: Scale vector is inf, but must be positive finite! (in 'prophet.stan', line 137, column 2 to line 142, column 4)\n",
      "Consider re-running with show_console=True if the above output is unclear!\n",
      "02:56:21 - cmdstanpy - WARNING - Some chains may have failed to converge.\n",
      "\tChain 1 had 150 iterations at max treedepth (100.0%)\n",
      "\tChain 2 had 150 iterations at max treedepth (100.0%)\n",
      "\tChain 3 had 1 divergent transitions (0.7%)\n",
      "\tChain 3 had 149 iterations at max treedepth (99.3%)\n",
      "\tChain 4 had 150 iterations at max treedepth (100.0%)\n",
      "\tUse the \"diagnose()\" method on the CmdStanMCMC object to see further information.\n"
     ]
    },
    {
     "name": "stdout",
     "output_type": "stream",
     "text": [
      "\n"
     ]
    },
    {
     "name": "stderr",
     "output_type": "stream",
     "text": [
      " 80%|███████▉  | 39/49 [02:52<01:06,  6.66s/it]02:56:22 - cmdstanpy - INFO - CmdStan start processing\n",
      "\n",
      "\u001b[A\n",
      "\n",
      "\u001b[A\u001b[A\n",
      "\n",
      "\n",
      "\u001b[A\u001b[A\u001b[A\n",
      "\n",
      "\n",
      "\u001b[A\u001b[A\u001b[A\n",
      "\n",
      "\u001b[A\u001b[A\n",
      "\u001b[A\n",
      "\n",
      "\n",
      "\u001b[A\u001b[A\u001b[A\n",
      "\n",
      "\u001b[A\u001b[A\n",
      "\u001b[A\n",
      "\n",
      "\n",
      "\u001b[A\u001b[A\u001b[A\n",
      "\n",
      "\u001b[A\u001b[A\n",
      "\u001b[A\n",
      "\n",
      "\n",
      "\u001b[A\u001b[A\u001b[A\n",
      "\n",
      "\u001b[A\u001b[A\n",
      "chain 1 |\u001b[34m██████████\u001b[0m| 00:06 Sampling completed                     \n",
      "chain 2 |\u001b[34m██████████\u001b[0m| 00:06 Sampling completed                     \n",
      "chain 3 |\u001b[34m██████████\u001b[0m| 00:06 Sampling completed                     \n",
      "chain 4 |\u001b[34m██████████\u001b[0m| 00:06 Sampling completed                     "
     ]
    },
    {
     "name": "stdout",
     "output_type": "stream",
     "text": [
      "                                                                                                                                                                                                                                                                                                                                "
     ]
    },
    {
     "name": "stderr",
     "output_type": "stream",
     "text": [
      "\n",
      "02:56:29 - cmdstanpy - INFO - CmdStan done processing.\n",
      "02:56:29 - cmdstanpy - WARNING - Non-fatal error during sampling:\n",
      "Exception: normal_id_glm_lpdf: Scale vector is 0, but must be positive finite! (in 'prophet.stan', line 137, column 2 to line 142, column 4)\n",
      "\tException: normal_id_glm_lpdf: Matrix of independent variables is inf, but must be finite! (in 'prophet.stan', line 137, column 2 to line 142, column 4)\n",
      "Exception: normal_id_glm_lpdf: Scale vector is inf, but must be positive finite! (in 'prophet.stan', line 137, column 2 to line 142, column 4)\n",
      "Exception: normal_id_glm_lpdf: Scale vector is inf, but must be positive finite! (in 'prophet.stan', line 137, column 2 to line 142, column 4)\n",
      "Exception: normal_id_glm_lpdf: Scale vector is 0, but must be positive finite! (in 'prophet.stan', line 137, column 2 to line 142, column 4)\n",
      "Consider re-running with show_console=True if the above output is unclear!\n",
      "02:56:29 - cmdstanpy - WARNING - Some chains may have failed to converge.\n",
      "\tChain 1 had 150 iterations at max treedepth (100.0%)\n",
      "\tChain 2 had 150 iterations at max treedepth (100.0%)\n",
      "\tChain 3 had 150 iterations at max treedepth (100.0%)\n",
      "\tChain 4 had 150 iterations at max treedepth (100.0%)\n",
      "\tUse the \"diagnose()\" method on the CmdStanMCMC object to see further information.\n"
     ]
    },
    {
     "name": "stdout",
     "output_type": "stream",
     "text": [
      "\n"
     ]
    },
    {
     "name": "stderr",
     "output_type": "stream",
     "text": [
      " 82%|████████▏ | 40/49 [02:59<01:01,  6.82s/it]02:56:29 - cmdstanpy - INFO - CmdStan start processing\n",
      "\n",
      "\u001b[A\n",
      "\n",
      "\u001b[A\u001b[A\n",
      "\n",
      "\n",
      "\u001b[A\u001b[A\u001b[A\n",
      "\u001b[A\n",
      "\n",
      "\u001b[A\u001b[A\n",
      "\n",
      "\n",
      "\u001b[A\u001b[A\u001b[A\n",
      "\n",
      "\u001b[A\u001b[A\n",
      "\u001b[A\n",
      "\n",
      "\n",
      "\u001b[A\u001b[A\u001b[A\n",
      "\n",
      "\u001b[A\u001b[A\n",
      "\u001b[A\n",
      "\n",
      "\n",
      "\u001b[A\u001b[A\u001b[A\n",
      "\n",
      "\u001b[A\u001b[A\n",
      "\u001b[A\n",
      "\n",
      "\n",
      "chain 1 |\u001b[34m██████████\u001b[0m| 00:06 Sampling completed                     \n",
      "chain 2 |\u001b[34m██████████\u001b[0m| 00:06 Sampling completed                     \n",
      "chain 3 |\u001b[34m██████████\u001b[0m| 00:06 Sampling completed                     \n",
      "chain 4 |\u001b[34m██████████\u001b[0m| 00:06 Sampling completed                     "
     ]
    },
    {
     "name": "stdout",
     "output_type": "stream",
     "text": [
      "                                                                                                                                                                                                                                                                                                                                "
     ]
    },
    {
     "name": "stderr",
     "output_type": "stream",
     "text": [
      "\n",
      "02:56:36 - cmdstanpy - INFO - CmdStan done processing.\n",
      "02:56:36 - cmdstanpy - WARNING - Non-fatal error during sampling:\n",
      "Exception: normal_id_glm_lpdf: Scale vector is inf, but must be positive finite! (in 'prophet.stan', line 137, column 2 to line 142, column 4)\n",
      "Exception: normal_id_glm_lpdf: Scale vector is 0, but must be positive finite! (in 'prophet.stan', line 137, column 2 to line 142, column 4)\n",
      "Exception: normal_id_glm_lpdf: Scale vector is 0, but must be positive finite! (in 'prophet.stan', line 137, column 2 to line 142, column 4)\n",
      "Exception: normal_id_glm_lpdf: Scale vector is 0, but must be positive finite! (in 'prophet.stan', line 137, column 2 to line 142, column 4)\n",
      "Consider re-running with show_console=True if the above output is unclear!\n",
      "02:56:36 - cmdstanpy - WARNING - Some chains may have failed to converge.\n",
      "\tChain 1 had 150 iterations at max treedepth (100.0%)\n",
      "\tChain 2 had 150 iterations at max treedepth (100.0%)\n",
      "\tChain 3 had 150 iterations at max treedepth (100.0%)\n",
      "\tChain 4 had 150 iterations at max treedepth (100.0%)\n",
      "\tUse the \"diagnose()\" method on the CmdStanMCMC object to see further information.\n"
     ]
    },
    {
     "name": "stdout",
     "output_type": "stream",
     "text": [
      "\n"
     ]
    },
    {
     "name": "stderr",
     "output_type": "stream",
     "text": [
      " 84%|████████▎ | 41/49 [03:06<00:55,  6.92s/it]02:56:36 - cmdstanpy - INFO - CmdStan start processing\n",
      "\n",
      "\u001b[A\n",
      "\n",
      "\u001b[A\u001b[A\n",
      "\n",
      "\n",
      "\u001b[A\u001b[A\u001b[A\n",
      "\n",
      "\u001b[A\u001b[A\n",
      "\u001b[A\n",
      "\n",
      "\n",
      "\u001b[A\u001b[A\u001b[A\n",
      "\n",
      "\u001b[A\u001b[A\n",
      "\n",
      "\n",
      "\u001b[A\u001b[A\u001b[A\n",
      "\u001b[A\n",
      "\n",
      "\u001b[A\u001b[A\n",
      "\n",
      "\n",
      "\u001b[A\u001b[A\u001b[A\n",
      "\u001b[A\n",
      "\n",
      "\u001b[A\u001b[A\n",
      "\n",
      "\n",
      "\u001b[A\u001b[A\u001b[A\n",
      "chain 1 |\u001b[34m██████████\u001b[0m| 00:06 Sampling completed                     \n",
      "chain 2 |\u001b[34m██████████\u001b[0m| 00:06 Sampling completed                     \n",
      "chain 3 |\u001b[34m██████████\u001b[0m| 00:06 Sampling completed                     \n",
      "chain 4 |\u001b[34m██████████\u001b[0m| 00:06 Sampling completed                     "
     ]
    },
    {
     "name": "stdout",
     "output_type": "stream",
     "text": [
      "                                                                                                                                                                                                                                                                                                                                "
     ]
    },
    {
     "name": "stderr",
     "output_type": "stream",
     "text": [
      "\n",
      "02:56:43 - cmdstanpy - INFO - CmdStan done processing.\n",
      "02:56:43 - cmdstanpy - WARNING - Non-fatal error during sampling:\n",
      "Exception: normal_id_glm_lpdf: Scale vector is 0, but must be positive finite! (in 'prophet.stan', line 137, column 2 to line 142, column 4)\n",
      "\tException: normal_id_glm_lpdf: Matrix of independent variables is inf, but must be finite! (in 'prophet.stan', line 137, column 2 to line 142, column 4)\n",
      "Exception: normal_id_glm_lpdf: Scale vector is 0, but must be positive finite! (in 'prophet.stan', line 137, column 2 to line 142, column 4)\n",
      "Exception: normal_id_glm_lpdf: Scale vector is 0, but must be positive finite! (in 'prophet.stan', line 137, column 2 to line 142, column 4)\n",
      "Exception: normal_id_glm_lpdf: Scale vector is 0, but must be positive finite! (in 'prophet.stan', line 137, column 2 to line 142, column 4)\n",
      "Consider re-running with show_console=True if the above output is unclear!\n",
      "02:56:43 - cmdstanpy - WARNING - Some chains may have failed to converge.\n",
      "\tChain 1 had 150 iterations at max treedepth (100.0%)\n",
      "\tChain 2 had 150 iterations at max treedepth (100.0%)\n",
      "\tChain 3 had 150 iterations at max treedepth (100.0%)\n",
      "\tChain 4 had 150 iterations at max treedepth (100.0%)\n",
      "\tUse the \"diagnose()\" method on the CmdStanMCMC object to see further information.\n"
     ]
    },
    {
     "name": "stdout",
     "output_type": "stream",
     "text": [
      "\n"
     ]
    },
    {
     "name": "stderr",
     "output_type": "stream",
     "text": [
      " 86%|████████▌ | 42/49 [03:13<00:49,  7.03s/it]02:56:44 - cmdstanpy - INFO - CmdStan start processing\n",
      "\n",
      "\u001b[A\n",
      "\n",
      "\u001b[A\u001b[A\n",
      "\n",
      "\n",
      "\u001b[A\u001b[A\u001b[A\n",
      "\n",
      "\n",
      "\u001b[A\u001b[A\u001b[A\n",
      "\u001b[A\n",
      "\n",
      "\u001b[A\u001b[A\n",
      "\n",
      "\n",
      "\u001b[A\u001b[A\u001b[A\n",
      "\u001b[A\n",
      "\n",
      "\u001b[A\u001b[A\n",
      "\n",
      "\n",
      "\u001b[A\u001b[A\u001b[A\n",
      "\u001b[A\n",
      "\n",
      "\u001b[A\u001b[A\n",
      "\n",
      "\n",
      "\u001b[A\u001b[A\u001b[A\n",
      "\u001b[A\n",
      "\n",
      "chain 1 |\u001b[34m██████████\u001b[0m| 00:06 Sampling completed                     \n",
      "chain 2 |\u001b[34m██████████\u001b[0m| 00:06 Sampling completed                     \n",
      "chain 3 |\u001b[34m██████████\u001b[0m| 00:06 Sampling completed                     \n",
      "chain 4 |\u001b[34m██████████\u001b[0m| 00:06 Sampling completed                     "
     ]
    },
    {
     "name": "stdout",
     "output_type": "stream",
     "text": [
      "                                                                                                                                                                                                                                                                                                                                "
     ]
    },
    {
     "name": "stderr",
     "output_type": "stream",
     "text": [
      "\n",
      "02:56:50 - cmdstanpy - INFO - CmdStan done processing.\n",
      "02:56:50 - cmdstanpy - WARNING - Non-fatal error during sampling:\n",
      "Exception: normal_id_glm_lpdf: Scale vector is inf, but must be positive finite! (in 'prophet.stan', line 137, column 2 to line 142, column 4)\n",
      "\tException: normal_id_glm_lpdf: Scale vector is inf, but must be positive finite! (in 'prophet.stan', line 137, column 2 to line 142, column 4)\n",
      "Exception: normal_id_glm_lpdf: Scale vector is 0, but must be positive finite! (in 'prophet.stan', line 137, column 2 to line 142, column 4)\n",
      "Exception: normal_id_glm_lpdf: Scale vector is inf, but must be positive finite! (in 'prophet.stan', line 137, column 2 to line 142, column 4)\n",
      "Exception: normal_id_glm_lpdf: Scale vector is 0, but must be positive finite! (in 'prophet.stan', line 137, column 2 to line 142, column 4)\n",
      "\tException: normal_id_glm_lpdf: Matrix of independent variables is inf, but must be finite! (in 'prophet.stan', line 137, column 2 to line 142, column 4)\n",
      "Consider re-running with show_console=True if the above output is unclear!\n",
      "02:56:50 - cmdstanpy - WARNING - Some chains may have failed to converge.\n",
      "\tChain 1 had 150 iterations at max treedepth (100.0%)\n",
      "\tChain 2 had 2 divergent transitions (1.3%)\n",
      "\tChain 2 had 147 iterations at max treedepth (98.0%)\n",
      "\tChain 3 had 2 divergent transitions (1.3%)\n",
      "\tChain 3 had 148 iterations at max treedepth (98.7%)\n",
      "\tChain 4 had 149 iterations at max treedepth (99.3%)\n",
      "\tUse the \"diagnose()\" method on the CmdStanMCMC object to see further information.\n"
     ]
    },
    {
     "name": "stdout",
     "output_type": "stream",
     "text": [
      "\n"
     ]
    },
    {
     "name": "stderr",
     "output_type": "stream",
     "text": [
      " 88%|████████▊ | 43/49 [03:21<00:43,  7.17s/it]02:56:51 - cmdstanpy - INFO - CmdStan start processing\n",
      "\n",
      "\u001b[A\n",
      "\n",
      "\u001b[A\u001b[A\n",
      "\n",
      "\n",
      "\u001b[A\u001b[A\u001b[A\n",
      "\n",
      "\u001b[A\u001b[A\n",
      "\n",
      "\n",
      "\u001b[A\u001b[A\u001b[A\n",
      "\u001b[A\n",
      "\n",
      "\n",
      "\u001b[A\u001b[A\u001b[A\n",
      "\n",
      "\u001b[A\u001b[A\n",
      "\u001b[A\n",
      "\n",
      "\n",
      "\u001b[A\u001b[A\u001b[A\n",
      "\u001b[A\n",
      "\n",
      "\u001b[A\u001b[A\n",
      "\u001b[A\n",
      "\n",
      "\n",
      "\u001b[A\u001b[A\u001b[A\n",
      "\n",
      "chain 1 |\u001b[34m██████████\u001b[0m| 00:06 Sampling completed                     \n",
      "chain 2 |\u001b[34m██████████\u001b[0m| 00:06 Sampling completed                     \n",
      "chain 3 |\u001b[34m██████████\u001b[0m| 00:06 Sampling completed                     \n",
      "chain 4 |\u001b[34m██████████\u001b[0m| 00:06 Sampling completed                     "
     ]
    },
    {
     "name": "stdout",
     "output_type": "stream",
     "text": [
      "                                                                                                                                                                                                                                                                                                                                "
     ]
    },
    {
     "name": "stderr",
     "output_type": "stream",
     "text": [
      "\n",
      "02:56:58 - cmdstanpy - INFO - CmdStan done processing.\n",
      "02:56:58 - cmdstanpy - WARNING - Non-fatal error during sampling:\n",
      "Exception: normal_id_glm_lpdf: Scale vector is 0, but must be positive finite! (in 'prophet.stan', line 137, column 2 to line 142, column 4)\n",
      "\tException: normal_id_glm_lpdf: Matrix of independent variables is inf, but must be finite! (in 'prophet.stan', line 137, column 2 to line 142, column 4)\n",
      "Exception: normal_id_glm_lpdf: Scale vector is 0, but must be positive finite! (in 'prophet.stan', line 137, column 2 to line 142, column 4)\n",
      "\tException: normal_id_glm_lpdf: Matrix of independent variables is inf, but must be finite! (in 'prophet.stan', line 137, column 2 to line 142, column 4)\n",
      "Exception: normal_id_glm_lpdf: Scale vector is 0, but must be positive finite! (in 'prophet.stan', line 137, column 2 to line 142, column 4)\n",
      "Exception: normal_id_glm_lpdf: Scale vector is 0, but must be positive finite! (in 'prophet.stan', line 137, column 2 to line 142, column 4)\n",
      "\tException: normal_id_glm_lpdf: Matrix of independent variables is inf, but must be finite! (in 'prophet.stan', line 137, column 2 to line 142, column 4)\n",
      "Consider re-running with show_console=True if the above output is unclear!\n",
      "02:56:58 - cmdstanpy - WARNING - Some chains may have failed to converge.\n",
      "\tChain 1 had 150 iterations at max treedepth (100.0%)\n",
      "\tChain 2 had 15 divergent transitions (10.0%)\n",
      "\tChain 2 had 135 iterations at max treedepth (90.0%)\n",
      "\tChain 3 had 150 iterations at max treedepth (100.0%)\n",
      "\tChain 4 had 3 divergent transitions (2.0%)\n",
      "\tChain 4 had 145 iterations at max treedepth (96.7%)\n",
      "\tUse the \"diagnose()\" method on the CmdStanMCMC object to see further information.\n"
     ]
    },
    {
     "name": "stdout",
     "output_type": "stream",
     "text": [
      "\n"
     ]
    },
    {
     "name": "stderr",
     "output_type": "stream",
     "text": [
      " 90%|████████▉ | 44/49 [03:28<00:36,  7.27s/it]02:56:59 - cmdstanpy - INFO - CmdStan start processing\n",
      "\n",
      "\u001b[A\n",
      "\n",
      "\u001b[A\u001b[A\n",
      "\n",
      "\n",
      "\u001b[A\u001b[A\u001b[A\n",
      "\u001b[A\n",
      "\n",
      "\u001b[A\u001b[A\n",
      "\n",
      "\n",
      "\u001b[A\u001b[A\u001b[A\n",
      "\u001b[A\n",
      "\n",
      "\u001b[A\u001b[A\n",
      "\n",
      "\n",
      "\u001b[A\u001b[A\u001b[A\n",
      "\u001b[A\n",
      "\n",
      "\u001b[A\u001b[A\n",
      "\n",
      "\n",
      "\u001b[A\u001b[A\u001b[A\n",
      "\u001b[A\n",
      "\n",
      "\u001b[A\u001b[A\n",
      "\n",
      "\n",
      "chain 1 |\u001b[34m██████████\u001b[0m| 00:08 Sampling completed                     \n",
      "chain 2 |\u001b[34m██████████\u001b[0m| 00:08 Sampling completed                     \n",
      "chain 3 |\u001b[34m██████████\u001b[0m| 00:08 Sampling completed                     \n",
      "chain 4 |\u001b[34m██████████\u001b[0m| 00:08 Sampling completed                     "
     ]
    },
    {
     "name": "stdout",
     "output_type": "stream",
     "text": [
      "                                                                                                                                                                                                                                                                                                                                "
     ]
    },
    {
     "name": "stderr",
     "output_type": "stream",
     "text": [
      "\n",
      "02:57:07 - cmdstanpy - INFO - CmdStan done processing.\n",
      "02:57:07 - cmdstanpy - WARNING - Non-fatal error during sampling:\n",
      "Exception: normal_id_glm_lpdf: Scale vector is inf, but must be positive finite! (in 'prophet.stan', line 137, column 2 to line 142, column 4)\n",
      "\tException: normal_id_glm_lpdf: Scale vector is inf, but must be positive finite! (in 'prophet.stan', line 137, column 2 to line 142, column 4)\n",
      "Exception: normal_id_glm_lpdf: Scale vector is 0, but must be positive finite! (in 'prophet.stan', line 137, column 2 to line 142, column 4)\n",
      "Exception: normal_id_glm_lpdf: Scale vector is 0, but must be positive finite! (in 'prophet.stan', line 137, column 2 to line 142, column 4)\n",
      "\tException: normal_id_glm_lpdf: Matrix of independent variables is inf, but must be finite! (in 'prophet.stan', line 137, column 2 to line 142, column 4)\n",
      "Exception: normal_id_glm_lpdf: Scale vector is 0, but must be positive finite! (in 'prophet.stan', line 137, column 2 to line 142, column 4)\n",
      "Consider re-running with show_console=True if the above output is unclear!\n",
      "02:57:07 - cmdstanpy - WARNING - Some chains may have failed to converge.\n",
      "\tChain 1 had 150 iterations at max treedepth (100.0%)\n",
      "\tChain 2 had 150 iterations at max treedepth (100.0%)\n",
      "\tChain 3 had 150 iterations at max treedepth (100.0%)\n",
      "\tChain 4 had 150 iterations at max treedepth (100.0%)\n",
      "\tUse the \"diagnose()\" method on the CmdStanMCMC object to see further information.\n"
     ]
    },
    {
     "name": "stdout",
     "output_type": "stream",
     "text": [
      "\n"
     ]
    },
    {
     "name": "stderr",
     "output_type": "stream",
     "text": [
      " 92%|█████████▏| 45/49 [03:38<00:31,  7.91s/it]02:57:08 - cmdstanpy - INFO - CmdStan start processing\n",
      "\n",
      "\u001b[A\n",
      "\n",
      "\u001b[A\u001b[A\n",
      "\n",
      "\n",
      "\u001b[A\u001b[A\u001b[A\n",
      "\n",
      "\u001b[A\u001b[A\n",
      "\n",
      "\n",
      "\u001b[A\u001b[A\u001b[A\n",
      "\u001b[A\n",
      "\n",
      "\u001b[A\u001b[A\n",
      "\n",
      "\n",
      "\u001b[A\u001b[A\u001b[A\n",
      "\u001b[A\n",
      "\n",
      "\u001b[A\u001b[A\n",
      "\n",
      "\n",
      "\u001b[A\u001b[A\u001b[A\n",
      "\u001b[A\n",
      "\n",
      "\u001b[A\u001b[A\n",
      "\n",
      "\n",
      "\u001b[A\u001b[A\u001b[A\n",
      "chain 1 |\u001b[34m██████████\u001b[0m| 00:07 Sampling completed                     \n",
      "chain 2 |\u001b[34m██████████\u001b[0m| 00:07 Sampling completed                     \n",
      "chain 3 |\u001b[34m██████████\u001b[0m| 00:07 Sampling completed                     \n",
      "chain 4 |\u001b[34m██████████\u001b[0m| 00:07 Sampling completed                     "
     ]
    },
    {
     "name": "stdout",
     "output_type": "stream",
     "text": [
      "                                                                                                                                                                                                                                                                                                                                "
     ]
    },
    {
     "name": "stderr",
     "output_type": "stream",
     "text": [
      "\n",
      "02:57:15 - cmdstanpy - INFO - CmdStan done processing.\n",
      "02:57:15 - cmdstanpy - WARNING - Non-fatal error during sampling:\n",
      "Exception: normal_id_glm_lpdf: Scale vector is 0, but must be positive finite! (in 'prophet.stan', line 137, column 2 to line 142, column 4)\n",
      "Exception: normal_id_glm_lpdf: Scale vector is inf, but must be positive finite! (in 'prophet.stan', line 137, column 2 to line 142, column 4)\n",
      "\tException: normal_id_glm_lpdf: Scale vector is inf, but must be positive finite! (in 'prophet.stan', line 137, column 2 to line 142, column 4)\n",
      "Exception: normal_id_glm_lpdf: Scale vector is 0, but must be positive finite! (in 'prophet.stan', line 137, column 2 to line 142, column 4)\n",
      "\tException: normal_id_glm_lpdf: Matrix of independent variables is inf, but must be finite! (in 'prophet.stan', line 137, column 2 to line 142, column 4)\n",
      "Exception: normal_id_glm_lpdf: Scale vector is 0, but must be positive finite! (in 'prophet.stan', line 137, column 2 to line 142, column 4)\n",
      "\tException: normal_id_glm_lpdf: Matrix of independent variables is inf, but must be finite! (in 'prophet.stan', line 137, column 2 to line 142, column 4)\n",
      "Consider re-running with show_console=True if the above output is unclear!\n",
      "02:57:15 - cmdstanpy - WARNING - Some chains may have failed to converge.\n",
      "\tChain 1 had 150 iterations at max treedepth (100.0%)\n",
      "\tChain 2 had 1 divergent transitions (0.7%)\n",
      "\tChain 2 had 149 iterations at max treedepth (99.3%)\n",
      "\tChain 3 had 1 divergent transitions (0.7%)\n",
      "\tChain 3 had 149 iterations at max treedepth (99.3%)\n",
      "\tChain 4 had 5 divergent transitions (3.3%)\n",
      "\tChain 4 had 145 iterations at max treedepth (96.7%)\n",
      "\tUse the \"diagnose()\" method on the CmdStanMCMC object to see further information.\n"
     ]
    },
    {
     "name": "stdout",
     "output_type": "stream",
     "text": [
      "\n"
     ]
    },
    {
     "name": "stderr",
     "output_type": "stream",
     "text": [
      " 94%|█████████▍| 46/49 [03:46<00:23,  7.95s/it]02:57:16 - cmdstanpy - INFO - CmdStan start processing\n",
      "\n",
      "\u001b[A\n",
      "\n",
      "\u001b[A\u001b[A\n",
      "\n",
      "\n",
      "\u001b[A\u001b[A\u001b[A\n",
      "\u001b[A\n",
      "\n",
      "\n",
      "\u001b[A\u001b[A\u001b[A\n",
      "\n",
      "\u001b[A\u001b[A\n",
      "\u001b[A\n",
      "\n",
      "\n",
      "\u001b[A\u001b[A\u001b[A\n",
      "\n",
      "\u001b[A\u001b[A\n",
      "\n",
      "\n",
      "\u001b[A\u001b[A\u001b[A\n",
      "\u001b[A\n",
      "\n",
      "\u001b[A\u001b[A\n",
      "\u001b[A\n",
      "\n",
      "\n",
      "\u001b[A\u001b[A\u001b[A\n",
      "\n",
      "chain 1 |\u001b[34m██████████\u001b[0m| 00:07 Sampling completed                     \n",
      "chain 2 |\u001b[34m██████████\u001b[0m| 00:07 Sampling completed                     \n",
      "chain 3 |\u001b[34m██████████\u001b[0m| 00:07 Sampling completed                     \n",
      "chain 4 |\u001b[34m██████████\u001b[0m| 00:07 Sampling completed                     "
     ]
    },
    {
     "name": "stdout",
     "output_type": "stream",
     "text": [
      "                                                                                                                                                                                                                                                                                                                                "
     ]
    },
    {
     "name": "stderr",
     "output_type": "stream",
     "text": [
      "\n",
      "02:57:23 - cmdstanpy - INFO - CmdStan done processing.\n",
      "02:57:23 - cmdstanpy - WARNING - Non-fatal error during sampling:\n",
      "Exception: normal_id_glm_lpdf: Scale vector is 0, but must be positive finite! (in 'prophet.stan', line 137, column 2 to line 142, column 4)\n",
      "Exception: normal_id_glm_lpdf: Scale vector is 0, but must be positive finite! (in 'prophet.stan', line 137, column 2 to line 142, column 4)\n",
      "Exception: normal_id_glm_lpdf: Scale vector is inf, but must be positive finite! (in 'prophet.stan', line 137, column 2 to line 142, column 4)\n",
      "\tException: normal_id_glm_lpdf: Scale vector is inf, but must be positive finite! (in 'prophet.stan', line 137, column 2 to line 142, column 4)\n",
      "Exception: normal_id_glm_lpdf: Scale vector is 0, but must be positive finite! (in 'prophet.stan', line 137, column 2 to line 142, column 4)\n",
      "Consider re-running with show_console=True if the above output is unclear!\n",
      "02:57:23 - cmdstanpy - WARNING - Some chains may have failed to converge.\n",
      "\tChain 1 had 150 iterations at max treedepth (100.0%)\n",
      "\tChain 2 had 149 iterations at max treedepth (99.3%)\n",
      "\tChain 3 had 150 iterations at max treedepth (100.0%)\n",
      "\tChain 4 had 2 divergent transitions (1.3%)\n",
      "\tChain 4 had 148 iterations at max treedepth (98.7%)\n",
      "\tUse the \"diagnose()\" method on the CmdStanMCMC object to see further information.\n"
     ]
    },
    {
     "name": "stdout",
     "output_type": "stream",
     "text": [
      "\n"
     ]
    },
    {
     "name": "stderr",
     "output_type": "stream",
     "text": [
      " 96%|█████████▌| 47/49 [03:54<00:15,  7.97s/it]02:57:24 - cmdstanpy - INFO - CmdStan start processing\n",
      "\n",
      "\u001b[A\n",
      "\n",
      "\u001b[A\u001b[A\n",
      "\n",
      "\n",
      "\u001b[A\u001b[A\u001b[A\n",
      "\u001b[A\n",
      "\n",
      "\n",
      "\u001b[A\u001b[A\u001b[A\n",
      "\n",
      "\u001b[A\u001b[A\n",
      "\u001b[A\n",
      "\n",
      "\n",
      "\u001b[A\u001b[A\u001b[A\n",
      "\n",
      "\u001b[A\u001b[A\n",
      "\u001b[A\n",
      "\n",
      "\n",
      "\u001b[A\u001b[A\u001b[A\n",
      "\n",
      "\u001b[A\u001b[A\n",
      "\u001b[A\n",
      "\n",
      "\n",
      "\u001b[A\u001b[A\u001b[A\n",
      "\n",
      "chain 1 |\u001b[34m██████████\u001b[0m| 00:07 Sampling completed                     \n",
      "chain 2 |\u001b[34m██████████\u001b[0m| 00:07 Sampling completed                     \n",
      "chain 3 |\u001b[34m██████████\u001b[0m| 00:07 Sampling completed                     \n",
      "chain 4 |\u001b[34m██████████\u001b[0m| 00:07 Sampling completed                     "
     ]
    },
    {
     "name": "stdout",
     "output_type": "stream",
     "text": [
      "                                                                                                                                                                                                                                                                                                                                "
     ]
    },
    {
     "name": "stderr",
     "output_type": "stream",
     "text": [
      "\n",
      "02:57:32 - cmdstanpy - INFO - CmdStan done processing.\n",
      "02:57:32 - cmdstanpy - WARNING - Non-fatal error during sampling:\n",
      "Exception: normal_id_glm_lpdf: Scale vector is inf, but must be positive finite! (in 'prophet.stan', line 137, column 2 to line 142, column 4)\n",
      "\tException: normal_id_glm_lpdf: Scale vector is inf, but must be positive finite! (in 'prophet.stan', line 137, column 2 to line 142, column 4)\n",
      "Exception: normal_id_glm_lpdf: Scale vector is 0, but must be positive finite! (in 'prophet.stan', line 137, column 2 to line 142, column 4)\n",
      "\tException: normal_id_glm_lpdf: Matrix of independent variables is inf, but must be finite! (in 'prophet.stan', line 137, column 2 to line 142, column 4)\n",
      "Exception: normal_id_glm_lpdf: Scale vector is 0, but must be positive finite! (in 'prophet.stan', line 137, column 2 to line 142, column 4)\n",
      "Exception: normal_id_glm_lpdf: Scale vector is 0, but must be positive finite! (in 'prophet.stan', line 137, column 2 to line 142, column 4)\n",
      "Consider re-running with show_console=True if the above output is unclear!\n",
      "02:57:32 - cmdstanpy - WARNING - Some chains may have failed to converge.\n",
      "\tChain 1 had 150 iterations at max treedepth (100.0%)\n",
      "\tChain 2 had 150 iterations at max treedepth (100.0%)\n",
      "\tChain 3 had 150 iterations at max treedepth (100.0%)\n",
      "\tChain 4 had 149 iterations at max treedepth (99.3%)\n",
      "\tUse the \"diagnose()\" method on the CmdStanMCMC object to see further information.\n"
     ]
    },
    {
     "name": "stdout",
     "output_type": "stream",
     "text": [
      "\n"
     ]
    },
    {
     "name": "stderr",
     "output_type": "stream",
     "text": [
      " 98%|█████████▊| 48/49 [04:02<00:08,  8.03s/it]02:57:32 - cmdstanpy - INFO - CmdStan start processing\n",
      "\n",
      "\u001b[A\n",
      "\n",
      "\u001b[A\u001b[A\n",
      "\n",
      "\n",
      "\u001b[A\u001b[A\u001b[A\n",
      "\u001b[A\n",
      "\n",
      "\u001b[A\u001b[A\n",
      "\n",
      "\n",
      "\u001b[A\u001b[A\u001b[A\n",
      "\n",
      "\n",
      "\u001b[A\u001b[A\u001b[A\n",
      "\n",
      "\u001b[A\u001b[A\n",
      "\u001b[A\n",
      "\n",
      "\n",
      "\u001b[A\u001b[A\u001b[A\n",
      "\n",
      "\u001b[A\u001b[A\n",
      "\u001b[A\n",
      "\n",
      "\n",
      "\u001b[A\u001b[A\u001b[A\n",
      "\u001b[A\n",
      "\n",
      "chain 1 |\u001b[34m██████████\u001b[0m| 00:07 Sampling completed                     \n",
      "chain 2 |\u001b[34m██████████\u001b[0m| 00:07 Sampling completed                     \n",
      "chain 3 |\u001b[34m██████████\u001b[0m| 00:07 Sampling completed                     \n",
      "chain 4 |\u001b[34m██████████\u001b[0m| 00:07 Sampling completed                     "
     ]
    },
    {
     "name": "stdout",
     "output_type": "stream",
     "text": [
      "                                                                                                                                                                                                                                                                                                                                "
     ]
    },
    {
     "name": "stderr",
     "output_type": "stream",
     "text": [
      "\n",
      "02:57:40 - cmdstanpy - INFO - CmdStan done processing.\n",
      "02:57:40 - cmdstanpy - WARNING - Non-fatal error during sampling:\n",
      "Exception: normal_id_glm_lpdf: Scale vector is 0, but must be positive finite! (in 'prophet.stan', line 137, column 2 to line 142, column 4)\n",
      "Exception: normal_id_glm_lpdf: Scale vector is 0, but must be positive finite! (in 'prophet.stan', line 137, column 2 to line 142, column 4)\n",
      "\tException: normal_id_glm_lpdf: Matrix of independent variables is inf, but must be finite! (in 'prophet.stan', line 137, column 2 to line 142, column 4)\n",
      "Exception: normal_id_glm_lpdf: Scale vector is 0, but must be positive finite! (in 'prophet.stan', line 137, column 2 to line 142, column 4)\n",
      "Exception: normal_id_glm_lpdf: Scale vector is inf, but must be positive finite! (in 'prophet.stan', line 137, column 2 to line 142, column 4)\n",
      "\tException: normal_id_glm_lpdf: Scale vector is inf, but must be positive finite! (in 'prophet.stan', line 137, column 2 to line 142, column 4)\n",
      "Consider re-running with show_console=True if the above output is unclear!\n",
      "02:57:40 - cmdstanpy - WARNING - Some chains may have failed to converge.\n",
      "\tChain 1 had 2 divergent transitions (1.3%)\n",
      "\tChain 1 had 148 iterations at max treedepth (98.7%)\n",
      "\tChain 2 had 1 divergent transitions (0.7%)\n",
      "\tChain 2 had 149 iterations at max treedepth (99.3%)\n",
      "\tChain 3 had 150 iterations at max treedepth (100.0%)\n",
      "\tChain 4 had 150 iterations at max treedepth (100.0%)\n",
      "\tUse the \"diagnose()\" method on the CmdStanMCMC object to see further information.\n"
     ]
    },
    {
     "name": "stdout",
     "output_type": "stream",
     "text": [
      "\n"
     ]
    },
    {
     "name": "stderr",
     "output_type": "stream",
     "text": [
      "100%|██████████| 49/49 [04:10<00:00,  5.11s/it]\n"
     ]
    }
   ],
   "source": [
    "from prophet.diagnostics import cross_validation, performance_metrics\n",
    "\n",
    "# Calculate proper cutoffs for monthly data\n",
    "def monthly_cross_validation(model, train_months, horizon_months, period_months=None):\n",
    "    \"\"\"Custom CV for monthly data\"\"\"\n",
    "    df = model.history.copy()\n",
    "    \n",
    "    # Calculate cutoffs\n",
    "    first_date = df['ds'].min()\n",
    "    last_date = df['ds'].max()\n",
    "    \n",
    "    # Create cutoff dates every 'period_months'\n",
    "    if period_months is None:\n",
    "        period_months = horizon_months  # Default to non-overlapping\n",
    "        \n",
    "    cutoff = first_date + pd.DateOffset(months=train_months)\n",
    "    cutoffs = []\n",
    "    while cutoff + pd.DateOffset(months=horizon_months) <= last_date:\n",
    "        cutoffs.append(cutoff)\n",
    "        cutoff = cutoff + pd.DateOffset(months=period_months)\n",
    "    \n",
    "    # Run cross-validation\n",
    "    df_cv = cross_validation(\n",
    "        model,\n",
    "        cutoffs=cutoffs,\n",
    "        horizon=f'{horizon_months * 30} days'  # Still needs days\n",
    "    )\n",
    "    return df_cv\n",
    "\n",
    "# Usage example:\n",
    "df_cv = monthly_cross_validation(\n",
    "    model,\n",
    "    train_months=24,    # 2 years training\n",
    "    horizon_months=12,  # 1 year forecast\n",
    "    period_months=6     # 6 months between cuts\n",
    ")"
   ]
  },
  {
   "cell_type": "code",
   "execution_count": 11,
   "id": "d6add56c",
   "metadata": {},
   "outputs": [],
   "source": [
    "# Ensure realistic outputs\n",
    "forecast = model.predict(future)\n",
    "for col in ['yhat', 'yhat_lower', 'yhat_upper']:\n",
    "    forecast[col] = forecast[col].clip(lower=bounds['floor'])\n",
    "    if bounds['cap']:\n",
    "        forecast[col] = forecast[col].clip(upper=bounds['cap'])"
   ]
  },
  {
   "cell_type": "code",
   "execution_count": 12,
   "id": "a810f61d",
   "metadata": {},
   "outputs": [
    {
     "data": {
      "image/png": "[encoded data removed]",
      "text/plain": [
       "<Figure size 900x1800 with 6 Axes>"
      ]
     },
     "metadata": {},
     "output_type": "display_data"
    },
    {
     "data": {
      "image/png": "[encoded data removed]",
      "text/plain": [
       "<Figure size 1200x600 with 1 Axes>"
      ]
     },
     "metadata": {},
     "output_type": "display_data"
    }
   ],
   "source": [
    "# Enhanced monthly visualization\n",
    "fig = model.plot_components(forecast)\n",
    "ax = fig.gca()\n",
    "ax.set_title(f'Monthly Components for {commodity}')\n",
    "# plt.savefig(f'monthly_components_{commodity.replace(\" \", \"_\")}.png')\n",
    "plt.show()\n",
    "\n",
    "# Monthly actual vs predicted\n",
    "plt.figure(figsize=(12, 6))\n",
    "plt.plot(test_df['date'], test_df[commodity], 'ko-', label='Actual')\n",
    "plt.plot(forecast['ds'], forecast['yhat'], 'r.-', label='Predicted')\n",
    "plt.fill_between(forecast['ds'], forecast['yhat_lower'], forecast['yhat_upper'], color='r', alpha=0.2)\n",
    "plt.title(f'Monthly Forecast for {commodity}')\n",
    "plt.xlabel('Month')\n",
    "plt.ylabel('Price')\n",
    "plt.legend()\n",
    "plt.grid(True, alpha=0.3)\n",
    "plt.xticks(rotation=45)\n",
    "plt.tight_layout()\n",
    "# plt.savefig(f'monthly_forecast_{commodity.replace(\" \", \"_\")}.png')\n",
    "plt.show()"
   ]
  },
  {
   "cell_type": "code",
   "execution_count": 13,
   "id": "d5846b57",
   "metadata": {},
   "outputs": [
    {
     "data": {
      "text/html": [
       "<div>\n",
       "<style scoped>\n",
       "    .dataframe tbody tr th:only-of-type {\n",
       "        vertical-align: middle;\n",
       "    }\n",
       "\n",
       "    .dataframe tbody tr th {\n",
       "        vertical-align: top;\n",
       "    }\n",
       "\n",
       "    .dataframe thead th {\n",
       "        text-align: right;\n",
       "    }\n",
       "</style>\n",
       "<table border=\"1\" class=\"dataframe\">\n",
       "  <thead>\n",
       "    <tr style=\"text-align: right;\">\n",
       "      <th></th>\n",
       "      <th>ds</th>\n",
       "      <th>yhat</th>\n",
       "      <th>yhat_lower</th>\n",
       "      <th>yhat_upper</th>\n",
       "      <th>y</th>\n",
       "      <th>cutoff</th>\n",
       "    </tr>\n",
       "  </thead>\n",
       "  <tbody>\n",
       "    <tr>\n",
       "      <th>0</th>\n",
       "      <td>1993-02-01</td>\n",
       "      <td>7328.882553</td>\n",
       "      <td>-1417.050531</td>\n",
       "      <td>18572.798685</td>\n",
       "      <td>329.31</td>\n",
       "      <td>1993-01-01</td>\n",
       "    </tr>\n",
       "    <tr>\n",
       "      <th>1</th>\n",
       "      <td>1993-03-01</td>\n",
       "      <td>3722.031045</td>\n",
       "      <td>-6812.997823</td>\n",
       "      <td>15709.775036</td>\n",
       "      <td>330.08</td>\n",
       "      <td>1993-01-01</td>\n",
       "    </tr>\n",
       "    <tr>\n",
       "      <th>2</th>\n",
       "      <td>1993-04-01</td>\n",
       "      <td>5770.872636</td>\n",
       "      <td>-4880.748796</td>\n",
       "      <td>17578.614323</td>\n",
       "      <td>342.15</td>\n",
       "      <td>1993-01-01</td>\n",
       "    </tr>\n",
       "    <tr>\n",
       "      <th>3</th>\n",
       "      <td>1993-05-01</td>\n",
       "      <td>3996.410573</td>\n",
       "      <td>-6984.642453</td>\n",
       "      <td>16879.161986</td>\n",
       "      <td>367.18</td>\n",
       "      <td>1993-01-01</td>\n",
       "    </tr>\n",
       "    <tr>\n",
       "      <th>4</th>\n",
       "      <td>1993-06-01</td>\n",
       "      <td>5638.862878</td>\n",
       "      <td>-5732.798649</td>\n",
       "      <td>18397.108967</td>\n",
       "      <td>371.89</td>\n",
       "      <td>1993-01-01</td>\n",
       "    </tr>\n",
       "  </tbody>\n",
       "</table>\n",
       "</div>"
      ],
      "text/plain": [
       "          ds         yhat   yhat_lower    yhat_upper       y     cutoff\n",
       "0 1993-02-01  7328.882553 -1417.050531  18572.798685  329.31 1993-01-01\n",
       "1 1993-03-01  3722.031045 -6812.997823  15709.775036  330.08 1993-01-01\n",
       "2 1993-04-01  5770.872636 -4880.748796  17578.614323  342.15 1993-01-01\n",
       "3 1993-05-01  3996.410573 -6984.642453  16879.161986  367.18 1993-01-01\n",
       "4 1993-06-01  5638.862878 -5732.798649  18397.108967  371.89 1993-01-01"
      ]
     },
     "execution_count": 13,
     "metadata": {},
     "output_type": "execute_result"
    }
   ],
   "source": [
    "df_cv.head()"
   ]
  },
  {
   "cell_type": "code",
   "execution_count": 14,
   "id": "8af4a38d",
   "metadata": {},
   "outputs": [
    {
     "name": "stdout",
     "output_type": "stream",
     "text": [
      "\n",
      "Monthly MAPE Breakdown:\n",
      "month\n",
      "1     1255.783632\n",
      "2     1323.513683\n",
      "3     1213.398102\n",
      "4     1257.982809\n",
      "5     1213.909058\n",
      "6     1274.829900\n",
      "7     1247.440421\n",
      "8     1302.276174\n",
      "9     1317.949840\n",
      "10    1281.621044\n",
      "11    1298.742437\n",
      "12    1270.450784\n",
      "dtype: float64\n"
     ]
    },
    {
     "name": "stderr",
     "output_type": "stream",
     "text": [
      "/var/folders/rd/tqc_535n6bb2mkqrf4_7nf6w0000gn/T/ipykernel_8379/885817107.py:5: DeprecationWarning: DataFrameGroupBy.apply operated on the grouping columns. This behavior is deprecated, and in a future version of pandas the grouping columns will be excluded from the operation. Either pass `include_groups=False` to exclude the groupings or explicitly select the grouping columns after groupby to silence this warning.\n",
      "  monthly_mape = df.groupby('month', group_keys=False).apply(\n"
     ]
    },
    {
     "data": {
      "image/png": "[encoded data removed]",
      "text/plain": [
       "<Figure size 1000x500 with 1 Axes>"
      ]
     },
     "metadata": {},
     "output_type": "display_data"
    },
    {
     "name": "stdout",
     "output_type": "stream",
     "text": [
      "\n",
      "Overall Metrics:\n",
      "    horizon           mse         rmse          mae       mape      mdape  \\\n",
      "0   59 days  6.248099e+07  7904.491844  7089.653495  13.426504  10.276148   \n",
      "1   60 days  6.208211e+07  7879.219869  7040.203997  12.943628  10.384898   \n",
      "2   62 days  5.965121e+07  7723.419882  6883.683812  12.723366   9.930737   \n",
      "3   90 days  6.085454e+07  7800.931963  6987.163724  13.027348  10.156761   \n",
      "4   91 days  6.058699e+07  7783.764569  6951.799733  12.742875   8.588693   \n",
      "5   92 days  6.089093e+07  7803.264154  6959.508635  12.985617   8.288097   \n",
      "6  120 days  6.020048e+07  7758.897090  6909.922667  12.627589   9.854522   \n",
      "7  121 days  6.004998e+07  7749.192316  6877.064151  12.339170   8.523092   \n",
      "8  123 days  6.040207e+07  7771.876828  6910.511116  12.560907   9.884064   \n",
      "9  151 days  6.246218e+07  7903.301910  7064.535931  12.998377  10.126777   \n",
      "10 152 days  6.247713e+07  7904.247713  7044.767494  12.777610  10.126777   \n",
      "11 153 days  6.282543e+07  7926.249148  7055.648652  12.937817   9.167323   \n",
      "12 181 days  6.155304e+07  7845.574323  6987.619763  12.719550   9.167323   \n",
      "13 182 days  6.121875e+07  7824.241430  6948.696546  12.412332  10.405341   \n",
      "14 184 days  6.136311e+07  7833.461177  6960.772379  12.533736   9.063957   \n",
      "15 212 days  6.244956e+07  7902.503233  7045.157663  12.757058  10.818938   \n",
      "16 213 days  6.247123e+07  7903.874485  7026.793577  12.506768   9.063957   \n",
      "17 215 days  6.300679e+07  7937.681852  7048.298527  12.646417   9.650928   \n",
      "18 243 days  6.124428e+07  7825.872548  6958.054710  13.141744   9.650928   \n",
      "19 244 days  6.427979e+07  8017.468010  7074.304339  12.645396   9.531116   \n",
      "20 273 days  6.645833e+07  8152.198034  7235.925549  12.729959  10.058290   \n",
      "21 274 days  6.310819e+07  7944.066062  6998.551478  12.218995   8.088295   \n",
      "22 275 days  6.415824e+07  8009.883987  7036.761985  12.257315   8.088295   \n",
      "23 304 days  6.360562e+07  7975.312862  7012.516870  12.724808   9.220944   \n",
      "24 305 days  6.751156e+07  8216.541666  7192.209960  12.451311   8.312444   \n",
      "25 334 days  6.805210e+07  8249.369852  7294.281305  12.688155   8.529698   \n",
      "26 335 days  6.520435e+07  8074.921166  7098.344037  12.329619   8.546971   \n",
      "27 336 days  6.656223e+07  8158.568187  7145.778075  12.367443   8.337904   \n",
      "\n",
      "       smape  coverage  \n",
      "0   1.629768  0.212168  \n",
      "1   1.607297  0.229111  \n",
      "2   1.595557  0.202541  \n",
      "3   1.602107  0.208540  \n",
      "4   1.581582  0.213836  \n",
      "5   1.590919  0.198113  \n",
      "6   1.593757  0.208540  \n",
      "7   1.607219  0.213836  \n",
      "8   1.620931  0.235849  \n",
      "9   1.631137  0.246276  \n",
      "10  1.633957  0.251572  \n",
      "11  1.624747  0.223270  \n",
      "12  1.630022  0.227408  \n",
      "13  1.631276  0.232704  \n",
      "14  1.619446  0.238994  \n",
      "15  1.625453  0.246276  \n",
      "16  1.628109  0.251572  \n",
      "17  1.612912  0.261006  \n",
      "18  1.604894  0.245283  \n",
      "19  1.615468  0.245283  \n",
      "20  1.632672  0.251912  \n",
      "21  1.629180  0.235849  \n",
      "22  1.618301  0.226415  \n",
      "23  1.603071  0.246855  \n",
      "24  1.606062  0.257862  \n",
      "25  1.629221  0.263131  \n",
      "26  1.629794  0.235849  \n",
      "27  1.618173  0.226415  \n"
     ]
    }
   ],
   "source": [
    "# Monthly-focused performance metrics\n",
    "def monthly_performance_metrics(df: pd.DataFrame, show_plot=True):\n",
    "    \"\"\"Enhanced version with visualization\"\"\"\n",
    "    df['month'] = df['ds'].dt.month\n",
    "    monthly_mape = df.groupby('month', group_keys=False).apply(\n",
    "        lambda x: calculate_mape(x['y'], x['yhat'])\n",
    "    )\n",
    "    \n",
    "    print(\"\\nMonthly MAPE Breakdown:\")\n",
    "    print(monthly_mape)\n",
    "    \n",
    "    if show_plot:\n",
    "        plt.figure(figsize=(10, 5))\n",
    "        monthly_mape.plot(kind='bar')\n",
    "        plt.title('Forecast Error by Month')\n",
    "        plt.ylabel('MAPE (%)')\n",
    "        plt.xlabel('Month')\n",
    "        plt.grid(True, alpha=0.3)\n",
    "        plt.show()\n",
    "    \n",
    "    print(\"\\nOverall Metrics:\")\n",
    "    print(performance_metrics(df))\n",
    "\n",
    "\n",
    "monthly_performance_metrics(df_cv)"
   ]
  },
  {
   "cell_type": "code",
   "execution_count": null,
   "id": "6341741a",
   "metadata": {},
   "outputs": [],
   "source": []
  }
 ],
 "metadata": {
  "kernelspec": {
   "display_name": "ML",
   "language": "python",
   "name": "python3"
  },
  "language_info": {
   "codemirror_mode": {
    "name": "ipython",
    "version": 3
   },
   "file_extension": ".py",
   "mimetype": "text/x-python",
   "name": "python",
   "nbconvert_exporter": "python",
   "pygments_lexer": "ipython3",
   "version": "3.12.9"
  }
 },
 "nbformat": 4,
 "nbformat_minor": 5
}
