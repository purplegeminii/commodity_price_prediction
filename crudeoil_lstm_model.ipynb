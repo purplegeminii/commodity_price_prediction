{
 "cells": [
  {
   "cell_type": "code",
   "execution_count": 1,
   "metadata": {},
   "outputs": [],
   "source": [
    "import tensorflow as tf\n",
    "from tensorflow import keras \n",
    "import pandas as pd \n",
    "import numpy as np \n",
    "from sklearn.preprocessing import StandardScaler, MinMaxScaler \n",
    "import matplotlib.pyplot as plt \n",
    "import seaborn as sns \n",
    "import os \n",
    "from datetime import datetime"
   ]
  },
  {
   "cell_type": "code",
   "execution_count": 2,
   "metadata": {},
   "outputs": [],
   "source": [
    "# suppress warnings\n",
    "os.environ['TF_CPP_MIN_LOG_LEVEL'] = '2'"
   ]
  },
  {
   "cell_type": "code",
   "execution_count": 3,
   "metadata": {},
   "outputs": [
    {
     "name": "stdout",
     "output_type": "stream",
     "text": [
      "<class 'pandas.core.frame.DataFrame'>\n",
      "RangeIndex: 780 entries, 0 to 779\n",
      "Data columns (total 4 columns):\n",
      " #   Column                 Non-Null Count  Dtype  \n",
      "---  ------                 --------------  -----  \n",
      " 0   date                   780 non-null    object \n",
      " 1   Crude Oil Brent Price  780 non-null    float64\n",
      " 2   Cocoa Price            780 non-null    float64\n",
      " 3   Gold Price             780 non-null    float64\n",
      "dtypes: float64(3), object(1)\n",
      "memory usage: 24.5+ KB\n"
     ]
    }
   ],
   "source": [
    "df = pd.read_csv(\"commodity_historical.csv\")\n",
    "df.head()\n",
    "df.info()"
   ]
  },
  {
   "cell_type": "code",
   "execution_count": 4,
   "metadata": {},
   "outputs": [
    {
     "name": "stdout",
     "output_type": "stream",
     "text": [
      "<class 'pandas.core.frame.DataFrame'>\n",
      "RangeIndex: 780 entries, 0 to 779\n",
      "Data columns (total 2 columns):\n",
      " #   Column                 Non-Null Count  Dtype  \n",
      "---  ------                 --------------  -----  \n",
      " 0   date                   780 non-null    object \n",
      " 1   Crude Oil Brent Price  780 non-null    float64\n",
      "dtypes: float64(1), object(1)\n",
      "memory usage: 12.3+ KB\n"
     ]
    }
   ],
   "source": [
    "data = df[[\"date\", \"Crude Oil Brent Price\"]]\n",
    "data.head()\n",
    "data.info()"
   ]
  },
  {
   "cell_type": "code",
   "execution_count": 5,
   "metadata": {},
   "outputs": [
    {
     "name": "stderr",
     "output_type": "stream",
     "text": [
      "/var/folders/rd/tqc_535n6bb2mkqrf4_7nf6w0000gn/T/ipykernel_18987/736794659.py:1: SettingWithCopyWarning: \n",
      "A value is trying to be set on a copy of a slice from a DataFrame.\n",
      "Try using .loc[row_indexer,col_indexer] = value instead\n",
      "\n",
      "See the caveats in the documentation: https://pandas.pydata.org/pandas-docs/stable/user_guide/indexing.html#returning-a-view-versus-a-copy\n",
      "  data['date'] = pd.to_datetime(data['date'])\n"
     ]
    }
   ],
   "source": [
    "data['date'] = pd.to_datetime(data['date'])"
   ]
  },
  {
   "cell_type": "code",
   "execution_count": 6,
   "metadata": {},
   "outputs": [],
   "source": [
    "data = data[data[\"date\"] >= \"1980-01-01\"]  # instead of 1960 which is statistically insignificant"
   ]
  },
  {
   "cell_type": "code",
   "execution_count": 7,
   "metadata": {},
   "outputs": [],
   "source": [
    "import plotly.express as px\n",
    "import plotly.graph_objects as go\n",
    "\n",
    "\n",
    "def plotting(title, data, x, y, x_label, y_label, text=False, lam=None):\n",
    "    \"\"\"General function to plot the data.\"\"\"\n",
    "    fig = px.line(data, x=data[x], y=data[y], labels={x: x_label, y: y_label})\n",
    "    fig.update_layout(template=\"simple_white\", font=dict(size=18), title_text=title, width=650, title_x=0.5, height=400)\n",
    "    if text:\n",
    "      fig.add_annotation(\n",
    "          x='1952-12-20', y=10, text=f'Lambda = {lam:.3f}',\n",
    "          align='left', yanchor='bottom', showarrow=False,\n",
    "          font=dict(size=20, color=\"black\", family=\"Courier New, monospace\"),\n",
    "          bordercolor='black', borderwidth=2, bgcolor=\"white\"\n",
    "      )\n",
    "    fig.show()\n",
    "\n",
    "\n",
    "def add_separator(width=650):\n",
    "    \"\"\"Add a horizontal line as a separator.\"\"\"\n",
    "    fig = go.Figure()\n",
    "    fig.add_hline(y=0.5, line_dash=\"dot\", line_color=\"gray\", line_width=2)\n",
    "    fig.update_layout(height=50, width=width, margin=dict(l=20, r=20, t=20, b=20), xaxis_visible=False, yaxis_visible=False)\n",
    "    fig.show()\n"
   ]
  },
  {
   "cell_type": "code",
   "execution_count": 8,
   "metadata": {},
   "outputs": [
    {
     "data": {
      "application/vnd.plotly.v1+json": {
       "config": {
        "plotlyServerURL": "https://plot.ly"
       },
       "data": [
        {
         "hovertemplate": "Date=%{x}<br>Price ($/bbl)=%{y}<extra></extra>",
         "legendgroup": "",
         "line": {
          "color": "#636efa",
          "dash": "solid"
         },
         "marker": {
          "symbol": "circle"
         },
         "mode": "lines",
         "name": "",
         "orientation": "v",
         "showlegend": false,
         "type": "scatter",
         "x": [
          "1980-01-01T00:00:00.000000000",
          "1980-02-01T00:00:00.000000000",
          "1980-03-01T00:00:00.000000000",
          "1980-04-01T00:00:00.000000000",
          "1980-05-01T00:00:00.000000000",
          "1980-06-01T00:00:00.000000000",
          "1980-07-01T00:00:00.000000000",
          "1980-08-01T00:00:00.000000000",
          "1980-09-01T00:00:00.000000000",
          "1980-10-01T00:00:00.000000000",
          "1980-11-01T00:00:00.000000000",
          "1980-12-01T00:00:00.000000000",
          "1981-01-01T00:00:00.000000000",
          "1981-02-01T00:00:00.000000000",
          "1981-03-01T00:00:00.000000000",
          "1981-04-01T00:00:00.000000000",
          "1981-05-01T00:00:00.000000000",
          "1981-06-01T00:00:00.000000000",
          "1981-07-01T00:00:00.000000000",
          "1981-08-01T00:00:00.000000000",
          "1981-09-01T00:00:00.000000000",
          "1981-10-01T00:00:00.000000000",
          "1981-11-01T00:00:00.000000000",
          "1981-12-01T00:00:00.000000000",
          "1982-01-01T00:00:00.000000000",
          "1982-02-01T00:00:00.000000000",
          "1982-03-01T00:00:00.000000000",
          "1982-04-01T00:00:00.000000000",
          "1982-05-01T00:00:00.000000000",
          "1982-06-01T00:00:00.000000000",
          "1982-07-01T00:00:00.000000000",
          "1982-08-01T00:00:00.000000000",
          "1982-09-01T00:00:00.000000000",
          "1982-10-01T00:00:00.000000000",
          "1982-11-01T00:00:00.000000000",
          "1982-12-01T00:00:00.000000000",
          "1983-01-01T00:00:00.000000000",
          "1983-02-01T00:00:00.000000000",
          "1983-03-01T00:00:00.000000000",
          "1983-04-01T00:00:00.000000000",
          "1983-05-01T00:00:00.000000000",
          "1983-06-01T00:00:00.000000000",
          "1983-07-01T00:00:00.000000000",
          "1983-08-01T00:00:00.000000000",
          "1983-09-01T00:00:00.000000000",
          "1983-10-01T00:00:00.000000000",
          "1983-11-01T00:00:00.000000000",
          "1983-12-01T00:00:00.000000000",
          "1984-01-01T00:00:00.000000000",
          "1984-02-01T00:00:00.000000000",
          "1984-03-01T00:00:00.000000000",
          "1984-04-01T00:00:00.000000000",
          "1984-05-01T00:00:00.000000000",
          "1984-06-01T00:00:00.000000000",
          "1984-07-01T00:00:00.000000000",
          "1984-08-01T00:00:00.000000000",
          "1984-09-01T00:00:00.000000000",
          "1984-10-01T00:00:00.000000000",
          "1984-11-01T00:00:00.000000000",
          "1984-12-01T00:00:00.000000000",
          "1985-01-01T00:00:00.000000000",
          "1985-02-01T00:00:00.000000000",
          "1985-03-01T00:00:00.000000000",
          "1985-04-01T00:00:00.000000000",
          "1985-05-01T00:00:00.000000000",
          "1985-06-01T00:00:00.000000000",
          "1985-07-01T00:00:00.000000000",
          "1985-08-01T00:00:00.000000000",
          "1985-09-01T00:00:00.000000000",
          "1985-10-01T00:00:00.000000000",
          "1985-11-01T00:00:00.000000000",
          "1985-12-01T00:00:00.000000000",
          "1986-01-01T00:00:00.000000000",
          "1986-02-01T00:00:00.000000000",
          "1986-03-01T00:00:00.000000000",
          "1986-04-01T00:00:00.000000000",
          "1986-05-01T00:00:00.000000000",
          "1986-06-01T00:00:00.000000000",
          "1986-07-01T00:00:00.000000000",
          "1986-08-01T00:00:00.000000000",
          "1986-09-01T00:00:00.000000000",
          "1986-10-01T00:00:00.000000000",
          "1986-11-01T00:00:00.000000000",
          "1986-12-01T00:00:00.000000000",
          "1987-01-01T00:00:00.000000000",
          "1987-02-01T00:00:00.000000000",
          "1987-03-01T00:00:00.000000000",
          "1987-04-01T00:00:00.000000000",
          "1987-05-01T00:00:00.000000000",
          "1987-06-01T00:00:00.000000000",
          "1987-07-01T00:00:00.000000000",
          "1987-08-01T00:00:00.000000000",
          "1987-09-01T00:00:00.000000000",
          "1987-10-01T00:00:00.000000000",
          "1987-11-01T00:00:00.000000000",
          "1987-12-01T00:00:00.000000000",
          "1988-01-01T00:00:00.000000000",
          "1988-02-01T00:00:00.000000000",
          "1988-03-01T00:00:00.000000000",
          "1988-04-01T00:00:00.000000000",
          "1988-05-01T00:00:00.000000000",
          "1988-06-01T00:00:00.000000000",
          "1988-07-01T00:00:00.000000000",
          "1988-08-01T00:00:00.000000000",
          "1988-09-01T00:00:00.000000000",
          "1988-10-01T00:00:00.000000000",
          "1988-11-01T00:00:00.000000000",
          "1988-12-01T00:00:00.000000000",
          "1989-01-01T00:00:00.000000000",
          "1989-02-01T00:00:00.000000000",
          "1989-03-01T00:00:00.000000000",
          "1989-04-01T00:00:00.000000000",
          "1989-05-01T00:00:00.000000000",
          "1989-06-01T00:00:00.000000000",
          "1989-07-01T00:00:00.000000000",
          "1989-08-01T00:00:00.000000000",
          "1989-09-01T00:00:00.000000000",
          "1989-10-01T00:00:00.000000000",
          "1989-11-01T00:00:00.000000000",
          "1989-12-01T00:00:00.000000000",
          "1990-01-01T00:00:00.000000000",
          "1990-02-01T00:00:00.000000000",
          "1990-03-01T00:00:00.000000000",
          "1990-04-01T00:00:00.000000000",
          "1990-05-01T00:00:00.000000000",
          "1990-06-01T00:00:00.000000000",
          "1990-07-01T00:00:00.000000000",
          "1990-08-01T00:00:00.000000000",
          "1990-09-01T00:00:00.000000000",
          "1990-10-01T00:00:00.000000000",
          "1990-11-01T00:00:00.000000000",
          "1990-12-01T00:00:00.000000000",
          "1991-01-01T00:00:00.000000000",
          "1991-02-01T00:00:00.000000000",
          "1991-03-01T00:00:00.000000000",
          "1991-04-01T00:00:00.000000000",
          "1991-05-01T00:00:00.000000000",
          "1991-06-01T00:00:00.000000000",
          "1991-07-01T00:00:00.000000000",
          "1991-08-01T00:00:00.000000000",
          "1991-09-01T00:00:00.000000000",
          "1991-10-01T00:00:00.000000000",
          "1991-11-01T00:00:00.000000000",
          "1991-12-01T00:00:00.000000000",
          "1992-01-01T00:00:00.000000000",
          "1992-02-01T00:00:00.000000000",
          "1992-03-01T00:00:00.000000000",
          "1992-04-01T00:00:00.000000000",
          "1992-05-01T00:00:00.000000000",
          "1992-06-01T00:00:00.000000000",
          "1992-07-01T00:00:00.000000000",
          "1992-08-01T00:00:00.000000000",
          "1992-09-01T00:00:00.000000000",
          "1992-10-01T00:00:00.000000000",
          "1992-11-01T00:00:00.000000000",
          "1992-12-01T00:00:00.000000000",
          "1993-01-01T00:00:00.000000000",
          "1993-02-01T00:00:00.000000000",
          "1993-03-01T00:00:00.000000000",
          "1993-04-01T00:00:00.000000000",
          "1993-05-01T00:00:00.000000000",
          "1993-06-01T00:00:00.000000000",
          "1993-07-01T00:00:00.000000000",
          "1993-08-01T00:00:00.000000000",
          "1993-09-01T00:00:00.000000000",
          "1993-10-01T00:00:00.000000000",
          "1993-11-01T00:00:00.000000000",
          "1993-12-01T00:00:00.000000000",
          "1994-01-01T00:00:00.000000000",
          "1994-02-01T00:00:00.000000000",
          "1994-03-01T00:00:00.000000000",
          "1994-04-01T00:00:00.000000000",
          "1994-05-01T00:00:00.000000000",
          "1994-06-01T00:00:00.000000000",
          "1994-07-01T00:00:00.000000000",
          "1994-08-01T00:00:00.000000000",
          "1994-09-01T00:00:00.000000000",
          "1994-10-01T00:00:00.000000000",
          "1994-11-01T00:00:00.000000000",
          "1994-12-01T00:00:00.000000000",
          "1995-01-01T00:00:00.000000000",
          "1995-02-01T00:00:00.000000000",
          "1995-03-01T00:00:00.000000000",
          "1995-04-01T00:00:00.000000000",
          "1995-05-01T00:00:00.000000000",
          "1995-06-01T00:00:00.000000000",
          "1995-07-01T00:00:00.000000000",
          "1995-08-01T00:00:00.000000000",
          "1995-09-01T00:00:00.000000000",
          "1995-10-01T00:00:00.000000000",
          "1995-11-01T00:00:00.000000000",
          "1995-12-01T00:00:00.000000000",
          "1996-01-01T00:00:00.000000000",
          "1996-02-01T00:00:00.000000000",
          "1996-03-01T00:00:00.000000000",
          "1996-04-01T00:00:00.000000000",
          "1996-05-01T00:00:00.000000000",
          "1996-06-01T00:00:00.000000000",
          "1996-07-01T00:00:00.000000000",
          "1996-08-01T00:00:00.000000000",
          "1996-09-01T00:00:00.000000000",
          "1996-10-01T00:00:00.000000000",
          "1996-11-01T00:00:00.000000000",
          "1996-12-01T00:00:00.000000000",
          "1997-01-01T00:00:00.000000000",
          "1997-02-01T00:00:00.000000000",
          "1997-03-01T00:00:00.000000000",
          "1997-04-01T00:00:00.000000000",
          "1997-05-01T00:00:00.000000000",
          "1997-06-01T00:00:00.000000000",
          "1997-07-01T00:00:00.000000000",
          "1997-08-01T00:00:00.000000000",
          "1997-09-01T00:00:00.000000000",
          "1997-10-01T00:00:00.000000000",
          "1997-11-01T00:00:00.000000000",
          "1997-12-01T00:00:00.000000000",
          "1998-01-01T00:00:00.000000000",
          "1998-02-01T00:00:00.000000000",
          "1998-03-01T00:00:00.000000000",
          "1998-04-01T00:00:00.000000000",
          "1998-05-01T00:00:00.000000000",
          "1998-06-01T00:00:00.000000000",
          "1998-07-01T00:00:00.000000000",
          "1998-08-01T00:00:00.000000000",
          "1998-09-01T00:00:00.000000000",
          "1998-10-01T00:00:00.000000000",
          "1998-11-01T00:00:00.000000000",
          "1998-12-01T00:00:00.000000000",
          "1999-01-01T00:00:00.000000000",
          "1999-02-01T00:00:00.000000000",
          "1999-03-01T00:00:00.000000000",
          "1999-04-01T00:00:00.000000000",
          "1999-05-01T00:00:00.000000000",
          "1999-06-01T00:00:00.000000000",
          "1999-07-01T00:00:00.000000000",
          "1999-08-01T00:00:00.000000000",
          "1999-09-01T00:00:00.000000000",
          "1999-10-01T00:00:00.000000000",
          "1999-11-01T00:00:00.000000000",
          "1999-12-01T00:00:00.000000000",
          "2000-01-01T00:00:00.000000000",
          "2000-02-01T00:00:00.000000000",
          "2000-03-01T00:00:00.000000000",
          "2000-04-01T00:00:00.000000000",
          "2000-05-01T00:00:00.000000000",
          "2000-06-01T00:00:00.000000000",
          "2000-07-01T00:00:00.000000000",
          "2000-08-01T00:00:00.000000000",
          "2000-09-01T00:00:00.000000000",
          "2000-10-01T00:00:00.000000000",
          "2000-11-01T00:00:00.000000000",
          "2000-12-01T00:00:00.000000000",
          "2001-01-01T00:00:00.000000000",
          "2001-02-01T00:00:00.000000000",
          "2001-03-01T00:00:00.000000000",
          "2001-04-01T00:00:00.000000000",
          "2001-05-01T00:00:00.000000000",
          "2001-06-01T00:00:00.000000000",
          "2001-07-01T00:00:00.000000000",
          "2001-08-01T00:00:00.000000000",
          "2001-09-01T00:00:00.000000000",
          "2001-10-01T00:00:00.000000000",
          "2001-11-01T00:00:00.000000000",
          "2001-12-01T00:00:00.000000000",
          "2002-01-01T00:00:00.000000000",
          "2002-02-01T00:00:00.000000000",
          "2002-03-01T00:00:00.000000000",
          "2002-04-01T00:00:00.000000000",
          "2002-05-01T00:00:00.000000000",
          "2002-06-01T00:00:00.000000000",
          "2002-07-01T00:00:00.000000000",
          "2002-08-01T00:00:00.000000000",
          "2002-09-01T00:00:00.000000000",
          "2002-10-01T00:00:00.000000000",
          "2002-11-01T00:00:00.000000000",
          "2002-12-01T00:00:00.000000000",
          "2003-01-01T00:00:00.000000000",
          "2003-02-01T00:00:00.000000000",
          "2003-03-01T00:00:00.000000000",
          "2003-04-01T00:00:00.000000000",
          "2003-05-01T00:00:00.000000000",
          "2003-06-01T00:00:00.000000000",
          "2003-07-01T00:00:00.000000000",
          "2003-08-01T00:00:00.000000000",
          "2003-09-01T00:00:00.000000000",
          "2003-10-01T00:00:00.000000000",
          "2003-11-01T00:00:00.000000000",
          "2003-12-01T00:00:00.000000000",
          "2004-01-01T00:00:00.000000000",
          "2004-02-01T00:00:00.000000000",
          "2004-03-01T00:00:00.000000000",
          "2004-04-01T00:00:00.000000000",
          "2004-05-01T00:00:00.000000000",
          "2004-06-01T00:00:00.000000000",
          "2004-07-01T00:00:00.000000000",
          "2004-08-01T00:00:00.000000000",
          "2004-09-01T00:00:00.000000000",
          "2004-10-01T00:00:00.000000000",
          "2004-11-01T00:00:00.000000000",
          "2004-12-01T00:00:00.000000000",
          "2005-01-01T00:00:00.000000000",
          "2005-02-01T00:00:00.000000000",
          "2005-03-01T00:00:00.000000000",
          "2005-04-01T00:00:00.000000000",
          "2005-05-01T00:00:00.000000000",
          "2005-06-01T00:00:00.000000000",
          "2005-07-01T00:00:00.000000000",
          "2005-08-01T00:00:00.000000000",
          "2005-09-01T00:00:00.000000000",
          "2005-10-01T00:00:00.000000000",
          "2005-11-01T00:00:00.000000000",
          "2005-12-01T00:00:00.000000000",
          "2006-01-01T00:00:00.000000000",
          "2006-02-01T00:00:00.000000000",
          "2006-03-01T00:00:00.000000000",
          "2006-04-01T00:00:00.000000000",
          "2006-05-01T00:00:00.000000000",
          "2006-06-01T00:00:00.000000000",
          "2006-07-01T00:00:00.000000000",
          "2006-08-01T00:00:00.000000000",
          "2006-09-01T00:00:00.000000000",
          "2006-10-01T00:00:00.000000000",
          "2006-11-01T00:00:00.000000000",
          "2006-12-01T00:00:00.000000000",
          "2007-01-01T00:00:00.000000000",
          "2007-02-01T00:00:00.000000000",
          "2007-03-01T00:00:00.000000000",
          "2007-04-01T00:00:00.000000000",
          "2007-05-01T00:00:00.000000000",
          "2007-06-01T00:00:00.000000000",
          "2007-07-01T00:00:00.000000000",
          "2007-08-01T00:00:00.000000000",
          "2007-09-01T00:00:00.000000000",
          "2007-10-01T00:00:00.000000000",
          "2007-11-01T00:00:00.000000000",
          "2007-12-01T00:00:00.000000000",
          "2008-01-01T00:00:00.000000000",
          "2008-02-01T00:00:00.000000000",
          "2008-03-01T00:00:00.000000000",
          "2008-04-01T00:00:00.000000000",
          "2008-05-01T00:00:00.000000000",
          "2008-06-01T00:00:00.000000000",
          "2008-07-01T00:00:00.000000000",
          "2008-08-01T00:00:00.000000000",
          "2008-09-01T00:00:00.000000000",
          "2008-10-01T00:00:00.000000000",
          "2008-11-01T00:00:00.000000000",
          "2008-12-01T00:00:00.000000000",
          "2009-01-01T00:00:00.000000000",
          "2009-02-01T00:00:00.000000000",
          "2009-03-01T00:00:00.000000000",
          "2009-04-01T00:00:00.000000000",
          "2009-05-01T00:00:00.000000000",
          "2009-06-01T00:00:00.000000000",
          "2009-07-01T00:00:00.000000000",
          "2009-08-01T00:00:00.000000000",
          "2009-09-01T00:00:00.000000000",
          "2009-10-01T00:00:00.000000000",
          "2009-11-01T00:00:00.000000000",
          "2009-12-01T00:00:00.000000000",
          "2010-01-01T00:00:00.000000000",
          "2010-02-01T00:00:00.000000000",
          "2010-03-01T00:00:00.000000000",
          "2010-04-01T00:00:00.000000000",
          "2010-05-01T00:00:00.000000000",
          "2010-06-01T00:00:00.000000000",
          "2010-07-01T00:00:00.000000000",
          "2010-08-01T00:00:00.000000000",
          "2010-09-01T00:00:00.000000000",
          "2010-10-01T00:00:00.000000000",
          "2010-11-01T00:00:00.000000000",
          "2010-12-01T00:00:00.000000000",
          "2011-01-01T00:00:00.000000000",
          "2011-02-01T00:00:00.000000000",
          "2011-03-01T00:00:00.000000000",
          "2011-04-01T00:00:00.000000000",
          "2011-05-01T00:00:00.000000000",
          "2011-06-01T00:00:00.000000000",
          "2011-07-01T00:00:00.000000000",
          "2011-08-01T00:00:00.000000000",
          "2011-09-01T00:00:00.000000000",
          "2011-10-01T00:00:00.000000000",
          "2011-11-01T00:00:00.000000000",
          "2011-12-01T00:00:00.000000000",
          "2012-01-01T00:00:00.000000000",
          "2012-02-01T00:00:00.000000000",
          "2012-03-01T00:00:00.000000000",
          "2012-04-01T00:00:00.000000000",
          "2012-05-01T00:00:00.000000000",
          "2012-06-01T00:00:00.000000000",
          "2012-07-01T00:00:00.000000000",
          "2012-08-01T00:00:00.000000000",
          "2012-09-01T00:00:00.000000000",
          "2012-10-01T00:00:00.000000000",
          "2012-11-01T00:00:00.000000000",
          "2012-12-01T00:00:00.000000000",
          "2013-01-01T00:00:00.000000000",
          "2013-02-01T00:00:00.000000000",
          "2013-03-01T00:00:00.000000000",
          "2013-04-01T00:00:00.000000000",
          "2013-05-01T00:00:00.000000000",
          "2013-06-01T00:00:00.000000000",
          "2013-07-01T00:00:00.000000000",
          "2013-08-01T00:00:00.000000000",
          "2013-09-01T00:00:00.000000000",
          "2013-10-01T00:00:00.000000000",
          "2013-11-01T00:00:00.000000000",
          "2013-12-01T00:00:00.000000000",
          "2014-01-01T00:00:00.000000000",
          "2014-02-01T00:00:00.000000000",
          "2014-03-01T00:00:00.000000000",
          "2014-04-01T00:00:00.000000000",
          "2014-05-01T00:00:00.000000000",
          "2014-06-01T00:00:00.000000000",
          "2014-07-01T00:00:00.000000000",
          "2014-08-01T00:00:00.000000000",
          "2014-09-01T00:00:00.000000000",
          "2014-10-01T00:00:00.000000000",
          "2014-11-01T00:00:00.000000000",
          "2014-12-01T00:00:00.000000000",
          "2015-01-01T00:00:00.000000000",
          "2015-02-01T00:00:00.000000000",
          "2015-03-01T00:00:00.000000000",
          "2015-04-01T00:00:00.000000000",
          "2015-05-01T00:00:00.000000000",
          "2015-06-01T00:00:00.000000000",
          "2015-07-01T00:00:00.000000000",
          "2015-08-01T00:00:00.000000000",
          "2015-09-01T00:00:00.000000000",
          "2015-10-01T00:00:00.000000000",
          "2015-11-01T00:00:00.000000000",
          "2015-12-01T00:00:00.000000000",
          "2016-01-01T00:00:00.000000000",
          "2016-02-01T00:00:00.000000000",
          "2016-03-01T00:00:00.000000000",
          "2016-04-01T00:00:00.000000000",
          "2016-05-01T00:00:00.000000000",
          "2016-06-01T00:00:00.000000000",
          "2016-07-01T00:00:00.000000000",
          "2016-08-01T00:00:00.000000000",
          "2016-09-01T00:00:00.000000000",
          "2016-10-01T00:00:00.000000000",
          "2016-11-01T00:00:00.000000000",
          "2016-12-01T00:00:00.000000000",
          "2017-01-01T00:00:00.000000000",
          "2017-02-01T00:00:00.000000000",
          "2017-03-01T00:00:00.000000000",
          "2017-04-01T00:00:00.000000000",
          "2017-05-01T00:00:00.000000000",
          "2017-06-01T00:00:00.000000000",
          "2017-07-01T00:00:00.000000000",
          "2017-08-01T00:00:00.000000000",
          "2017-09-01T00:00:00.000000000",
          "2017-10-01T00:00:00.000000000",
          "2017-11-01T00:00:00.000000000",
          "2017-12-01T00:00:00.000000000",
          "2018-01-01T00:00:00.000000000",
          "2018-02-01T00:00:00.000000000",
          "2018-03-01T00:00:00.000000000",
          "2018-04-01T00:00:00.000000000",
          "2018-05-01T00:00:00.000000000",
          "2018-06-01T00:00:00.000000000",
          "2018-07-01T00:00:00.000000000",
          "2018-08-01T00:00:00.000000000",
          "2018-09-01T00:00:00.000000000",
          "2018-10-01T00:00:00.000000000",
          "2018-11-01T00:00:00.000000000",
          "2018-12-01T00:00:00.000000000",
          "2019-01-01T00:00:00.000000000",
          "2019-02-01T00:00:00.000000000",
          "2019-03-01T00:00:00.000000000",
          "2019-04-01T00:00:00.000000000",
          "2019-05-01T00:00:00.000000000",
          "2019-06-01T00:00:00.000000000",
          "2019-07-01T00:00:00.000000000",
          "2019-08-01T00:00:00.000000000",
          "2019-09-01T00:00:00.000000000",
          "2019-10-01T00:00:00.000000000",
          "2019-11-01T00:00:00.000000000",
          "2019-12-01T00:00:00.000000000",
          "2020-01-01T00:00:00.000000000",
          "2020-02-01T00:00:00.000000000",
          "2020-03-01T00:00:00.000000000",
          "2020-04-01T00:00:00.000000000",
          "2020-05-01T00:00:00.000000000",
          "2020-06-01T00:00:00.000000000",
          "2020-07-01T00:00:00.000000000",
          "2020-08-01T00:00:00.000000000",
          "2020-09-01T00:00:00.000000000",
          "2020-10-01T00:00:00.000000000",
          "2020-11-01T00:00:00.000000000",
          "2020-12-01T00:00:00.000000000",
          "2021-01-01T00:00:00.000000000",
          "2021-02-01T00:00:00.000000000",
          "2021-03-01T00:00:00.000000000",
          "2021-04-01T00:00:00.000000000",
          "2021-05-01T00:00:00.000000000",
          "2021-06-01T00:00:00.000000000",
          "2021-07-01T00:00:00.000000000",
          "2021-08-01T00:00:00.000000000",
          "2021-09-01T00:00:00.000000000",
          "2021-10-01T00:00:00.000000000",
          "2021-11-01T00:00:00.000000000",
          "2021-12-01T00:00:00.000000000",
          "2022-01-01T00:00:00.000000000",
          "2022-02-01T00:00:00.000000000",
          "2022-03-01T00:00:00.000000000",
          "2022-04-01T00:00:00.000000000",
          "2022-05-01T00:00:00.000000000",
          "2022-06-01T00:00:00.000000000",
          "2022-07-01T00:00:00.000000000",
          "2022-08-01T00:00:00.000000000",
          "2022-09-01T00:00:00.000000000",
          "2022-10-01T00:00:00.000000000",
          "2022-11-01T00:00:00.000000000",
          "2022-12-01T00:00:00.000000000",
          "2023-01-01T00:00:00.000000000",
          "2023-02-01T00:00:00.000000000",
          "2023-03-01T00:00:00.000000000",
          "2023-04-01T00:00:00.000000000",
          "2023-05-01T00:00:00.000000000",
          "2023-06-01T00:00:00.000000000",
          "2023-07-01T00:00:00.000000000",
          "2023-08-01T00:00:00.000000000",
          "2023-09-01T00:00:00.000000000",
          "2023-10-01T00:00:00.000000000",
          "2023-11-01T00:00:00.000000000",
          "2023-12-01T00:00:00.000000000",
          "2024-01-01T00:00:00.000000000",
          "2024-02-01T00:00:00.000000000",
          "2024-03-01T00:00:00.000000000",
          "2024-04-01T00:00:00.000000000",
          "2024-05-01T00:00:00.000000000",
          "2024-06-01T00:00:00.000000000",
          "2024-07-01T00:00:00.000000000",
          "2024-08-01T00:00:00.000000000",
          "2024-09-01T00:00:00.000000000",
          "2024-10-01T00:00:00.000000000",
          "2024-11-01T00:00:00.000000000",
          "2024-12-01T00:00:00.000000000"
         ],
         "xaxis": "x",
         "y": {
          "bdata": "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",
          "dtype": "f8"
         },
         "yaxis": "y"
        }
       ],
       "layout": {
        "font": {
         "size": 18
        },
        "height": 400,
        "legend": {
         "tracegroupgap": 0
        },
        "margin": {
         "t": 60
        },
        "template": {
         "data": {
          "bar": [
           {
            "error_x": {
             "color": "rgb(36,36,36)"
            },
            "error_y": {
             "color": "rgb(36,36,36)"
            },
            "marker": {
             "line": {
              "color": "white",
              "width": 0.5
             },
             "pattern": {
              "fillmode": "overlay",
              "size": 10,
              "solidity": 0.2
             }
            },
            "type": "bar"
           }
          ],
          "barpolar": [
           {
            "marker": {
             "line": {
              "color": "white",
              "width": 0.5
             },
             "pattern": {
              "fillmode": "overlay",
              "size": 10,
              "solidity": 0.2
             }
            },
            "type": "barpolar"
           }
          ],
          "carpet": [
           {
            "aaxis": {
             "endlinecolor": "rgb(36,36,36)",
             "gridcolor": "white",
             "linecolor": "white",
             "minorgridcolor": "white",
             "startlinecolor": "rgb(36,36,36)"
            },
            "baxis": {
             "endlinecolor": "rgb(36,36,36)",
             "gridcolor": "white",
             "linecolor": "white",
             "minorgridcolor": "white",
             "startlinecolor": "rgb(36,36,36)"
            },
            "type": "carpet"
           }
          ],
          "choropleth": [
           {
            "colorbar": {
             "outlinewidth": 1,
             "tickcolor": "rgb(36,36,36)",
             "ticks": "outside"
            },
            "type": "choropleth"
           }
          ],
          "contour": [
           {
            "colorbar": {
             "outlinewidth": 1,
             "tickcolor": "rgb(36,36,36)",
             "ticks": "outside"
            },
            "colorscale": [
             [
              0,
              "#440154"
             ],
             [
              0.1111111111111111,
              "#482878"
             ],
             [
              0.2222222222222222,
              "#3e4989"
             ],
             [
              0.3333333333333333,
              "#31688e"
             ],
             [
              0.4444444444444444,
              "#26828e"
             ],
             [
              0.5555555555555556,
              "#1f9e89"
             ],
             [
              0.6666666666666666,
              "#35b779"
             ],
             [
              0.7777777777777778,
              "#6ece58"
             ],
             [
              0.8888888888888888,
              "#b5de2b"
             ],
             [
              1,
              "#fde725"
             ]
            ],
            "type": "contour"
           }
          ],
          "contourcarpet": [
           {
            "colorbar": {
             "outlinewidth": 1,
             "tickcolor": "rgb(36,36,36)",
             "ticks": "outside"
            },
            "type": "contourcarpet"
           }
          ],
          "heatmap": [
           {
            "colorbar": {
             "outlinewidth": 1,
             "tickcolor": "rgb(36,36,36)",
             "ticks": "outside"
            },
            "colorscale": [
             [
              0,
              "#440154"
             ],
             [
              0.1111111111111111,
              "#482878"
             ],
             [
              0.2222222222222222,
              "#3e4989"
             ],
             [
              0.3333333333333333,
              "#31688e"
             ],
             [
              0.4444444444444444,
              "#26828e"
             ],
             [
              0.5555555555555556,
              "#1f9e89"
             ],
             [
              0.6666666666666666,
              "#35b779"
             ],
             [
              0.7777777777777778,
              "#6ece58"
             ],
             [
              0.8888888888888888,
              "#b5de2b"
             ],
             [
              1,
              "#fde725"
             ]
            ],
            "type": "heatmap"
           }
          ],
          "histogram": [
           {
            "marker": {
             "line": {
              "color": "white",
              "width": 0.6
             }
            },
            "type": "histogram"
           }
          ],
          "histogram2d": [
           {
            "colorbar": {
             "outlinewidth": 1,
             "tickcolor": "rgb(36,36,36)",
             "ticks": "outside"
            },
            "colorscale": [
             [
              0,
              "#440154"
             ],
             [
              0.1111111111111111,
              "#482878"
             ],
             [
              0.2222222222222222,
              "#3e4989"
             ],
             [
              0.3333333333333333,
              "#31688e"
             ],
             [
              0.4444444444444444,
              "#26828e"
             ],
             [
              0.5555555555555556,
              "#1f9e89"
             ],
             [
              0.6666666666666666,
              "#35b779"
             ],
             [
              0.7777777777777778,
              "#6ece58"
             ],
             [
              0.8888888888888888,
              "#b5de2b"
             ],
             [
              1,
              "#fde725"
             ]
            ],
            "type": "histogram2d"
           }
          ],
          "histogram2dcontour": [
           {
            "colorbar": {
             "outlinewidth": 1,
             "tickcolor": "rgb(36,36,36)",
             "ticks": "outside"
            },
            "colorscale": [
             [
              0,
              "#440154"
             ],
             [
              0.1111111111111111,
              "#482878"
             ],
             [
              0.2222222222222222,
              "#3e4989"
             ],
             [
              0.3333333333333333,
              "#31688e"
             ],
             [
              0.4444444444444444,
              "#26828e"
             ],
             [
              0.5555555555555556,
              "#1f9e89"
             ],
             [
              0.6666666666666666,
              "#35b779"
             ],
             [
              0.7777777777777778,
              "#6ece58"
             ],
             [
              0.8888888888888888,
              "#b5de2b"
             ],
             [
              1,
              "#fde725"
             ]
            ],
            "type": "histogram2dcontour"
           }
          ],
          "mesh3d": [
           {
            "colorbar": {
             "outlinewidth": 1,
             "tickcolor": "rgb(36,36,36)",
             "ticks": "outside"
            },
            "type": "mesh3d"
           }
          ],
          "parcoords": [
           {
            "line": {
             "colorbar": {
              "outlinewidth": 1,
              "tickcolor": "rgb(36,36,36)",
              "ticks": "outside"
             }
            },
            "type": "parcoords"
           }
          ],
          "pie": [
           {
            "automargin": true,
            "type": "pie"
           }
          ],
          "scatter": [
           {
            "fillpattern": {
             "fillmode": "overlay",
             "size": 10,
             "solidity": 0.2
            },
            "type": "scatter"
           }
          ],
          "scatter3d": [
           {
            "line": {
             "colorbar": {
              "outlinewidth": 1,
              "tickcolor": "rgb(36,36,36)",
              "ticks": "outside"
             }
            },
            "marker": {
             "colorbar": {
              "outlinewidth": 1,
              "tickcolor": "rgb(36,36,36)",
              "ticks": "outside"
             }
            },
            "type": "scatter3d"
           }
          ],
          "scattercarpet": [
           {
            "marker": {
             "colorbar": {
              "outlinewidth": 1,
              "tickcolor": "rgb(36,36,36)",
              "ticks": "outside"
             }
            },
            "type": "scattercarpet"
           }
          ],
          "scattergeo": [
           {
            "marker": {
             "colorbar": {
              "outlinewidth": 1,
              "tickcolor": "rgb(36,36,36)",
              "ticks": "outside"
             }
            },
            "type": "scattergeo"
           }
          ],
          "scattergl": [
           {
            "marker": {
             "colorbar": {
              "outlinewidth": 1,
              "tickcolor": "rgb(36,36,36)",
              "ticks": "outside"
             }
            },
            "type": "scattergl"
           }
          ],
          "scattermap": [
           {
            "marker": {
             "colorbar": {
              "outlinewidth": 1,
              "tickcolor": "rgb(36,36,36)",
              "ticks": "outside"
             }
            },
            "type": "scattermap"
           }
          ],
          "scattermapbox": [
           {
            "marker": {
             "colorbar": {
              "outlinewidth": 1,
              "tickcolor": "rgb(36,36,36)",
              "ticks": "outside"
             }
            },
            "type": "scattermapbox"
           }
          ],
          "scatterpolar": [
           {
            "marker": {
             "colorbar": {
              "outlinewidth": 1,
              "tickcolor": "rgb(36,36,36)",
              "ticks": "outside"
             }
            },
            "type": "scatterpolar"
           }
          ],
          "scatterpolargl": [
           {
            "marker": {
             "colorbar": {
              "outlinewidth": 1,
              "tickcolor": "rgb(36,36,36)",
              "ticks": "outside"
             }
            },
            "type": "scatterpolargl"
           }
          ],
          "scatterternary": [
           {
            "marker": {
             "colorbar": {
              "outlinewidth": 1,
              "tickcolor": "rgb(36,36,36)",
              "ticks": "outside"
             }
            },
            "type": "scatterternary"
           }
          ],
          "surface": [
           {
            "colorbar": {
             "outlinewidth": 1,
             "tickcolor": "rgb(36,36,36)",
             "ticks": "outside"
            },
            "colorscale": [
             [
              0,
              "#440154"
             ],
             [
              0.1111111111111111,
              "#482878"
             ],
             [
              0.2222222222222222,
              "#3e4989"
             ],
             [
              0.3333333333333333,
              "#31688e"
             ],
             [
              0.4444444444444444,
              "#26828e"
             ],
             [
              0.5555555555555556,
              "#1f9e89"
             ],
             [
              0.6666666666666666,
              "#35b779"
             ],
             [
              0.7777777777777778,
              "#6ece58"
             ],
             [
              0.8888888888888888,
              "#b5de2b"
             ],
             [
              1,
              "#fde725"
             ]
            ],
            "type": "surface"
           }
          ],
          "table": [
           {
            "cells": {
             "fill": {
              "color": "rgb(237,237,237)"
             },
             "line": {
              "color": "white"
             }
            },
            "header": {
             "fill": {
              "color": "rgb(217,217,217)"
             },
             "line": {
              "color": "white"
             }
            },
            "type": "table"
           }
          ]
         },
         "layout": {
          "annotationdefaults": {
           "arrowhead": 0,
           "arrowwidth": 1
          },
          "autotypenumbers": "strict",
          "coloraxis": {
           "colorbar": {
            "outlinewidth": 1,
            "tickcolor": "rgb(36,36,36)",
            "ticks": "outside"
           }
          },
          "colorscale": {
           "diverging": [
            [
             0,
             "rgb(103,0,31)"
            ],
            [
             0.1,
             "rgb(178,24,43)"
            ],
            [
             0.2,
             "rgb(214,96,77)"
            ],
            [
             0.3,
             "rgb(244,165,130)"
            ],
            [
             0.4,
             "rgb(253,219,199)"
            ],
            [
             0.5,
             "rgb(247,247,247)"
            ],
            [
             0.6,
             "rgb(209,229,240)"
            ],
            [
             0.7,
             "rgb(146,197,222)"
            ],
            [
             0.8,
             "rgb(67,147,195)"
            ],
            [
             0.9,
             "rgb(33,102,172)"
            ],
            [
             1,
             "rgb(5,48,97)"
            ]
           ],
           "sequential": [
            [
             0,
             "#440154"
            ],
            [
             0.1111111111111111,
             "#482878"
            ],
            [
             0.2222222222222222,
             "#3e4989"
            ],
            [
             0.3333333333333333,
             "#31688e"
            ],
            [
             0.4444444444444444,
             "#26828e"
            ],
            [
             0.5555555555555556,
             "#1f9e89"
            ],
            [
             0.6666666666666666,
             "#35b779"
            ],
            [
             0.7777777777777778,
             "#6ece58"
            ],
            [
             0.8888888888888888,
             "#b5de2b"
            ],
            [
             1,
             "#fde725"
            ]
           ],
           "sequentialminus": [
            [
             0,
             "#440154"
            ],
            [
             0.1111111111111111,
             "#482878"
            ],
            [
             0.2222222222222222,
             "#3e4989"
            ],
            [
             0.3333333333333333,
             "#31688e"
            ],
            [
             0.4444444444444444,
             "#26828e"
            ],
            [
             0.5555555555555556,
             "#1f9e89"
            ],
            [
             0.6666666666666666,
             "#35b779"
            ],
            [
             0.7777777777777778,
             "#6ece58"
            ],
            [
             0.8888888888888888,
             "#b5de2b"
            ],
            [
             1,
             "#fde725"
            ]
           ]
          },
          "colorway": [
           "#1F77B4",
           "#FF7F0E",
           "#2CA02C",
           "#D62728",
           "#9467BD",
           "#8C564B",
           "#E377C2",
           "#7F7F7F",
           "#BCBD22",
           "#17BECF"
          ],
          "font": {
           "color": "rgb(36,36,36)"
          },
          "geo": {
           "bgcolor": "white",
           "lakecolor": "white",
           "landcolor": "white",
           "showlakes": true,
           "showland": true,
           "subunitcolor": "white"
          },
          "hoverlabel": {
           "align": "left"
          },
          "hovermode": "closest",
          "mapbox": {
           "style": "light"
          },
          "paper_bgcolor": "white",
          "plot_bgcolor": "white",
          "polar": {
           "angularaxis": {
            "gridcolor": "rgb(232,232,232)",
            "linecolor": "rgb(36,36,36)",
            "showgrid": false,
            "showline": true,
            "ticks": "outside"
           },
           "bgcolor": "white",
           "radialaxis": {
            "gridcolor": "rgb(232,232,232)",
            "linecolor": "rgb(36,36,36)",
            "showgrid": false,
            "showline": true,
            "ticks": "outside"
           }
          },
          "scene": {
           "xaxis": {
            "backgroundcolor": "white",
            "gridcolor": "rgb(232,232,232)",
            "gridwidth": 2,
            "linecolor": "rgb(36,36,36)",
            "showbackground": true,
            "showgrid": false,
            "showline": true,
            "ticks": "outside",
            "zeroline": false,
            "zerolinecolor": "rgb(36,36,36)"
           },
           "yaxis": {
            "backgroundcolor": "white",
            "gridcolor": "rgb(232,232,232)",
            "gridwidth": 2,
            "linecolor": "rgb(36,36,36)",
            "showbackground": true,
            "showgrid": false,
            "showline": true,
            "ticks": "outside",
            "zeroline": false,
            "zerolinecolor": "rgb(36,36,36)"
           },
           "zaxis": {
            "backgroundcolor": "white",
            "gridcolor": "rgb(232,232,232)",
            "gridwidth": 2,
            "linecolor": "rgb(36,36,36)",
            "showbackground": true,
            "showgrid": false,
            "showline": true,
            "ticks": "outside",
            "zeroline": false,
            "zerolinecolor": "rgb(36,36,36)"
           }
          },
          "shapedefaults": {
           "fillcolor": "black",
           "line": {
            "width": 0
           },
           "opacity": 0.3
          },
          "ternary": {
           "aaxis": {
            "gridcolor": "rgb(232,232,232)",
            "linecolor": "rgb(36,36,36)",
            "showgrid": false,
            "showline": true,
            "ticks": "outside"
           },
           "baxis": {
            "gridcolor": "rgb(232,232,232)",
            "linecolor": "rgb(36,36,36)",
            "showgrid": false,
            "showline": true,
            "ticks": "outside"
           },
           "bgcolor": "white",
           "caxis": {
            "gridcolor": "rgb(232,232,232)",
            "linecolor": "rgb(36,36,36)",
            "showgrid": false,
            "showline": true,
            "ticks": "outside"
           }
          },
          "title": {
           "x": 0.05
          },
          "xaxis": {
           "automargin": true,
           "gridcolor": "rgb(232,232,232)",
           "linecolor": "rgb(36,36,36)",
           "showgrid": false,
           "showline": true,
           "ticks": "outside",
           "title": {
            "standoff": 15
           },
           "zeroline": false,
           "zerolinecolor": "rgb(36,36,36)"
          },
          "yaxis": {
           "automargin": true,
           "gridcolor": "rgb(232,232,232)",
           "linecolor": "rgb(36,36,36)",
           "showgrid": false,
           "showline": true,
           "ticks": "outside",
           "title": {
            "standoff": 15
           },
           "zeroline": false,
           "zerolinecolor": "rgb(36,36,36)"
          }
         }
        },
        "title": {
         "text": "Crude Oil Brent Over Time",
         "x": 0.5
        },
        "width": 650,
        "xaxis": {
         "anchor": "y",
         "domain": [
          0,
          1
         ],
         "title": {
          "text": "Date"
         }
        },
        "yaxis": {
         "anchor": "x",
         "domain": [
          0,
          1
         ],
         "title": {
          "text": "Price ($/bbl)"
         }
        }
       }
      }
     },
     "metadata": {},
     "output_type": "display_data"
    }
   ],
   "source": [
    "plotting(title='Crude Oil Brent Over Time', data=data, x='date', y='Crude Oil Brent Price', x_label='Date', y_label='Price ($/bbl)')\n",
    "# add_separator()"
   ]
  },
  {
   "cell_type": "code",
   "execution_count": 9,
   "metadata": {},
   "outputs": [
    {
     "data": {
      "text/plain": [
       "540"
      ]
     },
     "execution_count": 9,
     "metadata": {},
     "output_type": "execute_result"
    }
   ],
   "source": [
    "len(data)"
   ]
  },
  {
   "cell_type": "code",
   "execution_count": 10,
   "metadata": {},
   "outputs": [],
   "source": [
    "train = data.iloc[:528]  # 1980 to 2023\n",
    "test = data.iloc[528:]  # 2024"
   ]
  },
  {
   "cell_type": "code",
   "execution_count": 11,
   "metadata": {},
   "outputs": [],
   "source": [
    "# scaler = StandardScaler()\n",
    "scaler = MinMaxScaler()\n",
    "# scaled_data = scaler.fit_transform(data[\"Crude Oil Brent Price\"])\n",
    "scaler.fit(train[[\"Crude Oil Brent Price\"]])\n",
    "scaled_train = scaler.transform(train[[\"Crude Oil Brent Price\"]])\n",
    "scaled_test = scaler.transform(test[[\"Crude Oil Brent Price\"]])"
   ]
  },
  {
   "cell_type": "code",
   "execution_count": 12,
   "metadata": {},
   "outputs": [],
   "source": [
    "from tensorflow.keras.preprocessing.sequence import TimeseriesGenerator\n",
    "\n",
    "# Define Parameters\n",
    "lookback = 3  # Number of past steps to use as input\n",
    "batch_size = 2  # Number of samples per batch\n",
    "n_features = 1\n",
    "\n",
    "from tensorflow.keras.utils import timeseries_dataset_from_array\n",
    "\n",
    "generator = timeseries_dataset_from_array(\n",
    "    data=scaled_train,\n",
    "    targets=scaled_train,\n",
    "    sequence_length=lookback,\n",
    "    batch_size=batch_size,\n",
    ")\n",
    "\n",
    "# Initialize Generator\n",
    "# generator = TimeseriesGenerator(scaled_train, scaled_train, length=lookback, batch_size=batch_size)"
   ]
  },
  {
   "cell_type": "code",
   "execution_count": 13,
   "metadata": {},
   "outputs": [
    {
     "name": "stderr",
     "output_type": "stream",
     "text": [
      "/opt/anaconda3/envs/ML/lib/python3.12/site-packages/keras/src/layers/rnn/rnn.py:200: UserWarning:\n",
      "\n",
      "Do not pass an `input_shape`/`input_dim` argument to a layer. When using Sequential models, prefer using an `Input(shape)` object as the first layer in the model instead.\n",
      "\n"
     ]
    },
    {
     "data": {
      "text/html": [
       "<pre style=\"white-space:pre;overflow-x:auto;line-height:normal;font-family:Menlo,'DejaVu Sans Mono',consolas,'Courier New',monospace\"><span style=\"font-weight: bold\">Model: \"sequential\"</span>\n",
       "</pre>\n"
      ],
      "text/plain": [
       "\u001b[1mModel: \"sequential\"\u001b[0m\n"
      ]
     },
     "metadata": {},
     "output_type": "display_data"
    },
    {
     "data": {
      "text/html": [
       "<pre style=\"white-space:pre;overflow-x:auto;line-height:normal;font-family:Menlo,'DejaVu Sans Mono',consolas,'Courier New',monospace\">┏━━━━━━━━━━━━━━━━━━━━━━━━━━━━━━━━━┳━━━━━━━━━━━━━━━━━━━━━━━━┳━━━━━━━━━━━━━━━┓\n",
       "┃<span style=\"font-weight: bold\"> Layer (type)                    </span>┃<span style=\"font-weight: bold\"> Output Shape           </span>┃<span style=\"font-weight: bold\">       Param # </span>┃\n",
       "┡━━━━━━━━━━━━━━━━━━━━━━━━━━━━━━━━━╇━━━━━━━━━━━━━━━━━━━━━━━━╇━━━━━━━━━━━━━━━┩\n",
       "│ lstm (<span style=\"color: #0087ff; text-decoration-color: #0087ff\">LSTM</span>)                     │ (<span style=\"color: #00d7ff; text-decoration-color: #00d7ff\">None</span>, <span style=\"color: #00af00; text-decoration-color: #00af00\">256</span>)            │       <span style=\"color: #00af00; text-decoration-color: #00af00\">264,192</span> │\n",
       "├─────────────────────────────────┼────────────────────────┼───────────────┤\n",
       "│ dense (<span style=\"color: #0087ff; text-decoration-color: #0087ff\">Dense</span>)                   │ (<span style=\"color: #00d7ff; text-decoration-color: #00d7ff\">None</span>, <span style=\"color: #00af00; text-decoration-color: #00af00\">1</span>)              │           <span style=\"color: #00af00; text-decoration-color: #00af00\">257</span> │\n",
       "└─────────────────────────────────┴────────────────────────┴───────────────┘\n",
       "</pre>\n"
      ],
      "text/plain": [
       "┏━━━━━━━━━━━━━━━━━━━━━━━━━━━━━━━━━┳━━━━━━━━━━━━━━━━━━━━━━━━┳━━━━━━━━━━━━━━━┓\n",
       "┃\u001b[1m \u001b[0m\u001b[1mLayer (type)                   \u001b[0m\u001b[1m \u001b[0m┃\u001b[1m \u001b[0m\u001b[1mOutput Shape          \u001b[0m\u001b[1m \u001b[0m┃\u001b[1m \u001b[0m\u001b[1m      Param #\u001b[0m\u001b[1m \u001b[0m┃\n",
       "┡━━━━━━━━━━━━━━━━━━━━━━━━━━━━━━━━━╇━━━━━━━━━━━━━━━━━━━━━━━━╇━━━━━━━━━━━━━━━┩\n",
       "│ lstm (\u001b[38;5;33mLSTM\u001b[0m)                     │ (\u001b[38;5;45mNone\u001b[0m, \u001b[38;5;34m256\u001b[0m)            │       \u001b[38;5;34m264,192\u001b[0m │\n",
       "├─────────────────────────────────┼────────────────────────┼───────────────┤\n",
       "│ dense (\u001b[38;5;33mDense\u001b[0m)                   │ (\u001b[38;5;45mNone\u001b[0m, \u001b[38;5;34m1\u001b[0m)              │           \u001b[38;5;34m257\u001b[0m │\n",
       "└─────────────────────────────────┴────────────────────────┴───────────────┘\n"
      ]
     },
     "metadata": {},
     "output_type": "display_data"
    },
    {
     "data": {
      "text/html": [
       "<pre style=\"white-space:pre;overflow-x:auto;line-height:normal;font-family:Menlo,'DejaVu Sans Mono',consolas,'Courier New',monospace\"><span style=\"font-weight: bold\"> Total params: </span><span style=\"color: #00af00; text-decoration-color: #00af00\">264,449</span> (1.01 MB)\n",
       "</pre>\n"
      ],
      "text/plain": [
       "\u001b[1m Total params: \u001b[0m\u001b[38;5;34m264,449\u001b[0m (1.01 MB)\n"
      ]
     },
     "metadata": {},
     "output_type": "display_data"
    },
    {
     "data": {
      "text/html": [
       "<pre style=\"white-space:pre;overflow-x:auto;line-height:normal;font-family:Menlo,'DejaVu Sans Mono',consolas,'Courier New',monospace\"><span style=\"font-weight: bold\"> Trainable params: </span><span style=\"color: #00af00; text-decoration-color: #00af00\">264,449</span> (1.01 MB)\n",
       "</pre>\n"
      ],
      "text/plain": [
       "\u001b[1m Trainable params: \u001b[0m\u001b[38;5;34m264,449\u001b[0m (1.01 MB)\n"
      ]
     },
     "metadata": {},
     "output_type": "display_data"
    },
    {
     "data": {
      "text/html": [
       "<pre style=\"white-space:pre;overflow-x:auto;line-height:normal;font-family:Menlo,'DejaVu Sans Mono',consolas,'Courier New',monospace\"><span style=\"font-weight: bold\"> Non-trainable params: </span><span style=\"color: #00af00; text-decoration-color: #00af00\">0</span> (0.00 B)\n",
       "</pre>\n"
      ],
      "text/plain": [
       "\u001b[1m Non-trainable params: \u001b[0m\u001b[38;5;34m0\u001b[0m (0.00 B)\n"
      ]
     },
     "metadata": {},
     "output_type": "display_data"
    }
   ],
   "source": [
    "# Build model\n",
    "model = keras.models.Sequential([\n",
    "    keras.layers.LSTM(256, return_sequences=False, input_shape=(lookback, n_features)),  # 1st layer\n",
    "    # keras.layers.LSTM(127, return_sequences=False),  # 2nd layer\n",
    "    # keras.layers.Dense(128, activation=\"relu\"),  # 3rd Layer (Dense)\n",
    "    # keras.layers.Dropout(0.2),  # 4th Layer (Dropout)\n",
    "    keras.layers.Dense(1)  # Final Output Layer\n",
    "])\n",
    "\n",
    "# model summary\n",
    "model.summary()"
   ]
  },
  {
   "cell_type": "code",
   "execution_count": null,
   "metadata": {},
   "outputs": [],
   "source": [
    "model.compile(\n",
    "    optimizer=\"adam\", \n",
    "    loss=keras.losses.MeanSquaredError(), \n",
    "    metrics=[keras.metrics.MeanAbsoluteError()]\n",
    ")"
   ]
  },
  {
   "cell_type": "code",
   "execution_count": 15,
   "metadata": {},
   "outputs": [
    {
     "name": "stdout",
     "output_type": "stream",
     "text": [
      "Epoch 1/50\n",
      "\u001b[1m263/263\u001b[0m \u001b[32m━━━━━━━━━━━━━━━━━━━━\u001b[0m\u001b[37m\u001b[0m \u001b[1m1s\u001b[0m 2ms/step - loss: 0.0047 - mean_absolute_percentage_error: 282004.9375\n",
      "Epoch 2/50\n",
      "\u001b[1m263/263\u001b[0m \u001b[32m━━━━━━━━━━━━━━━━━━━━\u001b[0m\u001b[37m\u001b[0m \u001b[1m1s\u001b[0m 2ms/step - loss: 5.5542e-04 - mean_absolute_percentage_error: 120707.0156\n",
      "Epoch 3/50\n",
      "\u001b[1m263/263\u001b[0m \u001b[32m━━━━━━━━━━━━━━━━━━━━\u001b[0m\u001b[37m\u001b[0m \u001b[1m1s\u001b[0m 2ms/step - loss: 0.0020 - mean_absolute_percentage_error: 117366.7656\n",
      "Epoch 4/50\n",
      "\u001b[1m263/263\u001b[0m \u001b[32m━━━━━━━━━━━━━━━━━━━━\u001b[0m\u001b[37m\u001b[0m \u001b[1m0s\u001b[0m 2ms/step - loss: 0.0012 - mean_absolute_percentage_error: 31512.8926\n",
      "Epoch 5/50\n",
      "\u001b[1m263/263\u001b[0m \u001b[32m━━━━━━━━━━━━━━━━━━━━\u001b[0m\u001b[37m\u001b[0m \u001b[1m1s\u001b[0m 2ms/step - loss: 7.9434e-04 - mean_absolute_percentage_error: 21703.2051\n",
      "Epoch 6/50\n",
      "\u001b[1m263/263\u001b[0m \u001b[32m━━━━━━━━━━━━━━━━━━━━\u001b[0m\u001b[37m\u001b[0m \u001b[1m1s\u001b[0m 2ms/step - loss: 4.3397e-04 - mean_absolute_percentage_error: 37839.2852\n",
      "Epoch 7/50\n",
      "\u001b[1m263/263\u001b[0m \u001b[32m━━━━━━━━━━━━━━━━━━━━\u001b[0m\u001b[37m\u001b[0m \u001b[1m1s\u001b[0m 2ms/step - loss: 2.4749e-04 - mean_absolute_percentage_error: 66616.1797\n",
      "Epoch 8/50\n",
      "\u001b[1m263/263\u001b[0m \u001b[32m━━━━━━━━━━━━━━━━━━━━\u001b[0m\u001b[37m\u001b[0m \u001b[1m1s\u001b[0m 2ms/step - loss: 2.3925e-04 - mean_absolute_percentage_error: 83399.1953\n",
      "Epoch 9/50\n",
      "\u001b[1m263/263\u001b[0m \u001b[32m━━━━━━━━━━━━━━━━━━━━\u001b[0m\u001b[37m\u001b[0m \u001b[1m1s\u001b[0m 2ms/step - loss: 2.9132e-04 - mean_absolute_percentage_error: 96860.2344\n",
      "Epoch 10/50\n",
      "\u001b[1m263/263\u001b[0m \u001b[32m━━━━━━━━━━━━━━━━━━━━\u001b[0m\u001b[37m\u001b[0m \u001b[1m1s\u001b[0m 2ms/step - loss: 2.2270e-04 - mean_absolute_percentage_error: 107637.3047\n",
      "Epoch 11/50\n",
      "\u001b[1m263/263\u001b[0m \u001b[32m━━━━━━━━━━━━━━━━━━━━\u001b[0m\u001b[37m\u001b[0m \u001b[1m1s\u001b[0m 2ms/step - loss: 1.1474e-04 - mean_absolute_percentage_error: 115228.5703\n",
      "Epoch 12/50\n",
      "\u001b[1m263/263\u001b[0m \u001b[32m━━━━━━━━━━━━━━━━━━━━\u001b[0m\u001b[37m\u001b[0m \u001b[1m1s\u001b[0m 2ms/step - loss: 1.0428e-04 - mean_absolute_percentage_error: 96009.3984\n",
      "Epoch 13/50\n",
      "\u001b[1m263/263\u001b[0m \u001b[32m━━━━━━━━━━━━━━━━━━━━\u001b[0m\u001b[37m\u001b[0m \u001b[1m1s\u001b[0m 2ms/step - loss: 1.2757e-04 - mean_absolute_percentage_error: 60404.5000\n",
      "Epoch 14/50\n",
      "\u001b[1m263/263\u001b[0m \u001b[32m━━━━━━━━━━━━━━━━━━━━\u001b[0m\u001b[37m\u001b[0m \u001b[1m0s\u001b[0m 2ms/step - loss: 1.4116e-04 - mean_absolute_percentage_error: 30797.0430\n",
      "Epoch 15/50\n",
      "\u001b[1m263/263\u001b[0m \u001b[32m━━━━━━━━━━━━━━━━━━━━\u001b[0m\u001b[37m\u001b[0m \u001b[1m1s\u001b[0m 2ms/step - loss: 1.2007e-04 - mean_absolute_percentage_error: 1348.0675\n",
      "Epoch 16/50\n",
      "\u001b[1m263/263\u001b[0m \u001b[32m━━━━━━━━━━━━━━━━━━━━\u001b[0m\u001b[37m\u001b[0m \u001b[1m1s\u001b[0m 2ms/step - loss: 1.4393e-04 - mean_absolute_percentage_error: 903.3842\n",
      "Epoch 17/50\n",
      "\u001b[1m263/263\u001b[0m \u001b[32m━━━━━━━━━━━━━━━━━━━━\u001b[0m\u001b[37m\u001b[0m \u001b[1m1s\u001b[0m 2ms/step - loss: 4.7208e-04 - mean_absolute_percentage_error: 36407.7305\n",
      "Epoch 18/50\n",
      "\u001b[1m263/263\u001b[0m \u001b[32m━━━━━━━━━━━━━━━━━━━━\u001b[0m\u001b[37m\u001b[0m \u001b[1m1s\u001b[0m 2ms/step - loss: 2.8974e-04 - mean_absolute_percentage_error: 49660.6055\n",
      "Epoch 19/50\n",
      "\u001b[1m263/263\u001b[0m \u001b[32m━━━━━━━━━━━━━━━━━━━━\u001b[0m\u001b[37m\u001b[0m \u001b[1m1s\u001b[0m 2ms/step - loss: 1.8572e-04 - mean_absolute_percentage_error: 54098.2539\n",
      "Epoch 20/50\n",
      "\u001b[1m263/263\u001b[0m \u001b[32m━━━━━━━━━━━━━━━━━━━━\u001b[0m\u001b[37m\u001b[0m \u001b[1m1s\u001b[0m 2ms/step - loss: 3.1755e-05 - mean_absolute_percentage_error: 41097.9258\n",
      "Epoch 21/50\n",
      "\u001b[1m263/263\u001b[0m \u001b[32m━━━━━━━━━━━━━━━━━━━━\u001b[0m\u001b[37m\u001b[0m \u001b[1m1s\u001b[0m 2ms/step - loss: 5.5203e-05 - mean_absolute_percentage_error: 34729.6641\n",
      "Epoch 22/50\n",
      "\u001b[1m263/263\u001b[0m \u001b[32m━━━━━━━━━━━━━━━━━━━━\u001b[0m\u001b[37m\u001b[0m \u001b[1m1s\u001b[0m 2ms/step - loss: 1.6967e-05 - mean_absolute_percentage_error: 26016.6797\n",
      "Epoch 23/50\n",
      "\u001b[1m263/263\u001b[0m \u001b[32m━━━━━━━━━━━━━━━━━━━━\u001b[0m\u001b[37m\u001b[0m \u001b[1m1s\u001b[0m 2ms/step - loss: 2.2869e-05 - mean_absolute_percentage_error: 2725.3989\n",
      "Epoch 24/50\n",
      "\u001b[1m263/263\u001b[0m \u001b[32m━━━━━━━━━━━━━━━━━━━━\u001b[0m\u001b[37m\u001b[0m \u001b[1m1s\u001b[0m 2ms/step - loss: 2.2212e-05 - mean_absolute_percentage_error: 1562.3086\n",
      "Epoch 25/50\n",
      "\u001b[1m263/263\u001b[0m \u001b[32m━━━━━━━━━━━━━━━━━━━━\u001b[0m\u001b[37m\u001b[0m \u001b[1m1s\u001b[0m 2ms/step - loss: 3.0181e-05 - mean_absolute_percentage_error: 6535.6104\n",
      "Epoch 26/50\n",
      "\u001b[1m263/263\u001b[0m \u001b[32m━━━━━━━━━━━━━━━━━━━━\u001b[0m\u001b[37m\u001b[0m \u001b[1m1s\u001b[0m 2ms/step - loss: 2.6545e-05 - mean_absolute_percentage_error: 5886.8027\n",
      "Epoch 27/50\n",
      "\u001b[1m263/263\u001b[0m \u001b[32m━━━━━━━━━━━━━━━━━━━━\u001b[0m\u001b[37m\u001b[0m \u001b[1m1s\u001b[0m 2ms/step - loss: 7.7066e-05 - mean_absolute_percentage_error: 25189.5234\n",
      "Epoch 28/50\n",
      "\u001b[1m263/263\u001b[0m \u001b[32m━━━━━━━━━━━━━━━━━━━━\u001b[0m\u001b[37m\u001b[0m \u001b[1m1s\u001b[0m 2ms/step - loss: 1.9326e-05 - mean_absolute_percentage_error: 7767.6772\n",
      "Epoch 29/50\n",
      "\u001b[1m263/263\u001b[0m \u001b[32m━━━━━━━━━━━━━━━━━━━━\u001b[0m\u001b[37m\u001b[0m \u001b[1m1s\u001b[0m 2ms/step - loss: 1.6813e-05 - mean_absolute_percentage_error: 1130.1223\n",
      "Epoch 30/50\n",
      "\u001b[1m263/263\u001b[0m \u001b[32m━━━━━━━━━━━━━━━━━━━━\u001b[0m\u001b[37m\u001b[0m \u001b[1m1s\u001b[0m 2ms/step - loss: 2.4584e-05 - mean_absolute_percentage_error: 3823.3987\n",
      "Epoch 31/50\n",
      "\u001b[1m263/263\u001b[0m \u001b[32m━━━━━━━━━━━━━━━━━━━━\u001b[0m\u001b[37m\u001b[0m \u001b[1m1s\u001b[0m 2ms/step - loss: 8.0028e-05 - mean_absolute_percentage_error: 4619.6523\n",
      "Epoch 32/50\n",
      "\u001b[1m263/263\u001b[0m \u001b[32m━━━━━━━━━━━━━━━━━━━━\u001b[0m\u001b[37m\u001b[0m \u001b[1m1s\u001b[0m 2ms/step - loss: 2.3454e-04 - mean_absolute_percentage_error: 29157.9766\n",
      "Epoch 33/50\n",
      "\u001b[1m263/263\u001b[0m \u001b[32m━━━━━━━━━━━━━━━━━━━━\u001b[0m\u001b[37m\u001b[0m \u001b[1m1s\u001b[0m 2ms/step - loss: 1.1743e-04 - mean_absolute_percentage_error: 63631.9570\n",
      "Epoch 34/50\n",
      "\u001b[1m263/263\u001b[0m \u001b[32m━━━━━━━━━━━━━━━━━━━━\u001b[0m\u001b[37m\u001b[0m \u001b[1m1s\u001b[0m 2ms/step - loss: 1.8065e-04 - mean_absolute_percentage_error: 89974.4219\n",
      "Epoch 35/50\n",
      "\u001b[1m263/263\u001b[0m \u001b[32m━━━━━━━━━━━━━━━━━━━━\u001b[0m\u001b[37m\u001b[0m \u001b[1m1s\u001b[0m 2ms/step - loss: 2.1987e-04 - mean_absolute_percentage_error: 96755.0781 \n",
      "Epoch 36/50\n",
      "\u001b[1m263/263\u001b[0m \u001b[32m━━━━━━━━━━━━━━━━━━━━\u001b[0m\u001b[37m\u001b[0m \u001b[1m1s\u001b[0m 2ms/step - loss: 1.1199e-04 - mean_absolute_percentage_error: 91318.5703\n",
      "Epoch 37/50\n",
      "\u001b[1m263/263\u001b[0m \u001b[32m━━━━━━━━━━━━━━━━━━━━\u001b[0m\u001b[37m\u001b[0m \u001b[1m1s\u001b[0m 2ms/step - loss: 4.1437e-05 - mean_absolute_percentage_error: 62856.0078\n",
      "Epoch 38/50\n",
      "\u001b[1m263/263\u001b[0m \u001b[32m━━━━━━━━━━━━━━━━━━━━\u001b[0m\u001b[37m\u001b[0m \u001b[1m1s\u001b[0m 2ms/step - loss: 1.1229e-05 - mean_absolute_percentage_error: 28327.6230\n",
      "Epoch 39/50\n",
      "\u001b[1m263/263\u001b[0m \u001b[32m━━━━━━━━━━━━━━━━━━━━\u001b[0m\u001b[37m\u001b[0m \u001b[1m1s\u001b[0m 2ms/step - loss: 8.8159e-06 - mean_absolute_percentage_error: 8059.8232\n",
      "Epoch 40/50\n",
      "\u001b[1m263/263\u001b[0m \u001b[32m━━━━━━━━━━━━━━━━━━━━\u001b[0m\u001b[37m\u001b[0m \u001b[1m1s\u001b[0m 2ms/step - loss: 1.1344e-05 - mean_absolute_percentage_error: 1264.5131\n",
      "Epoch 41/50\n",
      "\u001b[1m263/263\u001b[0m \u001b[32m━━━━━━━━━━━━━━━━━━━━\u001b[0m\u001b[37m\u001b[0m \u001b[1m1s\u001b[0m 2ms/step - loss: 1.0582e-05 - mean_absolute_percentage_error: 3979.9011\n",
      "Epoch 42/50\n",
      "\u001b[1m263/263\u001b[0m \u001b[32m━━━━━━━━━━━━━━━━━━━━\u001b[0m\u001b[37m\u001b[0m \u001b[1m1s\u001b[0m 2ms/step - loss: 9.5206e-06 - mean_absolute_percentage_error: 3582.3364\n",
      "Epoch 43/50\n",
      "\u001b[1m263/263\u001b[0m \u001b[32m━━━━━━━━━━━━━━━━━━━━\u001b[0m\u001b[37m\u001b[0m \u001b[1m1s\u001b[0m 2ms/step - loss: 7.5007e-06 - mean_absolute_percentage_error: 2292.2734\n",
      "Epoch 44/50\n",
      "\u001b[1m263/263\u001b[0m \u001b[32m━━━━━━━━━━━━━━━━━━━━\u001b[0m\u001b[37m\u001b[0m \u001b[1m1s\u001b[0m 2ms/step - loss: 1.1497e-05 - mean_absolute_percentage_error: 12330.3926\n",
      "Epoch 45/50\n",
      "\u001b[1m263/263\u001b[0m \u001b[32m━━━━━━━━━━━━━━━━━━━━\u001b[0m\u001b[37m\u001b[0m \u001b[1m1s\u001b[0m 2ms/step - loss: 9.8888e-06 - mean_absolute_percentage_error: 10291.1982\n",
      "Epoch 46/50\n",
      "\u001b[1m263/263\u001b[0m \u001b[32m━━━━━━━━━━━━━━━━━━━━\u001b[0m\u001b[37m\u001b[0m \u001b[1m1s\u001b[0m 2ms/step - loss: 1.4678e-05 - mean_absolute_percentage_error: 14226.1045\n",
      "Epoch 47/50\n",
      "\u001b[1m263/263\u001b[0m \u001b[32m━━━━━━━━━━━━━━━━━━━━\u001b[0m\u001b[37m\u001b[0m \u001b[1m1s\u001b[0m 2ms/step - loss: 1.5946e-05 - mean_absolute_percentage_error: 13469.2969\n",
      "Epoch 48/50\n",
      "\u001b[1m263/263\u001b[0m \u001b[32m━━━━━━━━━━━━━━━━━━━━\u001b[0m\u001b[37m\u001b[0m \u001b[1m1s\u001b[0m 2ms/step - loss: 1.6829e-05 - mean_absolute_percentage_error: 12300.0352\n",
      "Epoch 49/50\n",
      "\u001b[1m263/263\u001b[0m \u001b[32m━━━━━━━━━━━━━━━━━━━━\u001b[0m\u001b[37m\u001b[0m \u001b[1m1s\u001b[0m 2ms/step - loss: 1.5247e-05 - mean_absolute_percentage_error: 8794.5332\n",
      "Epoch 50/50\n",
      "\u001b[1m263/263\u001b[0m \u001b[32m━━━━━━━━━━━━━━━━━━━━\u001b[0m\u001b[37m\u001b[0m \u001b[1m1s\u001b[0m 2ms/step - loss: 2.0376e-05 - mean_absolute_percentage_error: 17153.4336\n"
     ]
    },
    {
     "data": {
      "text/plain": [
       "<keras.src.callbacks.history.History at 0x176efa390>"
      ]
     },
     "execution_count": 15,
     "metadata": {},
     "output_type": "execute_result"
    }
   ],
   "source": [
    "# fit model\n",
    "model.fit(generator, epochs=50)"
   ]
  },
  {
   "cell_type": "code",
   "execution_count": 16,
   "metadata": {},
   "outputs": [
    {
     "data": {
      "text/plain": [
       "[<matplotlib.lines.Line2D at 0x3101f5f10>]"
      ]
     },
     "execution_count": 16,
     "metadata": {},
     "output_type": "execute_result"
    },
    {
     "data": {
      "image/png": "[encoded data removed]",
      "text/plain": [
       "<Figure size 640x480 with 1 Axes>"
      ]
     },
     "metadata": {},
     "output_type": "display_data"
    }
   ],
   "source": [
    "loss_per_epoch = model.history.history['loss']\n",
    "plt.plot(range(len(loss_per_epoch)),loss_per_epoch)"
   ]
  },
  {
   "cell_type": "code",
   "execution_count": 17,
   "metadata": {},
   "outputs": [
    {
     "name": "stdout",
     "output_type": "stream",
     "text": [
      "\u001b[1m1/1\u001b[0m \u001b[32m━━━━━━━━━━━━━━━━━━━━\u001b[0m\u001b[37m\u001b[0m \u001b[1m0s\u001b[0m 56ms/step\n",
      "\u001b[1m1/1\u001b[0m \u001b[32m━━━━━━━━━━━━━━━━━━━━\u001b[0m\u001b[37m\u001b[0m \u001b[1m0s\u001b[0m 10ms/step\n",
      "\u001b[1m1/1\u001b[0m \u001b[32m━━━━━━━━━━━━━━━━━━━━\u001b[0m\u001b[37m\u001b[0m \u001b[1m0s\u001b[0m 11ms/step\n",
      "\u001b[1m1/1\u001b[0m \u001b[32m━━━━━━━━━━━━━━━━━━━━\u001b[0m\u001b[37m\u001b[0m \u001b[1m0s\u001b[0m 11ms/step\n",
      "\u001b[1m1/1\u001b[0m \u001b[32m━━━━━━━━━━━━━━━━━━━━\u001b[0m\u001b[37m\u001b[0m \u001b[1m0s\u001b[0m 11ms/step\n",
      "\u001b[1m1/1\u001b[0m \u001b[32m━━━━━━━━━━━━━━━━━━━━\u001b[0m\u001b[37m\u001b[0m \u001b[1m0s\u001b[0m 11ms/step\n",
      "\u001b[1m1/1\u001b[0m \u001b[32m━━━━━━━━━━━━━━━━━━━━\u001b[0m\u001b[37m\u001b[0m \u001b[1m0s\u001b[0m 11ms/step\n",
      "\u001b[1m1/1\u001b[0m \u001b[32m━━━━━━━━━━━━━━━━━━━━\u001b[0m\u001b[37m\u001b[0m \u001b[1m0s\u001b[0m 11ms/step\n",
      "\u001b[1m1/1\u001b[0m \u001b[32m━━━━━━━━━━━━━━━━━━━━\u001b[0m\u001b[37m\u001b[0m \u001b[1m0s\u001b[0m 10ms/step\n",
      "\u001b[1m1/1\u001b[0m \u001b[32m━━━━━━━━━━━━━━━━━━━━\u001b[0m\u001b[37m\u001b[0m \u001b[1m0s\u001b[0m 10ms/step\n",
      "\u001b[1m1/1\u001b[0m \u001b[32m━━━━━━━━━━━━━━━━━━━━\u001b[0m\u001b[37m\u001b[0m \u001b[1m0s\u001b[0m 10ms/step\n",
      "\u001b[1m1/1\u001b[0m \u001b[32m━━━━━━━━━━━━━━━━━━━━\u001b[0m\u001b[37m\u001b[0m \u001b[1m0s\u001b[0m 10ms/step\n"
     ]
    }
   ],
   "source": [
    "test_predictions = []\n",
    "\n",
    "first_eval_batch = scaled_train[-lookback:]\n",
    "current_batch = first_eval_batch.reshape((1, lookback, n_features))\n",
    "\n",
    "for i in range(len(test)):\n",
    "    \n",
    "    # get the prediction value for the first batch\n",
    "    current_pred = model.predict(current_batch)[0]\n",
    "    \n",
    "    # append the prediction into the array\n",
    "    test_predictions.append(current_pred) \n",
    "    \n",
    "    # use the prediction to update the batch and remove the first value\n",
    "    current_batch = np.append(current_batch[:,1:,:],[[current_pred]],axis=1)\n",
    "\n",
    "\n",
    "\n",
    "# Create a sequence that includes the end of training data + test data\n",
    "# This allows us to make predictions for the full test set\n",
    "# input_sequence = np.vstack([scaled_train[-lookback:], scaled_test])\n",
    "\n",
    "# # Initialize predictions array\n",
    "# test_predictions = []\n",
    "\n",
    "# # For each point in the test set\n",
    "# for i in range(len(scaled_test)):\n",
    "#     # Extract the current window (LOOKBACK previous points)\n",
    "#     current_window = input_sequence[i:i+lookback].reshape(1, lookback, n_features)\n",
    "    \n",
    "#     # Generate prediction for the next point\n",
    "#     pred = model.predict(current_window)[0]\n",
    "#     test_predictions.append(pred)\n",
    "\n",
    "\n",
    "# # Initialize with the last `lookback` values from the training data\n",
    "# current_window = scaled_train[-lookback:].reshape(1, lookback, n_features)\n",
    "# test_predictions = []\n",
    "\n",
    "# for i in range(len(scaled_test)):\n",
    "#     # Predict the next value\n",
    "#     pred = model.predict(current_window, verbose=0)[0]\n",
    "#     test_predictions.append(pred)\n",
    "    \n",
    "#     # Reshape the prediction to (1, 1, n_features) and update the window\n",
    "#     pred_reshaped = pred.reshape(1, 1, n_features)\n",
    "#     current_window = np.concatenate(\n",
    "#         [current_window[:, 1:, :], pred_reshaped], \n",
    "#         axis=1\n",
    "#     )\n"
   ]
  },
  {
   "cell_type": "code",
   "execution_count": 18,
   "metadata": {},
   "outputs": [],
   "source": [
    "def plot_forecasts(df: pd.DataFrame, forecasts: np.ndarray, col: str, title: str) -> None:\n",
    "    \"\"\"Function to plot the forecasts.\"\"\"\n",
    "    fig = go.Figure()\n",
    "    \n",
    "    # Plot true values\n",
    "    fig.add_trace(go.Scatter(x=df['date'], y=df[col], name='Truth', mode='lines'))\n",
    "    \n",
    "    # Plot predicted values\n",
    "    fig.add_trace(go.Scatter(x=df['date'], y=forecasts.flatten(), name='Prediction', mode='lines'))\n",
    "    \n",
    "    fig.update_layout(\n",
    "        template=\"simple_white\", font=dict(size=18), title_text=title,\n",
    "        width=650, title_x=0.5, height=400, xaxis_title='Date', yaxis_title='Price'\n",
    "    )\n",
    "    \n",
    "    fig.show()"
   ]
  },
  {
   "cell_type": "code",
   "execution_count": 19,
   "metadata": {},
   "outputs": [],
   "source": [
    "# Ensure test predictions is a 2D NumPy array before inverse scaling\n",
    "true_predictions = scaler.inverse_transform(np.array(test_predictions).reshape(-1, 1))\n",
    "\n",
    "# Extract correct test set dates\n",
    "test_dates = data['date'].iloc[len(train):]"
   ]
  },
  {
   "cell_type": "code",
   "execution_count": 20,
   "metadata": {},
   "outputs": [
    {
     "data": {
      "application/vnd.plotly.v1+json": {
       "config": {
        "plotlyServerURL": "https://plot.ly"
       },
       "data": [
        {
         "mode": "lines",
         "name": "Truth",
         "type": "scatter",
         "x": [
          "2024-01-01T00:00:00.000000000",
          "2024-02-01T00:00:00.000000000",
          "2024-03-01T00:00:00.000000000",
          "2024-04-01T00:00:00.000000000",
          "2024-05-01T00:00:00.000000000",
          "2024-06-01T00:00:00.000000000",
          "2024-07-01T00:00:00.000000000",
          "2024-08-01T00:00:00.000000000",
          "2024-09-01T00:00:00.000000000",
          "2024-10-01T00:00:00.000000000",
          "2024-11-01T00:00:00.000000000",
          "2024-12-01T00:00:00.000000000"
         ],
         "y": {
          "bdata": "SgwCK4cOVEA3iUFg5fBUQPhT46WbXFVA+n5qvHSDVkBI4XoUrn9UQOxRuB6Fo1RAbef7qfFSVUCsHFpkOzdUQJhuEoPAklJA7nw/NV7qUkDhehSuR5lSQFpkO99PdVJA",
          "dtype": "f8"
         }
        },
        {
         "mode": "lines",
         "name": "Prediction",
         "type": "scatter",
         "x": [
          "2024-01-01T00:00:00.000000000",
          "2024-02-01T00:00:00.000000000",
          "2024-03-01T00:00:00.000000000",
          "2024-04-01T00:00:00.000000000",
          "2024-05-01T00:00:00.000000000",
          "2024-06-01T00:00:00.000000000",
          "2024-07-01T00:00:00.000000000",
          "2024-08-01T00:00:00.000000000",
          "2024-09-01T00:00:00.000000000",
          "2024-10-01T00:00:00.000000000",
          "2024-11-01T00:00:00.000000000",
          "2024-12-01T00:00:00.000000000"
         ],
         "y": {
          "bdata": "zNS1Qj5ppkK0XZtC1oe1QgF0pkLQBJtCXzi1QvB9pkKfrJpCYua0Qv2GpkIoVZpC",
          "dtype": "f4"
         }
        }
       ],
       "layout": {
        "font": {
         "size": 18
        },
        "height": 400,
        "template": {
         "data": {
          "bar": [
           {
            "error_x": {
             "color": "rgb(36,36,36)"
            },
            "error_y": {
             "color": "rgb(36,36,36)"
            },
            "marker": {
             "line": {
              "color": "white",
              "width": 0.5
             },
             "pattern": {
              "fillmode": "overlay",
              "size": 10,
              "solidity": 0.2
             }
            },
            "type": "bar"
           }
          ],
          "barpolar": [
           {
            "marker": {
             "line": {
              "color": "white",
              "width": 0.5
             },
             "pattern": {
              "fillmode": "overlay",
              "size": 10,
              "solidity": 0.2
             }
            },
            "type": "barpolar"
           }
          ],
          "carpet": [
           {
            "aaxis": {
             "endlinecolor": "rgb(36,36,36)",
             "gridcolor": "white",
             "linecolor": "white",
             "minorgridcolor": "white",
             "startlinecolor": "rgb(36,36,36)"
            },
            "baxis": {
             "endlinecolor": "rgb(36,36,36)",
             "gridcolor": "white",
             "linecolor": "white",
             "minorgridcolor": "white",
             "startlinecolor": "rgb(36,36,36)"
            },
            "type": "carpet"
           }
          ],
          "choropleth": [
           {
            "colorbar": {
             "outlinewidth": 1,
             "tickcolor": "rgb(36,36,36)",
             "ticks": "outside"
            },
            "type": "choropleth"
           }
          ],
          "contour": [
           {
            "colorbar": {
             "outlinewidth": 1,
             "tickcolor": "rgb(36,36,36)",
             "ticks": "outside"
            },
            "colorscale": [
             [
              0,
              "#440154"
             ],
             [
              0.1111111111111111,
              "#482878"
             ],
             [
              0.2222222222222222,
              "#3e4989"
             ],
             [
              0.3333333333333333,
              "#31688e"
             ],
             [
              0.4444444444444444,
              "#26828e"
             ],
             [
              0.5555555555555556,
              "#1f9e89"
             ],
             [
              0.6666666666666666,
              "#35b779"
             ],
             [
              0.7777777777777778,
              "#6ece58"
             ],
             [
              0.8888888888888888,
              "#b5de2b"
             ],
             [
              1,
              "#fde725"
             ]
            ],
            "type": "contour"
           }
          ],
          "contourcarpet": [
           {
            "colorbar": {
             "outlinewidth": 1,
             "tickcolor": "rgb(36,36,36)",
             "ticks": "outside"
            },
            "type": "contourcarpet"
           }
          ],
          "heatmap": [
           {
            "colorbar": {
             "outlinewidth": 1,
             "tickcolor": "rgb(36,36,36)",
             "ticks": "outside"
            },
            "colorscale": [
             [
              0,
              "#440154"
             ],
             [
              0.1111111111111111,
              "#482878"
             ],
             [
              0.2222222222222222,
              "#3e4989"
             ],
             [
              0.3333333333333333,
              "#31688e"
             ],
             [
              0.4444444444444444,
              "#26828e"
             ],
             [
              0.5555555555555556,
              "#1f9e89"
             ],
             [
              0.6666666666666666,
              "#35b779"
             ],
             [
              0.7777777777777778,
              "#6ece58"
             ],
             [
              0.8888888888888888,
              "#b5de2b"
             ],
             [
              1,
              "#fde725"
             ]
            ],
            "type": "heatmap"
           }
          ],
          "histogram": [
           {
            "marker": {
             "line": {
              "color": "white",
              "width": 0.6
             }
            },
            "type": "histogram"
           }
          ],
          "histogram2d": [
           {
            "colorbar": {
             "outlinewidth": 1,
             "tickcolor": "rgb(36,36,36)",
             "ticks": "outside"
            },
            "colorscale": [
             [
              0,
              "#440154"
             ],
             [
              0.1111111111111111,
              "#482878"
             ],
             [
              0.2222222222222222,
              "#3e4989"
             ],
             [
              0.3333333333333333,
              "#31688e"
             ],
             [
              0.4444444444444444,
              "#26828e"
             ],
             [
              0.5555555555555556,
              "#1f9e89"
             ],
             [
              0.6666666666666666,
              "#35b779"
             ],
             [
              0.7777777777777778,
              "#6ece58"
             ],
             [
              0.8888888888888888,
              "#b5de2b"
             ],
             [
              1,
              "#fde725"
             ]
            ],
            "type": "histogram2d"
           }
          ],
          "histogram2dcontour": [
           {
            "colorbar": {
             "outlinewidth": 1,
             "tickcolor": "rgb(36,36,36)",
             "ticks": "outside"
            },
            "colorscale": [
             [
              0,
              "#440154"
             ],
             [
              0.1111111111111111,
              "#482878"
             ],
             [
              0.2222222222222222,
              "#3e4989"
             ],
             [
              0.3333333333333333,
              "#31688e"
             ],
             [
              0.4444444444444444,
              "#26828e"
             ],
             [
              0.5555555555555556,
              "#1f9e89"
             ],
             [
              0.6666666666666666,
              "#35b779"
             ],
             [
              0.7777777777777778,
              "#6ece58"
             ],
             [
              0.8888888888888888,
              "#b5de2b"
             ],
             [
              1,
              "#fde725"
             ]
            ],
            "type": "histogram2dcontour"
           }
          ],
          "mesh3d": [
           {
            "colorbar": {
             "outlinewidth": 1,
             "tickcolor": "rgb(36,36,36)",
             "ticks": "outside"
            },
            "type": "mesh3d"
           }
          ],
          "parcoords": [
           {
            "line": {
             "colorbar": {
              "outlinewidth": 1,
              "tickcolor": "rgb(36,36,36)",
              "ticks": "outside"
             }
            },
            "type": "parcoords"
           }
          ],
          "pie": [
           {
            "automargin": true,
            "type": "pie"
           }
          ],
          "scatter": [
           {
            "fillpattern": {
             "fillmode": "overlay",
             "size": 10,
             "solidity": 0.2
            },
            "type": "scatter"
           }
          ],
          "scatter3d": [
           {
            "line": {
             "colorbar": {
              "outlinewidth": 1,
              "tickcolor": "rgb(36,36,36)",
              "ticks": "outside"
             }
            },
            "marker": {
             "colorbar": {
              "outlinewidth": 1,
              "tickcolor": "rgb(36,36,36)",
              "ticks": "outside"
             }
            },
            "type": "scatter3d"
           }
          ],
          "scattercarpet": [
           {
            "marker": {
             "colorbar": {
              "outlinewidth": 1,
              "tickcolor": "rgb(36,36,36)",
              "ticks": "outside"
             }
            },
            "type": "scattercarpet"
           }
          ],
          "scattergeo": [
           {
            "marker": {
             "colorbar": {
              "outlinewidth": 1,
              "tickcolor": "rgb(36,36,36)",
              "ticks": "outside"
             }
            },
            "type": "scattergeo"
           }
          ],
          "scattergl": [
           {
            "marker": {
             "colorbar": {
              "outlinewidth": 1,
              "tickcolor": "rgb(36,36,36)",
              "ticks": "outside"
             }
            },
            "type": "scattergl"
           }
          ],
          "scattermap": [
           {
            "marker": {
             "colorbar": {
              "outlinewidth": 1,
              "tickcolor": "rgb(36,36,36)",
              "ticks": "outside"
             }
            },
            "type": "scattermap"
           }
          ],
          "scattermapbox": [
           {
            "marker": {
             "colorbar": {
              "outlinewidth": 1,
              "tickcolor": "rgb(36,36,36)",
              "ticks": "outside"
             }
            },
            "type": "scattermapbox"
           }
          ],
          "scatterpolar": [
           {
            "marker": {
             "colorbar": {
              "outlinewidth": 1,
              "tickcolor": "rgb(36,36,36)",
              "ticks": "outside"
             }
            },
            "type": "scatterpolar"
           }
          ],
          "scatterpolargl": [
           {
            "marker": {
             "colorbar": {
              "outlinewidth": 1,
              "tickcolor": "rgb(36,36,36)",
              "ticks": "outside"
             }
            },
            "type": "scatterpolargl"
           }
          ],
          "scatterternary": [
           {
            "marker": {
             "colorbar": {
              "outlinewidth": 1,
              "tickcolor": "rgb(36,36,36)",
              "ticks": "outside"
             }
            },
            "type": "scatterternary"
           }
          ],
          "surface": [
           {
            "colorbar": {
             "outlinewidth": 1,
             "tickcolor": "rgb(36,36,36)",
             "ticks": "outside"
            },
            "colorscale": [
             [
              0,
              "#440154"
             ],
             [
              0.1111111111111111,
              "#482878"
             ],
             [
              0.2222222222222222,
              "#3e4989"
             ],
             [
              0.3333333333333333,
              "#31688e"
             ],
             [
              0.4444444444444444,
              "#26828e"
             ],
             [
              0.5555555555555556,
              "#1f9e89"
             ],
             [
              0.6666666666666666,
              "#35b779"
             ],
             [
              0.7777777777777778,
              "#6ece58"
             ],
             [
              0.8888888888888888,
              "#b5de2b"
             ],
             [
              1,
              "#fde725"
             ]
            ],
            "type": "surface"
           }
          ],
          "table": [
           {
            "cells": {
             "fill": {
              "color": "rgb(237,237,237)"
             },
             "line": {
              "color": "white"
             }
            },
            "header": {
             "fill": {
              "color": "rgb(217,217,217)"
             },
             "line": {
              "color": "white"
             }
            },
            "type": "table"
           }
          ]
         },
         "layout": {
          "annotationdefaults": {
           "arrowhead": 0,
           "arrowwidth": 1
          },
          "autotypenumbers": "strict",
          "coloraxis": {
           "colorbar": {
            "outlinewidth": 1,
            "tickcolor": "rgb(36,36,36)",
            "ticks": "outside"
           }
          },
          "colorscale": {
           "diverging": [
            [
             0,
             "rgb(103,0,31)"
            ],
            [
             0.1,
             "rgb(178,24,43)"
            ],
            [
             0.2,
             "rgb(214,96,77)"
            ],
            [
             0.3,
             "rgb(244,165,130)"
            ],
            [
             0.4,
             "rgb(253,219,199)"
            ],
            [
             0.5,
             "rgb(247,247,247)"
            ],
            [
             0.6,
             "rgb(209,229,240)"
            ],
            [
             0.7,
             "rgb(146,197,222)"
            ],
            [
             0.8,
             "rgb(67,147,195)"
            ],
            [
             0.9,
             "rgb(33,102,172)"
            ],
            [
             1,
             "rgb(5,48,97)"
            ]
           ],
           "sequential": [
            [
             0,
             "#440154"
            ],
            [
             0.1111111111111111,
             "#482878"
            ],
            [
             0.2222222222222222,
             "#3e4989"
            ],
            [
             0.3333333333333333,
             "#31688e"
            ],
            [
             0.4444444444444444,
             "#26828e"
            ],
            [
             0.5555555555555556,
             "#1f9e89"
            ],
            [
             0.6666666666666666,
             "#35b779"
            ],
            [
             0.7777777777777778,
             "#6ece58"
            ],
            [
             0.8888888888888888,
             "#b5de2b"
            ],
            [
             1,
             "#fde725"
            ]
           ],
           "sequentialminus": [
            [
             0,
             "#440154"
            ],
            [
             0.1111111111111111,
             "#482878"
            ],
            [
             0.2222222222222222,
             "#3e4989"
            ],
            [
             0.3333333333333333,
             "#31688e"
            ],
            [
             0.4444444444444444,
             "#26828e"
            ],
            [
             0.5555555555555556,
             "#1f9e89"
            ],
            [
             0.6666666666666666,
             "#35b779"
            ],
            [
             0.7777777777777778,
             "#6ece58"
            ],
            [
             0.8888888888888888,
             "#b5de2b"
            ],
            [
             1,
             "#fde725"
            ]
           ]
          },
          "colorway": [
           "#1F77B4",
           "#FF7F0E",
           "#2CA02C",
           "#D62728",
           "#9467BD",
           "#8C564B",
           "#E377C2",
           "#7F7F7F",
           "#BCBD22",
           "#17BECF"
          ],
          "font": {
           "color": "rgb(36,36,36)"
          },
          "geo": {
           "bgcolor": "white",
           "lakecolor": "white",
           "landcolor": "white",
           "showlakes": true,
           "showland": true,
           "subunitcolor": "white"
          },
          "hoverlabel": {
           "align": "left"
          },
          "hovermode": "closest",
          "mapbox": {
           "style": "light"
          },
          "paper_bgcolor": "white",
          "plot_bgcolor": "white",
          "polar": {
           "angularaxis": {
            "gridcolor": "rgb(232,232,232)",
            "linecolor": "rgb(36,36,36)",
            "showgrid": false,
            "showline": true,
            "ticks": "outside"
           },
           "bgcolor": "white",
           "radialaxis": {
            "gridcolor": "rgb(232,232,232)",
            "linecolor": "rgb(36,36,36)",
            "showgrid": false,
            "showline": true,
            "ticks": "outside"
           }
          },
          "scene": {
           "xaxis": {
            "backgroundcolor": "white",
            "gridcolor": "rgb(232,232,232)",
            "gridwidth": 2,
            "linecolor": "rgb(36,36,36)",
            "showbackground": true,
            "showgrid": false,
            "showline": true,
            "ticks": "outside",
            "zeroline": false,
            "zerolinecolor": "rgb(36,36,36)"
           },
           "yaxis": {
            "backgroundcolor": "white",
            "gridcolor": "rgb(232,232,232)",
            "gridwidth": 2,
            "linecolor": "rgb(36,36,36)",
            "showbackground": true,
            "showgrid": false,
            "showline": true,
            "ticks": "outside",
            "zeroline": false,
            "zerolinecolor": "rgb(36,36,36)"
           },
           "zaxis": {
            "backgroundcolor": "white",
            "gridcolor": "rgb(232,232,232)",
            "gridwidth": 2,
            "linecolor": "rgb(36,36,36)",
            "showbackground": true,
            "showgrid": false,
            "showline": true,
            "ticks": "outside",
            "zeroline": false,
            "zerolinecolor": "rgb(36,36,36)"
           }
          },
          "shapedefaults": {
           "fillcolor": "black",
           "line": {
            "width": 0
           },
           "opacity": 0.3
          },
          "ternary": {
           "aaxis": {
            "gridcolor": "rgb(232,232,232)",
            "linecolor": "rgb(36,36,36)",
            "showgrid": false,
            "showline": true,
            "ticks": "outside"
           },
           "baxis": {
            "gridcolor": "rgb(232,232,232)",
            "linecolor": "rgb(36,36,36)",
            "showgrid": false,
            "showline": true,
            "ticks": "outside"
           },
           "bgcolor": "white",
           "caxis": {
            "gridcolor": "rgb(232,232,232)",
            "linecolor": "rgb(36,36,36)",
            "showgrid": false,
            "showline": true,
            "ticks": "outside"
           }
          },
          "title": {
           "x": 0.05
          },
          "xaxis": {
           "automargin": true,
           "gridcolor": "rgb(232,232,232)",
           "linecolor": "rgb(36,36,36)",
           "showgrid": false,
           "showline": true,
           "ticks": "outside",
           "title": {
            "standoff": 15
           },
           "zeroline": false,
           "zerolinecolor": "rgb(36,36,36)"
          },
          "yaxis": {
           "automargin": true,
           "gridcolor": "rgb(232,232,232)",
           "linecolor": "rgb(36,36,36)",
           "showgrid": false,
           "showline": true,
           "ticks": "outside",
           "title": {
            "standoff": 15
           },
           "zeroline": false,
           "zerolinecolor": "rgb(36,36,36)"
          }
         }
        },
        "title": {
         "text": "LSTM Forecast for CrudeOil",
         "x": 0.5
        },
        "width": 650,
        "xaxis": {
         "title": {
          "text": "Date"
         }
        },
        "yaxis": {
         "title": {
          "text": "Price"
         }
        }
       }
      }
     },
     "metadata": {},
     "output_type": "display_data"
    }
   ],
   "source": [
    "plot_forecasts(\n",
    "    pd.DataFrame({\n",
    "        'date': test_dates, \n",
    "        \"Crude Oil Brent Price\": test[\"Crude Oil Brent Price\"].values\n",
    "    }), \n",
    "    true_predictions, \n",
    "    \"Crude Oil Brent Price\", \n",
    "    \"LSTM Forecast for CrudeOil\"\n",
    ")"
   ]
  },
  {
   "cell_type": "code",
   "execution_count": 21,
   "metadata": {},
   "outputs": [
    {
     "name": "stdout",
     "output_type": "stream",
     "text": [
      "rmse: 6.79\n"
     ]
    }
   ],
   "source": [
    "from sklearn.metrics import mean_squared_error, mean_absolute_percentage_error, mean_absolute_error\n",
    "from math import sqrt\n",
    "rmse=sqrt(mean_squared_error(test['Crude Oil Brent Price'], true_predictions))\n",
    "print(f'rmse: {rmse:.2f}')"
   ]
  },
  {
   "cell_type": "code",
   "execution_count": 22,
   "metadata": {},
   "outputs": [
    {
     "name": "stdout",
     "output_type": "stream",
     "text": [
      "mape: 6.73%\n"
     ]
    }
   ],
   "source": [
    "mape = mean_absolute_percentage_error(test['Crude Oil Brent Price'], true_predictions)\n",
    "print(f'mape: {mape*100:.2f}%')"
   ]
  },
  {
   "cell_type": "code",
   "execution_count": 23,
   "metadata": {},
   "outputs": [
    {
     "name": "stdout",
     "output_type": "stream",
     "text": [
      "mae: 5.31\n"
     ]
    }
   ],
   "source": [
    "mae = mean_absolute_error(test['Crude Oil Brent Price'], true_predictions)\n",
    "print(f'mae: {mae:.2f}')"
   ]
  },
  {
   "cell_type": "code",
   "execution_count": null,
   "metadata": {},
   "outputs": [],
   "source": [
    "model.save(\"saved_models/crudeoil_lstm_model.keras\")"
   ]
  }
 ],
 "metadata": {
  "kernelspec": {
   "display_name": "ML",
   "language": "python",
   "name": "python3"
  },
  "language_info": {
   "codemirror_mode": {
    "name": "ipython",
    "version": 3
   },
   "file_extension": ".py",
   "mimetype": "text/x-python",
   "name": "python",
   "nbconvert_exporter": "python",
   "pygments_lexer": "ipython3",
   "version": "3.12.9"
  }
 },
 "nbformat": 4,
 "nbformat_minor": 2
}
